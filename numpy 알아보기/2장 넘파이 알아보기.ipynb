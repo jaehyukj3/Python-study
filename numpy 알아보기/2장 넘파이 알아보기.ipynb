{
 "cells": [
  {
   "cell_type": "code",
   "execution_count": 1,
   "metadata": {},
   "outputs": [],
   "source": [
    "import sys\n",
    "import numpy as np\n",
    "import math\n",
    "from IPython.display import Image\n",
    "import timeit"
   ]
  },
  {
   "cell_type": "code",
   "execution_count": 2,
   "metadata": {},
   "outputs": [
    {
     "data": {
      "text/plain": [
       "sys.version_info(major=3, minor=8, micro=8, releaselevel='final', serial=0)"
      ]
     },
     "execution_count": 2,
     "metadata": {},
     "output_type": "execute_result"
    }
   ],
   "source": [
    "sys.version_info"
   ]
  },
  {
   "cell_type": "code",
   "execution_count": 3,
   "metadata": {},
   "outputs": [
    {
     "data": {
      "text/plain": [
       "'1.19.5'"
      ]
     },
     "execution_count": 3,
     "metadata": {},
     "output_type": "execute_result"
    }
   ],
   "source": [
    "np.__version__"
   ]
  },
  {
   "cell_type": "code",
   "execution_count": 4,
   "metadata": {},
   "outputs": [
    {
     "name": "stdout",
     "output_type": "stream",
     "text": [
      " Windows \n"
     ]
    }
   ],
   "source": [
    "if sys.platform == 'darwin' :\n",
    "    print(\" Mac OS\")\n",
    "else :\n",
    "    print(\" Windows \")"
   ]
  },
  {
   "cell_type": "code",
   "execution_count": null,
   "metadata": {},
   "outputs": [],
   "source": []
  },
  {
   "cell_type": "markdown",
   "metadata": {},
   "source": [
    "# 1. 텐서 구분 알아보기\n",
    "\n",
    "           다차원 배열은 수학이나 물리학에서 tensor로 구성합니다.\n",
    "           정수나 실수 등은 scalar로 물리량만 존재하지 방향이 없습니다. 그래서 0차원 텐서입니다.\n",
    "           벡터는 물리량과 방향이 있는 1차원 텐서입니다.\n",
    "           텐서는 기본으로 벡터가 기본 원소로 구성됩니다. 2차원인 행렬은 실제 벡터를 원소로 구성합니다.\n",
    "           \n",
    "           3차원일 경우는 내부는 2차원인 행렬을 원소로 구성합니다.\n",
    "           "
   ]
  },
  {
   "cell_type": "markdown",
   "metadata": {},
   "source": [
    "## 1-1 배열 알아보기\n",
    "\n",
    "        배열은 하나의 자료형으로 원소를 구성합니다.\n",
    "        파이썬 리스트는 object 자료형을 기준으로 원소를 구성합니다.\n",
    "        "
   ]
  },
  {
   "cell_type": "markdown",
   "metadata": {},
   "source": [
    "### 리스트도 하나의 배열입니다. "
   ]
  },
  {
   "cell_type": "code",
   "execution_count": 6,
   "metadata": {},
   "outputs": [],
   "source": [
    "l = [1,2,3,4]"
   ]
  },
  {
   "cell_type": "code",
   "execution_count": 7,
   "metadata": {},
   "outputs": [
    {
     "data": {
      "text/plain": [
       "1"
      ]
     },
     "execution_count": 7,
     "metadata": {},
     "output_type": "execute_result"
    }
   ],
   "source": [
    "l[0]"
   ]
  },
  {
   "cell_type": "code",
   "execution_count": 8,
   "metadata": {},
   "outputs": [
    {
     "data": {
      "text/plain": [
       "4"
      ]
     },
     "execution_count": 8,
     "metadata": {},
     "output_type": "execute_result"
    }
   ],
   "source": [
    "l[-1]"
   ]
  },
  {
   "cell_type": "markdown",
   "metadata": {},
   "source": [
    "## 1-2 다차원 배열은 넘파이 모듈을 이용해서 만듭니다."
   ]
  },
  {
   "cell_type": "markdown",
   "metadata": {},
   "source": [
    "###  텐서 0차 : 스칼라 알아보기 \n",
    "\n",
    "        scalar는 일반적인 숫자형입니다. \n",
    "        배열을 구성하면 텐서로 처리됩니다.\n",
    "        "
   ]
  },
  {
   "cell_type": "code",
   "execution_count": 9,
   "metadata": {},
   "outputs": [],
   "source": [
    "s = np.array(10)"
   ]
  },
  {
   "cell_type": "code",
   "execution_count": 10,
   "metadata": {},
   "outputs": [
    {
     "data": {
      "text/plain": [
       "array(10)"
      ]
     },
     "execution_count": 10,
     "metadata": {},
     "output_type": "execute_result"
    }
   ],
   "source": [
    "s"
   ]
  },
  {
   "cell_type": "markdown",
   "metadata": {},
   "source": [
    "#### 차원이 0 차원 "
   ]
  },
  {
   "cell_type": "code",
   "execution_count": 11,
   "metadata": {},
   "outputs": [
    {
     "data": {
      "text/plain": [
       "0"
      ]
     },
     "execution_count": 11,
     "metadata": {},
     "output_type": "execute_result"
    }
   ],
   "source": [
    "s.ndim"
   ]
  },
  {
   "cell_type": "code",
   "execution_count": 12,
   "metadata": {},
   "outputs": [
    {
     "data": {
      "text/plain": [
       "()"
      ]
     },
     "execution_count": 12,
     "metadata": {},
     "output_type": "execute_result"
    }
   ],
   "source": [
    "s.shape"
   ]
  },
  {
   "cell_type": "code",
   "execution_count": 13,
   "metadata": {},
   "outputs": [
    {
     "data": {
      "text/plain": [
       "numpy.ndarray"
      ]
     },
     "execution_count": 13,
     "metadata": {},
     "output_type": "execute_result"
    }
   ],
   "source": [
    "type(s)"
   ]
  },
  {
   "cell_type": "markdown",
   "metadata": {},
   "source": [
    "### 텐서 1차원 : 벡터 알아보기\n",
    "\n",
    "        텐서 1차가 벡터이며 파이썬에서는 1차원 배열로 벡터를 표시합니다.\n",
    "        "
   ]
  },
  {
   "cell_type": "markdown",
   "metadata": {},
   "source": [
    "####  하나의 차원을 가진 정수값 리스트를 인자로 전달해서 다차원 배열에서 1차원 배열을 만듭니다."
   ]
  },
  {
   "cell_type": "code",
   "execution_count": 14,
   "metadata": {},
   "outputs": [],
   "source": [
    "#내부는 리스트, 밖에 어레이를 씌움\n",
    "v = np.array([1,2,3,4, 5, 1])"
   ]
  },
  {
   "cell_type": "code",
   "execution_count": 15,
   "metadata": {},
   "outputs": [
    {
     "data": {
      "text/plain": [
       "array([1, 2, 3, 4, 5, 1])"
      ]
     },
     "execution_count": 15,
     "metadata": {},
     "output_type": "execute_result"
    }
   ],
   "source": [
    "v"
   ]
  },
  {
   "cell_type": "markdown",
   "metadata": {},
   "source": [
    "#### 1차원 "
   ]
  },
  {
   "cell_type": "code",
   "execution_count": 16,
   "metadata": {},
   "outputs": [
    {
     "data": {
      "text/plain": [
       "1"
      ]
     },
     "execution_count": 16,
     "metadata": {},
     "output_type": "execute_result"
    }
   ],
   "source": [
    "v.ndim"
   ]
  },
  {
   "cell_type": "code",
   "execution_count": 17,
   "metadata": {},
   "outputs": [
    {
     "data": {
      "text/plain": [
       "(6,)"
      ]
     },
     "execution_count": 17,
     "metadata": {},
     "output_type": "execute_result"
    }
   ],
   "source": [
    "v.shape"
   ]
  },
  {
   "cell_type": "markdown",
   "metadata": {},
   "source": [
    "#### 넘파이의 다차원 배열 클래스는 ndarray 입니다."
   ]
  },
  {
   "cell_type": "code",
   "execution_count": 18,
   "metadata": {},
   "outputs": [
    {
     "data": {
      "text/plain": [
       "numpy.ndarray"
      ]
     },
     "execution_count": 18,
     "metadata": {},
     "output_type": "execute_result"
    }
   ],
   "source": [
    "type(v)"
   ]
  },
  {
   "cell_type": "markdown",
   "metadata": {},
   "source": [
    "###  텐서 2차 : 행렬 알아보기\n",
    "\n",
    "         행렬은 2차원 배열입니다. 텐서 2차이면 이 이름이 행렬입니다.\n",
    "         "
   ]
  },
  {
   "cell_type": "code",
   "execution_count": 19,
   "metadata": {},
   "outputs": [],
   "source": [
    "m = np.array([[1,2,3],[4,5,6],[7,8,9],[10,11,12],[13,14,15],[16,17,18]])"
   ]
  },
  {
   "cell_type": "code",
   "execution_count": 23,
   "metadata": {},
   "outputs": [
    {
     "data": {
      "text/plain": [
       "array([[ 1,  2,  3],\n",
       "       [ 4,  5,  6],\n",
       "       [ 7,  8,  9],\n",
       "       [10, 11, 12],\n",
       "       [13, 14, 15],\n",
       "       [16, 17, 18]])"
      ]
     },
     "execution_count": 23,
     "metadata": {},
     "output_type": "execute_result"
    }
   ],
   "source": [
    "#6x3 행렬\n",
    "m"
   ]
  },
  {
   "cell_type": "markdown",
   "metadata": {},
   "source": [
    "#### 2차원 "
   ]
  },
  {
   "cell_type": "code",
   "execution_count": 24,
   "metadata": {},
   "outputs": [
    {
     "data": {
      "text/plain": [
       "2"
      ]
     },
     "execution_count": 24,
     "metadata": {},
     "output_type": "execute_result"
    }
   ],
   "source": [
    "m.ndim"
   ]
  },
  {
   "cell_type": "code",
   "execution_count": 25,
   "metadata": {},
   "outputs": [
    {
     "data": {
      "text/plain": [
       "(6, 3)"
      ]
     },
     "execution_count": 25,
     "metadata": {},
     "output_type": "execute_result"
    }
   ],
   "source": [
    "m.shape"
   ]
  },
  {
   "cell_type": "markdown",
   "metadata": {},
   "source": [
    "#### 다차원 배열의 클래스는 벡터와 동일한 ndarray 클래스의 객체입니다."
   ]
  },
  {
   "cell_type": "code",
   "execution_count": 26,
   "metadata": {},
   "outputs": [
    {
     "data": {
      "text/plain": [
       "numpy.ndarray"
      ]
     },
     "execution_count": 26,
     "metadata": {},
     "output_type": "execute_result"
    }
   ],
   "source": [
    "type(m)"
   ]
  },
  {
   "cell_type": "code",
   "execution_count": null,
   "metadata": {},
   "outputs": [],
   "source": []
  },
  {
   "cell_type": "markdown",
   "metadata": {},
   "source": [
    "###  텐서  3차원 이상 : 별도의 명칭이 없음  \n",
    "\n",
    "         3차원 이상은 별도의 이름이 없어 텐서 3차라 부릅니다.\n",
    "         "
   ]
  },
  {
   "cell_type": "code",
   "execution_count": 118,
   "metadata": {},
   "outputs": [],
   "source": [
    "#2차원 [[1,2,3],[4,5,6] 와 2차원 [[7,8,9],[10,11,12]] 를 합쳐서 만든 3차원 텐서\n",
    "c = np.array([[[1,2,3],[4,5,6]], [[7,8,9],[10,11,12]]])"
   ]
  },
  {
   "cell_type": "code",
   "execution_count": 119,
   "metadata": {},
   "outputs": [
    {
     "data": {
      "text/plain": [
       "array([[[ 1,  2,  3],\n",
       "        [ 4,  5,  6]],\n",
       "\n",
       "       [[ 7,  8,  9],\n",
       "        [10, 11, 12]]])"
      ]
     },
     "execution_count": 119,
     "metadata": {},
     "output_type": "execute_result"
    }
   ],
   "source": [
    "# 2x2x3 텐서, (2,2,3) 텐서, 3차원 텐서\n",
    "c"
   ]
  },
  {
   "cell_type": "markdown",
   "metadata": {},
   "source": [
    "#### 3 차원"
   ]
  },
  {
   "cell_type": "code",
   "execution_count": 120,
   "metadata": {},
   "outputs": [
    {
     "data": {
      "text/plain": [
       "3"
      ]
     },
     "execution_count": 120,
     "metadata": {},
     "output_type": "execute_result"
    }
   ],
   "source": [
    "c.ndim"
   ]
  },
  {
   "cell_type": "code",
   "execution_count": 121,
   "metadata": {},
   "outputs": [
    {
     "data": {
      "text/plain": [
       "(2, 2, 3)"
      ]
     },
     "execution_count": 121,
     "metadata": {},
     "output_type": "execute_result"
    }
   ],
   "source": [
    "c.shape #이이삼차원이라 부른다"
   ]
  },
  {
   "cell_type": "code",
   "execution_count": 122,
   "metadata": {},
   "outputs": [
    {
     "data": {
      "text/plain": [
       "numpy.ndarray"
      ]
     },
     "execution_count": 122,
     "metadata": {},
     "output_type": "execute_result"
    }
   ],
   "source": [
    "type(c)"
   ]
  },
  {
   "cell_type": "markdown",
   "metadata": {},
   "source": [
    "# 2. 다차원 배열 구조 알아보기\n",
    "\n",
    "            넘파이의 다차원 배열은 ndarray 클래스에 의해 만들어진 객체입니다.\n",
    "            이 클래스의 특징은 1차원 데이터를 관리합니다.  메타정보를 이용해서 이 1차원 데이터를 다양한 차원 데이터 뷰플 보여줍니다.\n",
    "            \n",
    "            데이터를 관리하는 영역과 메타정보를 관리하는 영역을 분리해서 처리해서 보다 신속한 계산을 처리합니다.\n",
    "            "
   ]
  },
  {
   "cell_type": "markdown",
   "metadata": {},
   "source": [
    "## 2-1 다차원 배열의 메타 정보 알아보기\n",
    "\n",
    "        하나의 자료형만을 가져야 하므로 자료형을 있습니다.\n",
    "        이 배열에 대한 크기, 하나의 원소에 대한 크기 등을 가집니다.\n",
    "        \n",
    "        또한 차원이나 모양 등을 구성합니다."
   ]
  },
  {
   "cell_type": "markdown",
   "metadata": {},
   "source": [
    "#### 모든 배열은 내부 원소에 대한 자료형을 가지고 있음 "
   ]
  },
  {
   "cell_type": "code",
   "execution_count": 123,
   "metadata": {},
   "outputs": [
    {
     "data": {
      "text/plain": [
       "dtype('int32')"
      ]
     },
     "execution_count": 123,
     "metadata": {},
     "output_type": "execute_result"
    }
   ],
   "source": [
    "c.dtype"
   ]
  },
  {
   "cell_type": "markdown",
   "metadata": {},
   "source": [
    "#### 배열의 크기 및 원소 하나의 크기"
   ]
  },
  {
   "cell_type": "code",
   "execution_count": 124,
   "metadata": {},
   "outputs": [
    {
     "data": {
      "text/plain": [
       "12"
      ]
     },
     "execution_count": 124,
     "metadata": {},
     "output_type": "execute_result"
    }
   ],
   "source": [
    "# 2 x 2 x 3 =12, 2 x 2 x 3 텐서의 엘러먼트 수는 곱하면 나옴\n",
    "c.size"
   ]
  },
  {
   "cell_type": "markdown",
   "metadata": {},
   "source": [
    "#### 배열 원소 하나의 바이트 수"
   ]
  },
  {
   "cell_type": "code",
   "execution_count": 125,
   "metadata": {},
   "outputs": [
    {
     "data": {
      "text/plain": [
       "4"
      ]
     },
     "execution_count": 125,
     "metadata": {},
     "output_type": "execute_result"
    }
   ],
   "source": [
    "c.itemsize"
   ]
  },
  {
   "cell_type": "markdown",
   "metadata": {},
   "source": [
    "#### 총 바이트 수"
   ]
  },
  {
   "cell_type": "code",
   "execution_count": 126,
   "metadata": {},
   "outputs": [
    {
     "data": {
      "text/plain": [
       "(2, 2, 3)"
      ]
     },
     "execution_count": 126,
     "metadata": {},
     "output_type": "execute_result"
    }
   ],
   "source": [
    "c.shape"
   ]
  },
  {
   "cell_type": "code",
   "execution_count": 127,
   "metadata": {},
   "outputs": [
    {
     "data": {
      "text/plain": [
       "48"
      ]
     },
     "execution_count": 127,
     "metadata": {},
     "output_type": "execute_result"
    }
   ],
   "source": [
    "# 총 엘러먼트 수(c.size) x 엘러먼트 하나 당 용량(c.itemsize) = 총 용량\n",
    "c.size * c.itemsize"
   ]
  },
  {
   "cell_type": "code",
   "execution_count": 128,
   "metadata": {},
   "outputs": [
    {
     "data": {
      "text/plain": [
       "2"
      ]
     },
     "execution_count": 128,
     "metadata": {},
     "output_type": "execute_result"
    }
   ],
   "source": [
    "c.shape[0]"
   ]
  },
  {
   "cell_type": "code",
   "execution_count": 129,
   "metadata": {},
   "outputs": [
    {
     "data": {
      "text/plain": [
       "48"
      ]
     },
     "execution_count": 129,
     "metadata": {},
     "output_type": "execute_result"
    }
   ],
   "source": [
    "# 인덱스[0] x 인덱스[1] x 인덱스[2] = 총 엘러먼트 수\n",
    "# 총 엘러먼트 수 x 엘러먼트 하나 당 용량(c.itemsize) = 총 용량\n",
    "c.shape[0] * c.shape[1] * c.shape[2] * c.itemsize #각 차원의 개수를 곱에 원소 하나의 사이즈 곱하기"
   ]
  },
  {
   "cell_type": "markdown",
   "metadata": {},
   "source": [
    "#### 배열을 확장할 때 메모리 상에서 확장되는 정보"
   ]
  },
  {
   "cell_type": "markdown",
   "metadata": {},
   "source": [
    "### strides의 개념\n",
    "     행렬 c의 구조에서 strides는 아래와 같다\n",
    "![strides](strides.jpg)"
   ]
  },
  {
   "cell_type": "code",
   "execution_count": 130,
   "metadata": {},
   "outputs": [],
   "source": [
    "c = np.array([[[1,2,3],[4,5,6]], [[7,8,9],[10,11,12]]])"
   ]
  },
  {
   "cell_type": "code",
   "execution_count": 131,
   "metadata": {},
   "outputs": [
    {
     "data": {
      "text/plain": [
       "(24, 12, 4)"
      ]
     },
     "execution_count": 131,
     "metadata": {},
     "output_type": "execute_result"
    }
   ],
   "source": [
    "#(2, 2, 3) 텐서에 대응됨\n",
    "#(2, 2, 3) 텐서에서 index[0]로 총 용량(48바이트)를 나눈 값이 stride index[0] 값이 됨\n",
    "#(2, 2, 3) 텐서에서 index[1]로 stride index[0]를 나눈 값이 stride index[1] 값이 됨\n",
    "#(2, 2, 3) 텐서에서 index[2]로 stride index[1]를 나눈 값이 stride index[2] 값이 됨\n",
    "c.strides"
   ]
  },
  {
   "cell_type": "code",
   "execution_count": 132,
   "metadata": {},
   "outputs": [
    {
     "data": {
      "text/plain": [
       "48"
      ]
     },
     "execution_count": 132,
     "metadata": {},
     "output_type": "execute_result"
    }
   ],
   "source": [
    "# index[0]와  stride index[0]를 곱하면 총 용량(48바이트)\n",
    "# index[1]와  stride index[1]를 곱하면 stride index[0]\n",
    "# index[2]와  stride index[2]를 곱하면 stride index[1]\n",
    "c.shape[0] * c.strides[0]"
   ]
  },
  {
   "cell_type": "code",
   "execution_count": 133,
   "metadata": {},
   "outputs": [
    {
     "data": {
      "text/plain": [
       "48"
      ]
     },
     "execution_count": 133,
     "metadata": {},
     "output_type": "execute_result"
    }
   ],
   "source": [
    "c.shape[0] * c.strides[0]"
   ]
  },
  {
   "cell_type": "markdown",
   "metadata": {},
   "source": [
    "## 2-2 실제 배열 내의  데이터는 1차원으로 구성됩니다."
   ]
  },
  {
   "cell_type": "markdown",
   "metadata": {},
   "source": [
    "#### 메모리에 있는 데이터 확인 : "
   ]
  },
  {
   "cell_type": "code",
   "execution_count": 134,
   "metadata": {},
   "outputs": [
    {
     "data": {
      "text/plain": [
       "<memory at 0x00000249EAA68130>"
      ]
     },
     "execution_count": 134,
     "metadata": {},
     "output_type": "execute_result"
    }
   ],
   "source": [
    "c.data"
   ]
  },
  {
   "cell_type": "markdown",
   "metadata": {},
   "source": [
    "#### 내부 값 확인 "
   ]
  },
  {
   "cell_type": "code",
   "execution_count": 135,
   "metadata": {},
   "outputs": [
    {
     "data": {
      "text/plain": [
       "array([[[ 1,  2,  3],\n",
       "        [ 4,  5,  6]],\n",
       "\n",
       "       [[ 7,  8,  9],\n",
       "        [10, 11, 12]]])"
      ]
     },
     "execution_count": 135,
     "metadata": {},
     "output_type": "execute_result"
    }
   ],
   "source": [
    "c.data.obj"
   ]
  },
  {
   "cell_type": "code",
   "execution_count": 136,
   "metadata": {},
   "outputs": [
    {
     "data": {
      "text/plain": [
       "<numpy.flatiter at 0x249a9ce8db0>"
      ]
     },
     "execution_count": 136,
     "metadata": {},
     "output_type": "execute_result"
    }
   ],
   "source": [
    "c.flat"
   ]
  },
  {
   "cell_type": "code",
   "execution_count": 137,
   "metadata": {},
   "outputs": [
    {
     "data": {
      "text/plain": [
       "array([[[ 1,  2,  3],\n",
       "        [ 4,  5,  6]],\n",
       "\n",
       "       [[ 7,  8,  9],\n",
       "        [10, 11, 12]]])"
      ]
     },
     "execution_count": 137,
     "metadata": {},
     "output_type": "execute_result"
    }
   ],
   "source": [
    "c"
   ]
  },
  {
   "cell_type": "markdown",
   "metadata": {},
   "source": [
    "#### 특정 정보를 별도의 변수에 할당해서 새로운 사본이 생기지 않습니다"
   ]
  },
  {
   "cell_type": "code",
   "execution_count": 138,
   "metadata": {},
   "outputs": [
    {
     "data": {
      "text/plain": [
       "array([[ 7,  8,  9],\n",
       "       [10, 11, 12]])"
      ]
     },
     "execution_count": 138,
     "metadata": {},
     "output_type": "execute_result"
    }
   ],
   "source": [
    "c[1]"
   ]
  },
  {
   "cell_type": "code",
   "execution_count": 139,
   "metadata": {},
   "outputs": [
    {
     "data": {
      "text/plain": [
       "array([[1, 2, 3],\n",
       "       [4, 5, 6]])"
      ]
     },
     "execution_count": 139,
     "metadata": {},
     "output_type": "execute_result"
    }
   ],
   "source": [
    "d_c = c[0]\n",
    "d_c"
   ]
  },
  {
   "cell_type": "code",
   "execution_count": 140,
   "metadata": {},
   "outputs": [
    {
     "data": {
      "text/plain": [
       "array([[[ 1,  2,  3],\n",
       "        [ 4,  5,  6]],\n",
       "\n",
       "       [[ 7,  8,  9],\n",
       "        [10, 11, 12]]])"
      ]
     },
     "execution_count": 140,
     "metadata": {},
     "output_type": "execute_result"
    }
   ],
   "source": [
    "d_c.base"
   ]
  },
  {
   "cell_type": "code",
   "execution_count": null,
   "metadata": {},
   "outputs": [],
   "source": []
  },
  {
   "cell_type": "markdown",
   "metadata": {},
   "source": [
    "# 3. 다차원 배열 인덱스 및 슬라이스 검색\n",
    "\n",
    "            파이썬 리스트는 단순히 인덱스 위치 정보를 가지고 검색이 가능합니다.\n",
    "            넘파이 모듈은 검색 내에 배열을 넣어서 추가적인 검색도 가능합니다.\n",
    "            \n",
    "            이 배열이 정보가 논리값일 수도 있고 정수일 수도 있습니다. \n",
    "            이런 검색을 슬라이스에 연결해서 사용도 가능하도록 확장되었습니다.\n",
    "            "
   ]
  },
  {
   "cell_type": "markdown",
   "metadata": {},
   "source": [
    "### 3-1 다차원 배열 인덱스 검색도 원본을 유지"
   ]
  },
  {
   "cell_type": "code",
   "execution_count": 141,
   "metadata": {},
   "outputs": [
    {
     "data": {
      "text/plain": [
       "array([[[ 1,  2,  3],\n",
       "        [ 4,  5,  6]],\n",
       "\n",
       "       [[ 7,  8,  9],\n",
       "        [10, 11, 12]]])"
      ]
     },
     "execution_count": 141,
     "metadata": {},
     "output_type": "execute_result"
    }
   ],
   "source": [
    "c"
   ]
  },
  {
   "cell_type": "code",
   "execution_count": 142,
   "metadata": {},
   "outputs": [
    {
     "data": {
      "text/plain": [
       "(2, 2, 3)"
      ]
     },
     "execution_count": 142,
     "metadata": {},
     "output_type": "execute_result"
    }
   ],
   "source": [
    "c.shape"
   ]
  },
  {
   "cell_type": "code",
   "execution_count": 143,
   "metadata": {},
   "outputs": [
    {
     "data": {
      "text/plain": [
       "array([[1, 2, 3],\n",
       "       [4, 5, 6]])"
      ]
     },
     "execution_count": 143,
     "metadata": {},
     "output_type": "execute_result"
    }
   ],
   "source": [
    "c[0]"
   ]
  },
  {
   "cell_type": "markdown",
   "metadata": {},
   "source": [
    "#### 배열의 첫번째 정보를 읽어오면 2차원 배열이 들어옴  "
   ]
  },
  {
   "cell_type": "code",
   "execution_count": 144,
   "metadata": {},
   "outputs": [],
   "source": [
    "cc = c[0]"
   ]
  },
  {
   "cell_type": "code",
   "execution_count": 147,
   "metadata": {},
   "outputs": [
    {
     "data": {
      "text/plain": [
       "array([[1, 2, 3],\n",
       "       [4, 5, 6]])"
      ]
     },
     "execution_count": 147,
     "metadata": {},
     "output_type": "execute_result"
    }
   ],
   "source": [
    "# 2 x 3 텐서, (2, 3) 텐서 \n",
    "cc"
   ]
  },
  {
   "cell_type": "code",
   "execution_count": 148,
   "metadata": {},
   "outputs": [
    {
     "data": {
      "text/plain": [
       "(2, 3)"
      ]
     },
     "execution_count": 148,
     "metadata": {},
     "output_type": "execute_result"
    }
   ],
   "source": [
    "# m X n matrix\n",
    "cc.shape"
   ]
  },
  {
   "cell_type": "markdown",
   "metadata": {},
   "source": [
    "####  새로운 변수에 할당하면 원본도 변경이 됩니다"
   ]
  },
  {
   "cell_type": "code",
   "execution_count": 152,
   "metadata": {},
   "outputs": [
    {
     "data": {
      "text/plain": [
       "array([[1, 2, 3],\n",
       "       [4, 5, 6]])"
      ]
     },
     "execution_count": 152,
     "metadata": {},
     "output_type": "execute_result"
    }
   ],
   "source": [
    "cc"
   ]
  },
  {
   "cell_type": "code",
   "execution_count": 153,
   "metadata": {},
   "outputs": [],
   "source": [
    "cc[0] = np.array([1,2,3])"
   ]
  },
  {
   "cell_type": "code",
   "execution_count": 154,
   "metadata": {},
   "outputs": [],
   "source": [
    "cc[0] = 999 #해당 배열 안의 모든 원소의 값이 바뀜"
   ]
  },
  {
   "cell_type": "code",
   "execution_count": 155,
   "metadata": {},
   "outputs": [
    {
     "data": {
      "text/plain": [
       "array([[999, 999, 999],\n",
       "       [  4,   5,   6]])"
      ]
     },
     "execution_count": 155,
     "metadata": {},
     "output_type": "execute_result"
    }
   ],
   "source": [
    "cc"
   ]
  },
  {
   "cell_type": "code",
   "execution_count": 156,
   "metadata": {},
   "outputs": [
    {
     "data": {
      "text/plain": [
       "array([[[999, 999, 999],\n",
       "        [  4,   5,   6]],\n",
       "\n",
       "       [[  7,   8,   9],\n",
       "        [ 10,  11,  12]]])"
      ]
     },
     "execution_count": 156,
     "metadata": {},
     "output_type": "execute_result"
    }
   ],
   "source": [
    "c # 원본도 바뀜"
   ]
  },
  {
   "cell_type": "markdown",
   "metadata": {},
   "source": [
    "### 3-2 다차원 배열 슬라이스는 원본을 유지\n",
    "\n",
    "         리스트에서 슬라이스 하면 새로운 사본을 만들지만 다차원 배열은 슬라이스를 해도 원본을 유지합니다.\n",
    "         이런 이유는 다차원 배열은 대량의 원소를 메모리 상에 올라가 있으므로 다시 사본을 만들면 많은 메모리가 소비됩니다.\n",
    "         \n",
    "         그래서 슬라이스도 원본을 참조하는 방식으로 만들어져 있습니다.\n",
    "         "
   ]
  },
  {
   "cell_type": "markdown",
   "metadata": {},
   "source": [
    "#### 모든 데이터를 슬라이스로 처리"
   ]
  },
  {
   "cell_type": "code",
   "execution_count": 177,
   "metadata": {},
   "outputs": [],
   "source": [
    "# : 은 ~ 같음. 시작값:마지막값 \n",
    "#항상 그런 건 아니지만 넘파이에는 시작값은 포함되고 마지막값은 포함되지 않음, 시작값 이상 ~ 마지막값 미만\n",
    "d = c[:] # : 왼쪽 인덱스 부터 오른쪽 인덱스 앞 까지 다 비워두면 처음 부터 끝까지"
   ]
  },
  {
   "cell_type": "code",
   "execution_count": null,
   "metadata": {},
   "outputs": [],
   "source": []
  },
  {
   "cell_type": "code",
   "execution_count": 158,
   "metadata": {},
   "outputs": [
    {
     "data": {
      "text/plain": [
       "array([[[999, 999, 999],\n",
       "        [  4,   5,   6]],\n",
       "\n",
       "       [[  7,   8,   9],\n",
       "        [ 10,  11,  12]]])"
      ]
     },
     "execution_count": 158,
     "metadata": {},
     "output_type": "execute_result"
    }
   ],
   "source": [
    "d.base"
   ]
  },
  {
   "cell_type": "code",
   "execution_count": 180,
   "metadata": {},
   "outputs": [
    {
     "data": {
      "text/plain": [
       "array([[[ 3,  3,  3],\n",
       "        [ 3,  3,  3]],\n",
       "\n",
       "       [[ 7,  8,  9],\n",
       "        [10, 11, 12]]])"
      ]
     },
     "execution_count": 180,
     "metadata": {},
     "output_type": "execute_result"
    }
   ],
   "source": [
    "d[0]=3\n",
    "d"
   ]
  },
  {
   "cell_type": "code",
   "execution_count": 185,
   "metadata": {},
   "outputs": [
    {
     "data": {
      "text/plain": [
       "array([[[ 3,  3,  3],\n",
       "        [ 3,  3,  3]],\n",
       "\n",
       "       [[ 7,  8,  9],\n",
       "        [10, 11, 12]]])"
      ]
     },
     "execution_count": 185,
     "metadata": {},
     "output_type": "execute_result"
    }
   ],
   "source": [
    "# (2, 2, 3) 텐서에서 index는 (2, 3)을 검색하는 것\n",
    "# (2, 3) 텐서에서 index는 3을 검색하는 것\n",
    "# (3) 텐서에서 index는 원소를 검색하는 것\n",
    "d[0] = np.array([[3,3,3], [3,3,3]])\n",
    "d"
   ]
  },
  {
   "cell_type": "code",
   "execution_count": 186,
   "metadata": {},
   "outputs": [
    {
     "data": {
      "text/plain": [
       "array([[[ 3,  3,  3],\n",
       "        [ 3,  3,  3]],\n",
       "\n",
       "       [[ 7,  8,  9],\n",
       "        [10, 11, 12]]])"
      ]
     },
     "execution_count": 186,
     "metadata": {},
     "output_type": "execute_result"
    }
   ],
   "source": [
    "c"
   ]
  },
  {
   "cell_type": "code",
   "execution_count": 187,
   "metadata": {},
   "outputs": [
    {
     "data": {
      "text/plain": [
       "array([[[3, 3, 3],\n",
       "        [3, 3, 3]]])"
      ]
     },
     "execution_count": 187,
     "metadata": {},
     "output_type": "execute_result"
    }
   ],
   "source": [
    "# : 은 ~와 유사한 개념\n",
    "d = c[0:1] # : 왼쪽은 해당 인덱스 포함, 오른쪽은 해당 인덱스 미포함\n",
    "d"
   ]
  },
  {
   "cell_type": "code",
   "execution_count": null,
   "metadata": {},
   "outputs": [],
   "source": []
  },
  {
   "cell_type": "code",
   "execution_count": null,
   "metadata": {},
   "outputs": [],
   "source": []
  },
  {
   "cell_type": "markdown",
   "metadata": {},
   "source": [
    "####  새로운 객체가 만들어진다"
   ]
  },
  {
   "cell_type": "code",
   "execution_count": 188,
   "metadata": {},
   "outputs": [
    {
     "data": {
      "text/plain": [
       "False"
      ]
     },
     "execution_count": 188,
     "metadata": {},
     "output_type": "execute_result"
    }
   ],
   "source": [
    "d is c"
   ]
  },
  {
   "cell_type": "code",
   "execution_count": 189,
   "metadata": {},
   "outputs": [
    {
     "data": {
      "text/plain": [
       "array([[[False, False, False],\n",
       "        [False, False, False]],\n",
       "\n",
       "       [[ True,  True,  True],\n",
       "        [ True,  True,  True]]])"
      ]
     },
     "execution_count": 189,
     "metadata": {},
     "output_type": "execute_result"
    }
   ],
   "source": [
    "d != c"
   ]
  },
  {
   "cell_type": "code",
   "execution_count": null,
   "metadata": {},
   "outputs": [],
   "source": []
  },
  {
   "cell_type": "code",
   "execution_count": null,
   "metadata": {},
   "outputs": [],
   "source": []
  },
  {
   "cell_type": "markdown",
   "metadata": {},
   "source": [
    "#### 데이터를 관리하는 메모리는 공유한다 "
   ]
  },
  {
   "cell_type": "code",
   "execution_count": 190,
   "metadata": {},
   "outputs": [
    {
     "data": {
      "text/plain": [
       "True"
      ]
     },
     "execution_count": 190,
     "metadata": {},
     "output_type": "execute_result"
    }
   ],
   "source": [
    "d.base is c"
   ]
  },
  {
   "cell_type": "code",
   "execution_count": 165,
   "metadata": {},
   "outputs": [
    {
     "data": {
      "text/plain": [
       "True"
      ]
     },
     "execution_count": 165,
     "metadata": {},
     "output_type": "execute_result"
    }
   ],
   "source": [
    "np.may_share_memory(d, c) # 메모리 공유하는지 확인"
   ]
  },
  {
   "cell_type": "markdown",
   "metadata": {},
   "source": [
    "# 4. 추가된 검색 알아보기\n",
    "\n",
    "    배열의 값으로 내부의 원소를 검색\n",
    "    \n",
    "    이 검색의 특징은 새로운 배열을 만든다.\n",
    "    "
   ]
  },
  {
   "cell_type": "markdown",
   "metadata": {},
   "source": [
    "### 4-1 논리 검색\n",
    "\n",
    "        특정 원소를 검색해서 추출하기 위해 논리값이 True 일 경우만 추출합니다.\n",
    "        이때 길이가 동일한 논리값을 가지는 배열을 만들어서 검색해야 합니다.\n",
    "        "
   ]
  },
  {
   "cell_type": "code",
   "execution_count": 192,
   "metadata": {},
   "outputs": [
    {
     "data": {
      "text/plain": [
       "array([1, 2, 3, 4, 5])"
      ]
     },
     "execution_count": 192,
     "metadata": {},
     "output_type": "execute_result"
    }
   ],
   "source": [
    "lll = np.array([1,2,3,4,5])\n",
    "lll"
   ]
  },
  {
   "cell_type": "markdown",
   "metadata": {},
   "source": [
    "#### 배열의 원소가 3보다 큰 경우 처리하면 큰 경우만 True로 표시"
   ]
  },
  {
   "cell_type": "code",
   "execution_count": 193,
   "metadata": {},
   "outputs": [],
   "source": [
    "con = lll > 3"
   ]
  },
  {
   "cell_type": "code",
   "execution_count": 194,
   "metadata": {},
   "outputs": [
    {
     "data": {
      "text/plain": [
       "array([False, False, False,  True,  True])"
      ]
     },
     "execution_count": 194,
     "metadata": {},
     "output_type": "execute_result"
    }
   ],
   "source": [
    "con"
   ]
  },
  {
   "cell_type": "markdown",
   "metadata": {},
   "source": [
    "#### 검색연산자에 논리 배열을 넣으면 검색이 됩니다."
   ]
  },
  {
   "cell_type": "code",
   "execution_count": 195,
   "metadata": {},
   "outputs": [],
   "source": [
    "l4 = lll[con] #조건문 형태 con = lll > 3"
   ]
  },
  {
   "cell_type": "markdown",
   "metadata": {},
   "source": [
    "#### 논리 검색은 새로운 사본을 만들어서 원본가 연결고리가 없습니다.\n"
   ]
  },
  {
   "cell_type": "code",
   "execution_count": 196,
   "metadata": {},
   "outputs": [
    {
     "data": {
      "text/plain": [
       "array([4, 5])"
      ]
     },
     "execution_count": 196,
     "metadata": {},
     "output_type": "execute_result"
    }
   ],
   "source": [
    "l4"
   ]
  },
  {
   "cell_type": "code",
   "execution_count": 204,
   "metadata": {},
   "outputs": [
    {
     "data": {
      "text/plain": [
       "array([4, 5])"
      ]
     },
     "execution_count": 204,
     "metadata": {},
     "output_type": "execute_result"
    }
   ],
   "source": [
    "con = lll > 3\n",
    "l4 = lll[con] #조건문 형태 con = lll > 3\n",
    "l4"
   ]
  },
  {
   "cell_type": "code",
   "execution_count": 197,
   "metadata": {},
   "outputs": [],
   "source": [
    "l4.base"
   ]
  },
  {
   "cell_type": "code",
   "execution_count": 198,
   "metadata": {},
   "outputs": [
    {
     "data": {
      "text/plain": [
       "False"
      ]
     },
     "execution_count": 198,
     "metadata": {},
     "output_type": "execute_result"
    }
   ],
   "source": [
    "l4 is lll"
   ]
  },
  {
   "cell_type": "code",
   "execution_count": 205,
   "metadata": {},
   "outputs": [],
   "source": [
    "#df[f].notnull()"
   ]
  },
  {
   "cell_type": "markdown",
   "metadata": {},
   "source": [
    "#### 논리 검색된 결과를 변경해도 원본은 변경되지 않습니다.\n"
   ]
  },
  {
   "cell_type": "code",
   "execution_count": 215,
   "metadata": {},
   "outputs": [],
   "source": [
    "#왼쪽 차원 index = 오른쪽 차원, 오른쪽 차원 = 왼쪽 차원 -1\n",
    "l4[0] = 7777"
   ]
  },
  {
   "cell_type": "code",
   "execution_count": 207,
   "metadata": {},
   "outputs": [
    {
     "data": {
      "text/plain": [
       "array([7777,    5])"
      ]
     },
     "execution_count": 207,
     "metadata": {},
     "output_type": "execute_result"
    }
   ],
   "source": [
    "l4"
   ]
  },
  {
   "cell_type": "code",
   "execution_count": 208,
   "metadata": {},
   "outputs": [
    {
     "data": {
      "text/plain": [
       "array([1, 2, 3, 4, 5])"
      ]
     },
     "execution_count": 208,
     "metadata": {},
     "output_type": "execute_result"
    }
   ],
   "source": [
    "lll"
   ]
  },
  {
   "cell_type": "markdown",
   "metadata": {},
   "source": [
    "## 4-2 팬시 검색\n",
    "\n",
    "      배열 내의 원소를 검색할 때 정수형 배열을 만들어서 검색이 가능합니다. \n",
    "      이때도 논리 검색과 동일하게 새로운 사본을 만들어서 처리합니다.\n",
    "      "
   ]
  },
  {
   "cell_type": "code",
   "execution_count": 216,
   "metadata": {},
   "outputs": [
    {
     "data": {
      "text/plain": [
       "array([1, 2, 3, 4, 5])"
      ]
     },
     "execution_count": 216,
     "metadata": {},
     "output_type": "execute_result"
    }
   ],
   "source": [
    "lll"
   ]
  },
  {
   "cell_type": "markdown",
   "metadata": {},
   "source": [
    "#### 동일한 인덱스 정보를 넣고 추출하기"
   ]
  },
  {
   "cell_type": "code",
   "execution_count": 217,
   "metadata": {},
   "outputs": [],
   "source": [
    "f = [0,1,0,1,1]"
   ]
  },
  {
   "cell_type": "code",
   "execution_count": 218,
   "metadata": {},
   "outputs": [
    {
     "data": {
      "text/plain": [
       "array([1, 2, 1, 2, 4])"
      ]
     },
     "execution_count": 218,
     "metadata": {},
     "output_type": "execute_result"
    }
   ],
   "source": [
    "lll[[0,1,0,1,3]] #괄호 두개"
   ]
  },
  {
   "cell_type": "code",
   "execution_count": 219,
   "metadata": {},
   "outputs": [
    {
     "data": {
      "text/plain": [
       "array([1, 2, 1, 2, 2])"
      ]
     },
     "execution_count": 219,
     "metadata": {},
     "output_type": "execute_result"
    }
   ],
   "source": [
    "lll[f]"
   ]
  },
  {
   "cell_type": "markdown",
   "metadata": {},
   "source": [
    "#### 다른 인덱스 정보를 넣어서 추출합니다"
   ]
  },
  {
   "cell_type": "code",
   "execution_count": 220,
   "metadata": {},
   "outputs": [],
   "source": [
    "f1 = [4,3,2,1,0]"
   ]
  },
  {
   "cell_type": "code",
   "execution_count": 221,
   "metadata": {},
   "outputs": [],
   "source": [
    "l5 = lll[f1]"
   ]
  },
  {
   "cell_type": "code",
   "execution_count": 222,
   "metadata": {},
   "outputs": [
    {
     "data": {
      "text/plain": [
       "array([5, 4, 3, 2, 1])"
      ]
     },
     "execution_count": 222,
     "metadata": {},
     "output_type": "execute_result"
    }
   ],
   "source": [
    "l5"
   ]
  },
  {
   "cell_type": "markdown",
   "metadata": {},
   "source": [
    "#### 새로운 사본이 만들어져서 갱신해도 원본에 영향이 없습니다."
   ]
  },
  {
   "cell_type": "code",
   "execution_count": 223,
   "metadata": {},
   "outputs": [],
   "source": [
    "l5.base"
   ]
  },
  {
   "cell_type": "code",
   "execution_count": 224,
   "metadata": {},
   "outputs": [
    {
     "data": {
      "text/plain": [
       "False"
      ]
     },
     "execution_count": 224,
     "metadata": {},
     "output_type": "execute_result"
    }
   ],
   "source": [
    "l5 is lll"
   ]
  },
  {
   "cell_type": "code",
   "execution_count": 225,
   "metadata": {},
   "outputs": [],
   "source": [
    "l5[0] = 666"
   ]
  },
  {
   "cell_type": "code",
   "execution_count": 226,
   "metadata": {},
   "outputs": [
    {
     "data": {
      "text/plain": [
       "array([666,   4,   3,   2,   1])"
      ]
     },
     "execution_count": 226,
     "metadata": {},
     "output_type": "execute_result"
    }
   ],
   "source": [
    "l5"
   ]
  },
  {
   "cell_type": "code",
   "execution_count": 228,
   "metadata": {},
   "outputs": [
    {
     "data": {
      "text/plain": [
       "array([1, 2, 3, 4, 5])"
      ]
     },
     "execution_count": 228,
     "metadata": {},
     "output_type": "execute_result"
    }
   ],
   "source": [
    "lll"
   ]
  },
  {
   "cell_type": "code",
   "execution_count": null,
   "metadata": {},
   "outputs": [],
   "source": []
  },
  {
   "cell_type": "markdown",
   "metadata": {},
   "source": [
    "# 5. 다차원 배열 자료형 처리하기\n",
    "\n",
    "           하나 자료형을 관리하기 위해서 다양한 자료형을 제공합니다.\n",
    "           \n",
    "           이런 이유는 배열의 데이터를 관리하는 기준이 c언어와 동일하므로 하나의 원소의 길이를 지정할 세부적인 자료형이 필요합니다.\n",
    "           이 자료형으로 지정하면 한 바이트부터 여러바이트로 구성이 가능해서 실제 메모리 사용도 줄일 수 있습니다.\n",
    "           \n",
    "           "
   ]
  },
  {
   "cell_type": "markdown",
   "metadata": {},
   "source": [
    "## 5-1 다차원 배열의 자료형은 하나의 객체를 보관\n",
    "\n",
    "         다차원 배열을 만들기 위해 dtype 클래스를 제공합니다.\n",
    "         "
   ]
  },
  {
   "cell_type": "markdown",
   "metadata": {},
   "source": [
    "#### 넘파이에 자료형을 만드는 클래스가 별도로 존재 "
   ]
  },
  {
   "cell_type": "code",
   "execution_count": 229,
   "metadata": {},
   "outputs": [
    {
     "data": {
      "text/plain": [
       "numpy.dtype"
      ]
     },
     "execution_count": 229,
     "metadata": {},
     "output_type": "execute_result"
    }
   ],
   "source": [
    "np.dtype"
   ]
  },
  {
   "cell_type": "markdown",
   "metadata": {},
   "source": [
    "#### 자료형을 관리하는 객체를 생성합니다."
   ]
  },
  {
   "cell_type": "code",
   "execution_count": 230,
   "metadata": {},
   "outputs": [],
   "source": [
    "dt = np.dtype(np.int8)"
   ]
  },
  {
   "cell_type": "code",
   "execution_count": 231,
   "metadata": {},
   "outputs": [
    {
     "data": {
      "text/plain": [
       "dtype('int8')"
      ]
     },
     "execution_count": 231,
     "metadata": {},
     "output_type": "execute_result"
    }
   ],
   "source": [
    "dt"
   ]
  },
  {
   "cell_type": "code",
   "execution_count": 232,
   "metadata": {},
   "outputs": [
    {
     "data": {
      "text/plain": [
       "True"
      ]
     },
     "execution_count": 232,
     "metadata": {},
     "output_type": "execute_result"
    }
   ],
   "source": [
    "isinstance(dt, np.dtype)"
   ]
  },
  {
   "cell_type": "markdown",
   "metadata": {},
   "source": [
    "#### 자료형도 하나의 객체이므로 내부의 속성들을 확인합니다"
   ]
  },
  {
   "cell_type": "code",
   "execution_count": 233,
   "metadata": {},
   "outputs": [
    {
     "data": {
      "text/plain": [
       "'|i1'"
      ]
     },
     "execution_count": 233,
     "metadata": {},
     "output_type": "execute_result"
    }
   ],
   "source": [
    "dt.str"
   ]
  },
  {
   "cell_type": "code",
   "execution_count": 234,
   "metadata": {},
   "outputs": [
    {
     "data": {
      "text/plain": [
       "'b'"
      ]
     },
     "execution_count": 234,
     "metadata": {},
     "output_type": "execute_result"
    }
   ],
   "source": [
    "dt.char"
   ]
  },
  {
   "cell_type": "code",
   "execution_count": 235,
   "metadata": {},
   "outputs": [
    {
     "data": {
      "text/plain": [
       "numpy.int8"
      ]
     },
     "execution_count": 235,
     "metadata": {},
     "output_type": "execute_result"
    }
   ],
   "source": [
    "dt.type"
   ]
  },
  {
   "cell_type": "code",
   "execution_count": 236,
   "metadata": {},
   "outputs": [
    {
     "data": {
      "text/plain": [
       "'i'"
      ]
     },
     "execution_count": 236,
     "metadata": {},
     "output_type": "execute_result"
    }
   ],
   "source": [
    "dt.kind"
   ]
  },
  {
   "cell_type": "code",
   "execution_count": 237,
   "metadata": {},
   "outputs": [
    {
     "data": {
      "text/plain": [
       "1"
      ]
     },
     "execution_count": 237,
     "metadata": {},
     "output_type": "execute_result"
    }
   ],
   "source": [
    "dt.num"
   ]
  },
  {
   "cell_type": "code",
   "execution_count": 238,
   "metadata": {},
   "outputs": [
    {
     "data": {
      "text/plain": [
       "[('', '|i1')]"
      ]
     },
     "execution_count": 238,
     "metadata": {},
     "output_type": "execute_result"
    }
   ],
   "source": [
    "dt.descr"
   ]
  },
  {
   "cell_type": "markdown",
   "metadata": {},
   "source": [
    "### 5-2 특정 자료형 객체로 다차원 배열을 생성\n",
    "\n",
    "       자료형을 지정하지 않으면 원소들을 확인해서 특정 자료형으로 처리합니다.\n",
    "       인자 dtype을 자료형을 지정하면 이 자료형으로 변경됩니다.\n",
    "       "
   ]
  },
  {
   "cell_type": "code",
   "execution_count": 239,
   "metadata": {},
   "outputs": [],
   "source": [
    "dt = np.dtype(np.int8) #int8 하여 4분의1로 감소"
   ]
  },
  {
   "cell_type": "code",
   "execution_count": 240,
   "metadata": {},
   "outputs": [],
   "source": [
    "a = np.array([1,2,3,4], dtype = dt)"
   ]
  },
  {
   "cell_type": "code",
   "execution_count": 241,
   "metadata": {},
   "outputs": [
    {
     "data": {
      "text/plain": [
       "array([1, 2, 3, 4], dtype=int8)"
      ]
     },
     "execution_count": 241,
     "metadata": {},
     "output_type": "execute_result"
    }
   ],
   "source": [
    "a"
   ]
  },
  {
   "cell_type": "code",
   "execution_count": 242,
   "metadata": {},
   "outputs": [
    {
     "data": {
      "text/plain": [
       "dtype('int8')"
      ]
     },
     "execution_count": 242,
     "metadata": {},
     "output_type": "execute_result"
    }
   ],
   "source": [
    "a.dtype"
   ]
  },
  {
   "cell_type": "code",
   "execution_count": 243,
   "metadata": {},
   "outputs": [
    {
     "data": {
      "text/plain": [
       "1"
      ]
     },
     "execution_count": 243,
     "metadata": {},
     "output_type": "execute_result"
    }
   ],
   "source": [
    "a.itemsize #int8 하여 4분의1로 사이즈도 감소"
   ]
  },
  {
   "cell_type": "code",
   "execution_count": 244,
   "metadata": {},
   "outputs": [
    {
     "data": {
      "text/plain": [
       "(1,)"
      ]
     },
     "execution_count": 244,
     "metadata": {},
     "output_type": "execute_result"
    }
   ],
   "source": [
    "a.strides"
   ]
  },
  {
   "cell_type": "code",
   "execution_count": 245,
   "metadata": {},
   "outputs": [],
   "source": [
    "b = np.array([1,2,3,4])"
   ]
  },
  {
   "cell_type": "code",
   "execution_count": 246,
   "metadata": {},
   "outputs": [
    {
     "data": {
      "text/plain": [
       "array([1, 2, 3, 4])"
      ]
     },
     "execution_count": 246,
     "metadata": {},
     "output_type": "execute_result"
    }
   ],
   "source": [
    "b"
   ]
  },
  {
   "cell_type": "code",
   "execution_count": 247,
   "metadata": {},
   "outputs": [
    {
     "data": {
      "text/plain": [
       "dtype('int32')"
      ]
     },
     "execution_count": 247,
     "metadata": {},
     "output_type": "execute_result"
    }
   ],
   "source": [
    "b.dtype"
   ]
  },
  {
   "cell_type": "code",
   "execution_count": 248,
   "metadata": {},
   "outputs": [
    {
     "data": {
      "text/plain": [
       "4"
      ]
     },
     "execution_count": 248,
     "metadata": {},
     "output_type": "execute_result"
    }
   ],
   "source": [
    "b.itemsize"
   ]
  },
  {
   "cell_type": "code",
   "execution_count": 249,
   "metadata": {},
   "outputs": [
    {
     "data": {
      "text/plain": [
       "(4,)"
      ]
     },
     "execution_count": 249,
     "metadata": {},
     "output_type": "execute_result"
    }
   ],
   "source": [
    "b.strides"
   ]
  },
  {
   "cell_type": "markdown",
   "metadata": {},
   "source": [
    "# 6.  유니버셜 함수 알아보기\n",
    "\n",
    "             다차원 배열의 원소가 많기 때문에 각 원소별로 계산을 하려면 순환문을 작성해야 하지만 유니버셜 함수는 기본으로 벡터화 연산을 지원하므로 \n",
    "             실제 순환문없이 모든 원소의 계산을 수행합니다.\n",
    "             \n",
    "             "
   ]
  },
  {
   "cell_type": "code",
   "execution_count": 268,
   "metadata": {},
   "outputs": [
    {
     "data": {
      "text/plain": [
       "<ufunc 'add'>"
      ]
     },
     "execution_count": 268,
     "metadata": {},
     "output_type": "execute_result"
    }
   ],
   "source": [
    "np.add"
   ]
  },
  {
   "cell_type": "markdown",
   "metadata": {},
   "source": [
    "## 6-1 유니버셜 함수란\n",
    "\n",
    "     순환문 없이 모든 원소들을 자동으로 순환하면서 처리하는 함수 입니다.\n",
    "    "
   ]
  },
  {
   "cell_type": "markdown",
   "metadata": {},
   "source": [
    "### 파이썬 함수도 객체이므로 유니버셜 함수도 객체입니다.\n",
    "\n",
    "       이 말은 해당되는 클래스가 존재합니다."
   ]
  },
  {
   "cell_type": "code",
   "execution_count": 250,
   "metadata": {},
   "outputs": [
    {
     "data": {
      "text/plain": [
       "numpy.ufunc"
      ]
     },
     "execution_count": 250,
     "metadata": {},
     "output_type": "execute_result"
    }
   ],
   "source": [
    "np.ufunc"
   ]
  },
  {
   "cell_type": "markdown",
   "metadata": {},
   "source": [
    "#### 넘파이 내의 함수의 클래스가 유니버셜 함수인지를 확인합니다."
   ]
  },
  {
   "cell_type": "code",
   "execution_count": 251,
   "metadata": {},
   "outputs": [
    {
     "data": {
      "text/plain": [
       "True"
      ]
     },
     "execution_count": 251,
     "metadata": {},
     "output_type": "execute_result"
    }
   ],
   "source": [
    "type(np.add) == np.ufunc"
   ]
  },
  {
   "cell_type": "markdown",
   "metadata": {},
   "source": [
    "#### 넘파이 모듈 내에 있는 유니버셜 함수를 확인합니다."
   ]
  },
  {
   "cell_type": "code",
   "execution_count": 252,
   "metadata": {},
   "outputs": [
    {
     "name": "stdout",
     "output_type": "stream",
     "text": [
      "bitwise_not, matmul, absolute, add, arccos, \n",
      "arccosh, arcsin, arcsinh, arctan, arctan2, \n",
      "arctanh, bitwise_and, bitwise_or, bitwise_xor, cbrt, \n",
      "ceil, conj, conjugate, copysign, cos, \n",
      "cosh, deg2rad, degrees, divide, divmod, \n",
      "\n",
      "equal, exp, exp2, expm1, fabs, \n",
      "floor, floor_divide, float_power, fmax, fmin, \n",
      "fmod, frexp, gcd, greater, greater_equal, \n",
      "heaviside, hypot, invert, isfinite, isinf, \n",
      "isnan, isnat, lcm, ldexp, left_shift, \n",
      "less, less_equal, log, log10, log1p, \n",
      "log2, logaddexp, logaddexp2, logical_and, logical_not, \n",
      "logical_or, logical_xor, maximum, minimum, mod, \n",
      "modf, multiply, negative, nextafter, not_equal, \n",
      "\n",
      "positive, power, rad2deg, radians, reciprocal, \n",
      "remainder, right_shift, rint, sign, signbit, \n",
      "sin, sinh, spacing, sqrt, square, \n",
      "subtract, tan, tanh, true_divide, trunc, \n",
      "\n",
      "\n",
      "\n",
      "\n",
      "\n",
      "\n",
      "\n",
      "\n",
      "\n",
      "\n",
      "\n",
      "\n",
      "\n",
      "\n",
      "\n",
      "\n",
      "\n",
      "\n",
      "\n",
      "\n",
      "\n",
      "\n",
      "\n",
      "\n",
      "\n",
      "\n",
      "\n",
      "\n",
      "\n",
      "\n",
      "\n",
      "\n",
      "\n",
      "\n",
      "\n",
      "\n",
      "\n",
      "\n",
      "\n",
      "\n",
      "\n",
      "\n",
      "\n",
      "\n",
      "\n",
      "\n",
      "\n",
      "\n",
      "\n",
      "\n",
      "\n",
      "\n",
      "\n",
      "\n",
      "\n",
      "\n",
      "\n",
      "\n",
      "\n",
      "\n",
      "\n",
      "\n",
      "\n",
      "\n",
      "\n",
      "\n",
      "\n",
      "\n",
      "\n",
      "\n",
      "\n",
      "\n",
      "\n",
      "\n",
      "\n",
      "\n",
      "\n",
      "\n",
      "\n",
      "\n",
      "\n",
      "\n",
      "\n",
      "\n",
      "\n",
      "\n",
      "\n",
      "\n",
      "\n",
      "\n",
      "\n",
      "\n",
      "\n",
      "\n",
      "\n",
      "\n",
      "\n",
      "\n",
      "\n",
      "\n",
      "\n",
      "\n",
      "\n",
      "\n",
      "\n",
      "\n",
      "\n",
      "\n",
      "\n",
      "\n",
      "\n",
      "\n",
      "\n",
      "\n",
      "\n",
      "\n",
      "\n",
      "\n",
      "\n",
      "\n",
      "\n",
      "\n",
      "\n",
      "\n",
      "\n",
      "\n",
      "\n",
      "\n",
      "\n",
      "\n",
      "\n",
      "\n",
      "\n",
      "\n",
      "\n",
      "\n",
      "\n",
      "\n",
      "\n",
      "\n",
      "\n",
      "\n",
      "\n",
      "\n",
      "\n",
      "\n",
      "\n",
      "\n",
      "\n",
      "\n",
      "\n",
      "\n",
      "\n",
      "\n",
      "\n",
      "\n",
      "\n",
      "\n",
      "\n",
      "\n",
      "\n",
      "\n",
      "\n",
      "\n",
      "\n",
      "\n",
      "\n",
      "\n",
      "\n",
      "\n",
      "\n",
      "\n",
      "\n",
      "\n",
      "\n",
      "\n",
      "\n",
      "\n",
      "\n",
      "\n",
      "\n",
      "\n",
      "\n",
      "\n",
      "\n",
      "\n",
      "\n",
      "\n",
      "\n",
      "\n",
      "\n",
      "\n",
      "\n",
      "\n",
      "\n",
      "\n",
      "\n",
      "\n",
      "\n",
      "\n",
      "\n",
      "\n",
      "\n",
      "\n",
      "\n",
      "\n",
      "\n",
      "\n",
      "\n",
      "\n",
      "\n",
      "\n",
      "\n",
      "\n",
      "\n",
      "\n",
      "\n",
      "\n",
      "\n",
      "\n",
      "\n",
      "\n",
      "\n",
      "\n",
      "\n",
      "\n",
      "\n",
      "\n",
      "\n",
      "\n",
      "\n",
      "\n",
      "\n",
      "\n",
      "\n",
      "\n",
      "\n",
      "\n",
      "\n",
      "\n",
      "\n",
      "\n",
      "\n",
      "\n",
      "\n",
      "\n",
      "\n",
      "\n",
      "\n",
      "\n",
      "\n",
      "\n",
      "\n",
      "\n",
      "\n",
      "\n",
      "\n",
      "\n",
      "\n",
      "\n",
      "\n",
      "\n",
      "\n",
      "\n",
      "\n",
      "\n",
      "\n",
      "\n",
      "\n",
      "\n",
      "\n",
      "\n",
      "\n",
      "\n",
      "\n",
      "\n",
      "\n",
      "\n",
      "\n",
      "\n",
      "\n",
      "\n",
      "\n",
      "\n",
      "\n",
      "\n",
      "\n",
      "\n",
      "\n",
      "\n",
      "\n",
      "\n",
      "\n",
      "\n",
      "\n",
      "\n",
      "\n",
      "\n",
      "\n",
      "\n",
      "\n",
      "\n",
      "\n",
      "\n",
      "\n",
      "\n",
      "\n",
      "\n",
      "\n",
      "\n",
      "\n",
      "\n",
      "\n",
      "\n",
      "\n",
      "\n",
      "\n",
      "\n",
      "\n",
      "\n",
      "\n",
      "\n",
      "\n",
      "\n",
      "\n",
      "\n",
      "\n",
      "\n",
      "\n",
      "\n",
      "\n",
      "abs, "
     ]
    }
   ],
   "source": [
    "count = 0\n",
    "for i,v in np.__dict__.items() :\n",
    "    if type(v) == np.ufunc :\n",
    "        print(i, end=\", \")\n",
    "        count += 1\n",
    "    \n",
    "    if count > 0  and count % 5  == 0 :\n",
    "        print()"
   ]
  },
  {
   "cell_type": "code",
   "execution_count": 269,
   "metadata": {},
   "outputs": [],
   "source": [
    "#+-*///%=>< 유니버셜 함수 중 가장 빠르다"
   ]
  },
  {
   "cell_type": "code",
   "execution_count": 253,
   "metadata": {},
   "outputs": [
    {
     "data": {
      "text/plain": [
       "0.0"
      ]
     },
     "execution_count": 253,
     "metadata": {},
     "output_type": "execute_result"
    }
   ],
   "source": [
    "np.log(1)"
   ]
  },
  {
   "cell_type": "markdown",
   "metadata": {},
   "source": [
    "### 6-2   파이썬은 연산자를 가지고 처리할 때 클래스 내부의 스페셜 메소드로 처리"
   ]
  },
  {
   "cell_type": "markdown",
   "metadata": {},
   "source": [
    "#### 파이썬 연산자를 함수로 처리하는 모듈 "
   ]
  },
  {
   "cell_type": "code",
   "execution_count": 254,
   "metadata": {},
   "outputs": [],
   "source": [
    "import operator as op"
   ]
  },
  {
   "cell_type": "markdown",
   "metadata": {},
   "source": [
    "operator 연산자 관련 자료\n",
    "https://docs.python.org/3.8/library/operator.html"
   ]
  },
  {
   "cell_type": "code",
   "execution_count": 255,
   "metadata": {},
   "outputs": [
    {
     "data": {
      "text/plain": [
       "<function _operator.add(a, b, /)>"
      ]
     },
     "execution_count": 255,
     "metadata": {},
     "output_type": "execute_result"
    }
   ],
   "source": [
    "op.add"
   ]
  },
  {
   "cell_type": "markdown",
   "metadata": {},
   "source": [
    "#### 1차원 배열을 만드는 arrange 함수를 이용해서 원소 5개를 가진 배열을 만듭니다.\n",
    "\n",
    "       0번부터 만들어지므로 4까지만 만들어집니다."
   ]
  },
  {
   "cell_type": "code",
   "execution_count": 280,
   "metadata": {},
   "outputs": [
    {
     "data": {
      "text/plain": [
       "array([0, 2, 4])"
      ]
     },
     "execution_count": 280,
     "metadata": {},
     "output_type": "execute_result"
    }
   ],
   "source": [
    "# arange에서 ,는 ~와 같음, np.arange(시작값, 마지막값, 간격) 에서 마지막값은 포함 안되는 정수를 불러낸다.\n",
    "a = np.arange(0, 5, 2)\n",
    "a"
   ]
  },
  {
   "cell_type": "code",
   "execution_count": 281,
   "metadata": {},
   "outputs": [
    {
     "data": {
      "text/plain": [
       "array([0, 1, 2, 3, 4])"
      ]
     },
     "execution_count": 281,
     "metadata": {},
     "output_type": "execute_result"
    }
   ],
   "source": [
    "a = np.array([0, 1, 2, 3, 4])\n",
    "a"
   ]
  },
  {
   "cell_type": "markdown",
   "metadata": {},
   "source": [
    "#### 이 객체에도 __add__ 메소드가 있습니다. \n",
    "\n",
    "        이 메소드는 + 연산자를 처리하는 메소드입니다."
   ]
  },
  {
   "cell_type": "code",
   "execution_count": 282,
   "metadata": {},
   "outputs": [
    {
     "data": {
      "text/plain": [
       "<method-wrapper '__add__' of numpy.ndarray object at 0x00000249EAA9ECB0>"
      ]
     },
     "execution_count": 282,
     "metadata": {},
     "output_type": "execute_result"
    }
   ],
   "source": [
    "a.__add__"
   ]
  },
  {
   "cell_type": "markdown",
   "metadata": {},
   "source": [
    "#### 파이썬 연산자를 재구현한 add 함수를 호출할 경우에도 넘파이의 유니버셜 처리가 됩니다.\n",
    "\n",
    "         이런 이유는 각 클래스에 정의된 스페셜 메소드를  호출하므로 넘파이의 스페셜 메소드가 처리됩니다.\n",
    "         "
   ]
  },
  {
   "cell_type": "code",
   "execution_count": 283,
   "metadata": {},
   "outputs": [
    {
     "data": {
      "text/plain": [
       "<method-wrapper '__add__' of int object at 0x00007FFE3BC42730>"
      ]
     },
     "execution_count": 283,
     "metadata": {},
     "output_type": "execute_result"
    }
   ],
   "source": [
    "(1).__add__"
   ]
  },
  {
   "cell_type": "code",
   "execution_count": 284,
   "metadata": {},
   "outputs": [
    {
     "data": {
      "text/plain": [
       "2"
      ]
     },
     "execution_count": 284,
     "metadata": {},
     "output_type": "execute_result"
    }
   ],
   "source": [
    "op.add(1,1)"
   ]
  },
  {
   "cell_type": "code",
   "execution_count": 306,
   "metadata": {},
   "outputs": [
    {
     "data": {
      "text/plain": [
       "array([0, 2, 4, 6, 8])"
      ]
     },
     "execution_count": 306,
     "metadata": {},
     "output_type": "execute_result"
    }
   ],
   "source": [
    "a = np.array([0,1,2,3,4])\n",
    "#a + a\n",
    "op.add(a,a)"
   ]
  },
  {
   "cell_type": "code",
   "execution_count": 307,
   "metadata": {},
   "outputs": [
    {
     "data": {
      "text/plain": [
       "2"
      ]
     },
     "execution_count": 307,
     "metadata": {},
     "output_type": "execute_result"
    }
   ],
   "source": [
    "(1).__add__(1) #이렇게 쓸 수 있지만 굳이 쓸 일은 없을 듯"
   ]
  },
  {
   "cell_type": "code",
   "execution_count": 308,
   "metadata": {},
   "outputs": [
    {
     "data": {
      "text/plain": [
       "2"
      ]
     },
     "execution_count": 308,
     "metadata": {},
     "output_type": "execute_result"
    }
   ],
   "source": [
    "1+1"
   ]
  },
  {
   "cell_type": "code",
   "execution_count": 309,
   "metadata": {},
   "outputs": [
    {
     "data": {
      "text/plain": [
       "array([0, 1, 2, 3, 4])"
      ]
     },
     "execution_count": 309,
     "metadata": {},
     "output_type": "execute_result"
    }
   ],
   "source": [
    "a"
   ]
  },
  {
   "cell_type": "code",
   "execution_count": 310,
   "metadata": {},
   "outputs": [
    {
     "data": {
      "text/plain": [
       "array([0, 2, 4, 6, 8])"
      ]
     },
     "execution_count": 310,
     "metadata": {},
     "output_type": "execute_result"
    }
   ],
   "source": [
    "op.add(a,a) #각 위치에 있는 것들끼리 더함"
   ]
  },
  {
   "cell_type": "code",
   "execution_count": 311,
   "metadata": {},
   "outputs": [
    {
     "data": {
      "text/plain": [
       "array([0, 2, 4, 6, 8])"
      ]
     },
     "execution_count": 311,
     "metadata": {},
     "output_type": "execute_result"
    }
   ],
   "source": [
    "a.__add__(a)"
   ]
  },
  {
   "cell_type": "markdown",
   "metadata": {},
   "source": [
    "### 6-3  파이썬 리스트의 덧셈 연산자는 리스트를 결합\n",
    "\n",
    "        리스트의 덧셈연산은 두 개의 리스트를 연결합니다.\n",
    "        다차원 배열의 덧셈은 두 개의 배열의 각각의 원소를 더합니다."
   ]
  },
  {
   "cell_type": "markdown",
   "metadata": {},
   "source": [
    "#### 리스트의 덧셈"
   ]
  },
  {
   "cell_type": "code",
   "execution_count": 332,
   "metadata": {},
   "outputs": [],
   "source": [
    "l = [1,2,3,4]"
   ]
  },
  {
   "cell_type": "code",
   "execution_count": 325,
   "metadata": {},
   "outputs": [
    {
     "data": {
      "text/plain": [
       "<method-wrapper '__add__' of list object at 0x00000249EAAB1900>"
      ]
     },
     "execution_count": 325,
     "metadata": {},
     "output_type": "execute_result"
    }
   ],
   "source": [
    "l.__add__"
   ]
  },
  {
   "cell_type": "code",
   "execution_count": 326,
   "metadata": {},
   "outputs": [
    {
     "data": {
      "text/plain": [
       "[1, 2, 3, 4, 1, 2, 3, 4]"
      ]
     },
     "execution_count": 326,
     "metadata": {},
     "output_type": "execute_result"
    }
   ],
   "source": [
    "l.__add__(l)"
   ]
  },
  {
   "cell_type": "code",
   "execution_count": 327,
   "metadata": {},
   "outputs": [
    {
     "data": {
      "text/plain": [
       "[1, 2, 3, 4, 1, 2, 3, 4]"
      ]
     },
     "execution_count": 327,
     "metadata": {},
     "output_type": "execute_result"
    }
   ],
   "source": [
    "op.add(l,l) #리스트는 두개를 연결함. 어레이랑 다름"
   ]
  },
  {
   "cell_type": "code",
   "execution_count": 333,
   "metadata": {},
   "outputs": [
    {
     "data": {
      "text/plain": [
       "[1, 2, 3, 4, 1, 2, 3, 4]"
      ]
     },
     "execution_count": 333,
     "metadata": {},
     "output_type": "execute_result"
    }
   ],
   "source": [
    "a = [1, 2, 3, 4]\n",
    "for i in a:\n",
    "    l.append(i)\n",
    "l"
   ]
  },
  {
   "cell_type": "markdown",
   "metadata": {},
   "source": [
    "#### 다차원 배열의 덧셈 "
   ]
  },
  {
   "cell_type": "code",
   "execution_count": 337,
   "metadata": {},
   "outputs": [
    {
     "data": {
      "text/plain": [
       "array([1, 2, 3, 4])"
      ]
     },
     "execution_count": 337,
     "metadata": {},
     "output_type": "execute_result"
    }
   ],
   "source": [
    "l = [1, 2, 3, 4]\n",
    "ll = np.array(l)#리스트를 어레이화\n",
    "ll"
   ]
  },
  {
   "cell_type": "code",
   "execution_count": 338,
   "metadata": {},
   "outputs": [
    {
     "data": {
      "text/plain": [
       "array([2, 4, 6, 8])"
      ]
     },
     "execution_count": 338,
     "metadata": {},
     "output_type": "execute_result"
    }
   ],
   "source": [
    "op.add(ll,ll)"
   ]
  },
  {
   "cell_type": "code",
   "execution_count": 339,
   "metadata": {},
   "outputs": [
    {
     "data": {
      "text/plain": [
       "array([2, 4, 6, 8])"
      ]
     },
     "execution_count": 339,
     "metadata": {},
     "output_type": "execute_result"
    }
   ],
   "source": [
    "ll+ll"
   ]
  },
  {
   "cell_type": "code",
   "execution_count": 340,
   "metadata": {},
   "outputs": [
    {
     "data": {
      "text/plain": [
       "array([2, 4, 6, 8])"
      ]
     },
     "execution_count": 340,
     "metadata": {},
     "output_type": "execute_result"
    }
   ],
   "source": [
    "np.add(ll,ll)"
   ]
  },
  {
   "cell_type": "code",
   "execution_count": 341,
   "metadata": {},
   "outputs": [
    {
     "name": "stdout",
     "output_type": "stream",
     "text": [
      "1.2237043000004633\n",
      "0.16058720000000903\n",
      "0.07201739999982237\n",
      "0.1981627999994089\n"
     ]
    }
   ],
   "source": [
    "#연산 속도 비교 test3가 제일 빠른듯 연산자 쓸 수 있으면 연산자 쓰기\n",
    "#연산자로 표현할 수 없을 경우에 넘파이나 다른 함수 사용 \n",
    "\n",
    "def test():\n",
    "    #big_array = np.random.randint(1,100,size=10)\n",
    "    \n",
    "    return np.multiply(94283874,845758696)\n",
    "\n",
    "def test2():\n",
    "    #big_array = np.random.randint(1,100,size=10)\n",
    "    return op.mul(94283874,845758696)\n",
    "\n",
    "def test3():\n",
    "    #big_array = np.random.randint(1,100,size=10)\n",
    "    \n",
    "    return 94283874*845758696\n",
    "\n",
    "def test4():\n",
    "    #big_array = np.random.randint(1,100,size=10)\n",
    "    \n",
    "    return (94283874).__mul__(845758696)\n",
    "\n",
    "t1 = timeit.timeit('test()', setup='from __main__ import test', number=1000000)\n",
    "t2 = timeit.timeit('test2()', setup='from __main__ import test2', number=1000000)\n",
    "t3 = timeit.timeit('test3()', setup='from __main__ import test3', number=1000000)\n",
    "t4 = timeit.timeit('test4()', setup='from __main__ import test4', number=1000000)\n",
    "\n",
    "print(t1)\n",
    "print(t2)\n",
    "print(t3)\n",
    "print(t4)"
   ]
  },
  {
   "cell_type": "code",
   "execution_count": 343,
   "metadata": {},
   "outputs": [
    {
     "name": "stdout",
     "output_type": "stream",
     "text": [
      "1.0200863999998546\n",
      "0.12553850000040256\n",
      "0.07034249999924214\n",
      "0.15511960000003455\n"
     ]
    }
   ],
   "source": [
    "def test():\n",
    "    #big_array = np.random.randint(1,100,size=10)\n",
    "    \n",
    "    return np.add(94283874,845758696)\n",
    "\n",
    "def test2():\n",
    "    #big_array = np.random.randint(1,100,size=10)\n",
    "    return op.add(94283874,845758696)\n",
    "\n",
    "def test3():\n",
    "    #big_array = np.random.randint(1,100,size=10)\n",
    "    \n",
    "    return 94283874+845758696\n",
    "\n",
    "def test4():\n",
    "    #big_array = np.random.randint(1,100,size=10)\n",
    "    \n",
    "    return (94283874).__add__(845758696)\n",
    "\n",
    "t1 = timeit.timeit('test()', setup='from __main__ import test', number=1000000)\n",
    "t2 = timeit.timeit('test2()', setup='from __main__ import test2', number=1000000)\n",
    "t3 = timeit.timeit('test3()', setup='from __main__ import test3', number=1000000)\n",
    "t4 = timeit.timeit('test4()', setup='from __main__ import test4', number=1000000)\n",
    "\n",
    "print(t1)\n",
    "print(t2)\n",
    "print(t3)\n",
    "print(t4)"
   ]
  },
  {
   "cell_type": "code",
   "execution_count": null,
   "metadata": {},
   "outputs": [],
   "source": []
  },
  {
   "cell_type": "markdown",
   "metadata": {},
   "source": [
    "## 6-4 브로드캐스팅 처리\n",
    "\n",
    "        다차원 배열을 처리하려면 두 배열의 원소의 개수를 일치시켜야 합니다.\n",
    "        \n",
    "        이를 자동으로 맞춰주는 과정이 브로드캐스팅입니다.\n",
    "        "
   ]
  },
  {
   "cell_type": "markdown",
   "metadata": {},
   "source": [
    "#### 스칼라의 브로드캐스팅"
   ]
  },
  {
   "cell_type": "code",
   "execution_count": 344,
   "metadata": {},
   "outputs": [],
   "source": [
    "aa = np.arange(5)"
   ]
  },
  {
   "cell_type": "code",
   "execution_count": 345,
   "metadata": {},
   "outputs": [
    {
     "data": {
      "text/plain": [
       "array([0, 1, 2, 3, 4])"
      ]
     },
     "execution_count": 345,
     "metadata": {},
     "output_type": "execute_result"
    }
   ],
   "source": [
    "aa"
   ]
  },
  {
   "cell_type": "code",
   "execution_count": 346,
   "metadata": {},
   "outputs": [
    {
     "data": {
      "text/plain": [
       "array([5, 6, 7, 8, 9])"
      ]
     },
     "execution_count": 346,
     "metadata": {},
     "output_type": "execute_result"
    }
   ],
   "source": [
    "aa + 5 # 모든 원소에 더하기 5"
   ]
  },
  {
   "cell_type": "code",
   "execution_count": null,
   "metadata": {},
   "outputs": [],
   "source": []
  },
  {
   "cell_type": "code",
   "execution_count": 347,
   "metadata": {},
   "outputs": [
    {
     "data": {
      "text/plain": [
       "array([5, 6, 7, 8, 9])"
      ]
     },
     "execution_count": 347,
     "metadata": {},
     "output_type": "execute_result"
    }
   ],
   "source": [
    "aa + [5,5,5,5,5]"
   ]
  },
  {
   "cell_type": "code",
   "execution_count": 358,
   "metadata": {},
   "outputs": [
    {
     "data": {
      "text/plain": [
       "array([0, 1, 2, 3, 4, 5, 6, 7, 8, 9])"
      ]
     },
     "execution_count": 358,
     "metadata": {},
     "output_type": "execute_result"
    }
   ],
   "source": [
    "np.arange(10)"
   ]
  },
  {
   "cell_type": "code",
   "execution_count": 359,
   "metadata": {},
   "outputs": [],
   "source": [
    "a2 = np.arange(10).reshape(2,5) #0~9까지 2*5 텐서\n",
    "#reshape()은 차원을 쪼개주는 것"
   ]
  },
  {
   "cell_type": "code",
   "execution_count": 360,
   "metadata": {},
   "outputs": [
    {
     "data": {
      "text/plain": [
       "array([[0, 1, 2, 3, 4],\n",
       "       [5, 6, 7, 8, 9]])"
      ]
     },
     "execution_count": 360,
     "metadata": {},
     "output_type": "execute_result"
    }
   ],
   "source": [
    "a2"
   ]
  },
  {
   "cell_type": "code",
   "execution_count": 365,
   "metadata": {},
   "outputs": [
    {
     "data": {
      "text/plain": [
       "array([[0, 1, 2, 3, 4],\n",
       "       [5, 6, 7, 8, 9]])"
      ]
     },
     "execution_count": 365,
     "metadata": {},
     "output_type": "execute_result"
    }
   ],
   "source": [
    "# 텐서 값들의 곱 = 총 엘러먼트 수\n",
    "# np.arange(총 엘러먼트 수).reshape(텐서값[0], 텐서값[1]...)\n",
    "a2 = np.arange(2*5).reshape(2,5)\n",
    "a2"
   ]
  },
  {
   "cell_type": "code",
   "execution_count": 366,
   "metadata": {},
   "outputs": [
    {
     "data": {
      "text/plain": [
       "array([[0, 1, 2, 3, 4],\n",
       "       [5, 6, 7, 8, 9]])"
      ]
     },
     "execution_count": 366,
     "metadata": {},
     "output_type": "execute_result"
    }
   ],
   "source": [
    "n = 2\n",
    "m = 5\n",
    "a2 = np.arange(n*m).reshape(n, m) #방정식 같은 형태로 하면 효율적이고 좋다.\n",
    "a2"
   ]
  },
  {
   "cell_type": "markdown",
   "metadata": {},
   "source": [
    "#### 벡터의 브로드캐스팅"
   ]
  },
  {
   "cell_type": "code",
   "execution_count": 367,
   "metadata": {},
   "outputs": [
    {
     "data": {
      "text/plain": [
       "array([0, 1, 2, 3, 4])"
      ]
     },
     "execution_count": 367,
     "metadata": {},
     "output_type": "execute_result"
    }
   ],
   "source": [
    "aa"
   ]
  },
  {
   "cell_type": "code",
   "execution_count": 368,
   "metadata": {},
   "outputs": [
    {
     "data": {
      "text/plain": [
       "array([[0, 1, 2, 3, 4],\n",
       "       [5, 6, 7, 8, 9]])"
      ]
     },
     "execution_count": 368,
     "metadata": {},
     "output_type": "execute_result"
    }
   ],
   "source": [
    "a2"
   ]
  },
  {
   "cell_type": "code",
   "execution_count": 369,
   "metadata": {},
   "outputs": [
    {
     "data": {
      "text/plain": [
       "array([[ 0,  2,  4,  6,  8],\n",
       "       [ 5,  7,  9, 11, 13]])"
      ]
     },
     "execution_count": 369,
     "metadata": {},
     "output_type": "execute_result"
    }
   ],
   "source": [
    "aa + a2"
   ]
  },
  {
   "cell_type": "code",
   "execution_count": 373,
   "metadata": {},
   "outputs": [
    {
     "data": {
      "text/plain": [
       "array([[ 0,  2,  4,  6,  8],\n",
       "       [ 5,  7,  9, 11, 13]])"
      ]
     },
     "execution_count": 373,
     "metadata": {},
     "output_type": "execute_result"
    }
   ],
   "source": [
    "np.array([[0,1,2,3,4],[0,1,2,3,4]]) + a2"
   ]
  },
  {
   "cell_type": "code",
   "execution_count": 374,
   "metadata": {},
   "outputs": [],
   "source": [
    "aa_b = np.array([aa,aa])"
   ]
  },
  {
   "cell_type": "code",
   "execution_count": 375,
   "metadata": {},
   "outputs": [
    {
     "data": {
      "text/plain": [
       "array([[0, 1, 2, 3, 4],\n",
       "       [0, 1, 2, 3, 4]])"
      ]
     },
     "execution_count": 375,
     "metadata": {},
     "output_type": "execute_result"
    }
   ],
   "source": [
    "aa_b"
   ]
  },
  {
   "cell_type": "code",
   "execution_count": 376,
   "metadata": {},
   "outputs": [
    {
     "data": {
      "text/plain": [
       "array([[ 0,  2,  4,  6,  8],\n",
       "       [ 5,  7,  9, 11, 13]])"
      ]
     },
     "execution_count": 376,
     "metadata": {},
     "output_type": "execute_result"
    }
   ],
   "source": [
    "a2 + aa_b"
   ]
  },
  {
   "cell_type": "code",
   "execution_count": null,
   "metadata": {},
   "outputs": [],
   "source": []
  },
  {
   "cell_type": "markdown",
   "metadata": {},
   "source": [
    "#### 행벡터와 열벡터를 계산할 때는 두 개의 벡터의 행과 열의 크기로 확대 "
   ]
  },
  {
   "cell_type": "code",
   "execution_count": 386,
   "metadata": {},
   "outputs": [],
   "source": [
    "a_r = np.arange(1*5).reshape(1, 5)"
   ]
  },
  {
   "cell_type": "code",
   "execution_count": 387,
   "metadata": {},
   "outputs": [
    {
     "data": {
      "text/plain": [
       "array([[0, 1, 2, 3, 4]])"
      ]
     },
     "execution_count": 387,
     "metadata": {},
     "output_type": "execute_result"
    }
   ],
   "source": [
    "a_r"
   ]
  },
  {
   "cell_type": "code",
   "execution_count": 388,
   "metadata": {},
   "outputs": [
    {
     "data": {
      "text/plain": [
       "array([[0, 1, 2, 3, 4]])"
      ]
     },
     "execution_count": 388,
     "metadata": {},
     "output_type": "execute_result"
    }
   ],
   "source": [
    "np.arange(5).reshape(1, 5)"
   ]
  },
  {
   "cell_type": "code",
   "execution_count": 389,
   "metadata": {},
   "outputs": [],
   "source": [
    "row = 1\n",
    "column = 6\n",
    "a_r = np.arange(row*column).reshape(row,column)"
   ]
  },
  {
   "cell_type": "code",
   "execution_count": 390,
   "metadata": {},
   "outputs": [
    {
     "data": {
      "text/plain": [
       "array([[0, 1, 2, 3, 4, 5]])"
      ]
     },
     "execution_count": 390,
     "metadata": {},
     "output_type": "execute_result"
    }
   ],
   "source": [
    "a_r"
   ]
  },
  {
   "cell_type": "code",
   "execution_count": 391,
   "metadata": {},
   "outputs": [
    {
     "data": {
      "text/plain": [
       "(1, 6)"
      ]
     },
     "execution_count": 391,
     "metadata": {},
     "output_type": "execute_result"
    }
   ],
   "source": [
    "a_r.shape"
   ]
  },
  {
   "cell_type": "code",
   "execution_count": 392,
   "metadata": {},
   "outputs": [],
   "source": [
    "row = 6\n",
    "column = 1\n",
    "a_c = np.arange(row*column).reshape(row,column)"
   ]
  },
  {
   "cell_type": "code",
   "execution_count": 393,
   "metadata": {},
   "outputs": [
    {
     "data": {
      "text/plain": [
       "array([[0],\n",
       "       [1],\n",
       "       [2],\n",
       "       [3],\n",
       "       [4],\n",
       "       [5]])"
      ]
     },
     "execution_count": 393,
     "metadata": {},
     "output_type": "execute_result"
    }
   ],
   "source": [
    "a_c"
   ]
  },
  {
   "cell_type": "code",
   "execution_count": 394,
   "metadata": {},
   "outputs": [
    {
     "data": {
      "text/plain": [
       "(6, 1)"
      ]
     },
     "execution_count": 394,
     "metadata": {},
     "output_type": "execute_result"
    }
   ],
   "source": [
    "a_c.shape"
   ]
  },
  {
   "cell_type": "code",
   "execution_count": 405,
   "metadata": {},
   "outputs": [
    {
     "data": {
      "text/plain": [
       "array([[ 0,  1,  2,  3,  4,  5],\n",
       "       [ 1,  2,  3,  4,  5,  6],\n",
       "       [ 2,  3,  4,  5,  6,  7],\n",
       "       [ 3,  4,  5,  6,  7,  8],\n",
       "       [ 4,  5,  6,  7,  8,  9],\n",
       "       [ 5,  6,  7,  8,  9, 10]])"
      ]
     },
     "execution_count": 405,
     "metadata": {},
     "output_type": "execute_result"
    }
   ],
   "source": [
    "# (1, x)텐서 + (y, 1)텐서 = (x , y)텐서\n",
    "a_c + a_r #더하기는 잘 안씀"
   ]
  },
  {
   "cell_type": "code",
   "execution_count": 406,
   "metadata": {},
   "outputs": [
    {
     "data": {
      "text/plain": [
       "array([[ 0,  1,  2,  3,  4,  5],\n",
       "       [ 1,  2,  3,  4,  5,  6],\n",
       "       [ 2,  3,  4,  5,  6,  7],\n",
       "       [ 3,  4,  5,  6,  7,  8],\n",
       "       [ 4,  5,  6,  7,  8,  9],\n",
       "       [ 5,  6,  7,  8,  9, 10]])"
      ]
     },
     "execution_count": 406,
     "metadata": {},
     "output_type": "execute_result"
    }
   ],
   "source": [
    "a_r + a_c"
   ]
  },
  {
   "cell_type": "markdown",
   "metadata": {},
   "source": [
    "## 6-5 numpy 기초 사용법\n",
    "\n",
    "        기본적으로 알아두어야될 사용법이 있습니다.\n",
    "        \n",
    "        자주 사용하니 여러번 활용해 보시기 바랍니다.\n",
    "        "
   ]
  },
  {
   "cell_type": "markdown",
   "metadata": {},
   "source": [
    "### 제로 행렬 만들기"
   ]
  },
  {
   "cell_type": "code",
   "execution_count": 410,
   "metadata": {},
   "outputs": [
    {
     "data": {
      "text/plain": [
       "array([[0., 0., 0., 0.],\n",
       "       [0., 0., 0., 0.],\n",
       "       [0., 0., 0., 0.],\n",
       "       [0., 0., 0., 0.],\n",
       "       [0., 0., 0., 0.]])"
      ]
     },
     "execution_count": 410,
     "metadata": {},
     "output_type": "execute_result"
    }
   ],
   "source": [
    "r=5\n",
    "c=4\n",
    "num=np.zeros((r,c))\n",
    "num"
   ]
  },
  {
   "cell_type": "code",
   "execution_count": 411,
   "metadata": {},
   "outputs": [
    {
     "data": {
      "text/plain": [
       "20"
      ]
     },
     "execution_count": 411,
     "metadata": {},
     "output_type": "execute_result"
    }
   ],
   "source": [
    "np.size(num)"
   ]
  },
  {
   "cell_type": "code",
   "execution_count": 412,
   "metadata": {},
   "outputs": [
    {
     "data": {
      "text/plain": [
       "(5, 4)"
      ]
     },
     "execution_count": 412,
     "metadata": {},
     "output_type": "execute_result"
    }
   ],
   "source": [
    "num.shape"
   ]
  },
  {
   "cell_type": "markdown",
   "metadata": {},
   "source": [
    "### 1 행렬 만들기"
   ]
  },
  {
   "cell_type": "code",
   "execution_count": 413,
   "metadata": {},
   "outputs": [
    {
     "data": {
      "text/plain": [
       "array([[1., 1., 1., 1., 1.],\n",
       "       [1., 1., 1., 1., 1.],\n",
       "       [1., 1., 1., 1., 1.],\n",
       "       [1., 1., 1., 1., 1.],\n",
       "       [1., 1., 1., 1., 1.]])"
      ]
     },
     "execution_count": 413,
     "metadata": {},
     "output_type": "execute_result"
    }
   ],
   "source": [
    "one=np.ones((5,5))\n",
    "one"
   ]
  },
  {
   "cell_type": "code",
   "execution_count": null,
   "metadata": {},
   "outputs": [],
   "source": []
  },
  {
   "cell_type": "markdown",
   "metadata": {},
   "source": [
    "### 매트릭스 만들기"
   ]
  },
  {
   "cell_type": "code",
   "execution_count": 414,
   "metadata": {},
   "outputs": [
    {
     "data": {
      "text/plain": [
       "matrix([[100, 200],\n",
       "        [300, 400]])"
      ]
     },
     "execution_count": 414,
     "metadata": {},
     "output_type": "execute_result"
    }
   ],
   "source": [
    "mat=np.matrix([[100,200],[300,400]])\n",
    "mat"
   ]
  },
  {
   "cell_type": "code",
   "execution_count": 415,
   "metadata": {},
   "outputs": [
    {
     "data": {
      "text/plain": [
       "array([[100, 200],\n",
       "       [300, 400]])"
      ]
     },
     "execution_count": 415,
     "metadata": {},
     "output_type": "execute_result"
    }
   ],
   "source": [
    "mat2=np.array([[100,200],[300,400]])\n",
    "mat2"
   ]
  },
  {
   "cell_type": "code",
   "execution_count": 430,
   "metadata": {},
   "outputs": [
    {
     "data": {
      "text/plain": [
       "array([ 0,  1,  2,  3,  4,  5,  6,  7,  8,  9, 10, 11])"
      ]
     },
     "execution_count": 430,
     "metadata": {},
     "output_type": "execute_result"
    }
   ],
   "source": [
    "r=3\n",
    "c=4\n",
    "A = np.arange(r*c)\n",
    "A"
   ]
  },
  {
   "cell_type": "code",
   "execution_count": 431,
   "metadata": {},
   "outputs": [
    {
     "data": {
      "text/plain": [
       "array([[ 0,  1,  2,  3],\n",
       "       [ 4,  5,  6,  7],\n",
       "       [ 8,  9, 10, 11]])"
      ]
     },
     "execution_count": 431,
     "metadata": {},
     "output_type": "execute_result"
    }
   ],
   "source": [
    "A.reshape((r,c))"
   ]
  },
  {
   "cell_type": "code",
   "execution_count": 434,
   "metadata": {},
   "outputs": [
    {
     "data": {
      "text/plain": [
       "array([[ 0,  1,  2,  3],\n",
       "       [ 4,  5,  6,  7],\n",
       "       [ 8,  9, 10, 11]])"
      ]
     },
     "execution_count": 434,
     "metadata": {},
     "output_type": "execute_result"
    }
   ],
   "source": [
    "r=3\n",
    "c=4\n",
    "A = np.arange(r*c).reshape((r,c))\n",
    "A"
   ]
  },
  {
   "cell_type": "code",
   "execution_count": 435,
   "metadata": {},
   "outputs": [
    {
     "data": {
      "text/plain": [
       "array([3, 4, 5, 6])"
      ]
     },
     "execution_count": 435,
     "metadata": {},
     "output_type": "execute_result"
    }
   ],
   "source": [
    "n=3\n",
    "m=7\n",
    "A = np.arange(n,m) #시작은 포함 끝은 미포함\n",
    "A"
   ]
  },
  {
   "cell_type": "code",
   "execution_count": 419,
   "metadata": {},
   "outputs": [
    {
     "data": {
      "text/plain": [
       "array([[3, 4],\n",
       "       [5, 6]])"
      ]
     },
     "execution_count": 419,
     "metadata": {},
     "output_type": "execute_result"
    }
   ],
   "source": [
    "x=2\n",
    "y=2\n",
    "A.reshape((x,y))"
   ]
  },
  {
   "cell_type": "code",
   "execution_count": 470,
   "metadata": {},
   "outputs": [
    {
     "data": {
      "text/plain": [
       "array([[ 0.27337673,  1.1677887 ,  0.59068598,  0.51186776],\n",
       "       [-0.54704352,  0.92103293,  0.43885914,  0.81118818],\n",
       "       [ 0.75982543, -1.86344899, -2.03584289, -0.08346427]])"
      ]
     },
     "execution_count": 470,
     "metadata": {},
     "output_type": "execute_result"
    }
   ],
   "source": [
    "# 가우시안 정규 분포 난수 생성\n",
    "# 정규 분포는 평균이0, 분산 1\n",
    "R = np.random.randn(3, 4) #-도 나온다\n",
    "R"
   ]
  },
  {
   "cell_type": "code",
   "execution_count": 471,
   "metadata": {},
   "outputs": [
    {
     "data": {
      "text/plain": [
       "0.07873543002728386"
      ]
     },
     "execution_count": 471,
     "metadata": {},
     "output_type": "execute_result"
    }
   ],
   "source": [
    "# 난수 생성 수가 무한히 늘어나면 R.mean()이 0에 도달\n",
    "R.mean()"
   ]
  },
  {
   "cell_type": "code",
   "execution_count": 472,
   "metadata": {},
   "outputs": [
    {
     "data": {
      "text/plain": [
       "array([[0.42963894, 0.3093126 , 0.56945771, 0.3342415 ],\n",
       "       [0.18411162, 0.00193847, 0.34133836, 0.81839674],\n",
       "       [0.84254327, 0.33738106, 0.54593   , 0.26151993]])"
      ]
     },
     "execution_count": 472,
     "metadata": {},
     "output_type": "execute_result"
    }
   ],
   "source": [
    "# 0에서 1사이 균일 분포 난수 생성\n",
    "RR = np.random.rand(3, 4) #이런 거 자주 쓴다\n",
    "RR"
   ]
  },
  {
   "cell_type": "code",
   "execution_count": 473,
   "metadata": {},
   "outputs": [
    {
     "data": {
      "text/plain": [
       "0.4146508489037546"
      ]
     },
     "execution_count": 473,
     "metadata": {},
     "output_type": "execute_result"
    }
   ],
   "source": [
    "# 난수 생성 수가 무한히 늘어나면 R.mean()이 0.5에 도달\n",
    "RR.mean()"
   ]
  },
  {
   "cell_type": "markdown",
   "metadata": {},
   "source": [
    "### 행렬에 값 치환/추출"
   ]
  },
  {
   "cell_type": "code",
   "execution_count": 489,
   "metadata": {},
   "outputs": [
    {
     "data": {
      "text/plain": [
       "array([0, 0, 0, 0, 0, 0, 0, 0, 0, 0])"
      ]
     },
     "execution_count": 489,
     "metadata": {},
     "output_type": "execute_result"
    }
   ],
   "source": [
    "a=np.array([0,0,0,0,0,0,0,0,0,0])\n",
    "a"
   ]
  },
  {
   "cell_type": "code",
   "execution_count": 490,
   "metadata": {},
   "outputs": [
    {
     "data": {
      "text/plain": [
       "array([ 3,  5,  0,  0,  0,  0,  0, 10,  0,  0])"
      ]
     },
     "execution_count": 490,
     "metadata": {},
     "output_type": "execute_result"
    }
   ],
   "source": [
    "a=np.array([0,0,0,0,0,0,0,0,0,0])\n",
    "a[0]=3\n",
    "a[1]=5\n",
    "a[7]=10\n",
    "a"
   ]
  },
  {
   "cell_type": "code",
   "execution_count": 491,
   "metadata": {},
   "outputs": [
    {
     "data": {
      "text/plain": [
       "(array([0, 1, 7], dtype=int64),)"
      ]
     },
     "execution_count": 491,
     "metadata": {},
     "output_type": "execute_result"
    }
   ],
   "source": [
    "# 0이 아닌 값의 index 확인\n",
    "np.nonzero(a)"
   ]
  },
  {
   "cell_type": "code",
   "execution_count": 492,
   "metadata": {},
   "outputs": [
    {
     "data": {
      "text/plain": [
       "array([ 3,  5, 10])"
      ]
     },
     "execution_count": 492,
     "metadata": {},
     "output_type": "execute_result"
    }
   ],
   "source": [
    "a[a!=0]"
   ]
  },
  {
   "cell_type": "code",
   "execution_count": 493,
   "metadata": {},
   "outputs": [
    {
     "data": {
      "text/plain": [
       "array([0, 1, 7])"
      ]
     },
     "execution_count": 493,
     "metadata": {},
     "output_type": "execute_result"
    }
   ],
   "source": [
    "b = []\n",
    "for i, number in enumerate(a):\n",
    "    if number != 0:\n",
    "        b.append(i)\n",
    "np.array(b)        \n"
   ]
  },
  {
   "cell_type": "code",
   "execution_count": 495,
   "metadata": {},
   "outputs": [
    {
     "data": {
      "text/plain": [
       "array([ 0,  0, 10,  0,  0,  0,  0,  0,  5,  3])"
      ]
     },
     "execution_count": 495,
     "metadata": {},
     "output_type": "execute_result"
    }
   ],
   "source": [
    "# ;; 간격\n",
    "# 행렬을 거꾸로\n",
    "a[::-1] # :이 한개면 범위 :: 두개는 간격 , -1은 제일 끝자리를 의미한다"
   ]
  },
  {
   "cell_type": "code",
   "execution_count": 501,
   "metadata": {},
   "outputs": [
    {
     "data": {
      "text/plain": [
       "array([[0.04402716, 0.72051322, 0.51576347],\n",
       "       [0.23681113, 0.96419207, 0.86034865],\n",
       "       [0.3544279 , 0.4891586 , 0.6306439 ],\n",
       "       [0.73728662, 0.02915292, 0.77701414]])"
      ]
     },
     "execution_count": 501,
     "metadata": {},
     "output_type": "execute_result"
    }
   ],
   "source": [
    "n=4\n",
    "m=3\n",
    "r=np.random.rand(n,m)\n",
    "r"
   ]
  },
  {
   "cell_type": "code",
   "execution_count": 531,
   "metadata": {},
   "outputs": [
    {
     "data": {
      "text/plain": [
       "(0.029152917810033707, 0.9641920650713052)"
      ]
     },
     "execution_count": 531,
     "metadata": {},
     "output_type": "execute_result"
    }
   ],
   "source": [
    "# 최소, 최대값\n",
    "r.min(), r.max() #실제로 사용"
   ]
  },
  {
   "cell_type": "code",
   "execution_count": 532,
   "metadata": {},
   "outputs": [
    {
     "data": {
      "text/plain": [
       "(0.5299449824346296, 6.359339789215555)"
      ]
     },
     "execution_count": 532,
     "metadata": {},
     "output_type": "execute_result"
    }
   ],
   "source": [
    "# 평균, 총합\n",
    "r.mean(), r.sum()"
   ]
  },
  {
   "cell_type": "code",
   "execution_count": 533,
   "metadata": {},
   "outputs": [
    {
     "data": {
      "text/plain": [
       "array([1, 1, 2, 2], dtype=int64)"
      ]
     },
     "execution_count": 533,
     "metadata": {},
     "output_type": "execute_result"
    }
   ],
   "source": [
    "# 각 행에서 최대값을 나타내는 index 열\n",
    "np.argmax(r,axis=1) #실제로 사용 axis=1 열"
   ]
  },
  {
   "cell_type": "code",
   "execution_count": 534,
   "metadata": {},
   "outputs": [
    {
     "data": {
      "text/plain": [
       "array([3, 1, 1], dtype=int64)"
      ]
     },
     "execution_count": 534,
     "metadata": {},
     "output_type": "execute_result"
    }
   ],
   "source": [
    "# 각 열에서 최대값을 나타내는 index\n",
    "np.argmax(r,axis=0)"
   ]
  },
  {
   "cell_type": "code",
   "execution_count": 541,
   "metadata": {},
   "outputs": [
    {
     "data": {
      "text/plain": [
       "4"
      ]
     },
     "execution_count": 541,
     "metadata": {},
     "output_type": "execute_result"
    }
   ],
   "source": [
    "#텐서 내에 가장 최대값을 나타내는 index\n",
    "np.argmax(r) # 전체에서 가장 큰 값을 가진 인덱스"
   ]
  },
  {
   "cell_type": "code",
   "execution_count": 542,
   "metadata": {},
   "outputs": [
    {
     "data": {
      "text/plain": [
       "array([3, 1, 1], dtype=int64)"
      ]
     },
     "execution_count": 542,
     "metadata": {},
     "output_type": "execute_result"
    }
   ],
   "source": [
    "np.argmax(r, axis=0) #각 열에서 최댓값을 나타내는 행 axis=0은 god"
   ]
  },
  {
   "cell_type": "code",
   "execution_count": 543,
   "metadata": {},
   "outputs": [
    {
     "data": {
      "text/plain": [
       "(0.5299449824346296, 6.359339789215555)"
      ]
     },
     "execution_count": 543,
     "metadata": {},
     "output_type": "execute_result"
    }
   ],
   "source": [
    "# 평균, 총합\n",
    "r.mean(), r.sum()"
   ]
  },
  {
   "cell_type": "code",
   "execution_count": 544,
   "metadata": {},
   "outputs": [
    {
     "name": "stdout",
     "output_type": "stream",
     "text": [
      "[ 9  1 -5  2  9  3  2 -3 -4  7  3] [ 2 -5 -4  1 -2  7 -4 -5  9 -1  7]\n"
     ]
    }
   ],
   "source": [
    "# n~m은 랜덤 정수의 범위, l은 난수 생성 개수\n",
    "# np.random.randint는 list 형태로 도출됨\n",
    "n=-5\n",
    "m=10\n",
    "l=11\n",
    "r1=np.random.randint(n,m,l) #n은 포함 m은 미포함 시작 값은 포함 마지막 값은 미포함\n",
    "r2=np.random.randint(n,m,l)\n",
    "print(r1,r2)"
   ]
  },
  {
   "cell_type": "code",
   "execution_count": 545,
   "metadata": {},
   "outputs": [
    {
     "data": {
      "text/plain": [
       "array([-5, -4,  1,  2,  7,  9])"
      ]
     },
     "execution_count": 545,
     "metadata": {},
     "output_type": "execute_result"
    }
   ],
   "source": [
    "# r1과 r2 간 공통값 추출\n",
    "np.intersect1d(r1,r2)"
   ]
  },
  {
   "cell_type": "code",
   "execution_count": 546,
   "metadata": {},
   "outputs": [
    {
     "data": {
      "text/plain": [
       "array([[1., 1., 1., 1., 1.],\n",
       "       [1., 1., 1., 1., 1.],\n",
       "       [1., 1., 1., 1., 1.],\n",
       "       [1., 1., 1., 1., 1.],\n",
       "       [1., 1., 1., 1., 1.]])"
      ]
     },
     "execution_count": 546,
     "metadata": {},
     "output_type": "execute_result"
    }
   ],
   "source": [
    "one=np.ones((5,5))\n",
    "one"
   ]
  },
  {
   "cell_type": "code",
   "execution_count": 547,
   "metadata": {},
   "outputs": [
    {
     "name": "stdout",
     "output_type": "stream",
     "text": [
      "[[1. 1. 1. 1. 1.]\n",
      " [1. 0. 0. 0. 1.]\n",
      " [1. 0. 0. 0. 1.]\n",
      " [1. 0. 0. 0. 1.]\n",
      " [1. 1. 1. 1. 1.]]\n"
     ]
    }
   ],
   "source": [
    "# 각 행과 열의 위치의 값을 치환할 수 있음\n",
    "# : 은 범위를 나타냄 시작 값은 포함되고 마지막 값은 포함되지 않음\n",
    "# 첫행과 첫열은 0으로 시작한다\n",
    "\n",
    "one[1:4,1:4]=0\n",
    "print(one)"
   ]
  },
  {
   "cell_type": "code",
   "execution_count": 548,
   "metadata": {},
   "outputs": [
    {
     "data": {
      "text/plain": [
       "array([[0., 0., 0., 0., 0., 0., 0., 0., 0., 0.],\n",
       "       [0., 0., 0., 0., 0., 0., 0., 0., 0., 0.],\n",
       "       [0., 0., 0., 0., 0., 0., 0., 0., 0., 0.],\n",
       "       [0., 0., 0., 0., 0., 0., 0., 0., 0., 0.],\n",
       "       [0., 0., 0., 0., 0., 0., 0., 0., 0., 0.],\n",
       "       [0., 0., 0., 0., 0., 0., 0., 0., 0., 0.],\n",
       "       [0., 0., 0., 0., 0., 0., 0., 0., 0., 0.],\n",
       "       [0., 0., 0., 0., 0., 0., 0., 0., 0., 0.],\n",
       "       [0., 0., 0., 0., 0., 0., 0., 0., 0., 0.],\n",
       "       [0., 0., 0., 0., 0., 0., 0., 0., 0., 0.]])"
      ]
     },
     "execution_count": 548,
     "metadata": {},
     "output_type": "execute_result"
    }
   ],
   "source": [
    "z=np.zeros((10,10))\n",
    "z"
   ]
  },
  {
   "cell_type": "code",
   "execution_count": 549,
   "metadata": {},
   "outputs": [
    {
     "name": "stdout",
     "output_type": "stream",
     "text": [
      "[[0. 1. 0. 1. 0. 1. 0. 1. 0. 1.]\n",
      " [1. 0. 1. 0. 1. 0. 1. 0. 1. 0.]\n",
      " [0. 1. 0. 1. 0. 1. 0. 1. 0. 1.]\n",
      " [1. 0. 1. 0. 1. 0. 1. 0. 1. 0.]\n",
      " [0. 1. 0. 1. 0. 1. 0. 1. 0. 1.]\n",
      " [0. 1. 0. 1. 0. 1. 0. 1. 0. 1.]\n",
      " [1. 0. 1. 0. 1. 0. 1. 0. 1. 0.]\n",
      " [0. 1. 0. 1. 0. 1. 0. 1. 0. 1.]\n",
      " [1. 0. 1. 0. 1. 0. 1. 0. 1. 0.]\n",
      " [0. 1. 0. 1. 0. 1. 0. 1. 0. 1.]]\n"
     ]
    }
   ],
   "source": [
    "#  :: 은 일정 간격을 나타낸다.\n",
    "# 시작 값은 포함되고 시작 값이 없는 경우 0으로 간주한다.\n",
    "# 마지막 값은 어떤 간격으로 입력되는지를 의미한다.\n",
    "z=np.zeros((10,10))\n",
    "z[0,1::2]=1\n",
    "z[1,::2]=1\n",
    "z[2,1::2]=1\n",
    "z[3,::2]=1\n",
    "z[4,1::2]=1\n",
    "\n",
    "z[5,1::2]=1\n",
    "z[6,::2]=1\n",
    "z[7,1::2]=1\n",
    "z[8,::2]=1\n",
    "z[9,1::2]=1\n",
    "#행은 고정, 열을 2칸 간격으로 1 삽입\n",
    "#: 표현 방법이 많이 사용됨\n",
    "print(z)"
   ]
  },
  {
   "cell_type": "code",
   "execution_count": null,
   "metadata": {},
   "outputs": [],
   "source": []
  },
  {
   "cell_type": "markdown",
   "metadata": {},
   "source": [
    "# 7. 선형대수 계산하기"
   ]
  },
  {
   "cell_type": "markdown",
   "metadata": {},
   "source": [
    "## 7-1 벡터의 내적 구하기\n",
    "\n",
    "       내적은 두 벡터 간의 어떤 방향을 유지하는 지를 표시합니다.\n",
    "       \n",
    "       내젹이 양수이고 커지면 두 벡터가 유사한 방향을 가지는 것을 알 수 있습니다.\n",
    "       내젹이 0이면 수직입니다. 내적이 음수이면 반대 방향을 알 수 있습니다.\n",
    "       "
   ]
  },
  {
   "cell_type": "markdown",
   "metadata": {},
   "source": [
    "       2차원 x 2차원 행렬의 내적은 아래와 같이 구할 수 있다.\n",
    "\n",
    "![matrixdot](matrixdot.jpg)"
   ]
  },
  {
   "cell_type": "markdown",
   "metadata": {},
   "source": [
    "## 2차원 텐서, 행렬의 내적\n",
    "\n",
    "###    c11 = a11*b11 + a12*b21 + a13*b31 + .... + a1n*bn1\n",
    "###    c21 = a21*b11 + a22*b21 + a23*b31 + .... + a2n*bn1\n",
    "###    cmr = am1*b1r + am2*b2r + am3*b3r + .... + amn*bnr"
   ]
  },
  {
   "cell_type": "code",
   "execution_count": null,
   "metadata": {},
   "outputs": [],
   "source": []
  },
  {
   "cell_type": "code",
   "execution_count": null,
   "metadata": {},
   "outputs": [],
   "source": []
  },
  {
   "cell_type": "code",
   "execution_count": null,
   "metadata": {},
   "outputs": [],
   "source": []
  },
  {
   "cell_type": "code",
   "execution_count": null,
   "metadata": {},
   "outputs": [],
   "source": []
  },
  {
   "cell_type": "markdown",
   "metadata": {},
   "source": [
    "### 1차원 행렬의 경우 내적에 사용되는 dot과 sumproduct에 사용되는 inner의 결과가 같다."
   ]
  },
  {
   "cell_type": "markdown",
   "metadata": {},
   "source": [
    "c11 = a11*b11 + a12*b21 + .... a1n*bn1  \n",
    "c12 = a11*b12 + a12*b22 + .... a1n*bn2    \n",
    "  .  \n",
    "  .  \n",
    "  .  \n",
    "cmr = am1*b1r + am2*b2r + .... amn*bnr"
   ]
  },
  {
   "cell_type": "code",
   "execution_count": 608,
   "metadata": {},
   "outputs": [
    {
     "data": {
      "text/plain": [
       "(array([0.01863936, 0.17314079, 0.46405783, 0.53676307]),\n",
       " array([[0.05196332],\n",
       "        [0.83505748],\n",
       "        [0.80190663],\n",
       "        [0.10318431]]))"
      ]
     },
     "execution_count": 608,
     "metadata": {},
     "output_type": "execute_result"
    }
   ],
   "source": [
    "w1 = np.random.rand(1)[0]\n",
    "w2 = np.random.rand(1)[0]\n",
    "w3 = np.random.rand(1)[0]\n",
    "wd = np.random.rand(1)[0]\n",
    "\n",
    "x1 = np.random.rand(1)[0]\n",
    "x2 = np.random.rand(1)[0]\n",
    "x3 = np.random.rand(1)[0]\n",
    "xd = np.random.rand(1)[0]\n",
    "\n",
    "w = np.array([w1, w2, w3, wd])\n",
    "x = np.array([[x1], [x2], [x3], [xd]])\n",
    "w, x"
   ]
  },
  {
   "cell_type": "code",
   "execution_count": 609,
   "metadata": {},
   "outputs": [
    {
     "data": {
      "text/plain": [
       "0.5730676528414292"
      ]
     },
     "execution_count": 609,
     "metadata": {},
     "output_type": "execute_result"
    }
   ],
   "source": [
    "# 1차 함수 w*x+b\n",
    "# 내적은 일차 함수 다발을 분류한 행렬들을 다시 합친 것\n",
    "w1*x1 + w2*x2 + w3*x3 + wd*xd"
   ]
  },
  {
   "cell_type": "code",
   "execution_count": 610,
   "metadata": {},
   "outputs": [
    {
     "data": {
      "text/plain": [
       "array([[0.42543953, 0.37872959, 0.71020587, 0.74114449]])"
      ]
     },
     "execution_count": 610,
     "metadata": {},
     "output_type": "execute_result"
    }
   ],
   "source": [
    "w = np.random.rand(4).reshape(1, 4)\n",
    "w"
   ]
  },
  {
   "cell_type": "code",
   "execution_count": 611,
   "metadata": {},
   "outputs": [
    {
     "data": {
      "text/plain": [
       "array([[0.59610778],\n",
       "       [0.97862491],\n",
       "       [0.09533162],\n",
       "       [0.98737988]])"
      ]
     },
     "execution_count": 611,
     "metadata": {},
     "output_type": "execute_result"
    }
   ],
   "source": [
    "x = np.random.rand(4).reshape(4, 1)\n",
    "x"
   ]
  },
  {
   "cell_type": "code",
   "execution_count": null,
   "metadata": {},
   "outputs": [],
   "source": []
  },
  {
   "cell_type": "code",
   "execution_count": 550,
   "metadata": {},
   "outputs": [
    {
     "data": {
      "text/plain": [
       "array([1, 2, 3, 4, 5])"
      ]
     },
     "execution_count": 550,
     "metadata": {},
     "output_type": "execute_result"
    }
   ],
   "source": [
    "a = np.arange(1,6)\n",
    "a"
   ]
  },
  {
   "cell_type": "code",
   "execution_count": 551,
   "metadata": {},
   "outputs": [
    {
     "data": {
      "text/plain": [
       "array([3, 4, 5, 6, 7])"
      ]
     },
     "execution_count": 551,
     "metadata": {},
     "output_type": "execute_result"
    }
   ],
   "source": [
    "b = np.arange(3,8)\n",
    "b"
   ]
  },
  {
   "cell_type": "code",
   "execution_count": 552,
   "metadata": {},
   "outputs": [
    {
     "data": {
      "text/plain": [
       "array([[3],\n",
       "       [4],\n",
       "       [5],\n",
       "       [6],\n",
       "       [7]])"
      ]
     },
     "execution_count": 552,
     "metadata": {},
     "output_type": "execute_result"
    }
   ],
   "source": [
    "c = np.array([[3],\n",
    "              [4],\n",
    "              [5],\n",
    "              [6],\n",
    "              [7]])\n",
    "c"
   ]
  },
  {
   "cell_type": "markdown",
   "metadata": {},
   "source": [
    "#### dot 연산 처리"
   ]
  },
  {
   "cell_type": "code",
   "execution_count": 553,
   "metadata": {},
   "outputs": [
    {
     "data": {
      "text/plain": [
       "85"
      ]
     },
     "execution_count": 553,
     "metadata": {},
     "output_type": "execute_result"
    }
   ],
   "source": [
    "1*3 +2*4 + 3*5 + 4*6 + 5*7"
   ]
  },
  {
   "cell_type": "code",
   "execution_count": 554,
   "metadata": {},
   "outputs": [
    {
     "data": {
      "text/plain": [
       "85"
      ]
     },
     "execution_count": 554,
     "metadata": {},
     "output_type": "execute_result"
    }
   ],
   "source": [
    "a.dot(b) #편의성을 위해 둘다 1*4 행렬이지만 닷 연산을 허용"
   ]
  },
  {
   "cell_type": "code",
   "execution_count": 555,
   "metadata": {},
   "outputs": [
    {
     "data": {
      "text/plain": [
       "85"
      ]
     },
     "execution_count": 555,
     "metadata": {},
     "output_type": "execute_result"
    }
   ],
   "source": [
    "np.dot(a,b)"
   ]
  },
  {
   "cell_type": "code",
   "execution_count": 556,
   "metadata": {},
   "outputs": [
    {
     "data": {
      "text/plain": [
       "array([85])"
      ]
     },
     "execution_count": 556,
     "metadata": {},
     "output_type": "execute_result"
    }
   ],
   "source": [
    "np.dot(a,c)"
   ]
  },
  {
   "cell_type": "markdown",
   "metadata": {},
   "source": [
    "#### inner 함수 처리 "
   ]
  },
  {
   "cell_type": "code",
   "execution_count": 557,
   "metadata": {},
   "outputs": [
    {
     "data": {
      "text/plain": [
       "85"
      ]
     },
     "execution_count": 557,
     "metadata": {},
     "output_type": "execute_result"
    }
   ],
   "source": [
    "# 1D array를 내적할때  dot과 동일한 결과가 나오나 2D 이상에서는 내적의 결과가 아닌 sumproduct 값이 도출됨.\n",
    "np.inner(a,b)"
   ]
  },
  {
   "cell_type": "code",
   "execution_count": 558,
   "metadata": {},
   "outputs": [
    {
     "ename": "ValueError",
     "evalue": "shapes (5,) and (1,5) not aligned: 5 (dim 0) != 1 (dim 0)",
     "output_type": "error",
     "traceback": [
      "\u001b[1;31m---------------------------------------------------------------------------\u001b[0m",
      "\u001b[1;31mValueError\u001b[0m                                Traceback (most recent call last)",
      "\u001b[1;32m<ipython-input-558-73626efd84a2>\u001b[0m in \u001b[0;36m<module>\u001b[1;34m\u001b[0m\n\u001b[1;32m----> 1\u001b[1;33m \u001b[0mnp\u001b[0m\u001b[1;33m.\u001b[0m\u001b[0minner\u001b[0m\u001b[1;33m(\u001b[0m\u001b[0ma\u001b[0m\u001b[1;33m,\u001b[0m\u001b[0mc\u001b[0m\u001b[1;33m)\u001b[0m\u001b[1;33m\u001b[0m\u001b[1;33m\u001b[0m\u001b[0m\n\u001b[0m",
      "\u001b[1;32m<__array_function__ internals>\u001b[0m in \u001b[0;36minner\u001b[1;34m(*args, **kwargs)\u001b[0m\n",
      "\u001b[1;31mValueError\u001b[0m: shapes (5,) and (1,5) not aligned: 5 (dim 0) != 1 (dim 0)"
     ]
    }
   ],
   "source": [
    "np.inner(a,c)"
   ]
  },
  {
   "cell_type": "code",
   "execution_count": 559,
   "metadata": {},
   "outputs": [],
   "source": [
    "c = np.array([1,-2,3,8])"
   ]
  },
  {
   "cell_type": "code",
   "execution_count": 560,
   "metadata": {},
   "outputs": [],
   "source": [
    "d = np.array([0,-3,3, 1])"
   ]
  },
  {
   "cell_type": "code",
   "execution_count": 612,
   "metadata": {},
   "outputs": [
    {
     "data": {
      "text/plain": [
       "array([  0, -18,  18,   6])"
      ]
     },
     "execution_count": 612,
     "metadata": {},
     "output_type": "execute_result"
    }
   ],
   "source": [
    "np.dot(c,d)"
   ]
  },
  {
   "cell_type": "markdown",
   "metadata": {},
   "source": [
    "## 행렬곱 처리하기\n",
    "\n",
    "        행렬 내의 벡터들이 내적을 가지고 다시 행렬을 구성합니다.\n",
    "        \n",
    "        dot, matmul 두 개를 지원합니다.\n",
    "        "
   ]
  },
  {
   "cell_type": "markdown",
   "metadata": {},
   "source": [
    "### 1차 텐서 닷 연산"
   ]
  },
  {
   "cell_type": "code",
   "execution_count": 613,
   "metadata": {},
   "outputs": [
    {
     "data": {
      "text/plain": [
       "array([[0, 1, 2, 3, 4, 5]])"
      ]
     },
     "execution_count": 613,
     "metadata": {},
     "output_type": "execute_result"
    }
   ],
   "source": [
    "r=1\n",
    "c=6\n",
    "A = np.arange(r*c).reshape((r,c))\n",
    "A"
   ]
  },
  {
   "cell_type": "code",
   "execution_count": 614,
   "metadata": {},
   "outputs": [
    {
     "data": {
      "text/plain": [
       "array([[0],\n",
       "       [1],\n",
       "       [2],\n",
       "       [3],\n",
       "       [4],\n",
       "       [5]])"
      ]
     },
     "execution_count": 614,
     "metadata": {},
     "output_type": "execute_result"
    }
   ],
   "source": [
    "B =np.arange(c*r).reshape((c,r))\n",
    "B"
   ]
  },
  {
   "cell_type": "code",
   "execution_count": 615,
   "metadata": {},
   "outputs": [
    {
     "data": {
      "text/plain": [
       "array([[55]])"
      ]
     },
     "execution_count": 615,
     "metadata": {},
     "output_type": "execute_result"
    }
   ],
   "source": [
    "np.dot(A,B)"
   ]
  },
  {
   "cell_type": "code",
   "execution_count": 565,
   "metadata": {},
   "outputs": [
    {
     "ename": "ValueError",
     "evalue": "shapes (1,6) and (1,6) not aligned: 6 (dim 1) != 1 (dim 0)",
     "output_type": "error",
     "traceback": [
      "\u001b[1;31m---------------------------------------------------------------------------\u001b[0m",
      "\u001b[1;31mValueError\u001b[0m                                Traceback (most recent call last)",
      "\u001b[1;32m<ipython-input-565-f2b9d151da4c>\u001b[0m in \u001b[0;36m<module>\u001b[1;34m\u001b[0m\n\u001b[1;32m----> 1\u001b[1;33m \u001b[0mnp\u001b[0m\u001b[1;33m.\u001b[0m\u001b[0minner\u001b[0m\u001b[1;33m(\u001b[0m\u001b[0mA\u001b[0m\u001b[1;33m,\u001b[0m\u001b[0mB\u001b[0m\u001b[1;33m)\u001b[0m\u001b[1;33m\u001b[0m\u001b[1;33m\u001b[0m\u001b[0m\n\u001b[0m",
      "\u001b[1;32m<__array_function__ internals>\u001b[0m in \u001b[0;36minner\u001b[1;34m(*args, **kwargs)\u001b[0m\n",
      "\u001b[1;31mValueError\u001b[0m: shapes (1,6) and (1,6) not aligned: 6 (dim 1) != 1 (dim 0)"
     ]
    }
   ],
   "source": [
    "np.inner(A,B)"
   ]
  },
  {
   "cell_type": "markdown",
   "metadata": {},
   "source": [
    "### 2차 텐서 닷 연산"
   ]
  },
  {
   "cell_type": "code",
   "execution_count": 566,
   "metadata": {},
   "outputs": [
    {
     "data": {
      "text/plain": [
       "array([[ 0,  1,  2,  3,  4,  5],\n",
       "       [ 6,  7,  8,  9, 10, 11],\n",
       "       [12, 13, 14, 15, 16, 17],\n",
       "       [18, 19, 20, 21, 22, 23],\n",
       "       [24, 25, 26, 27, 28, 29],\n",
       "       [30, 31, 32, 33, 34, 35],\n",
       "       [36, 37, 38, 39, 40, 41],\n",
       "       [42, 43, 44, 45, 46, 47],\n",
       "       [48, 49, 50, 51, 52, 53],\n",
       "       [54, 55, 56, 57, 58, 59]])"
      ]
     },
     "execution_count": 566,
     "metadata": {},
     "output_type": "execute_result"
    }
   ],
   "source": [
    "r=10\n",
    "c=6\n",
    "A = np.arange(r*c).reshape((r,c))\n",
    "A"
   ]
  },
  {
   "cell_type": "code",
   "execution_count": 567,
   "metadata": {},
   "outputs": [
    {
     "data": {
      "text/plain": [
       "array([[ 0,  1,  2,  3,  4,  5,  6,  7,  8,  9],\n",
       "       [10, 11, 12, 13, 14, 15, 16, 17, 18, 19],\n",
       "       [20, 21, 22, 23, 24, 25, 26, 27, 28, 29],\n",
       "       [30, 31, 32, 33, 34, 35, 36, 37, 38, 39],\n",
       "       [40, 41, 42, 43, 44, 45, 46, 47, 48, 49],\n",
       "       [50, 51, 52, 53, 54, 55, 56, 57, 58, 59]])"
      ]
     },
     "execution_count": 567,
     "metadata": {},
     "output_type": "execute_result"
    }
   ],
   "source": [
    "B =np.arange(c*r).reshape((c,r))\n",
    "B"
   ]
  },
  {
   "cell_type": "code",
   "execution_count": 568,
   "metadata": {},
   "outputs": [
    {
     "data": {
      "text/plain": [
       "array([[  550,   565,   580,   595,   610,   625,   640,   655,   670,\n",
       "          685],\n",
       "       [ 1450,  1501,  1552,  1603,  1654,  1705,  1756,  1807,  1858,\n",
       "         1909],\n",
       "       [ 2350,  2437,  2524,  2611,  2698,  2785,  2872,  2959,  3046,\n",
       "         3133],\n",
       "       [ 3250,  3373,  3496,  3619,  3742,  3865,  3988,  4111,  4234,\n",
       "         4357],\n",
       "       [ 4150,  4309,  4468,  4627,  4786,  4945,  5104,  5263,  5422,\n",
       "         5581],\n",
       "       [ 5050,  5245,  5440,  5635,  5830,  6025,  6220,  6415,  6610,\n",
       "         6805],\n",
       "       [ 5950,  6181,  6412,  6643,  6874,  7105,  7336,  7567,  7798,\n",
       "         8029],\n",
       "       [ 6850,  7117,  7384,  7651,  7918,  8185,  8452,  8719,  8986,\n",
       "         9253],\n",
       "       [ 7750,  8053,  8356,  8659,  8962,  9265,  9568,  9871, 10174,\n",
       "        10477],\n",
       "       [ 8650,  8989,  9328,  9667, 10006, 10345, 10684, 11023, 11362,\n",
       "        11701]])"
      ]
     },
     "execution_count": 568,
     "metadata": {},
     "output_type": "execute_result"
    }
   ],
   "source": [
    "np.dot(A,B)"
   ]
  },
  {
   "cell_type": "code",
   "execution_count": 569,
   "metadata": {},
   "outputs": [
    {
     "ename": "ValueError",
     "evalue": "shapes (10,6) and (10,6) not aligned: 6 (dim 1) != 10 (dim 0)",
     "output_type": "error",
     "traceback": [
      "\u001b[1;31m---------------------------------------------------------------------------\u001b[0m",
      "\u001b[1;31mValueError\u001b[0m                                Traceback (most recent call last)",
      "\u001b[1;32m<ipython-input-569-f2b9d151da4c>\u001b[0m in \u001b[0;36m<module>\u001b[1;34m\u001b[0m\n\u001b[1;32m----> 1\u001b[1;33m \u001b[0mnp\u001b[0m\u001b[1;33m.\u001b[0m\u001b[0minner\u001b[0m\u001b[1;33m(\u001b[0m\u001b[0mA\u001b[0m\u001b[1;33m,\u001b[0m\u001b[0mB\u001b[0m\u001b[1;33m)\u001b[0m\u001b[1;33m\u001b[0m\u001b[1;33m\u001b[0m\u001b[0m\n\u001b[0m",
      "\u001b[1;32m<__array_function__ internals>\u001b[0m in \u001b[0;36minner\u001b[1;34m(*args, **kwargs)\u001b[0m\n",
      "\u001b[1;31mValueError\u001b[0m: shapes (10,6) and (10,6) not aligned: 6 (dim 1) != 10 (dim 0)"
     ]
    }
   ],
   "source": [
    "np.inner(A,B)"
   ]
  },
  {
   "cell_type": "code",
   "execution_count": 570,
   "metadata": {},
   "outputs": [
    {
     "data": {
      "text/plain": [
       "array([[ 0,  1,  2,  3,  4,  5],\n",
       "       [ 6,  7,  8,  9, 10, 11],\n",
       "       [12, 13, 14, 15, 16, 17],\n",
       "       [18, 19, 20, 21, 22, 23],\n",
       "       [24, 25, 26, 27, 28, 29],\n",
       "       [30, 31, 32, 33, 34, 35],\n",
       "       [36, 37, 38, 39, 40, 41],\n",
       "       [42, 43, 44, 45, 46, 47],\n",
       "       [48, 49, 50, 51, 52, 53],\n",
       "       [54, 55, 56, 57, 58, 59]])"
      ]
     },
     "execution_count": 570,
     "metadata": {},
     "output_type": "execute_result"
    }
   ],
   "source": [
    "A"
   ]
  },
  {
   "cell_type": "code",
   "execution_count": 571,
   "metadata": {},
   "outputs": [
    {
     "data": {
      "text/plain": [
       "array([[ 0,  1,  2,  3,  4,  5],\n",
       "       [ 6,  7,  8,  9, 10, 11],\n",
       "       [12, 13, 14, 15, 16, 17],\n",
       "       [18, 19, 20, 21, 22, 23],\n",
       "       [24, 25, 26, 27, 28, 29],\n",
       "       [30, 31, 32, 33, 34, 35],\n",
       "       [36, 37, 38, 39, 40, 41],\n",
       "       [42, 43, 44, 45, 46, 47],\n",
       "       [48, 49, 50, 51, 52, 53],\n",
       "       [54, 55, 56, 57, 58, 59]])"
      ]
     },
     "execution_count": 571,
     "metadata": {},
     "output_type": "execute_result"
    }
   ],
   "source": [
    "C = np.arange(r*c).reshape((r,c))\n",
    "C"
   ]
  },
  {
   "cell_type": "code",
   "execution_count": 572,
   "metadata": {},
   "outputs": [
    {
     "data": {
      "text/plain": [
       "array([[   55,   145,   235,   325,   415,   505,   595,   685,   775,\n",
       "          865],\n",
       "       [  145,   451,   757,  1063,  1369,  1675,  1981,  2287,  2593,\n",
       "         2899],\n",
       "       [  235,   757,  1279,  1801,  2323,  2845,  3367,  3889,  4411,\n",
       "         4933],\n",
       "       [  325,  1063,  1801,  2539,  3277,  4015,  4753,  5491,  6229,\n",
       "         6967],\n",
       "       [  415,  1369,  2323,  3277,  4231,  5185,  6139,  7093,  8047,\n",
       "         9001],\n",
       "       [  505,  1675,  2845,  4015,  5185,  6355,  7525,  8695,  9865,\n",
       "        11035],\n",
       "       [  595,  1981,  3367,  4753,  6139,  7525,  8911, 10297, 11683,\n",
       "        13069],\n",
       "       [  685,  2287,  3889,  5491,  7093,  8695, 10297, 11899, 13501,\n",
       "        15103],\n",
       "       [  775,  2593,  4411,  6229,  8047,  9865, 11683, 13501, 15319,\n",
       "        17137],\n",
       "       [  865,  2899,  4933,  6967,  9001, 11035, 13069, 15103, 17137,\n",
       "        19171]])"
      ]
     },
     "execution_count": 572,
     "metadata": {},
     "output_type": "execute_result"
    }
   ],
   "source": [
    "np.inner(A,C)"
   ]
  },
  {
   "cell_type": "markdown",
   "metadata": {},
   "source": [
    "### 3차 텐서 닷 연산"
   ]
  },
  {
   "cell_type": "code",
   "execution_count": 616,
   "metadata": {},
   "outputs": [
    {
     "data": {
      "text/plain": [
       "array([ 0,  1,  2,  3,  4,  5,  6,  7,  8,  9, 10, 11, 12, 13, 14, 15, 16,\n",
       "       17, 18, 19, 20, 21, 22, 23, 24, 25, 26, 27, 28, 29])"
      ]
     },
     "execution_count": 616,
     "metadata": {},
     "output_type": "execute_result"
    }
   ],
   "source": [
    "np.arange(2*3*5)"
   ]
  },
  {
   "cell_type": "code",
   "execution_count": 633,
   "metadata": {},
   "outputs": [
    {
     "data": {
      "text/plain": [
       "array([ 0,  1,  2,  3,  4,  5,  6,  7,  8,  9, 10, 11, 12, 13, 14, 15, 16,\n",
       "       17, 18, 19, 20, 21, 22, 23, 24, 25, 26, 27, 28, 29])"
      ]
     },
     "execution_count": 633,
     "metadata": {},
     "output_type": "execute_result"
    }
   ],
   "source": [
    "n=2\n",
    "m=3\n",
    "l=5\n",
    "np.arange(n*m*l)"
   ]
  },
  {
   "cell_type": "code",
   "execution_count": null,
   "metadata": {},
   "outputs": [],
   "source": []
  },
  {
   "cell_type": "code",
   "execution_count": null,
   "metadata": {},
   "outputs": [],
   "source": []
  },
  {
   "cell_type": "code",
   "execution_count": null,
   "metadata": {},
   "outputs": [],
   "source": []
  },
  {
   "cell_type": "code",
   "execution_count": 634,
   "metadata": {},
   "outputs": [
    {
     "data": {
      "text/plain": [
       "array([[[ 0,  1,  2,  3,  4],\n",
       "        [ 5,  6,  7,  8,  9],\n",
       "        [10, 11, 12, 13, 14]],\n",
       "\n",
       "       [[15, 16, 17, 18, 19],\n",
       "        [20, 21, 22, 23, 24],\n",
       "        [25, 26, 27, 28, 29]]])"
      ]
     },
     "execution_count": 634,
     "metadata": {},
     "output_type": "execute_result"
    }
   ],
   "source": [
    "#A = np.arange(n*m*l).reshape((n,m,g ....l))\n",
    "#마지막 차원 값 .shape[-1]\n",
    "A = np.arange(n*m*l).reshape((n,m,l))\n",
    "A"
   ]
  },
  {
   "cell_type": "code",
   "execution_count": 635,
   "metadata": {},
   "outputs": [
    {
     "data": {
      "text/plain": [
       "array([[[ 0,  1,  2],\n",
       "        [ 3,  4,  5],\n",
       "        [ 6,  7,  8],\n",
       "        [ 9, 10, 11],\n",
       "        [12, 13, 14]],\n",
       "\n",
       "       [[15, 16, 17],\n",
       "        [18, 19, 20],\n",
       "        [21, 22, 23],\n",
       "        [24, 25, 26],\n",
       "        [27, 28, 29]]])"
      ]
     },
     "execution_count": 635,
     "metadata": {},
     "output_type": "execute_result"
    }
   ],
   "source": [
    "#B = np.arange(n*m*l).reshape((n,g ....l, m))\n",
    "# 마지막 차원값에서 두번째\n",
    "B =np.arange(n*m*l).reshape((n,l,m)) #A의 마지막 차원 값l과 B 마지막에서 두번째 차원값 l이 같아야 내적구할수 있다.\n",
    "B"
   ]
  },
  {
   "cell_type": "code",
   "execution_count": 636,
   "metadata": {},
   "outputs": [
    {
     "data": {
      "text/plain": [
       "910"
      ]
     },
     "execution_count": 636,
     "metadata": {},
     "output_type": "execute_result"
    }
   ],
   "source": [
    "s = 0\n",
    "for i in range(l):\n",
    "   s +=A[1][1][i] * B[0][i][2]\n",
    "s"
   ]
  },
  {
   "cell_type": "code",
   "execution_count": 637,
   "metadata": {},
   "outputs": [
    {
     "data": {
      "text/plain": [
       "910"
      ]
     },
     "execution_count": 637,
     "metadata": {},
     "output_type": "execute_result"
    }
   ],
   "source": [
    "C[1][1][0][2]"
   ]
  },
  {
   "cell_type": "code",
   "execution_count": 638,
   "metadata": {},
   "outputs": [
    {
     "data": {
      "text/plain": [
       "array([[[[  90,  100,  110],\n",
       "         [ 240,  250,  260]],\n",
       "\n",
       "        [[ 240,  275,  310],\n",
       "         [ 765,  800,  835]],\n",
       "\n",
       "        [[ 390,  450,  510],\n",
       "         [1290, 1350, 1410]]],\n",
       "\n",
       "\n",
       "       [[[ 540,  625,  710],\n",
       "         [1815, 1900, 1985]],\n",
       "\n",
       "        [[ 690,  800,  910],\n",
       "         [2340, 2450, 2560]],\n",
       "\n",
       "        [[ 840,  975, 1110],\n",
       "         [2865, 3000, 3135]]]])"
      ]
     },
     "execution_count": 638,
     "metadata": {},
     "output_type": "execute_result"
    }
   ],
   "source": [
    "A.dot(B)"
   ]
  },
  {
   "cell_type": "code",
   "execution_count": 639,
   "metadata": {},
   "outputs": [
    {
     "data": {
      "text/plain": [
       "array([[[[  90,  100,  110],\n",
       "         [ 240,  250,  260]],\n",
       "\n",
       "        [[ 240,  275,  310],\n",
       "         [ 765,  800,  835]],\n",
       "\n",
       "        [[ 390,  450,  510],\n",
       "         [1290, 1350, 1410]]],\n",
       "\n",
       "\n",
       "       [[[ 540,  625,  710],\n",
       "         [1815, 1900, 1985]],\n",
       "\n",
       "        [[ 690,  800,  910],\n",
       "         [2340, 2450, 2560]],\n",
       "\n",
       "        [[ 840,  975, 1110],\n",
       "         [2865, 3000, 3135]]]])"
      ]
     },
     "execution_count": 639,
     "metadata": {},
     "output_type": "execute_result"
    }
   ],
   "source": [
    "# dot은 모든 경우의 내적이다.\n",
    "C = np.dot(A,B)\n",
    "C"
   ]
  },
  {
   "cell_type": "code",
   "execution_count": 640,
   "metadata": {},
   "outputs": [
    {
     "data": {
      "text/plain": [
       "90"
      ]
     },
     "execution_count": 640,
     "metadata": {},
     "output_type": "execute_result"
    }
   ],
   "source": [
    "C[0][0][0][0]"
   ]
  },
  {
   "cell_type": "code",
   "execution_count": 641,
   "metadata": {},
   "outputs": [
    {
     "data": {
      "text/plain": [
       "(2, 3, 2, 3)"
      ]
     },
     "execution_count": 641,
     "metadata": {},
     "output_type": "execute_result"
    }
   ],
   "source": [
    "# (2,3,4) tensor와 (2,4,3) tensor의 내적은 4가 사라지고 앞 텐서는(2, 3), 뒤 텐서는 (2, 3) 만 남아 (2, 3, 2, 3) 텐서가 됨\n",
    "np.dot(A,B).shape"
   ]
  },
  {
   "cell_type": "markdown",
   "metadata": {},
   "source": [
    "### matmul 함수 처리"
   ]
  },
  {
   "cell_type": "code",
   "execution_count": 642,
   "metadata": {},
   "outputs": [
    {
     "data": {
      "text/plain": [
       "array([[[  90,  100,  110],\n",
       "        [ 240,  275,  310],\n",
       "        [ 390,  450,  510]],\n",
       "\n",
       "       [[1815, 1900, 1985],\n",
       "        [2340, 2450, 2560],\n",
       "        [2865, 3000, 3135]]])"
      ]
     },
     "execution_count": 642,
     "metadata": {},
     "output_type": "execute_result"
    }
   ],
   "source": [
    "np.matmul(A,B)"
   ]
  },
  {
   "cell_type": "code",
   "execution_count": 643,
   "metadata": {},
   "outputs": [
    {
     "data": {
      "text/plain": [
       "array([[ 90, 100, 110],\n",
       "       [240, 275, 310],\n",
       "       [390, 450, 510]])"
      ]
     },
     "execution_count": 643,
     "metadata": {},
     "output_type": "execute_result"
    }
   ],
   "source": [
    "# matmul은 같은 차원끼리의 내적이다.\n",
    "A1 = np.arange(m*l).reshape((m,l))\n",
    "B1 =np.arange(m*l).reshape((l,m))\n",
    "np.matmul(A1,B1)"
   ]
  },
  {
   "cell_type": "code",
   "execution_count": 645,
   "metadata": {},
   "outputs": [
    {
     "data": {
      "text/plain": [
       "array([[ 90, 100, 110],\n",
       "       [240, 275, 310],\n",
       "       [390, 450, 510]])"
      ]
     },
     "execution_count": 645,
     "metadata": {},
     "output_type": "execute_result"
    }
   ],
   "source": [
    "# n x m 행렬일 경우 즉 matrix가 1개일 경우 dot과 matmul의 결과는 동일하다.\n",
    "np.dot(A1,B1)"
   ]
  },
  {
   "cell_type": "markdown",
   "metadata": {},
   "source": [
    "Dot과 matmul의 내적 방식의 차이는 아래 그림과 같습니다.\n",
    "![dotmatmul](dotmatmul.jpg)"
   ]
  },
  {
   "cell_type": "code",
   "execution_count": 647,
   "metadata": {},
   "outputs": [
    {
     "data": {
      "text/plain": [
       "(2, 3, 4, 5, 13, 7, 22, 9, 6, 3)"
      ]
     },
     "execution_count": 647,
     "metadata": {},
     "output_type": "execute_result"
    }
   ],
   "source": [
    "# n차 텐서와 n차 텐서 간 dot 곱 결과의 차원은 2 * (n-1) 이다.\n",
    "x=100\n",
    "A = np.arange(2*3*4*5*13*x).reshape((2,3,4,5,13,x))\n",
    "B =np.arange(7*22*9*6*x*3).reshape((7,22,9,6,x,3))\n",
    "np.dot(A,B).shape"
   ]
  },
  {
   "cell_type": "markdown",
   "metadata": {},
   "source": [
    "### 외적"
   ]
  },
  {
   "cell_type": "markdown",
   "metadata": {},
   "source": [
    "두 벡터로 만들어지는 면의 시계 방향 수직 벡터로 외적의 크기는 두 벡터로 만들어지는 평행사변형 면적과 같다.\n",
    "![cross](cross.jpg)"
   ]
  },
  {
   "cell_type": "code",
   "execution_count": null,
   "metadata": {},
   "outputs": [],
   "source": []
  },
  {
   "cell_type": "code",
   "execution_count": 735,
   "metadata": {},
   "outputs": [
    {
     "data": {
      "text/plain": [
       "array([[0, 1, 2]])"
      ]
     },
     "execution_count": 735,
     "metadata": {},
     "output_type": "execute_result"
    }
   ],
   "source": [
    "n=1\n",
    "m=3\n",
    "\n",
    "A = np.arange(n*m).reshape((n,m))\n",
    "A"
   ]
  },
  {
   "cell_type": "code",
   "execution_count": 736,
   "metadata": {},
   "outputs": [
    {
     "data": {
      "text/plain": [
       "array([[0, 1, 2]])"
      ]
     },
     "execution_count": 736,
     "metadata": {},
     "output_type": "execute_result"
    }
   ],
   "source": [
    "B =np.arange(n*m).reshape((n,m))\n",
    "B"
   ]
  },
  {
   "cell_type": "code",
   "execution_count": 737,
   "metadata": {},
   "outputs": [
    {
     "data": {
      "text/plain": [
       "array([[  5, -10,   5]])"
      ]
     },
     "execution_count": 737,
     "metadata": {},
     "output_type": "execute_result"
    }
   ],
   "source": [
    "X=5\n",
    "Y=0\n",
    "np.cross(A+X,B+Y)"
   ]
  },
  {
   "cell_type": "code",
   "execution_count": 738,
   "metadata": {},
   "outputs": [
    {
     "data": {
      "text/plain": [
       "array([-3,  6, -3])"
      ]
     },
     "execution_count": 738,
     "metadata": {},
     "output_type": "execute_result"
    }
   ],
   "source": [
    "x = [1, 2, 3]\n",
    "y = [4, 5, 6]\n",
    "np.cross(x, y)"
   ]
  },
  {
   "cell_type": "code",
   "execution_count": 739,
   "metadata": {},
   "outputs": [
    {
     "data": {
      "text/plain": [
       "array([-3,  6, -3])"
      ]
     },
     "execution_count": 739,
     "metadata": {},
     "output_type": "execute_result"
    }
   ],
   "source": [
    "x = np.array([1, 2, 3])\n",
    "y = np.array([4, 5, 6])\n",
    "np.cross(x, y)"
   ]
  },
  {
   "cell_type": "code",
   "execution_count": 740,
   "metadata": {},
   "outputs": [
    {
     "data": {
      "text/plain": [
       "array([ 3, -6,  3])"
      ]
     },
     "execution_count": 740,
     "metadata": {},
     "output_type": "execute_result"
    }
   ],
   "source": [
    "x = [4, 5, 6]\n",
    "y = [1, 2, 3]\n",
    "np.cross(x, y)"
   ]
  },
  {
   "cell_type": "code",
   "execution_count": 741,
   "metadata": {},
   "outputs": [
    {
     "data": {
      "text/plain": [
       "array([[1, 2, 3],\n",
       "       [4, 5, 6]])"
      ]
     },
     "execution_count": 741,
     "metadata": {},
     "output_type": "execute_result"
    }
   ],
   "source": [
    "x = np.array([[1,2,3], [4,5,6]])\n",
    "x"
   ]
  },
  {
   "cell_type": "code",
   "execution_count": 742,
   "metadata": {},
   "outputs": [
    {
     "data": {
      "text/plain": [
       "array([[4, 5, 6],\n",
       "       [1, 2, 3]])"
      ]
     },
     "execution_count": 742,
     "metadata": {},
     "output_type": "execute_result"
    }
   ],
   "source": [
    "y = np.array([[4,5,6], [1,2,3]])\n",
    "y"
   ]
  },
  {
   "cell_type": "code",
   "execution_count": 743,
   "metadata": {},
   "outputs": [
    {
     "data": {
      "text/plain": [
       "array([[-3,  6, -3],\n",
       "       [ 3, -6,  3]])"
      ]
     },
     "execution_count": 743,
     "metadata": {},
     "output_type": "execute_result"
    }
   ],
   "source": [
    "np.cross(x, y)"
   ]
  },
  {
   "cell_type": "code",
   "execution_count": 744,
   "metadata": {},
   "outputs": [
    {
     "data": {
      "text/plain": [
       "array([[1, 2, 3],\n",
       "       [4, 5, 6],\n",
       "       [7, 8, 9]])"
      ]
     },
     "execution_count": 744,
     "metadata": {},
     "output_type": "execute_result"
    }
   ],
   "source": [
    "x = np.array([[1,2,3], [4,5,6], [7, 8, 9]])\n",
    "x"
   ]
  },
  {
   "cell_type": "code",
   "execution_count": 745,
   "metadata": {},
   "outputs": [
    {
     "data": {
      "text/plain": [
       "array([[7, 8, 9],\n",
       "       [4, 5, 6],\n",
       "       [1, 2, 3]])"
      ]
     },
     "execution_count": 745,
     "metadata": {},
     "output_type": "execute_result"
    }
   ],
   "source": [
    "y = np.array([[7, 8, 9], [4,5,6], [1,2,3]])\n",
    "y"
   ]
  },
  {
   "cell_type": "code",
   "execution_count": 746,
   "metadata": {},
   "outputs": [
    {
     "data": {
      "text/plain": [
       "array([[ -6,  12,  -6],\n",
       "       [  0,   0,   0],\n",
       "       [  6, -12,   6]])"
      ]
     },
     "execution_count": 746,
     "metadata": {},
     "output_type": "execute_result"
    }
   ],
   "source": [
    "np.cross(x, y)"
   ]
  },
  {
   "cell_type": "markdown",
   "metadata": {},
   "source": [
    "### 전치행렬\n",
    " 행렬의 행과 열을 바꿔 행렬의 축을 바꾸는 것"
   ]
  },
  {
   "cell_type": "code",
   "execution_count": 747,
   "metadata": {},
   "outputs": [
    {
     "data": {
      "text/plain": [
       "array([[0, 1, 2],\n",
       "       [3, 4, 5]])"
      ]
     },
     "execution_count": 747,
     "metadata": {},
     "output_type": "execute_result"
    }
   ],
   "source": [
    "A = np.arange(2*3).reshape(2,3)\n",
    "A"
   ]
  },
  {
   "cell_type": "code",
   "execution_count": 748,
   "metadata": {},
   "outputs": [
    {
     "data": {
      "text/plain": [
       "array([[0, 3],\n",
       "       [1, 4],\n",
       "       [2, 5]])"
      ]
     },
     "execution_count": 748,
     "metadata": {},
     "output_type": "execute_result"
    }
   ],
   "source": [
    "np.transpose(A)"
   ]
  },
  {
   "cell_type": "code",
   "execution_count": 749,
   "metadata": {},
   "outputs": [
    {
     "data": {
      "text/plain": [
       "array([[0, 3],\n",
       "       [1, 4],\n",
       "       [2, 5]])"
      ]
     },
     "execution_count": 749,
     "metadata": {},
     "output_type": "execute_result"
    }
   ],
   "source": [
    "A.T"
   ]
  },
  {
   "cell_type": "code",
   "execution_count": 750,
   "metadata": {},
   "outputs": [
    {
     "data": {
      "text/plain": [
       "((2, 3), (3, 2))"
      ]
     },
     "execution_count": 750,
     "metadata": {},
     "output_type": "execute_result"
    }
   ],
   "source": [
    "A.shape, A.T.shape"
   ]
  },
  {
   "cell_type": "code",
   "execution_count": 751,
   "metadata": {},
   "outputs": [
    {
     "data": {
      "text/plain": [
       "array([[[ 0,  1,  2,  3],\n",
       "        [ 4,  5,  6,  7],\n",
       "        [ 8,  9, 10, 11]],\n",
       "\n",
       "       [[12, 13, 14, 15],\n",
       "        [16, 17, 18, 19],\n",
       "        [20, 21, 22, 23]]])"
      ]
     },
     "execution_count": 751,
     "metadata": {},
     "output_type": "execute_result"
    }
   ],
   "source": [
    "A = np.arange(2*3*4).reshape(2,3,4)\n",
    "A"
   ]
  },
  {
   "cell_type": "code",
   "execution_count": 752,
   "metadata": {},
   "outputs": [
    {
     "data": {
      "text/plain": [
       "array([[[ 0, 12],\n",
       "        [ 4, 16],\n",
       "        [ 8, 20]],\n",
       "\n",
       "       [[ 1, 13],\n",
       "        [ 5, 17],\n",
       "        [ 9, 21]],\n",
       "\n",
       "       [[ 2, 14],\n",
       "        [ 6, 18],\n",
       "        [10, 22]],\n",
       "\n",
       "       [[ 3, 15],\n",
       "        [ 7, 19],\n",
       "        [11, 23]]])"
      ]
     },
     "execution_count": 752,
     "metadata": {},
     "output_type": "execute_result"
    }
   ],
   "source": [
    "np.transpose(A)"
   ]
  },
  {
   "cell_type": "code",
   "execution_count": 753,
   "metadata": {},
   "outputs": [
    {
     "data": {
      "text/plain": [
       "array([[[ 0, 12],\n",
       "        [ 4, 16],\n",
       "        [ 8, 20]],\n",
       "\n",
       "       [[ 1, 13],\n",
       "        [ 5, 17],\n",
       "        [ 9, 21]],\n",
       "\n",
       "       [[ 2, 14],\n",
       "        [ 6, 18],\n",
       "        [10, 22]],\n",
       "\n",
       "       [[ 3, 15],\n",
       "        [ 7, 19],\n",
       "        [11, 23]]])"
      ]
     },
     "execution_count": 753,
     "metadata": {},
     "output_type": "execute_result"
    }
   ],
   "source": [
    "A.T"
   ]
  },
  {
   "cell_type": "code",
   "execution_count": 754,
   "metadata": {},
   "outputs": [
    {
     "data": {
      "text/plain": [
       "((2, 3, 4), (4, 3, 2))"
      ]
     },
     "execution_count": 754,
     "metadata": {},
     "output_type": "execute_result"
    }
   ],
   "source": [
    "A.shape, A.T.shape"
   ]
  },
  {
   "cell_type": "code",
   "execution_count": null,
   "metadata": {},
   "outputs": [],
   "source": []
  },
  {
   "cell_type": "markdown",
   "metadata": {},
   "source": [
    "## 행렬식과 역행렬 구하기\n",
    "\n",
    "      행렬식이 0 이면 역행렬이 없습니다. "
   ]
  },
  {
   "cell_type": "markdown",
   "metadata": {},
   "source": [
    "#### 행렬식, 역행렬 등을 구하는 모듈은 linalg 에 정의되어 있습니다."
   ]
  },
  {
   "cell_type": "code",
   "execution_count": 5,
   "metadata": {},
   "outputs": [],
   "source": [
    "import numpy.linalg as LA "
   ]
  },
  {
   "cell_type": "code",
   "execution_count": 761,
   "metadata": {},
   "outputs": [
    {
     "data": {
      "text/plain": [
       "['LinAlgError',\n",
       " '__builtins__',\n",
       " '__cached__',\n",
       " '__doc__',\n",
       " '__file__',\n",
       " '__loader__',\n",
       " '__name__',\n",
       " '__package__',\n",
       " '__path__',\n",
       " '__spec__',\n",
       " '_umath_linalg',\n",
       " 'cholesky',\n",
       " 'cond',\n",
       " 'det',\n",
       " 'eig',\n",
       " 'eigh',\n",
       " 'eigvals',\n",
       " 'eigvalsh',\n",
       " 'inv',\n",
       " 'lapack_lite',\n",
       " 'linalg',\n",
       " 'lstsq',\n",
       " 'matrix_power',\n",
       " 'matrix_rank',\n",
       " 'multi_dot',\n",
       " 'norm',\n",
       " 'pinv',\n",
       " 'qr',\n",
       " 'slogdet',\n",
       " 'solve',\n",
       " 'svd',\n",
       " 'tensorinv',\n",
       " 'tensorsolve',\n",
       " 'test']"
      ]
     },
     "execution_count": 761,
     "metadata": {},
     "output_type": "execute_result"
    }
   ],
   "source": [
    "dir(LA)"
   ]
  },
  {
   "cell_type": "markdown",
   "metadata": {},
   "source": [
    "#### 행렬식 구하기\n",
    " 연립 방정식의 해답이 유일한지 아닌지를 판단하는 공식을 행렬식이라고 한다. 행렬식의 값이 0이라는 뜻은 연립 방정식의 해답이 무한함을 의미한다."
   ]
  },
  {
   "cell_type": "markdown",
   "metadata": {},
   "source": [
    "연립방정식의 해답이 무한한 경우의 예로 아래의 그림과 같은 연립방정식에서 ad - bc = 0 일 경우이다.\n",
    "해의 유일성 유무를 기하학적으로 표현하면 각 차원 공간의 방향성이 있는 부피를 의미한다. \n",
    "예를 들어 1차원에선 길이, 2차원에선 넓이, 3차원에선 부피로 각 차원에 해당하는 값이 행렬식의 값이 된다.  \n",
    "행렬식의 값이 0인 경우 역행렬은 존재하지 않는다.\n",
    "\n",
    "![det](det.jpg)"
   ]
  },
  {
   "cell_type": "code",
   "execution_count": 762,
   "metadata": {},
   "outputs": [
    {
     "data": {
      "text/plain": [
       "array([[1, 2],\n",
       "       [3, 4]])"
      ]
     },
     "execution_count": 762,
     "metadata": {},
     "output_type": "execute_result"
    }
   ],
   "source": [
    "A = np.arange(1,5).reshape(2,2)\n",
    "A"
   ]
  },
  {
   "cell_type": "code",
   "execution_count": 763,
   "metadata": {},
   "outputs": [
    {
     "data": {
      "text/plain": [
       "-2.0000000000000004"
      ]
     },
     "execution_count": 763,
     "metadata": {},
     "output_type": "execute_result"
    }
   ],
   "source": [
    "# 행렬식 값 구하기\n",
    "LA.det(A)"
   ]
  },
  {
   "cell_type": "markdown",
   "metadata": {},
   "source": [
    "#### 랭크는 이 행렬에 수직인 경우가 없다는 것을 알 수 있습니다"
   ]
  },
  {
   "cell_type": "code",
   "execution_count": 764,
   "metadata": {},
   "outputs": [
    {
     "data": {
      "text/plain": [
       "2"
      ]
     },
     "execution_count": 764,
     "metadata": {},
     "output_type": "execute_result"
    }
   ],
   "source": [
    "LA.matrix_rank(A)"
   ]
  },
  {
   "cell_type": "markdown",
   "metadata": {},
   "source": [
    "#### 역행렬 구하기"
   ]
  },
  {
   "cell_type": "markdown",
   "metadata": {},
   "source": [
    "행렬과 역행렬을 곱하면 단위행렬(I로 표기)이 나온다.\n",
    "해렬과 역행렬은 곱하는 순서가 바뀌어도 단위행렬이 나온다.\n",
    "어떤 실수 A의 역수는 1/A로 둘의 곱이 1이 나오는 것처럼 역행렬은 행렬의 역 값이다.\n",
    "2X2 행렬의 역행렬 공식에서 알 수 있듯이 행렬식 값이 0이면 역행렬은 존재하지 않는다.\n",
    "\n",
    "![inversematrix1](inversematrix1.jpg)"
   ]
  },
  {
   "cell_type": "code",
   "execution_count": 772,
   "metadata": {},
   "outputs": [
    {
     "data": {
      "text/plain": [
       "array([[-2. ,  1. ],\n",
       "       [ 1.5, -0.5]])"
      ]
     },
     "execution_count": 772,
     "metadata": {},
     "output_type": "execute_result"
    }
   ],
   "source": [
    "# 행렬식이 0이 아닐 때 역행렬이 존재함\n",
    "# 역행렬을 구하는 이유는 연립 방정식의 해를 구하기 위해서\n",
    "# m x m 행렬에서만 역행렬이 존재함\n",
    "LA.inv(A)"
   ]
  },
  {
   "cell_type": "code",
   "execution_count": 773,
   "metadata": {},
   "outputs": [
    {
     "data": {
      "text/plain": [
       "array([[-2. ,  1. ],\n",
       "       [ 1.5, -0.5]])"
      ]
     },
     "execution_count": 773,
     "metadata": {},
     "output_type": "execute_result"
    }
   ],
   "source": [
    "# 역행렬이 존재할 경우 무어-펜로즈 유사역행렬값과 같음.\n",
    "# 모든 행렬에는 유사역행렬이 반드시 하나가 존재하고 해를 구하기 위해선 일반적으로 유사역행렬을 사용한다.\n",
    "# 유사역행렬은 등가성 조건을 만족하지 않음. 왼쪽 유사역행렬 또는 오른쪽 유사역행렬 둘 중 하나만 만족한다.\n",
    "LA.pinv(A)"
   ]
  },
  {
   "cell_type": "markdown",
   "metadata": {},
   "source": [
    "### 정방행렬도 행렬식이 0이면 역행렬이 존재하지 않음"
   ]
  },
  {
   "cell_type": "code",
   "execution_count": 767,
   "metadata": {},
   "outputs": [
    {
     "data": {
      "text/plain": [
       "array([[ 1,  0,  1],\n",
       "       [-2, -3,  1],\n",
       "       [ 3,  3,  0]])"
      ]
     },
     "execution_count": 767,
     "metadata": {},
     "output_type": "execute_result"
    }
   ],
   "source": [
    "D = np.array([[1,0,1],[-2,-3,1],[3,3,0]])\n",
    "D"
   ]
  },
  {
   "cell_type": "code",
   "execution_count": 768,
   "metadata": {},
   "outputs": [
    {
     "data": {
      "text/plain": [
       "(3, 3)"
      ]
     },
     "execution_count": 768,
     "metadata": {},
     "output_type": "execute_result"
    }
   ],
   "source": [
    "D.shape"
   ]
  },
  {
   "cell_type": "code",
   "execution_count": 769,
   "metadata": {},
   "outputs": [
    {
     "data": {
      "text/plain": [
       "0.0"
      ]
     },
     "execution_count": 769,
     "metadata": {},
     "output_type": "execute_result"
    }
   ],
   "source": [
    "LA.det(D)"
   ]
  },
  {
   "cell_type": "code",
   "execution_count": 770,
   "metadata": {},
   "outputs": [
    {
     "name": "stdout",
     "output_type": "stream",
     "text": [
      "역행렬 없음\n"
     ]
    }
   ],
   "source": [
    "try :\n",
    "    LA.inv(D)\n",
    "except Exception as e :\n",
    "    print(\"역행렬 없음\")"
   ]
  },
  {
   "cell_type": "markdown",
   "metadata": {},
   "source": [
    "#### 역행렬이 없는 경우 무어-펜로즈 유사역행렬(의사 역행렬)을 사용한다. 정방행렬이 아니라도 의사 역행렬을 구할 수 있다."
   ]
  },
  {
   "cell_type": "markdown",
   "metadata": {},
   "source": [
    "![pinverse](pinverse.jpg)"
   ]
  },
  {
   "cell_type": "code",
   "execution_count": 774,
   "metadata": {},
   "outputs": [
    {
     "data": {
      "text/plain": [
       "array([[ 0.25925926,  0.07407407,  0.18518519],\n",
       "       [-0.14814815, -0.18518519,  0.03703704],\n",
       "       [ 0.40740741,  0.25925926,  0.14814815]])"
      ]
     },
     "execution_count": 774,
     "metadata": {},
     "output_type": "execute_result"
    }
   ],
   "source": [
    "LA.pinv(D)"
   ]
  },
  {
   "cell_type": "markdown",
   "metadata": {},
   "source": [
    "#### 정방행렬이 아니면 역행렬을 구할 수 없지만 의사 역행렬로 처리"
   ]
  },
  {
   "cell_type": "code",
   "execution_count": 818,
   "metadata": {},
   "outputs": [],
   "source": [
    "# B는 C의 의사 역행렬\n",
    "C = np.random.randn(5, 4)\n",
    "C_ = np.linalg.pinv(C)"
   ]
  },
  {
   "cell_type": "code",
   "execution_count": 819,
   "metadata": {},
   "outputs": [
    {
     "data": {
      "text/plain": [
       "array([[ 1.22137103,  0.32590997, -0.59378159,  0.64600366],\n",
       "       [ 2.69059332,  1.05246082,  0.23600181,  0.64502704],\n",
       "       [ 0.40325813, -0.8559462 , -0.08039358,  0.38364673],\n",
       "       [-1.87869064, -0.79310128,  1.18856664,  0.29141532],\n",
       "       [-0.19361898, -1.6364612 , -0.6656578 , -0.94259396]])"
      ]
     },
     "execution_count": 819,
     "metadata": {},
     "output_type": "execute_result"
    }
   ],
   "source": [
    "C"
   ]
  },
  {
   "cell_type": "code",
   "execution_count": 820,
   "metadata": {},
   "outputs": [
    {
     "data": {
      "text/plain": [
       "array([[-0.13807646,  0.41994531,  0.0761903 , -0.02648321,  0.21556549],\n",
       "       [-0.06160497, -0.10089445, -0.41754683, -0.23762082, -0.35467393],\n",
       "       [-0.63550506,  0.62077573, -0.07859883,  0.44912164,  0.09612334],\n",
       "       [ 0.78462241, -0.29665999,  0.53484828,  0.24464535, -0.43284658]])"
      ]
     },
     "execution_count": 820,
     "metadata": {},
     "output_type": "execute_result"
    }
   ],
   "source": [
    "C_"
   ]
  },
  {
   "cell_type": "code",
   "execution_count": 823,
   "metadata": {},
   "outputs": [
    {
     "data": {
      "text/plain": [
       "array([[ 0.69549989, -0.0802221 ,  0.34915843, -0.21842719, -0.18900307],\n",
       "       [-0.0802221 ,  0.97886508,  0.09198756, -0.05754575, -0.04979382],\n",
       "       [ 0.34915843,  0.09198756,  0.59963361,  0.25046196,  0.21672247],\n",
       "       [-0.21842719, -0.05754575,  0.25046196,  0.84331553, -0.13557765],\n",
       "       [-0.18900307, -0.04979382,  0.21672247, -0.13557765,  0.88268589]])"
      ]
     },
     "execution_count": 823,
     "metadata": {},
     "output_type": "execute_result"
    }
   ],
   "source": [
    "np.dot(C,C_)"
   ]
  },
  {
   "cell_type": "code",
   "execution_count": 825,
   "metadata": {},
   "outputs": [
    {
     "data": {
      "text/plain": [
       "array([[ 1.00000000e+00,  3.33066907e-16,  2.22044605e-16,\n",
       "         1.94289029e-16],\n",
       "       [ 1.38777878e-17,  1.00000000e+00,  2.77555756e-16,\n",
       "        -3.88578059e-16],\n",
       "       [-5.75928194e-16,  8.32667268e-17,  1.00000000e+00,\n",
       "         1.80411242e-16],\n",
       "       [ 8.60422844e-16, -9.99200722e-16,  0.00000000e+00,\n",
       "         1.00000000e+00]])"
      ]
     },
     "execution_count": 825,
     "metadata": {},
     "output_type": "execute_result"
    }
   ],
   "source": [
    "# identity 행렬이 됨 np.dot(C_,C) = I\n",
    "np.dot(C_,C)"
   ]
  },
  {
   "cell_type": "code",
   "execution_count": 822,
   "metadata": {},
   "outputs": [
    {
     "data": {
      "text/plain": [
       "(5, 4)"
      ]
     },
     "execution_count": 822,
     "metadata": {},
     "output_type": "execute_result"
    }
   ],
   "source": [
    "C.shape"
   ]
  },
  {
   "cell_type": "markdown",
   "metadata": {},
   "source": [
    "#### 행렬과 역행렬로 처리한 것이 원래 행렬과 동일한 지 확인 "
   ]
  },
  {
   "cell_type": "markdown",
   "metadata": {},
   "source": [
    "B는 C의 의사역행렬이다. C는 B의 의사역행렬인가? 아래의 식이 맞는지 확인해 보자.\n",
    "![pinverse2](pinverse2.jpg)"
   ]
  },
  {
   "cell_type": "code",
   "execution_count": 826,
   "metadata": {},
   "outputs": [
    {
     "data": {
      "text/plain": [
       "array([[ 1.00000000e+00,  3.33066907e-16,  2.22044605e-16,\n",
       "         1.94289029e-16],\n",
       "       [ 1.38777878e-17,  1.00000000e+00,  2.77555756e-16,\n",
       "        -3.88578059e-16],\n",
       "       [-5.75928194e-16,  8.32667268e-17,  1.00000000e+00,\n",
       "         1.80411242e-16],\n",
       "       [ 8.60422844e-16, -9.99200722e-16,  0.00000000e+00,\n",
       "         1.00000000e+00]])"
      ]
     },
     "execution_count": 826,
     "metadata": {},
     "output_type": "execute_result"
    }
   ],
   "source": [
    "# B와 C의 내적은 단위행렬이 나옴.\n",
    "I = np.dot(C_, C)\n",
    "I"
   ]
  },
  {
   "cell_type": "code",
   "execution_count": 827,
   "metadata": {},
   "outputs": [
    {
     "data": {
      "text/plain": [
       "array([[ 1.22137103,  0.32590997, -0.59378159,  0.64600366],\n",
       "       [ 2.69059332,  1.05246082,  0.23600181,  0.64502704],\n",
       "       [ 0.40325813, -0.8559462 , -0.08039358,  0.38364673],\n",
       "       [-1.87869064, -0.79310128,  1.18856664,  0.29141532],\n",
       "       [-0.19361898, -1.6364612 , -0.6656578 , -0.94259396]])"
      ]
     },
     "execution_count": 827,
     "metadata": {},
     "output_type": "execute_result"
    }
   ],
   "source": [
    "# C와 단위행렬의 내적은 C가 도출됨.\n",
    "np.dot(C, I)"
   ]
  },
  {
   "cell_type": "code",
   "execution_count": 828,
   "metadata": {},
   "outputs": [
    {
     "data": {
      "text/plain": [
       "array([[ 1.22137103,  0.32590997, -0.59378159,  0.64600366],\n",
       "       [ 2.69059332,  1.05246082,  0.23600181,  0.64502704],\n",
       "       [ 0.40325813, -0.8559462 , -0.08039358,  0.38364673],\n",
       "       [-1.87869064, -0.79310128,  1.18856664,  0.29141532],\n",
       "       [-0.19361898, -1.6364612 , -0.6656578 , -0.94259396]])"
      ]
     },
     "execution_count": 828,
     "metadata": {},
     "output_type": "execute_result"
    }
   ],
   "source": [
    "C"
   ]
  },
  {
   "cell_type": "code",
   "execution_count": 829,
   "metadata": {},
   "outputs": [
    {
     "data": {
      "text/plain": [
       "True"
      ]
     },
     "execution_count": 829,
     "metadata": {},
     "output_type": "execute_result"
    }
   ],
   "source": [
    "# C와 np.dot(C, np.dot(B, C))은 허용오차 범위 내에 같은 값\n",
    "np.allclose(C, np.dot(C, np.dot(C_, C)))"
   ]
  },
  {
   "cell_type": "code",
   "execution_count": 830,
   "metadata": {},
   "outputs": [
    {
     "data": {
      "text/plain": [
       "array([[-1.11022302e-15,  6.10622664e-16, -3.33066907e-16,\n",
       "         1.11022302e-16],\n",
       "       [-4.44089210e-16,  6.66133815e-16, -8.88178420e-16,\n",
       "         0.00000000e+00],\n",
       "       [-3.88578059e-16, -4.44089210e-16,  1.52655666e-16,\n",
       "        -2.77555756e-16],\n",
       "       [ 4.44089210e-16,  2.22044605e-16,  6.66133815e-16,\n",
       "        -1.11022302e-16],\n",
       "       [ 4.44089210e-16, -2.22044605e-15,  4.44089210e-16,\n",
       "        -6.66133815e-16]])"
      ]
     },
     "execution_count": 830,
     "metadata": {},
     "output_type": "execute_result"
    }
   ],
   "source": [
    "C - np.dot(C, np.dot(C_, C))"
   ]
  },
  {
   "cell_type": "code",
   "execution_count": 831,
   "metadata": {},
   "outputs": [
    {
     "data": {
      "text/plain": [
       "array([[ 2.66453526e-15, -3.33066907e-16,  2.22044605e-16,\n",
       "        -2.22044605e-16],\n",
       "       [ 1.33226763e-15, -1.33226763e-15,  6.66133815e-16,\n",
       "        -5.55111512e-16],\n",
       "       [-1.44328993e-15, -2.22044605e-16,  3.33066907e-16,\n",
       "         2.77555756e-16],\n",
       "       [-4.44089210e-16,  3.33066907e-16, -1.99840144e-15,\n",
       "         4.44089210e-16],\n",
       "       [-4.71844785e-16,  3.33066907e-15,  1.11022302e-16,\n",
       "         1.66533454e-15]])"
      ]
     },
     "execution_count": 831,
     "metadata": {},
     "output_type": "execute_result"
    }
   ],
   "source": [
    "# C의 의사역행렬인 B의 의사역행렬은 C임을 알수 있다.\n",
    "C - np.linalg.pinv(C_)"
   ]
  },
  {
   "cell_type": "code",
   "execution_count": 832,
   "metadata": {},
   "outputs": [
    {
     "data": {
      "text/plain": [
       "array([[ 0.69549989, -0.0802221 ,  0.34915843, -0.21842719, -0.18900307],\n",
       "       [-0.0802221 ,  0.97886508,  0.09198756, -0.05754575, -0.04979382],\n",
       "       [ 0.34915843,  0.09198756,  0.59963361,  0.25046196,  0.21672247],\n",
       "       [-0.21842719, -0.05754575,  0.25046196,  0.84331553, -0.13557765],\n",
       "       [-0.18900307, -0.04979382,  0.21672247, -0.13557765,  0.88268589]])"
      ]
     },
     "execution_count": 832,
     "metadata": {},
     "output_type": "execute_result"
    }
   ],
   "source": [
    "E = np.dot(C, C_)\n",
    "E"
   ]
  },
  {
   "cell_type": "code",
   "execution_count": 833,
   "metadata": {},
   "outputs": [
    {
     "data": {
      "text/plain": [
       "array([[-0.13807646,  0.41994531,  0.0761903 , -0.02648321,  0.21556549],\n",
       "       [-0.06160497, -0.10089445, -0.41754683, -0.23762082, -0.35467393],\n",
       "       [-0.63550506,  0.62077573, -0.07859883,  0.44912164,  0.09612334],\n",
       "       [ 0.78462241, -0.29665999,  0.53484828,  0.24464535, -0.43284658]])"
      ]
     },
     "execution_count": 833,
     "metadata": {},
     "output_type": "execute_result"
    }
   ],
   "source": [
    "np.dot(C_, E)"
   ]
  },
  {
   "cell_type": "code",
   "execution_count": 834,
   "metadata": {},
   "outputs": [
    {
     "data": {
      "text/plain": [
       "array([[-0.13807646,  0.41994531,  0.0761903 , -0.02648321,  0.21556549],\n",
       "       [-0.06160497, -0.10089445, -0.41754683, -0.23762082, -0.35467393],\n",
       "       [-0.63550506,  0.62077573, -0.07859883,  0.44912164,  0.09612334],\n",
       "       [ 0.78462241, -0.29665999,  0.53484828,  0.24464535, -0.43284658]])"
      ]
     },
     "execution_count": 834,
     "metadata": {},
     "output_type": "execute_result"
    }
   ],
   "source": [
    "C_"
   ]
  },
  {
   "cell_type": "code",
   "execution_count": 835,
   "metadata": {},
   "outputs": [
    {
     "data": {
      "text/plain": [
       "True"
      ]
     },
     "execution_count": 835,
     "metadata": {},
     "output_type": "execute_result"
    }
   ],
   "source": [
    "# B와 np.dot(B, np.dot(C, B))은 허용오차 범위 내에 같은 값\n",
    "np.allclose(C_, np.dot(C_, np.dot(C, C_)))"
   ]
  },
  {
   "cell_type": "code",
   "execution_count": 836,
   "metadata": {},
   "outputs": [
    {
     "ename": "ValueError",
     "evalue": "shapes (5,4) and (5,5) not aligned: 4 (dim 1) != 5 (dim 0)",
     "output_type": "error",
     "traceback": [
      "\u001b[1;31m---------------------------------------------------------------------------\u001b[0m",
      "\u001b[1;31mValueError\u001b[0m                                Traceback (most recent call last)",
      "\u001b[1;32m<ipython-input-836-3be69c6eb375>\u001b[0m in \u001b[0;36m<module>\u001b[1;34m\u001b[0m\n\u001b[0;32m      1\u001b[0m \u001b[1;31m# B 대신 C로 바꾸면 아래와 같이 내적을 할 수 없음.\u001b[0m\u001b[1;33m\u001b[0m\u001b[1;33m\u001b[0m\u001b[1;33m\u001b[0m\u001b[0m\n\u001b[1;32m----> 2\u001b[1;33m \u001b[0mnp\u001b[0m\u001b[1;33m.\u001b[0m\u001b[0mdot\u001b[0m\u001b[1;33m(\u001b[0m\u001b[0mC\u001b[0m\u001b[1;33m,\u001b[0m \u001b[0mnp\u001b[0m\u001b[1;33m.\u001b[0m\u001b[0mdot\u001b[0m\u001b[1;33m(\u001b[0m\u001b[0mC\u001b[0m\u001b[1;33m,\u001b[0m \u001b[0mC_\u001b[0m\u001b[1;33m)\u001b[0m\u001b[1;33m)\u001b[0m\u001b[1;33m\u001b[0m\u001b[1;33m\u001b[0m\u001b[0m\n\u001b[0m",
      "\u001b[1;32m<__array_function__ internals>\u001b[0m in \u001b[0;36mdot\u001b[1;34m(*args, **kwargs)\u001b[0m\n",
      "\u001b[1;31mValueError\u001b[0m: shapes (5,4) and (5,5) not aligned: 4 (dim 1) != 5 (dim 0)"
     ]
    }
   ],
   "source": [
    "# B 대신 C로 바꾸면 아래와 같이 내적을 할 수 없음. \n",
    "np.dot(C, np.dot(C, C_))"
   ]
  },
  {
   "cell_type": "code",
   "execution_count": 837,
   "metadata": {},
   "outputs": [
    {
     "ename": "ValueError",
     "evalue": "shapes (4,5) and (4,4) not aligned: 5 (dim 1) != 4 (dim 0)",
     "output_type": "error",
     "traceback": [
      "\u001b[1;31m---------------------------------------------------------------------------\u001b[0m",
      "\u001b[1;31mValueError\u001b[0m                                Traceback (most recent call last)",
      "\u001b[1;32m<ipython-input-837-b01bbd8dc530>\u001b[0m in \u001b[0;36m<module>\u001b[1;34m\u001b[0m\n\u001b[0;32m      1\u001b[0m \u001b[1;31m# 반대의 경우도 내적을 할 수 없음.\u001b[0m\u001b[1;33m\u001b[0m\u001b[1;33m\u001b[0m\u001b[1;33m\u001b[0m\u001b[0m\n\u001b[1;32m----> 2\u001b[1;33m \u001b[0mnp\u001b[0m\u001b[1;33m.\u001b[0m\u001b[0mdot\u001b[0m\u001b[1;33m(\u001b[0m\u001b[0mC_\u001b[0m\u001b[1;33m,\u001b[0m \u001b[0mnp\u001b[0m\u001b[1;33m.\u001b[0m\u001b[0mdot\u001b[0m\u001b[1;33m(\u001b[0m\u001b[0mC_\u001b[0m\u001b[1;33m,\u001b[0m \u001b[0mC\u001b[0m\u001b[1;33m)\u001b[0m\u001b[1;33m)\u001b[0m\u001b[1;33m\u001b[0m\u001b[1;33m\u001b[0m\u001b[0m\n\u001b[0m",
      "\u001b[1;32m<__array_function__ internals>\u001b[0m in \u001b[0;36mdot\u001b[1;34m(*args, **kwargs)\u001b[0m\n",
      "\u001b[1;31mValueError\u001b[0m: shapes (4,5) and (4,4) not aligned: 5 (dim 1) != 4 (dim 0)"
     ]
    }
   ],
   "source": [
    "# 반대의 경우도 내적을 할 수 없음.\n",
    "np.dot(C_, np.dot(C_, C))"
   ]
  },
  {
   "cell_type": "markdown",
   "metadata": {},
   "source": [
    "## 문제 풀이"
   ]
  },
  {
   "cell_type": "markdown",
   "metadata": {},
   "source": [
    "1. 아래와 같은 결과가 나오도록 코드를 작성하세요.\n",
    "```\n",
    "array([[[ 11,   9,  31],\n",
    "        [ 13,   9,   6]],\n",
    "\n",
    "       [[  2,   5, 192],\n",
    "        [  1, 199, 212]]])\n",
    "```"
   ]
  },
  {
   "cell_type": "code",
   "execution_count": 7,
   "metadata": {},
   "outputs": [
    {
     "data": {
      "text/plain": [
       "array([[[ 11,   9,  31],\n",
       "        [ 13,   9,   6]],\n",
       "\n",
       "       [[  2,   5, 192],\n",
       "        [  1, 199, 212]]])"
      ]
     },
     "execution_count": 7,
     "metadata": {},
     "output_type": "execute_result"
    }
   ],
   "source": [
    "#  code 작성해보세요.\n",
    "a = np.array([[[11, 9, 31], [13, 9, 6]], [[2, 5, 192], [1, 199, 212]]])\n",
    "a"
   ]
  },
  {
   "cell_type": "markdown",
   "metadata": {},
   "source": [
    "2. 위 array 값을 활용하여 3 보다 큰 값만 도출하는 논리검색을 통해 array를 도출해보세요.\n",
    "```\n",
    "array([ 11,   9,  31,  13,   9,   6,   5, 192, 199, 212])\n",
    "```"
   ]
  },
  {
   "cell_type": "code",
   "execution_count": 8,
   "metadata": {},
   "outputs": [
    {
     "data": {
      "text/plain": [
       "array([ 11,   9,  31,  13,   9,   6,   5, 192, 199, 212])"
      ]
     },
     "execution_count": 8,
     "metadata": {},
     "output_type": "execute_result"
    }
   ],
   "source": [
    "#  code 작성해보세요.\n",
    "a1 = a[a>3]\n",
    "a1"
   ]
  },
  {
   "cell_type": "markdown",
   "metadata": {},
   "source": [
    "3. 위 array를 활용하여 특정 index의 원소 값을 치환하여 아래 array를 도출해보세요.\n",
    "```\n",
    "array([  1,   2,   3,  13,   9,   6,   5, 192, 199, 212])\n",
    "```"
   ]
  },
  {
   "cell_type": "code",
   "execution_count": 9,
   "metadata": {},
   "outputs": [
    {
     "data": {
      "text/plain": [
       "array([  1,   2,   3,  13,   9,   6,   5, 192, 199, 212])"
      ]
     },
     "execution_count": 9,
     "metadata": {},
     "output_type": "execute_result"
    }
   ],
   "source": [
    "#  code 작성해보세요.\n",
    "a1[0] = 1\n",
    "a1[1] = 2\n",
    "a1[2] = 3\n",
    "a1"
   ]
  },
  {
   "cell_type": "markdown",
   "metadata": {},
   "source": [
    "4. 위 array를 활용하여 팬시검색을 통해 아래 array를 도출해보세요.\n",
    "```\n",
    "array([  2,   1,   6,   5, 212])\n",
    "```"
   ]
  },
  {
   "cell_type": "code",
   "execution_count": 11,
   "metadata": {},
   "outputs": [
    {
     "data": {
      "text/plain": [
       "array([  2,   1,   6,   5, 212])"
      ]
     },
     "execution_count": 11,
     "metadata": {},
     "output_type": "execute_result"
    }
   ],
   "source": [
    "#  code 작성해보세요.\n",
    "# index에서 -1은 마지막 index 값 도출\n",
    "a1[[1, 0, 5, 6, 9]]"
   ]
  },
  {
   "cell_type": "markdown",
   "metadata": {},
   "source": [
    "5. arange와 reshape을 활용하여 아래 array를 도출해보세요.\n",
    "```\n",
    "array([[ 0,  1,  2,  3,  4,  5],\n",
    "       [ 6,  7,  8,  9, 10, 11],\n",
    "       [12, 13, 14, 15, 16, 17]])\n",
    "```"
   ]
  },
  {
   "cell_type": "code",
   "execution_count": 12,
   "metadata": {},
   "outputs": [
    {
     "data": {
      "text/plain": [
       "array([[ 0,  1,  2,  3,  4,  5],\n",
       "       [ 6,  7,  8,  9, 10, 11],\n",
       "       [12, 13, 14, 15, 16, 17]])"
      ]
     },
     "execution_count": 12,
     "metadata": {},
     "output_type": "execute_result"
    }
   ],
   "source": [
    "#  code 작성해보세요.\n",
    "a2 = np.arange(18).reshape(3, 6)\n",
    "a2"
   ]
  },
  {
   "cell_type": "markdown",
   "metadata": {},
   "source": [
    "6. 위 array를 활용하여 아래 array를 도출해보세요.\n",
    "```\n",
    "array([[ 0,  2,  4,  6,  8, 10],\n",
    "       [12, 14, 16, 18, 20, 22],\n",
    "       [24, 26, 28, 30, 32, 34]])\n",
    "```"
   ]
  },
  {
   "cell_type": "code",
   "execution_count": 14,
   "metadata": {},
   "outputs": [
    {
     "data": {
      "text/plain": [
       "array([[ 0,  2,  4,  6,  8, 10],\n",
       "       [12, 14, 16, 18, 20, 22],\n",
       "       [24, 26, 28, 30, 32, 34]])"
      ]
     },
     "execution_count": 14,
     "metadata": {},
     "output_type": "execute_result"
    }
   ],
   "source": [
    "#  code 작성해보세요.\n",
    "# a2 + a2\n",
    "a2 * 2"
   ]
  },
  {
   "cell_type": "markdown",
   "metadata": {},
   "source": [
    "7. 아래 array를 도출해보세요.\n",
    "```\n",
    "array([[0., 0., 0., 0., 0.],\n",
    "       [0., 0., 0., 0., 0.],\n",
    "       [0., 0., 0., 0., 0.],\n",
    "       [0., 0., 0., 0., 0.],\n",
    "       [0., 0., 0., 0., 0.],\n",
    "       [0., 0., 0., 0., 0.]])\n",
    "```"
   ]
  },
  {
   "cell_type": "code",
   "execution_count": 929,
   "metadata": {},
   "outputs": [
    {
     "data": {
      "text/plain": [
       "array([[0., 0., 0., 0., 0.],\n",
       "       [0., 0., 0., 0., 0.],\n",
       "       [0., 0., 0., 0., 0.],\n",
       "       [0., 0., 0., 0., 0.],\n",
       "       [0., 0., 0., 0., 0.],\n",
       "       [0., 0., 0., 0., 0.]])"
      ]
     },
     "execution_count": 929,
     "metadata": {},
     "output_type": "execute_result"
    }
   ],
   "source": [
    "#  code 작성해보세요.\n",
    "z=np.zeros((6,5))\n",
    "z"
   ]
  },
  {
   "cell_type": "markdown",
   "metadata": {},
   "source": [
    "8. 위 array를 활용하여 아래 array를 도출해보세요.\n",
    "```\n",
    "array([[0., 1., 0., 0., 1.],\n",
    "       [1., 0., 1., 0., 1.],\n",
    "       [0., 1., 0., 0., 1.],\n",
    "       [1., 0., 1., 0., 1.],\n",
    "       [0., 1., 0., 0., 1.],\n",
    "       [1., 0., 1., 0., 1.]])\n",
    "```"
   ]
  },
  {
   "cell_type": "code",
   "execution_count": 922,
   "metadata": {},
   "outputs": [
    {
     "data": {
      "text/plain": [
       "array([[0., 1., 0., 0., 1.],\n",
       "       [1., 0., 1., 0., 1.],\n",
       "       [0., 1., 0., 0., 1.],\n",
       "       [1., 0., 1., 0., 1.],\n",
       "       [0., 1., 0., 0., 1.],\n",
       "       [1., 0., 1., 0., 1.]])"
      ]
     },
     "execution_count": 922,
     "metadata": {},
     "output_type": "execute_result"
    }
   ],
   "source": [
    "#  code 작성해보세요.\n",
    "z=np.zeros((6,5))\n",
    "\n",
    "z[0,1::3]=1\n",
    "z[1,::2]=1\n",
    "z[2,1::3]=1\n",
    "z[3,::2]=1\n",
    "z[4,1::3]=1\n",
    "\n",
    "z[5,0::2]=1\n",
    "z"
   ]
  },
  {
   "cell_type": "markdown",
   "metadata": {},
   "source": [
    "9. 아래 array를 도출해보세요.\n",
    "```\n",
    "array([[1., 1., 1., 1., 1., 1., 1.],\n",
    "       [1., 1., 1., 1., 1., 1., 1.],\n",
    "       [1., 1., 1., 1., 1., 1., 1.],\n",
    "       [1., 1., 1., 1., 1., 1., 1.],\n",
    "       [1., 1., 1., 1., 1., 1., 1.],\n",
    "       [1., 1., 1., 1., 1., 1., 1.],\n",
    "       [1., 1., 1., 1., 1., 1., 1.]])\n",
    "```"
   ]
  },
  {
   "cell_type": "code",
   "execution_count": 921,
   "metadata": {},
   "outputs": [
    {
     "data": {
      "text/plain": [
       "array([[1., 1., 1., 1., 1., 1., 1.],\n",
       "       [1., 1., 1., 1., 1., 1., 1.],\n",
       "       [1., 1., 1., 1., 1., 1., 1.],\n",
       "       [1., 1., 1., 1., 1., 1., 1.],\n",
       "       [1., 1., 1., 1., 1., 1., 1.],\n",
       "       [1., 1., 1., 1., 1., 1., 1.],\n",
       "       [1., 1., 1., 1., 1., 1., 1.]])"
      ]
     },
     "execution_count": 921,
     "metadata": {},
     "output_type": "execute_result"
    }
   ],
   "source": [
    "#  code 작성해보세요.\n",
    "o=np.ones((7,7))\n",
    "o"
   ]
  },
  {
   "cell_type": "markdown",
   "metadata": {},
   "source": [
    "10. 위 array를 활용하여 아래 array를 도출해보세요.\n",
    "```\n",
    "array([[1., 1., 1., 1., 1., 1., 1.],\n",
    "       [1., 0., 0., 0., 0., 0., 1.],\n",
    "       [1., 0., 0., 0., 0., 0., 1.],\n",
    "       [1., 0., 0., 0., 0., 0., 1.],\n",
    "       [1., 0., 0., 0., 0., 0., 1.],\n",
    "       [1., 0., 0., 0., 0., 0., 1.],\n",
    "       [1., 1., 1., 1., 1., 1., 1.]])\n",
    "```"
   ]
  },
  {
   "cell_type": "code",
   "execution_count": 920,
   "metadata": {},
   "outputs": [
    {
     "data": {
      "text/plain": [
       "array([[1., 1., 1., 1., 1., 1., 1.],\n",
       "       [1., 0., 0., 0., 0., 0., 1.],\n",
       "       [1., 0., 0., 0., 0., 0., 1.],\n",
       "       [1., 0., 0., 0., 0., 0., 1.],\n",
       "       [1., 0., 0., 0., 0., 0., 1.],\n",
       "       [1., 0., 0., 0., 0., 0., 1.],\n",
       "       [1., 1., 1., 1., 1., 1., 1.]])"
      ]
     },
     "execution_count": 920,
     "metadata": {},
     "output_type": "execute_result"
    }
   ],
   "source": [
    "#  code 작성해보세요.\n",
    "o[1:6,1:6]=0\n",
    "o"
   ]
  },
  {
   "cell_type": "markdown",
   "metadata": {},
   "source": [
    "11. 아래 두 array의 내적을 해 내적값을 도출해보세요.\n",
    "```\n",
    "array([2, 3, 4, 5, 6, 7])\n",
    "array([ 5,  6,  7,  8,  9, 10])\n",
    "내적값:220\n",
    "```"
   ]
  },
  {
   "cell_type": "code",
   "execution_count": 23,
   "metadata": {},
   "outputs": [
    {
     "data": {
      "text/plain": [
       "220"
      ]
     },
     "execution_count": 23,
     "metadata": {},
     "output_type": "execute_result"
    }
   ],
   "source": [
    "#  code 작성해보세요.\n",
    "d = np.array([2, 3, 4, 5, 6, 7])\n",
    "e = np.array([ 5,  6,  7,  8,  9, 10])\n",
    "#np.dot(d, e) 교차 내적값까지 필요한 경우\n",
    "#np.inner(d, e) sumproduct을 할 경우\n",
    "#np.matmul(d, e) 같은 차원 내적만 필요한 경우\n",
    "# d, e 모두 1차원 텐서이기 때문에 모두 동일하게 나온다.\n",
    "d.dot(e)"
   ]
  },
  {
   "cell_type": "markdown",
   "metadata": {},
   "source": [
    "12. arange와 reshape을 활용하여 아래 두 array를 도출하고 두 array의 내적을 해 내적값을 도출해보세요.\n",
    "```\n",
    "array([[ 0,  1,  2,  3,  4,  5,  6],\n",
    "       [ 7,  8,  9, 10, 11, 12, 13],\n",
    "       [14, 15, 16, 17, 18, 19, 20],\n",
    "       [21, 22, 23, 24, 25, 26, 27],\n",
    "       [28, 29, 30, 31, 32, 33, 34],\n",
    "       [35, 36, 37, 38, 39, 40, 41]])\n",
    "```\n",
    "```\n",
    "array([[ 0,  1,  2,  3,  4,  5],\n",
    "       [ 6,  7,  8,  9, 10, 11],\n",
    "       [12, 13, 14, 15, 16, 17],\n",
    "       [18, 19, 20, 21, 22, 23],\n",
    "       [24, 25, 26, 27, 28, 29],\n",
    "       [30, 31, 32, 33, 34, 35],\n",
    "       [36, 37, 38, 39, 40, 41]])\n",
    "```\n",
    "내적값\n",
    "\n",
    "```\n",
    "array([[ 546,  567,  588,  609,  630,  651],\n",
    "       [1428, 1498, 1568, 1638, 1708, 1778],\n",
    "       [2310, 2429, 2548, 2667, 2786, 2905],\n",
    "       [3192, 3360, 3528, 3696, 3864, 4032],\n",
    "       [4074, 4291, 4508, 4725, 4942, 5159],\n",
    "       [4956, 5222, 5488, 5754, 6020, 6286]])\n",
    "```"
   ]
  },
  {
   "cell_type": "code",
   "execution_count": 918,
   "metadata": {},
   "outputs": [
    {
     "data": {
      "text/plain": [
       "array([[ 546,  567,  588,  609,  630,  651],\n",
       "       [1428, 1498, 1568, 1638, 1708, 1778],\n",
       "       [2310, 2429, 2548, 2667, 2786, 2905],\n",
       "       [3192, 3360, 3528, 3696, 3864, 4032],\n",
       "       [4074, 4291, 4508, 4725, 4942, 5159],\n",
       "       [4956, 5222, 5488, 5754, 6020, 6286]])"
      ]
     },
     "execution_count": 918,
     "metadata": {},
     "output_type": "execute_result"
    }
   ],
   "source": [
    "#  code 작성해보세요.\n",
    "d1 = np.arange(42).reshape(6, 7)\n",
    "e1 = np.arange(42).reshape(7, 6)\n",
    "np.dot(d1,e1)"
   ]
  },
  {
   "cell_type": "markdown",
   "metadata": {},
   "source": [
    "13. arange와 reshape을 활용하여 아래 두 array를 도출하고 두 array의 내적을 해 내적값을 도출해보세요.\n",
    "```\n",
    "array([[[ 0,  1,  2,  3,  4],\n",
    "        [ 5,  6,  7,  8,  9],\n",
    "        [10, 11, 12, 13, 14]],\n",
    "\n",
    "       [[15, 16, 17, 18, 19],\n",
    "        [20, 21, 22, 23, 24],\n",
    "        [25, 26, 27, 28, 29]]])\n",
    "```\n",
    "```\n",
    "array([[[ 0,  1,  2],\n",
    "        [ 3,  4,  5],\n",
    "        [ 6,  7,  8],\n",
    "        [ 9, 10, 11],\n",
    "        [12, 13, 14]],\n",
    "\n",
    "       [[15, 16, 17],\n",
    "        [18, 19, 20],\n",
    "        [21, 22, 23],\n",
    "        [24, 25, 26],\n",
    "        [27, 28, 29]]])\n",
    "```\n",
    "내적값\n",
    "```\n",
    "array([[[[  90,  100,  110],\n",
    "         [ 240,  250,  260]],\n",
    "\n",
    "        [[ 240,  275,  310],\n",
    "         [ 765,  800,  835]],\n",
    "\n",
    "        [[ 390,  450,  510],\n",
    "         [1290, 1350, 1410]]],\n",
    "\n",
    "       [[[ 540,  625,  710],\n",
    "         [1815, 1900, 1985]],\n",
    "\n",
    "        [[ 690,  800,  910],\n",
    "         [2340, 2450, 2560]],\n",
    "\n",
    "        [[ 840,  975, 1110],\n",
    "         [2865, 3000, 3135]]]])\n",
    "```"
   ]
  },
  {
   "cell_type": "code",
   "execution_count": 24,
   "metadata": {},
   "outputs": [
    {
     "data": {
      "text/plain": [
       "array([[[[  90,  100,  110],\n",
       "         [ 240,  250,  260]],\n",
       "\n",
       "        [[ 240,  275,  310],\n",
       "         [ 765,  800,  835]],\n",
       "\n",
       "        [[ 390,  450,  510],\n",
       "         [1290, 1350, 1410]]],\n",
       "\n",
       "\n",
       "       [[[ 540,  625,  710],\n",
       "         [1815, 1900, 1985]],\n",
       "\n",
       "        [[ 690,  800,  910],\n",
       "         [2340, 2450, 2560]],\n",
       "\n",
       "        [[ 840,  975, 1110],\n",
       "         [2865, 3000, 3135]]]])"
      ]
     },
     "execution_count": 24,
     "metadata": {},
     "output_type": "execute_result"
    }
   ],
   "source": [
    "#  code 작성해보세요.\n",
    "d1 = np.arange(30).reshape(2, 3, 5)\n",
    "e1 = np.arange(30).reshape(2, 5, 3)\n",
    "np.dot(d1, e1)"
   ]
  },
  {
   "cell_type": "markdown",
   "metadata": {},
   "source": [
    "14. 위 두 array를 활용하여 matmul을 해보세요.\n",
    "\n",
    "matmul 결과\n",
    "```\n",
    "array([[[  90,  100,  110],\n",
    "        [ 240,  275,  310],\n",
    "        [ 390,  450,  510]],\n",
    "\n",
    "       [[1815, 1900, 1985],\n",
    "        [2340, 2450, 2560],\n",
    "        [2865, 3000, 3135]]])\n",
    "```"
   ]
  },
  {
   "cell_type": "code",
   "execution_count": 915,
   "metadata": {},
   "outputs": [
    {
     "data": {
      "text/plain": [
       "array([[[  90,  100,  110],\n",
       "        [ 240,  275,  310],\n",
       "        [ 390,  450,  510]],\n",
       "\n",
       "       [[1815, 1900, 1985],\n",
       "        [2340, 2450, 2560],\n",
       "        [2865, 3000, 3135]]])"
      ]
     },
     "execution_count": 915,
     "metadata": {},
     "output_type": "execute_result"
    }
   ],
   "source": [
    "#  code 작성해보세요.\n",
    "np.matmul(e1,d1)"
   ]
  },
  {
   "cell_type": "markdown",
   "metadata": {},
   "source": [
    "15. 아래 두 array를 외적을 해보세요.\n",
    "```\n",
    "array([[12,  0,  4],\n",
    "       [ 3,  9, 66],\n",
    "       [ 1,  7,  8]])\n",
    "```\n",
    "```\n",
    "array([[ 55,  21,   3],\n",
    "       [  8,  43,   7],\n",
    "       [109,  22,  76]])\n",
    "```\n",
    "\n",
    "외적값\n",
    "```\n",
    "array([[  -84,   184,   252],\n",
    "       [-2775,   507,    57],\n",
    "       [  356,   796,  -741]])\n",
    "```"
   ]
  },
  {
   "cell_type": "code",
   "execution_count": 914,
   "metadata": {},
   "outputs": [
    {
     "data": {
      "text/plain": [
       "array([[  -84,   184,   252],\n",
       "       [-2775,   507,    57],\n",
       "       [  356,   796,  -741]])"
      ]
     },
     "execution_count": 914,
     "metadata": {},
     "output_type": "execute_result"
    }
   ],
   "source": [
    "#  code 작성해보세요.\n",
    "x = np.array([[12,  0,  4],\n",
    "       [ 3,  9, 66],\n",
    "       [ 1,  7,  8]])\n",
    "y = np.array([[ 55,  21,   3],\n",
    "       [  8,  43,   7],\n",
    "       [109,  22,  76]])\n",
    "np.cross(x, y)"
   ]
  },
  {
   "cell_type": "markdown",
   "metadata": {},
   "source": [
    "16. arange와 reshape을 활용해 아래 array를 만들고 전치행렬을 도출해보세요.\n",
    "```\n",
    "array([[[ 0,  1,  2],\n",
    "        [ 3,  4,  5],\n",
    "        [ 6,  7,  8],\n",
    "        [ 9, 10, 11]],\n",
    "\n",
    "       [[12, 13, 14],\n",
    "        [15, 16, 17],\n",
    "        [18, 19, 20],\n",
    "        [21, 22, 23]]])\n",
    "```\n",
    "\n",
    "전치행렬\n",
    "```\n",
    "array([[[ 0, 12],\n",
    "        [ 3, 15],\n",
    "        [ 6, 18],\n",
    "        [ 9, 21]],\n",
    "\n",
    "       [[ 1, 13],\n",
    "        [ 4, 16],\n",
    "        [ 7, 19],\n",
    "        [10, 22]],\n",
    "\n",
    "       [[ 2, 14],\n",
    "        [ 5, 17],\n",
    "        [ 8, 20],\n",
    "        [11, 23]]])\n",
    "```"
   ]
  },
  {
   "cell_type": "code",
   "execution_count": 913,
   "metadata": {},
   "outputs": [
    {
     "data": {
      "text/plain": [
       "array([[[ 0, 12],\n",
       "        [ 3, 15],\n",
       "        [ 6, 18],\n",
       "        [ 9, 21]],\n",
       "\n",
       "       [[ 1, 13],\n",
       "        [ 4, 16],\n",
       "        [ 7, 19],\n",
       "        [10, 22]],\n",
       "\n",
       "       [[ 2, 14],\n",
       "        [ 5, 17],\n",
       "        [ 8, 20],\n",
       "        [11, 23]]])"
      ]
     },
     "execution_count": 913,
     "metadata": {},
     "output_type": "execute_result"
    }
   ],
   "source": [
    "#  code 작성해보세요.\n",
    "a4 = np.arange(24).reshape(2,4,3)\n",
    "a4.T"
   ]
  },
  {
   "cell_type": "markdown",
   "metadata": {},
   "source": [
    "17. 아래 행렬의 행렬식과 역행렬을 구하세요.\n",
    "```\n",
    "array([[0, 1],\n",
    "       [2, 3]])\n",
    "```\n",
    "행렬식 : -2\n",
    "\n",
    "역행렬\n",
    "```\n",
    "array([[-1.5,  0.5],\n",
    "       [ 1. ,  0. ]])\n",
    "```"
   ]
  },
  {
   "cell_type": "code",
   "execution_count": 912,
   "metadata": {},
   "outputs": [
    {
     "data": {
      "text/plain": [
       "-2.0"
      ]
     },
     "execution_count": 912,
     "metadata": {},
     "output_type": "execute_result"
    }
   ],
   "source": [
    "#  code 작성해보세요.\n",
    "a5 = np.array([[0, 1],\n",
    "       [2, 3]])\n",
    "\n",
    "LA.det(a5)"
   ]
  },
  {
   "cell_type": "code",
   "execution_count": 911,
   "metadata": {},
   "outputs": [
    {
     "data": {
      "text/plain": [
       "array([[-1.5,  0.5],\n",
       "       [ 1. ,  0. ]])"
      ]
     },
     "execution_count": 911,
     "metadata": {},
     "output_type": "execute_result"
    }
   ],
   "source": [
    "#  code 작성해보세요.\n",
    "LA.inv(a5)"
   ]
  },
  {
   "cell_type": "markdown",
   "metadata": {},
   "source": [
    "18. arange와 reshap을 활용하여 array를 만들고 의사역행렬을 도출하세요\n",
    "```\n",
    "array([[0, 1, 2, 3],\n",
    "       [4, 5, 6, 7]])\n",
    "```\n",
    "의사역행렬\n",
    "```\n",
    "array([[-0.475,  0.175],\n",
    "       [-0.2  ,  0.1  ],\n",
    "       [ 0.075,  0.025],\n",
    "       [ 0.35 , -0.05 ]])\n",
    "```"
   ]
  },
  {
   "cell_type": "code",
   "execution_count": 910,
   "metadata": {},
   "outputs": [
    {
     "data": {
      "text/plain": [
       "array([[-0.475,  0.175],\n",
       "       [-0.2  ,  0.1  ],\n",
       "       [ 0.075,  0.025],\n",
       "       [ 0.35 , -0.05 ]])"
      ]
     },
     "execution_count": 910,
     "metadata": {},
     "output_type": "execute_result"
    }
   ],
   "source": [
    "#  code 작성해보세요.\n",
    "a6 = np.array([[0, 1, 2, 3],\n",
    "   [4, 5, 6, 7]])\n",
    "LA.pinv(a6)"
   ]
  },
  {
   "cell_type": "code",
   "execution_count": null,
   "metadata": {},
   "outputs": [],
   "source": []
  }
 ],
 "metadata": {
  "kernelspec": {
   "display_name": "Python 3",
   "language": "python",
   "name": "python3"
  },
  "language_info": {
   "codemirror_mode": {
    "name": "ipython",
    "version": 3
   },
   "file_extension": ".py",
   "mimetype": "text/x-python",
   "name": "python",
   "nbconvert_exporter": "python",
   "pygments_lexer": "ipython3",
   "version": "3.8.8"
  }
 },
 "nbformat": 4,
 "nbformat_minor": 2
}
