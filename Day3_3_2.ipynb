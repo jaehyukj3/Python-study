{
 "cells": [
  {
   "cell_type": "code",
   "execution_count": 1,
   "id": "ce82b2c0",
   "metadata": {},
   "outputs": [],
   "source": [
    "three_list = []\n",
    "five_list = []"
   ]
  },
  {
   "cell_type": "code",
   "execution_count": 5,
   "id": "fef24a96",
   "metadata": {},
   "outputs": [],
   "source": [
    "count = 1000\n",
    "for data in range(1, count):\n",
    "    if data % 3 == 0:\n",
    "        three_list.append(data)\n",
    "    if data % 5 == 0:\n",
    "        if data % 15 == 0:\n",
    "            continue\n",
    "        five_list.append(data)"
   ]
  },
  {
   "cell_type": "code",
   "execution_count": 6,
   "id": "108b0b01",
   "metadata": {},
   "outputs": [
    {
     "name": "stdout",
     "output_type": "stream",
     "text": [
      "[3, 6, 9, 12, 15, 18, 21, 24, 27, 30, 33, 36, 39, 42, 45, 48, 51, 54, 57, 60, 63, 66, 69, 72, 75, 78, 81, 84, 87, 90, 93, 96, 99, 102, 105, 108, 111, 114, 117, 120, 123, 126, 129, 132, 135, 138, 141, 144, 147, 150, 153, 156, 159, 162, 165, 168, 171, 174, 177, 180, 183, 186, 189, 192, 195, 198, 201, 204, 207, 210, 213, 216, 219, 222, 225, 228, 231, 234, 237, 240, 243, 246, 249, 252, 255, 258, 261, 264, 267, 270, 273, 276, 279, 282, 285, 288, 291, 294, 297, 300, 303, 306, 309, 312, 315, 318, 321, 324, 327, 330, 333, 336, 339, 342, 345, 348, 351, 354, 357, 360, 363, 366, 369, 372, 375, 378, 381, 384, 387, 390, 393, 396, 399, 402, 405, 408, 411, 414, 417, 420, 423, 426, 429, 432, 435, 438, 441, 444, 447, 450, 453, 456, 459, 462, 465, 468, 471, 474, 477, 480, 483, 486, 489, 492, 495, 498, 501, 504, 507, 510, 513, 516, 519, 522, 525, 528, 531, 534, 537, 540, 543, 546, 549, 552, 555, 558, 561, 564, 567, 570, 573, 576, 579, 582, 585, 588, 591, 594, 597, 600, 603, 606, 609, 612, 615, 618, 621, 624, 627, 630, 633, 636, 639, 642, 645, 648, 651, 654, 657, 660, 663, 666, 669, 672, 675, 678, 681, 684, 687, 690, 693, 696, 699, 702, 705, 708, 711, 714, 717, 720, 723, 726, 729, 732, 735, 738, 741, 744, 747, 750, 753, 756, 759, 762, 765, 768, 771, 774, 777, 780, 783, 786, 789, 792, 795, 798, 801, 804, 807, 810, 813, 816, 819, 822, 825, 828, 831, 834, 837, 840, 843, 846, 849, 852, 855, 858, 861, 864, 867, 870, 873, 876, 879, 882, 885, 888, 891, 894, 897, 900, 903, 906, 909, 912, 915, 918, 921, 924, 927, 930, 933, 936, 939, 942, 945, 948, 951, 954, 957, 960, 963, 966, 969, 972, 975, 978, 981, 984, 987, 990, 993, 996, 999, 3, 6, 9, 12, 15, 18, 21, 24, 27, 30, 33, 36, 39, 42, 45, 48, 51, 54, 57, 60, 63, 66, 69, 72, 75, 78, 81, 84, 87, 90, 93, 96, 99, 102, 105, 108, 111, 114, 117, 120, 123, 126, 129, 132, 135, 138, 141, 144, 147, 150, 153, 156, 159, 162, 165, 168, 171, 174, 177, 180, 183, 186, 189, 192, 195, 198, 201, 204, 207, 210, 213, 216, 219, 222, 225, 228, 231, 234, 237, 240, 243, 246, 249, 252, 255, 258, 261, 264, 267, 270, 273, 276, 279, 282, 285, 288, 291, 294, 297, 300, 303, 306, 309, 312, 315, 318, 321, 324, 327, 330, 333, 336, 339, 342, 345, 348, 351, 354, 357, 360, 363, 366, 369, 372, 375, 378, 381, 384, 387, 390, 393, 396, 399, 402, 405, 408, 411, 414, 417, 420, 423, 426, 429, 432, 435, 438, 441, 444, 447, 450, 453, 456, 459, 462, 465, 468, 471, 474, 477, 480, 483, 486, 489, 492, 495, 498, 501, 504, 507, 510, 513, 516, 519, 522, 525, 528, 531, 534, 537, 540, 543, 546, 549, 552, 555, 558, 561, 564, 567, 570, 573, 576, 579, 582, 585, 588, 591, 594, 597, 600, 603, 606, 609, 612, 615, 618, 621, 624, 627, 630, 633, 636, 639, 642, 645, 648, 651, 654, 657, 660, 663, 666, 669, 672, 675, 678, 681, 684, 687, 690, 693, 696, 699, 702, 705, 708, 711, 714, 717, 720, 723, 726, 729, 732, 735, 738, 741, 744, 747, 750, 753, 756, 759, 762, 765, 768, 771, 774, 777, 780, 783, 786, 789, 792, 795, 798, 801, 804, 807, 810, 813, 816, 819, 822, 825, 828, 831, 834, 837, 840, 843, 846, 849, 852, 855, 858, 861, 864, 867, 870, 873, 876, 879, 882, 885, 888, 891, 894, 897, 900, 903, 906, 909, 912, 915, 918, 921, 924, 927, 930, 933, 936, 939, 942, 945, 948, 951, 954, 957, 960, 963, 966, 969, 972, 975, 978, 981, 984, 987, 990, 993, 996, 999, 5, 10, 20, 25, 35, 40, 50, 55, 65, 70, 80, 85, 95, 100, 110, 115, 125, 130, 140, 145, 155, 160, 170, 175, 185, 190, 200, 205, 215, 220, 230, 235, 245, 250, 260, 265, 275, 280, 290, 295, 305, 310, 320, 325, 335, 340, 350, 355, 365, 370, 380, 385, 395, 400, 410, 415, 425, 430, 440, 445, 455, 460, 470, 475, 485, 490, 500, 505, 515, 520, 530, 535, 545, 550, 560, 565, 575, 580, 590, 595, 605, 610, 620, 625, 635, 640, 650, 655, 665, 670, 680, 685, 695, 700, 710, 715, 725, 730, 740, 745, 755, 760, 770, 775, 785, 790, 800, 805, 815, 820, 830, 835, 845, 850, 860, 865, 875, 880, 890, 895, 905, 910, 920, 925, 935, 940, 950, 955, 965, 970, 980, 985, 995]\n"
     ]
    }
   ],
   "source": [
    "print(three_list + five_list)"
   ]
  },
  {
   "cell_type": "code",
   "execution_count": 7,
   "id": "dbd1006c",
   "metadata": {},
   "outputs": [
    {
     "data": {
      "text/plain": [
       "400001"
      ]
     },
     "execution_count": 7,
     "metadata": {},
     "output_type": "execute_result"
    }
   ],
   "source": [
    "sum(three_list + five_list)"
   ]
  },
  {
   "cell_type": "code",
   "execution_count": 12,
   "id": "7d4f4ab1",
   "metadata": {},
   "outputs": [],
   "source": [
    " five_set =set(five_list)"
   ]
  },
  {
   "cell_type": "code",
   "execution_count": 13,
   "id": "9361d819",
   "metadata": {},
   "outputs": [],
   "source": [
    "three_set=set(three_list)"
   ]
  },
  {
   "cell_type": "code",
   "execution_count": 28,
   "id": "36e4212b",
   "metadata": {},
   "outputs": [],
   "source": [
    "union = five_set | three_set"
   ]
  },
  {
   "cell_type": "code",
   "execution_count": 29,
   "id": "3bf594ba",
   "metadata": {},
   "outputs": [
    {
     "name": "stdout",
     "output_type": "stream",
     "text": [
      "{3, 5, 6, 9, 10, 12, 15, 18, 20, 21, 24, 25, 27, 30, 33, 35, 36, 39, 40, 42, 45, 48, 50, 51, 54, 55, 57, 60, 63, 65, 66, 69, 70, 72, 75, 78, 80, 81, 84, 85, 87, 90, 93, 95, 96, 99, 100, 102, 105, 108, 110, 111, 114, 115, 117, 120, 123, 125, 126, 129, 130, 132, 135, 138, 140, 141, 144, 145, 147, 150, 153, 155, 156, 159, 160, 162, 165, 168, 170, 171, 174, 175, 177, 180, 183, 185, 186, 189, 190, 192, 195, 198, 200, 201, 204, 205, 207, 210, 213, 215, 216, 219, 220, 222, 225, 228, 230, 231, 234, 235, 237, 240, 243, 245, 246, 249, 250, 252, 255, 258, 260, 261, 264, 265, 267, 270, 273, 275, 276, 279, 280, 282, 285, 288, 290, 291, 294, 295, 297, 300, 303, 305, 306, 309, 310, 312, 315, 318, 320, 321, 324, 325, 327, 330, 333, 335, 336, 339, 340, 342, 345, 348, 350, 351, 354, 355, 357, 360, 363, 365, 366, 369, 370, 372, 375, 378, 380, 381, 384, 385, 387, 390, 393, 395, 396, 399, 400, 402, 405, 408, 410, 411, 414, 415, 417, 420, 423, 425, 426, 429, 430, 432, 435, 438, 440, 441, 444, 445, 447, 450, 453, 455, 456, 459, 460, 462, 465, 468, 470, 471, 474, 475, 477, 480, 483, 485, 486, 489, 490, 492, 495, 498, 500, 501, 504, 505, 507, 510, 513, 515, 516, 519, 520, 522, 525, 528, 530, 531, 534, 535, 537, 540, 543, 545, 546, 549, 550, 552, 555, 558, 560, 561, 564, 565, 567, 570, 573, 575, 576, 579, 580, 582, 585, 588, 590, 591, 594, 595, 597, 600, 603, 605, 606, 609, 610, 612, 615, 618, 620, 621, 624, 625, 627, 630, 633, 635, 636, 639, 640, 642, 645, 648, 650, 651, 654, 655, 657, 660, 663, 665, 666, 669, 670, 672, 675, 678, 680, 681, 684, 685, 687, 690, 693, 695, 696, 699, 700, 702, 705, 708, 710, 711, 714, 715, 717, 720, 723, 725, 726, 729, 730, 732, 735, 738, 740, 741, 744, 745, 747, 750, 753, 755, 756, 759, 760, 762, 765, 768, 770, 771, 774, 775, 777, 780, 783, 785, 786, 789, 790, 792, 795, 798, 800, 801, 804, 805, 807, 810, 813, 815, 816, 819, 820, 822, 825, 828, 830, 831, 834, 835, 837, 840, 843, 845, 846, 849, 850, 852, 855, 858, 860, 861, 864, 865, 867, 870, 873, 875, 876, 879, 880, 882, 885, 888, 890, 891, 894, 895, 897, 900, 903, 905, 906, 909, 910, 912, 915, 918, 920, 921, 924, 925, 927, 930, 933, 935, 936, 939, 940, 942, 945, 948, 950, 951, 954, 955, 957, 960, 963, 965, 966, 969, 970, 972, 975, 978, 980, 981, 984, 985, 987, 990, 993, 995, 996, 999}\n"
     ]
    }
   ],
   "source": [
    "print(union)"
   ]
  },
  {
   "cell_type": "code",
   "execution_count": 30,
   "id": "b8faedae",
   "metadata": {},
   "outputs": [
    {
     "data": {
      "text/plain": [
       "233168"
      ]
     },
     "execution_count": 30,
     "metadata": {},
     "output_type": "execute_result"
    }
   ],
   "source": [
    "sum(union)"
   ]
  },
  {
   "cell_type": "code",
   "execution_count": 20,
   "id": "c32e9881",
   "metadata": {},
   "outputs": [
    {
     "name": "stdout",
     "output_type": "stream",
     "text": [
      "2520\n"
     ]
    }
   ],
   "source": [
    "target = 1\n",
    "is_loop = True\n",
    "\n",
    "range_value = 11\n",
    "\n",
    "while is_loop:\n",
    "    result=[]\n",
    "    for data in range(1, range_value):\n",
    "        if target % data == 0:\n",
    "            result.append(True)\n",
    "            \n",
    "    if len(result) == range_value - 1:\n",
    "        print(target)\n",
    "        is_loop == False\n",
    "        break\n",
    "        \n",
    "    target += 1"
   ]
  },
  {
   "cell_type": "code",
   "execution_count": 21,
   "id": "fd2657ae",
   "metadata": {},
   "outputs": [
    {
     "data": {
      "text/plain": [
       "10715086071862673209484250490600018105614048117055336074437503883703510511249361224931983788156958581275946729175531468251871452856923140435984577574698574803934567774824230985421074605062371141877954182153046474983581941267398767559165543946077062914571196477686542167660429831652624386837205668069376"
      ]
     },
     "execution_count": 21,
     "metadata": {},
     "output_type": "execute_result"
    }
   ],
   "source": [
    "2**1000"
   ]
  },
  {
   "cell_type": "code",
   "execution_count": 27,
   "id": "8dc9cad6",
   "metadata": {},
   "outputs": [
    {
     "name": "stdout",
     "output_type": "stream",
     "text": [
      "1366\n"
     ]
    }
   ],
   "source": [
    "N = str(2**1000)\n",
    "s = 0\n",
    "for data in N:\n",
    "    s += int(data)\n",
    "\n",
    "print(s)"
   ]
  },
  {
   "cell_type": "code",
   "execution_count": 32,
   "id": "b384618a",
   "metadata": {},
   "outputs": [],
   "source": [
    "from datetime import datetime"
   ]
  },
  {
   "cell_type": "code",
   "execution_count": 45,
   "id": "d0cd51b3",
   "metadata": {},
   "outputs": [],
   "source": [
    "a = datetime(1900, 1 ,8)"
   ]
  },
  {
   "cell_type": "code",
   "execution_count": 46,
   "id": "fff619fc",
   "metadata": {},
   "outputs": [
    {
     "data": {
      "text/plain": [
       "0"
      ]
     },
     "execution_count": 46,
     "metadata": {},
     "output_type": "execute_result"
    }
   ],
   "source": [
    "a.weekday()"
   ]
  },
  {
   "cell_type": "code",
   "execution_count": 38,
   "id": "caa197d5",
   "metadata": {},
   "outputs": [
    {
     "name": "stdout",
     "output_type": "stream",
     "text": [
      "['__add__', '__class__', '__delattr__', '__dir__', '__doc__', '__eq__', '__format__', '__ge__', '__getattribute__', '__gt__', '__hash__', '__init__', '__init_subclass__', '__le__', '__lt__', '__ne__', '__new__', '__radd__', '__reduce__', '__reduce_ex__', '__repr__', '__rsub__', '__setattr__', '__sizeof__', '__str__', '__sub__', '__subclasshook__', 'astimezone', 'combine', 'ctime', 'date', 'day', 'dst', 'fold', 'fromisocalendar', 'fromisoformat', 'fromordinal', 'fromtimestamp', 'hour', 'isocalendar', 'isoformat', 'isoweekday', 'max', 'microsecond', 'min', 'minute', 'month', 'now', 'replace', 'resolution', 'second', 'strftime', 'strptime', 'time', 'timestamp', 'timetuple', 'timetz', 'today', 'toordinal', 'tzinfo', 'tzname', 'utcfromtimestamp', 'utcnow', 'utcoffset', 'utctimetuple', 'weekday', 'year']\n"
     ]
    }
   ],
   "source": [
    "print(dir(a))"
   ]
  },
  {
   "cell_type": "code",
   "execution_count": 53,
   "id": "cdbe95c8",
   "metadata": {},
   "outputs": [
    {
     "name": "stdout",
     "output_type": "stream",
     "text": [
      "172\n"
     ]
    }
   ],
   "source": [
    "total = 0\n",
    "result = []\n",
    "for year in range(1901, 2001):\n",
    "    for month in range(1, 13):\n",
    "        if datetime(year, month, 1).weekday( ) == 0:\n",
    "            result.append(datetime(year, month, 1))\n",
    "            total += 1\n",
    "print(total)"
   ]
  },
  {
   "cell_type": "code",
   "execution_count": 54,
   "id": "d885c030",
   "metadata": {},
   "outputs": [
    {
     "name": "stdout",
     "output_type": "stream",
     "text": [
      "[datetime.datetime(1901, 4, 1, 0, 0), datetime.datetime(1901, 7, 1, 0, 0), datetime.datetime(1902, 9, 1, 0, 0), datetime.datetime(1902, 12, 1, 0, 0), datetime.datetime(1903, 6, 1, 0, 0), datetime.datetime(1904, 2, 1, 0, 0), datetime.datetime(1904, 8, 1, 0, 0), datetime.datetime(1905, 5, 1, 0, 0), datetime.datetime(1906, 1, 1, 0, 0), datetime.datetime(1906, 10, 1, 0, 0), datetime.datetime(1907, 4, 1, 0, 0), datetime.datetime(1907, 7, 1, 0, 0), datetime.datetime(1908, 6, 1, 0, 0), datetime.datetime(1909, 2, 1, 0, 0), datetime.datetime(1909, 3, 1, 0, 0), datetime.datetime(1909, 11, 1, 0, 0), datetime.datetime(1910, 8, 1, 0, 0), datetime.datetime(1911, 5, 1, 0, 0), datetime.datetime(1912, 1, 1, 0, 0), datetime.datetime(1912, 4, 1, 0, 0), datetime.datetime(1912, 7, 1, 0, 0), datetime.datetime(1913, 9, 1, 0, 0), datetime.datetime(1913, 12, 1, 0, 0), datetime.datetime(1914, 6, 1, 0, 0), datetime.datetime(1915, 2, 1, 0, 0), datetime.datetime(1915, 3, 1, 0, 0), datetime.datetime(1915, 11, 1, 0, 0), datetime.datetime(1916, 5, 1, 0, 0), datetime.datetime(1917, 1, 1, 0, 0), datetime.datetime(1917, 10, 1, 0, 0), datetime.datetime(1918, 4, 1, 0, 0), datetime.datetime(1918, 7, 1, 0, 0), datetime.datetime(1919, 9, 1, 0, 0), datetime.datetime(1919, 12, 1, 0, 0), datetime.datetime(1920, 3, 1, 0, 0), datetime.datetime(1920, 11, 1, 0, 0), datetime.datetime(1921, 8, 1, 0, 0), datetime.datetime(1922, 5, 1, 0, 0), datetime.datetime(1923, 1, 1, 0, 0), datetime.datetime(1923, 10, 1, 0, 0), datetime.datetime(1924, 9, 1, 0, 0), datetime.datetime(1924, 12, 1, 0, 0), datetime.datetime(1925, 6, 1, 0, 0), datetime.datetime(1926, 2, 1, 0, 0), datetime.datetime(1926, 3, 1, 0, 0), datetime.datetime(1926, 11, 1, 0, 0), datetime.datetime(1927, 8, 1, 0, 0), datetime.datetime(1928, 10, 1, 0, 0), datetime.datetime(1929, 4, 1, 0, 0), datetime.datetime(1929, 7, 1, 0, 0), datetime.datetime(1930, 9, 1, 0, 0), datetime.datetime(1930, 12, 1, 0, 0), datetime.datetime(1931, 6, 1, 0, 0), datetime.datetime(1932, 2, 1, 0, 0), datetime.datetime(1932, 8, 1, 0, 0), datetime.datetime(1933, 5, 1, 0, 0), datetime.datetime(1934, 1, 1, 0, 0), datetime.datetime(1934, 10, 1, 0, 0), datetime.datetime(1935, 4, 1, 0, 0), datetime.datetime(1935, 7, 1, 0, 0), datetime.datetime(1936, 6, 1, 0, 0), datetime.datetime(1937, 2, 1, 0, 0), datetime.datetime(1937, 3, 1, 0, 0), datetime.datetime(1937, 11, 1, 0, 0), datetime.datetime(1938, 8, 1, 0, 0), datetime.datetime(1939, 5, 1, 0, 0), datetime.datetime(1940, 1, 1, 0, 0), datetime.datetime(1940, 4, 1, 0, 0), datetime.datetime(1940, 7, 1, 0, 0), datetime.datetime(1941, 9, 1, 0, 0), datetime.datetime(1941, 12, 1, 0, 0), datetime.datetime(1942, 6, 1, 0, 0), datetime.datetime(1943, 2, 1, 0, 0), datetime.datetime(1943, 3, 1, 0, 0), datetime.datetime(1943, 11, 1, 0, 0), datetime.datetime(1944, 5, 1, 0, 0), datetime.datetime(1945, 1, 1, 0, 0), datetime.datetime(1945, 10, 1, 0, 0), datetime.datetime(1946, 4, 1, 0, 0), datetime.datetime(1946, 7, 1, 0, 0), datetime.datetime(1947, 9, 1, 0, 0), datetime.datetime(1947, 12, 1, 0, 0), datetime.datetime(1948, 3, 1, 0, 0), datetime.datetime(1948, 11, 1, 0, 0), datetime.datetime(1949, 8, 1, 0, 0), datetime.datetime(1950, 5, 1, 0, 0), datetime.datetime(1951, 1, 1, 0, 0), datetime.datetime(1951, 10, 1, 0, 0), datetime.datetime(1952, 9, 1, 0, 0), datetime.datetime(1952, 12, 1, 0, 0), datetime.datetime(1953, 6, 1, 0, 0), datetime.datetime(1954, 2, 1, 0, 0), datetime.datetime(1954, 3, 1, 0, 0), datetime.datetime(1954, 11, 1, 0, 0), datetime.datetime(1955, 8, 1, 0, 0), datetime.datetime(1956, 10, 1, 0, 0), datetime.datetime(1957, 4, 1, 0, 0), datetime.datetime(1957, 7, 1, 0, 0), datetime.datetime(1958, 9, 1, 0, 0), datetime.datetime(1958, 12, 1, 0, 0), datetime.datetime(1959, 6, 1, 0, 0), datetime.datetime(1960, 2, 1, 0, 0), datetime.datetime(1960, 8, 1, 0, 0), datetime.datetime(1961, 5, 1, 0, 0), datetime.datetime(1962, 1, 1, 0, 0), datetime.datetime(1962, 10, 1, 0, 0), datetime.datetime(1963, 4, 1, 0, 0), datetime.datetime(1963, 7, 1, 0, 0), datetime.datetime(1964, 6, 1, 0, 0), datetime.datetime(1965, 2, 1, 0, 0), datetime.datetime(1965, 3, 1, 0, 0), datetime.datetime(1965, 11, 1, 0, 0), datetime.datetime(1966, 8, 1, 0, 0), datetime.datetime(1967, 5, 1, 0, 0), datetime.datetime(1968, 1, 1, 0, 0), datetime.datetime(1968, 4, 1, 0, 0), datetime.datetime(1968, 7, 1, 0, 0), datetime.datetime(1969, 9, 1, 0, 0), datetime.datetime(1969, 12, 1, 0, 0), datetime.datetime(1970, 6, 1, 0, 0), datetime.datetime(1971, 2, 1, 0, 0), datetime.datetime(1971, 3, 1, 0, 0), datetime.datetime(1971, 11, 1, 0, 0), datetime.datetime(1972, 5, 1, 0, 0), datetime.datetime(1973, 1, 1, 0, 0), datetime.datetime(1973, 10, 1, 0, 0), datetime.datetime(1974, 4, 1, 0, 0), datetime.datetime(1974, 7, 1, 0, 0), datetime.datetime(1975, 9, 1, 0, 0), datetime.datetime(1975, 12, 1, 0, 0), datetime.datetime(1976, 3, 1, 0, 0), datetime.datetime(1976, 11, 1, 0, 0), datetime.datetime(1977, 8, 1, 0, 0), datetime.datetime(1978, 5, 1, 0, 0), datetime.datetime(1979, 1, 1, 0, 0), datetime.datetime(1979, 10, 1, 0, 0), datetime.datetime(1980, 9, 1, 0, 0), datetime.datetime(1980, 12, 1, 0, 0), datetime.datetime(1981, 6, 1, 0, 0), datetime.datetime(1982, 2, 1, 0, 0), datetime.datetime(1982, 3, 1, 0, 0), datetime.datetime(1982, 11, 1, 0, 0), datetime.datetime(1983, 8, 1, 0, 0), datetime.datetime(1984, 10, 1, 0, 0), datetime.datetime(1985, 4, 1, 0, 0), datetime.datetime(1985, 7, 1, 0, 0), datetime.datetime(1986, 9, 1, 0, 0), datetime.datetime(1986, 12, 1, 0, 0), datetime.datetime(1987, 6, 1, 0, 0), datetime.datetime(1988, 2, 1, 0, 0), datetime.datetime(1988, 8, 1, 0, 0), datetime.datetime(1989, 5, 1, 0, 0), datetime.datetime(1990, 1, 1, 0, 0), datetime.datetime(1990, 10, 1, 0, 0), datetime.datetime(1991, 4, 1, 0, 0), datetime.datetime(1991, 7, 1, 0, 0), datetime.datetime(1992, 6, 1, 0, 0), datetime.datetime(1993, 2, 1, 0, 0), datetime.datetime(1993, 3, 1, 0, 0), datetime.datetime(1993, 11, 1, 0, 0), datetime.datetime(1994, 8, 1, 0, 0), datetime.datetime(1995, 5, 1, 0, 0), datetime.datetime(1996, 1, 1, 0, 0), datetime.datetime(1996, 4, 1, 0, 0), datetime.datetime(1996, 7, 1, 0, 0), datetime.datetime(1997, 9, 1, 0, 0), datetime.datetime(1997, 12, 1, 0, 0), datetime.datetime(1998, 6, 1, 0, 0), datetime.datetime(1999, 2, 1, 0, 0), datetime.datetime(1999, 3, 1, 0, 0), datetime.datetime(1999, 11, 1, 0, 0), datetime.datetime(2000, 5, 1, 0, 0)]\n"
     ]
    }
   ],
   "source": [
    "print(result)"
   ]
  },
  {
   "cell_type": "code",
   "execution_count": 55,
   "id": "3c28ad43",
   "metadata": {},
   "outputs": [
    {
     "ename": "SyntaxError",
     "evalue": "unexpected EOF while parsing (<ipython-input-55-bcbd4c5dc844>, line 5)",
     "output_type": "error",
     "traceback": [
      "\u001b[1;36m  File \u001b[1;32m\"<ipython-input-55-bcbd4c5dc844>\"\u001b[1;36m, line \u001b[1;32m5\u001b[0m\n\u001b[1;33m    while is_loop:\u001b[0m\n\u001b[1;37m                  ^\u001b[0m\n\u001b[1;31mSyntaxError\u001b[0m\u001b[1;31m:\u001b[0m unexpected EOF while parsing\n"
     ]
    }
   ],
   "source": []
  },
  {
   "cell_type": "code",
   "execution_count": null,
   "id": "4f7a163f",
   "metadata": {},
   "outputs": [],
   "source": [
    "count = 2\n",
    "count_result = []\n",
    "while True:\n",
    "    result = []\n",
    "    for data in range(1, count + 1):\n",
    "        if len(result) >= 3:\n",
    "            break\n",
    "            \n",
    "        if count % data == 0:\n",
    "            result.append(True)\n",
    "            \n",
    "    if len(result) == 2:\n",
    "        count_result.append(count)\n",
    "        if len(count_result) == 6:\n",
    "            break\n",
    "    count += 1\n",
    "    \n",
    "print(count_result[len(count_result) - 1])"
   ]
  },
  {
   "cell_type": "code",
   "execution_count": null,
   "id": "a989d105",
   "metadata": {},
   "outputs": [],
   "source": []
  }
 ],
 "metadata": {
  "kernelspec": {
   "display_name": "Python 3",
   "language": "python",
   "name": "python3"
  },
  "language_info": {
   "codemirror_mode": {
    "name": "ipython",
    "version": 3
   },
   "file_extension": ".py",
   "mimetype": "text/x-python",
   "name": "python",
   "nbconvert_exporter": "python",
   "pygments_lexer": "ipython3",
   "version": "3.8.8"
  }
 },
 "nbformat": 4,
 "nbformat_minor": 5
}
