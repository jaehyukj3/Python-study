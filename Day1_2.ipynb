{
 "cells": [
  {
   "cell_type": "markdown",
   "id": "3a5288e0",
   "metadata": {},
   "source": [
    "# 1.순환문\n",
    "#### 특정한 행위(것)를 여러 번 행하는 문장.\n",
    "#### for와 while"
   ]
  },
  {
   "cell_type": "markdown",
   "id": "6a225a9f",
   "metadata": {},
   "source": [
    "### for 문\n",
    "- 반복되는 클래스의 객체르 가져와서 그 내부의 원소를 읽음."
   ]
  },
  {
   "cell_type": "code",
   "execution_count": 2,
   "id": "0d5ee9cc",
   "metadata": {},
   "outputs": [
    {
     "data": {
      "text/plain": [
       "range(0, 10)"
      ]
     },
     "execution_count": 2,
     "metadata": {},
     "output_type": "execute_result"
    }
   ],
   "source": [
    "range(0, 10)"
   ]
  },
  {
   "cell_type": "code",
   "execution_count": 4,
   "id": "a61da074",
   "metadata": {},
   "outputs": [
    {
     "name": "stdout",
     "output_type": "stream",
     "text": [
      "1\n",
      "2\n",
      "3\n",
      "4\n",
      "5\n",
      "6\n",
      "7\n",
      "8\n",
      "9\n"
     ]
    }
   ],
   "source": [
    "for data in range(1, 10):\n",
    "    print(data)"
   ]
  },
  {
   "cell_type": "markdown",
   "id": "241be0fc",
   "metadata": {},
   "source": [
    "### range\n",
    "- 범위 : 첫 인덱스 ~ 마지막 인덱스 - 1"
   ]
  },
  {
   "cell_type": "code",
   "execution_count": 5,
   "id": "e97ea7ed",
   "metadata": {},
   "outputs": [],
   "source": [
    "a = range(10)"
   ]
  },
  {
   "cell_type": "code",
   "execution_count": 6,
   "id": "1dd15b7e",
   "metadata": {},
   "outputs": [
    {
     "data": {
      "text/plain": [
       "range"
      ]
     },
     "execution_count": 6,
     "metadata": {},
     "output_type": "execute_result"
    }
   ],
   "source": [
    "type(a)"
   ]
  },
  {
   "cell_type": "code",
   "execution_count": 7,
   "id": "dcce3814",
   "metadata": {},
   "outputs": [
    {
     "data": {
      "text/plain": [
       "range"
      ]
     },
     "execution_count": 7,
     "metadata": {},
     "output_type": "execute_result"
    }
   ],
   "source": [
    "a.__class__"
   ]
  },
  {
   "cell_type": "code",
   "execution_count": 9,
   "id": "3ce1663c",
   "metadata": {},
   "outputs": [
    {
     "name": "stdout",
     "output_type": "stream",
     "text": [
      "1\n",
      "2\n",
      "7\n",
      "4\n"
     ]
    }
   ],
   "source": [
    "for data in [1, 2, 7, 4]:\n",
    "    print(data)"
   ]
  },
  {
   "cell_type": "code",
   "execution_count": 10,
   "id": "8d0002fb",
   "metadata": {},
   "outputs": [
    {
     "name": "stdout",
     "output_type": "stream",
     "text": [
      "a\n",
      "b\n",
      "c\n"
     ]
    }
   ],
   "source": [
    "for data in \"abc\":\n",
    "    print(data)"
   ]
  },
  {
   "cell_type": "code",
   "execution_count": 13,
   "id": "f16ecfaf",
   "metadata": {},
   "outputs": [
    {
     "name": "stdout",
     "output_type": "stream",
     "text": [
      "a\n",
      "1\n",
      "b\n",
      "2\n"
     ]
    }
   ],
   "source": [
    "dict_data = {'a': 1, 'b': 2}\n",
    "for data in dict_data:\n",
    "    print(data)\n",
    "    print(dict_data[data])"
   ]
  },
  {
   "cell_type": "code",
   "execution_count": 25,
   "id": "adaf06ca",
   "metadata": {},
   "outputs": [
    {
     "name": "stdout",
     "output_type": "stream",
     "text": [
      "a\n",
      "1\n",
      "a : 1\n",
      "b\n",
      "2\n",
      "b : 2\n"
     ]
    }
   ],
   "source": [
    "for data in dict_data:\n",
    "    print(data)\n",
    "    print(dict_data[data])\n",
    "    print(f\"{data} : {dict_data[data]}\")"
   ]
  },
  {
   "cell_type": "code",
   "execution_count": 14,
   "id": "d8654725",
   "metadata": {},
   "outputs": [
    {
     "name": "stdout",
     "output_type": "stream",
     "text": [
      "['__class__', '__contains__', '__delattr__', '__delitem__', '__dir__', '__doc__', '__eq__', '__format__', '__ge__', '__getattribute__', '__getitem__', '__gt__', '__hash__', '__init__', '__init_subclass__', '__iter__', '__le__', '__len__', '__lt__', '__ne__', '__new__', '__reduce__', '__reduce_ex__', '__repr__', '__reversed__', '__setattr__', '__setitem__', '__sizeof__', '__str__', '__subclasshook__', 'clear', 'copy', 'fromkeys', 'get', 'items', 'keys', 'pop', 'popitem', 'setdefault', 'update', 'values']\n"
     ]
    }
   ],
   "source": [
    "print(dir(dict_data))"
   ]
  },
  {
   "cell_type": "code",
   "execution_count": 17,
   "id": "413e5c90",
   "metadata": {},
   "outputs": [
    {
     "name": "stdout",
     "output_type": "stream",
     "text": [
      "a\n",
      "b\n"
     ]
    }
   ],
   "source": [
    "for data in dict_data.keys():\n",
    "    print(data)"
   ]
  },
  {
   "cell_type": "code",
   "execution_count": 18,
   "id": "719c1464",
   "metadata": {},
   "outputs": [
    {
     "name": "stdout",
     "output_type": "stream",
     "text": [
      "1\n",
      "2\n"
     ]
    }
   ],
   "source": [
    "for data in dict_data.values():\n",
    "    print(data)"
   ]
  },
  {
   "cell_type": "code",
   "execution_count": 20,
   "id": "72692325",
   "metadata": {},
   "outputs": [
    {
     "name": "stdout",
     "output_type": "stream",
     "text": [
      "a 1\n",
      "b 2\n"
     ]
    }
   ],
   "source": [
    "for (k, v) in dict_data.items():\n",
    "    print(k, v)"
   ]
  },
  {
   "cell_type": "code",
   "execution_count": 24,
   "id": "ec9afa31",
   "metadata": {},
   "outputs": [
    {
     "name": "stdout",
     "output_type": "stream",
     "text": [
      "HEIGHT :   165\n"
     ]
    }
   ],
   "source": [
    "print(f\"HEIGHT :   {165}\")"
   ]
  },
  {
   "cell_type": "code",
   "execution_count": 26,
   "id": "159fbef0",
   "metadata": {},
   "outputs": [
    {
     "data": {
      "text/plain": [
       "'HEIGHT : 165'"
      ]
     },
     "execution_count": 26,
     "metadata": {},
     "output_type": "execute_result"
    }
   ],
   "source": [
    "f\"HEIGHT : {165}\""
   ]
  },
  {
   "cell_type": "markdown",
   "id": "9ab86c1e",
   "metadata": {},
   "source": [
    "#### break"
   ]
  },
  {
   "cell_type": "code",
   "execution_count": 30,
   "id": "1a909326",
   "metadata": {},
   "outputs": [
    {
     "name": "stdout",
     "output_type": "stream",
     "text": [
      "loop\n"
     ]
    }
   ],
   "source": [
    "for data in range(5):\n",
    "    print(\"loop\")\n",
    "    break"
   ]
  },
  {
   "cell_type": "markdown",
   "id": "dd5c9e95",
   "metadata": {},
   "source": [
    "### continue"
   ]
  },
  {
   "cell_type": "code",
   "execution_count": 31,
   "id": "0bcc78be",
   "metadata": {},
   "outputs": [
    {
     "name": "stdout",
     "output_type": "stream",
     "text": [
      "1 : loop\n",
      "3 : loop\n",
      "5 : loop\n",
      "7 : loop\n",
      "9 : loop\n"
     ]
    }
   ],
   "source": [
    "for data in range(10):\n",
    "    if data % 2 == 0:\n",
    "        continue\n",
    "    print(f'{data} : loop')"
   ]
  },
  {
   "cell_type": "code",
   "execution_count": 32,
   "id": "0fca0889",
   "metadata": {},
   "outputs": [
    {
     "name": "stdout",
     "output_type": "stream",
     "text": [
      "0\n",
      "1\n",
      "2\n",
      "3\n",
      "4\n",
      "for loop end\n"
     ]
    }
   ],
   "source": [
    "for data in range(5):\n",
    "    print(data)\n",
    "else:\n",
    "    print(\"for loop end\")"
   ]
  },
  {
   "cell_type": "code",
   "execution_count": 34,
   "id": "975c3e50",
   "metadata": {},
   "outputs": [
    {
     "name": "stdout",
     "output_type": "stream",
     "text": [
      "0\n",
      "1\n",
      "2\n",
      "4\n",
      "for loop end\n"
     ]
    }
   ],
   "source": [
    "for data in range(5):\n",
    "    if data == 3:\n",
    "        continue\n",
    "    print(data)\n",
    "else:\n",
    "    print(\"for loop end\")"
   ]
  },
  {
   "cell_type": "code",
   "execution_count": 41,
   "id": "8edb00d4",
   "metadata": {},
   "outputs": [
    {
     "name": "stdout",
     "output_type": "stream",
     "text": [
      "2단\n",
      "2 * 1 : 2\n",
      "2 * 2 : 4\n",
      "2 * 3 : 6\n",
      "2 * 4 : 8\n",
      "2 * 5 : 10\n",
      "2 * 6 : 12\n",
      "2 * 7 : 14\n",
      "2 * 8 : 16\n",
      "2 * 9 : 18\n",
      "\n",
      "3단\n",
      "3 * 1 : 3\n",
      "3 * 2 : 6\n",
      "3 * 3 : 9\n",
      "3 * 4 : 12\n",
      "3 * 5 : 15\n",
      "3 * 6 : 18\n",
      "3 * 7 : 21\n",
      "3 * 8 : 24\n",
      "3 * 9 : 27\n",
      "\n",
      "4단\n",
      "4 * 1 : 4\n",
      "4 * 2 : 8\n",
      "4 * 3 : 12\n",
      "4 * 4 : 16\n",
      "4 * 5 : 20\n",
      "4 * 6 : 24\n",
      "4 * 7 : 28\n",
      "4 * 8 : 32\n",
      "4 * 9 : 36\n",
      "\n",
      "5단\n",
      "5 * 1 : 5\n",
      "5 * 2 : 10\n",
      "5 * 3 : 15\n",
      "5 * 4 : 20\n",
      "5 * 5 : 25\n",
      "5 * 6 : 30\n",
      "5 * 7 : 35\n",
      "5 * 8 : 40\n",
      "5 * 9 : 45\n",
      "\n",
      "6단\n",
      "6 * 1 : 6\n",
      "6 * 2 : 12\n",
      "6 * 3 : 18\n",
      "6 * 4 : 24\n",
      "6 * 5 : 30\n",
      "6 * 6 : 36\n",
      "6 * 7 : 42\n",
      "6 * 8 : 48\n",
      "6 * 9 : 54\n",
      "\n",
      "7단\n",
      "7 * 1 : 7\n",
      "7 * 2 : 14\n",
      "7 * 3 : 21\n",
      "7 * 4 : 28\n",
      "7 * 5 : 35\n",
      "7 * 6 : 42\n",
      "7 * 7 : 49\n",
      "7 * 8 : 56\n",
      "7 * 9 : 63\n",
      "\n",
      "8단\n",
      "8 * 1 : 8\n",
      "8 * 2 : 16\n",
      "8 * 3 : 24\n",
      "8 * 4 : 32\n",
      "8 * 5 : 40\n",
      "8 * 6 : 48\n",
      "8 * 7 : 56\n",
      "8 * 8 : 64\n",
      "8 * 9 : 72\n",
      "\n",
      "9단\n",
      "9 * 1 : 9\n",
      "9 * 2 : 18\n",
      "9 * 3 : 27\n",
      "9 * 4 : 36\n",
      "9 * 5 : 45\n",
      "9 * 6 : 54\n",
      "9 * 7 : 63\n",
      "9 * 8 : 72\n",
      "9 * 9 : 81\n",
      "\n"
     ]
    }
   ],
   "source": [
    "for i in range(2, 10):\n",
    "    print(f\"{i}단\")\n",
    "    for j in range(1, 10):\n",
    "        print(f\"{i} * {j} : {i*j}\")\n",
    "        \n",
    "    print()"
   ]
  },
  {
   "cell_type": "markdown",
   "id": "ef328887",
   "metadata": {},
   "source": [
    "### while문\n",
    "- 특정 조건식이 만족하는 경우에 순환을 처리"
   ]
  },
  {
   "cell_type": "code",
   "execution_count": 49,
   "id": "7d6c1f92",
   "metadata": {},
   "outputs": [
    {
     "name": "stdout",
     "output_type": "stream",
     "text": [
      "loop\n",
      "loop\n",
      "loop\n",
      "loop\n",
      "loop\n",
      "loop\n",
      "while else end\n"
     ]
    }
   ],
   "source": [
    "index = 0\n",
    "is_while = True\n",
    "\n",
    "while is_while:\n",
    "    if index >=5:\n",
    "        is_while = False\n",
    "    print(\"loop\")\n",
    "    index += 1\n",
    "else:\n",
    "    print(\"while else end\")"
   ]
  },
  {
   "cell_type": "code",
   "execution_count": 44,
   "id": "90d5dc7a",
   "metadata": {},
   "outputs": [
    {
     "name": "stdout",
     "output_type": "stream",
     "text": [
      "2단\n",
      "2 X 1 = 2\n",
      "2 X 2 = 4\n",
      "2 X 3 = 6\n",
      "2 X 4 = 8\n",
      "2 X 5 = 10\n",
      "2 X 6 = 12\n",
      "2 X 7 = 14\n",
      "2 X 8 = 16\n",
      "2 X 9 = 18\n",
      "\n",
      "3단\n",
      "3 X 1 = 3\n",
      "3 X 2 = 6\n",
      "3 X 3 = 9\n",
      "3 X 4 = 12\n",
      "3 X 5 = 15\n",
      "3 X 6 = 18\n",
      "3 X 7 = 21\n",
      "3 X 8 = 24\n",
      "3 X 9 = 27\n",
      "\n",
      "4단\n",
      "4 X 1 = 4\n",
      "4 X 2 = 8\n",
      "4 X 3 = 12\n",
      "4 X 4 = 16\n",
      "4 X 5 = 20\n",
      "4 X 6 = 24\n",
      "4 X 7 = 28\n",
      "4 X 8 = 32\n",
      "4 X 9 = 36\n",
      "\n",
      "5단\n",
      "5 X 1 = 5\n",
      "5 X 2 = 10\n",
      "5 X 3 = 15\n",
      "5 X 4 = 20\n",
      "5 X 5 = 25\n",
      "5 X 6 = 30\n",
      "5 X 7 = 35\n",
      "5 X 8 = 40\n",
      "5 X 9 = 45\n",
      "\n",
      "6단\n",
      "6 X 1 = 6\n",
      "6 X 2 = 12\n",
      "6 X 3 = 18\n",
      "6 X 4 = 24\n",
      "6 X 5 = 30\n",
      "6 X 6 = 36\n",
      "6 X 7 = 42\n",
      "6 X 8 = 48\n",
      "6 X 9 = 54\n",
      "\n",
      "7단\n",
      "7 X 1 = 7\n",
      "7 X 2 = 14\n",
      "7 X 3 = 21\n",
      "7 X 4 = 28\n",
      "7 X 5 = 35\n",
      "7 X 6 = 42\n",
      "7 X 7 = 49\n",
      "7 X 8 = 56\n",
      "7 X 9 = 63\n",
      "\n",
      "8단\n",
      "8 X 1 = 8\n",
      "8 X 2 = 16\n",
      "8 X 3 = 24\n",
      "8 X 4 = 32\n",
      "8 X 5 = 40\n",
      "8 X 6 = 48\n",
      "8 X 7 = 56\n",
      "8 X 8 = 64\n",
      "8 X 9 = 72\n",
      "\n",
      "9단\n",
      "9 X 1 = 9\n",
      "9 X 2 = 18\n",
      "9 X 3 = 27\n",
      "9 X 4 = 36\n",
      "9 X 5 = 45\n",
      "9 X 6 = 54\n",
      "9 X 7 = 63\n",
      "9 X 8 = 72\n",
      "9 X 9 = 81\n",
      "\n"
     ]
    }
   ],
   "source": [
    "for first in range(2, 10):\n",
    "    print(f'{first}단')\n",
    "    for second in range(1, 10):\n",
    "        print(f'{ first } X { second } = { first * second }')\n",
    "        \n",
    "    print()"
   ]
  },
  {
   "cell_type": "code",
   "execution_count": 55,
   "id": "1f75bf32",
   "metadata": {},
   "outputs": [
    {
     "name": "stdout",
     "output_type": "stream",
     "text": [
      "2단\n",
      "2 * 1 = 2\n",
      "2 * 2 = 4\n",
      "2 * 3 = 6\n",
      "2 * 4 = 8\n",
      "2 * 5 = 10\n",
      "2 * 6 = 12\n",
      "2 * 7 = 14\n",
      "2 * 8 = 16\n",
      "2 * 9 = 18\n",
      "\n",
      "3단\n",
      "3 * 1 = 3\n",
      "3 * 2 = 6\n",
      "3 * 3 = 9\n",
      "3 * 4 = 12\n",
      "3 * 5 = 15\n",
      "3 * 6 = 18\n",
      "3 * 7 = 21\n",
      "3 * 8 = 24\n",
      "3 * 9 = 27\n",
      "\n",
      "4단\n",
      "4 * 1 = 4\n",
      "4 * 2 = 8\n",
      "4 * 3 = 12\n",
      "4 * 4 = 16\n",
      "4 * 5 = 20\n",
      "4 * 6 = 24\n",
      "4 * 7 = 28\n",
      "4 * 8 = 32\n",
      "4 * 9 = 36\n",
      "\n",
      "5단\n",
      "5 * 1 = 5\n",
      "5 * 2 = 10\n",
      "5 * 3 = 15\n",
      "5 * 4 = 20\n",
      "5 * 5 = 25\n",
      "5 * 6 = 30\n",
      "5 * 7 = 35\n",
      "5 * 8 = 40\n",
      "5 * 9 = 45\n",
      "\n",
      "6단\n",
      "6 * 1 = 6\n",
      "6 * 2 = 12\n",
      "6 * 3 = 18\n",
      "6 * 4 = 24\n",
      "6 * 5 = 30\n",
      "6 * 6 = 36\n",
      "6 * 7 = 42\n",
      "6 * 8 = 48\n",
      "6 * 9 = 54\n",
      "\n",
      "7단\n",
      "7 * 1 = 7\n",
      "7 * 2 = 14\n",
      "7 * 3 = 21\n",
      "7 * 4 = 28\n",
      "7 * 5 = 35\n",
      "7 * 6 = 42\n",
      "7 * 7 = 49\n",
      "7 * 8 = 56\n",
      "7 * 9 = 63\n",
      "\n",
      "8단\n",
      "8 * 1 = 8\n",
      "8 * 2 = 16\n",
      "8 * 3 = 24\n",
      "8 * 4 = 32\n",
      "8 * 5 = 40\n",
      "8 * 6 = 48\n",
      "8 * 7 = 56\n",
      "8 * 8 = 64\n",
      "8 * 9 = 72\n",
      "\n",
      "9단\n",
      "9 * 1 = 9\n",
      "9 * 2 = 18\n",
      "9 * 3 = 27\n",
      "9 * 4 = 36\n",
      "9 * 5 = 45\n",
      "9 * 6 = 54\n",
      "9 * 7 = 63\n",
      "9 * 8 = 72\n",
      "9 * 9 = 81\n",
      "\n"
     ]
    }
   ],
   "source": [
    "i = 2\n",
    "while i < 10 :\n",
    "    j = 1\n",
    "    print(f\"{i}단\")\n",
    "    while j < 10:\n",
    "        print(f\"{i} * {j} = {i*j}\")\n",
    "        j += 1\n",
    "    i += 1\n",
    "    print()    "
   ]
  },
  {
   "cell_type": "markdown",
   "id": "14118a1c",
   "metadata": {},
   "source": [
    "# 2. 제어문\n",
    "keyword : if (elif) else  \n",
    "특정 조건을 판단해서 특정 기능을 처리."
   ]
  },
  {
   "cell_type": "markdown",
   "id": "6bc3432b",
   "metadata": {},
   "source": [
    "### 비교 연산자\n",
    "\n",
    "== (equal), <, >, >=, <="
   ]
  },
  {
   "cell_type": "code",
   "execution_count": 56,
   "id": "0fdefdc4",
   "metadata": {},
   "outputs": [
    {
     "data": {
      "text/plain": [
       "True"
      ]
     },
     "execution_count": 56,
     "metadata": {},
     "output_type": "execute_result"
    }
   ],
   "source": [
    "100 == 100"
   ]
  },
  {
   "cell_type": "code",
   "execution_count": 57,
   "id": "9e6e021d",
   "metadata": {},
   "outputs": [
    {
     "data": {
      "text/plain": [
       "False"
      ]
     },
     "execution_count": 57,
     "metadata": {},
     "output_type": "execute_result"
    }
   ],
   "source": [
    "100 < 99"
   ]
  },
  {
   "cell_type": "markdown",
   "id": "2da70c67",
   "metadata": {},
   "source": [
    "### 논리 연산자\n",
    "\n",
    "and, or"
   ]
  },
  {
   "cell_type": "code",
   "execution_count": 58,
   "id": "5c5840fb",
   "metadata": {},
   "outputs": [
    {
     "data": {
      "text/plain": [
       "True"
      ]
     },
     "execution_count": 58,
     "metadata": {},
     "output_type": "execute_result"
    }
   ],
   "source": [
    "(100 == 100) and (100 > 99)"
   ]
  },
  {
   "cell_type": "code",
   "execution_count": 59,
   "id": "e361d79f",
   "metadata": {},
   "outputs": [
    {
     "data": {
      "text/plain": [
       "False"
      ]
     },
     "execution_count": 59,
     "metadata": {},
     "output_type": "execute_result"
    }
   ],
   "source": [
    "(100 == 100) and (100 < 99)"
   ]
  },
  {
   "cell_type": "code",
   "execution_count": 60,
   "id": "baee9cc0",
   "metadata": {},
   "outputs": [
    {
     "data": {
      "text/plain": [
       "True"
      ]
     },
     "execution_count": 60,
     "metadata": {},
     "output_type": "execute_result"
    }
   ],
   "source": [
    "(100 == 100) or (100 > 99)"
   ]
  },
  {
   "cell_type": "code",
   "execution_count": 61,
   "id": "44d0bb28",
   "metadata": {},
   "outputs": [
    {
     "data": {
      "text/plain": [
       "False"
      ]
     },
     "execution_count": 61,
     "metadata": {},
     "output_type": "execute_result"
    }
   ],
   "source": [
    "(100 == 100) and (100 < 99)"
   ]
  },
  {
   "cell_type": "code",
   "execution_count": 62,
   "id": "38fb3898",
   "metadata": {},
   "outputs": [
    {
     "data": {
      "text/plain": [
       "True"
      ]
     },
     "execution_count": 62,
     "metadata": {},
     "output_type": "execute_result"
    }
   ],
   "source": [
    "(100 == 100) or (100 < 99)"
   ]
  },
  {
   "cell_type": "markdown",
   "id": "8dacba3e",
   "metadata": {},
   "source": [
    "### 단순 조건문 if"
   ]
  },
  {
   "cell_type": "code",
   "execution_count": 63,
   "id": "5083c7e2",
   "metadata": {},
   "outputs": [],
   "source": [
    "import random"
   ]
  },
  {
   "cell_type": "code",
   "execution_count": 72,
   "id": "c9c829d3",
   "metadata": {},
   "outputs": [
    {
     "name": "stdout",
     "output_type": "stream",
     "text": [
      "6 over\n",
      "7\n"
     ]
    }
   ],
   "source": [
    "random_value = random.randint(0, 10)\n",
    "\n",
    "if random_value < 3:\n",
    "    print(\"3 under\")\n",
    "elif random_value < 6:\n",
    "    print(\"6 under\")\n",
    "else:\n",
    "    print(\"6 over\")\n",
    "    \n",
    "print(random_value)"
   ]
  },
  {
   "cell_type": "markdown",
   "id": "39dd7c6a",
   "metadata": {},
   "source": [
    "### 삼항연산자"
   ]
  },
  {
   "cell_type": "code",
   "execution_count": 73,
   "id": "a017812c",
   "metadata": {},
   "outputs": [
    {
     "name": "stdout",
     "output_type": "stream",
     "text": [
      "5 over\n",
      "10\n"
     ]
    }
   ],
   "source": [
    "random_value = random.randint(0, 10)\n",
    "\n",
    "print(\"5 over\") if random_value > 5 else print (\"5 under\")\n",
    "print(random_value)"
   ]
  },
  {
   "cell_type": "code",
   "execution_count": 74,
   "id": "076809fe",
   "metadata": {},
   "outputs": [
    {
     "name": "stdout",
     "output_type": "stream",
     "text": [
      "값을 입력하세요.1\n"
     ]
    },
    {
     "data": {
      "text/plain": [
       "'1'"
      ]
     },
     "execution_count": 74,
     "metadata": {},
     "output_type": "execute_result"
    }
   ],
   "source": [
    "input(\"값을 입력하세요.\")"
   ]
  },
  {
   "cell_type": "code",
   "execution_count": 82,
   "id": "edf16a8c",
   "metadata": {},
   "outputs": [],
   "source": [
    "def game_20():\n",
    "\n",
    "    random_value = random.randint(1, 51)\n",
    "    answer = -1\n",
    "\n",
    "    for count in range(20):\n",
    "        answer = int(input(\"값을 입력하세요.\"))\n",
    "\n",
    "        if answer > random_value:\n",
    "            print(\"Down\")\n",
    "\n",
    "        elif answer < random_value:\n",
    "            print(\"Up\")\n",
    "\n",
    "        else:\n",
    "            print(f\"Correct! {random_value}\")\n",
    "            break\n",
    "\n",
    "    else:\n",
    "        print(f\"Game Over {random_value}\")\n"
   ]
  },
  {
   "cell_type": "code",
   "execution_count": 83,
   "id": "79fe569f",
   "metadata": {},
   "outputs": [
    {
     "name": "stdout",
     "output_type": "stream",
     "text": [
      "값을 입력하세요.25\n",
      "Up\n",
      "값을 입력하세요.35\n",
      "Up\n",
      "값을 입력하세요.46\n",
      "Down\n",
      "값을 입력하세요.44\n",
      "Up\n",
      "값을 입력하세요.45\n",
      "Correct! 45\n"
     ]
    }
   ],
   "source": [
    "game_20()"
   ]
  },
  {
   "cell_type": "code",
   "execution_count": 84,
   "id": "60cb3fdf",
   "metadata": {},
   "outputs": [],
   "source": [
    "import keyword"
   ]
  },
  {
   "cell_type": "code",
   "execution_count": 85,
   "id": "362a4fb5",
   "metadata": {},
   "outputs": [
    {
     "name": "stdout",
     "output_type": "stream",
     "text": [
      "['False', 'None', 'True', 'and', 'as', 'assert', 'async', 'await', 'break', 'class', 'continue', 'def', 'del', 'elif', 'else', 'except', 'finally', 'for', 'from', 'global', 'if', 'import', 'in', 'is', 'lambda', 'nonlocal', 'not', 'or', 'pass', 'raise', 'return', 'try', 'while', 'with', 'yield']\n"
     ]
    }
   ],
   "source": [
    "print(keyword.kwlist)"
   ]
  },
  {
   "cell_type": "code",
   "execution_count": 94,
   "id": "ed890c13",
   "metadata": {},
   "outputs": [],
   "source": [
    "dict_value = {\n",
    "    \n",
    "    '1': \"1을 눌렀습니다.\",\n",
    "    '2': \"2를 눌렀습니다.\",\n",
    "    '3': game_20,\n",
    "}"
   ]
  },
  {
   "cell_type": "code",
   "execution_count": 96,
   "id": "c431b755",
   "metadata": {},
   "outputs": [
    {
     "name": "stdout",
     "output_type": "stream",
     "text": [
      "값을 입력하세요.25\n",
      "Down\n",
      "값을 입력하세요.15\n",
      "Down\n",
      "값을 입력하세요.12\n",
      "Down\n",
      "값을 입력하세요.8\n",
      "Down\n",
      "값을 입력하세요.6\n",
      "Down\n",
      "값을 입력하세요.4\n",
      "Down\n",
      "값을 입력하세요.2\n",
      "Up\n",
      "값을 입력하세요.3\n",
      "Correct! 3\n"
     ]
    }
   ],
   "source": [
    "if '3' in dict_value:\n",
    "    dict_value['3']()"
   ]
  },
  {
   "cell_type": "markdown",
   "id": "5d18c0ff",
   "metadata": {},
   "source": [
    "type\n",
    ">세 자연수 a, b, c 가 피타고라스 정리 a2 + b2 = c2 를 만족하면 피타고라스 수라고 부릅니다 (여기서 a < b < c ).\n",
    "예를 들면 32 + 42 = 9 + 16 = 25 = 52이므로 3, 4, 5는 피타고라스 수입니다.\n",
    "a + b + c = 1000 인 피타고라스 수 a, b, c는 한 가지 뿐입니다. 이 때, a × b × c 는 얼마입니까?"
   ]
  },
  {
   "cell_type": "code",
   "execution_count": 177,
   "id": "797f045e",
   "metadata": {},
   "outputs": [
    {
     "name": "stdout",
     "output_type": "stream",
     "text": [
      "200 375 425\n",
      "31875000\n"
     ]
    }
   ],
   "source": [
    "\n",
    "    for a in range(1, 1000):\n",
    "        for b in range(a+1, 1000):\n",
    "            c = 1000 -a -b\n",
    "            if a**2 + b**2 == c**2 and a < b < c:\n",
    "                print(a, b, c)\n",
    "                print(a*b*c)\n",
    "                break\n",
    "\n"
   ]
  },
  {
   "cell_type": "markdown",
   "id": "f1939142",
   "metadata": {},
   "source": [
    "# 3. 예외문\n",
    "\n",
    "ketword : try except  \n",
    "모든 코드는 실행 중에 에러나 예외가 발생하는 상황 존재.  \n",
    "특정 코드를 처리하게끔 해주는 것."
   ]
  },
  {
   "cell_type": "code",
   "execution_count": 112,
   "id": "342c7d4f",
   "metadata": {},
   "outputs": [
    {
     "name": "stdout",
     "output_type": "stream",
     "text": [
      "False\n",
      "try\n",
      "Exception\n",
      "<class 'TypeError'>\n",
      "can only concatenate str (not \"int\") to str\n",
      "Finally\n",
      "Send Email for warning\n"
     ]
    }
   ],
   "source": [
    "import sys\n",
    "\n",
    "is_try = False\n",
    "print(is_try)\n",
    "\n",
    "try:\n",
    "    print(\"try\")\n",
    "    print('str' + 1)\n",
    "except Exception as e:\n",
    "    print(\"Exception\")\n",
    "    is_try = True\n",
    "    print(sys.exc_info()[0])\n",
    "    print(e)\n",
    "finally:\n",
    "    print(\"Finally\")\n",
    "    if is_try == True:\n",
    "            print(\"Send Email for warning\")"
   ]
  },
  {
   "cell_type": "code",
   "execution_count": 144,
   "id": "04866cf3",
   "metadata": {},
   "outputs": [],
   "source": [
    "a = [1,2,3,4]"
   ]
  },
  {
   "cell_type": "code",
   "execution_count": 145,
   "id": "8e669780",
   "metadata": {},
   "outputs": [
    {
     "data": {
      "text/plain": [
       "[1, 2, 3, 4]"
      ]
     },
     "execution_count": 145,
     "metadata": {},
     "output_type": "execute_result"
    }
   ],
   "source": [
    "a"
   ]
  },
  {
   "cell_type": "code",
   "execution_count": 146,
   "id": "02a5a65b",
   "metadata": {},
   "outputs": [],
   "source": [
    "b = a"
   ]
  },
  {
   "cell_type": "code",
   "execution_count": 147,
   "id": "7204e25f",
   "metadata": {},
   "outputs": [
    {
     "data": {
      "text/plain": [
       "[1, 2, 3, 4]"
      ]
     },
     "execution_count": 147,
     "metadata": {},
     "output_type": "execute_result"
    }
   ],
   "source": [
    "b"
   ]
  },
  {
   "cell_type": "code",
   "execution_count": 148,
   "id": "026da22c",
   "metadata": {},
   "outputs": [
    {
     "data": {
      "text/plain": [
       "(2541507355072, 2541507355072)"
      ]
     },
     "execution_count": 148,
     "metadata": {},
     "output_type": "execute_result"
    }
   ],
   "source": [
    "id(a), id(b)"
   ]
  },
  {
   "cell_type": "code",
   "execution_count": 149,
   "id": "ef5619c2",
   "metadata": {},
   "outputs": [
    {
     "data": {
      "text/plain": [
       "True"
      ]
     },
     "execution_count": 149,
     "metadata": {},
     "output_type": "execute_result"
    }
   ],
   "source": [
    "id(a) == id(b)"
   ]
  },
  {
   "cell_type": "code",
   "execution_count": 150,
   "id": "c8cdbe5e",
   "metadata": {},
   "outputs": [],
   "source": [
    "b[0] = 100"
   ]
  },
  {
   "cell_type": "code",
   "execution_count": 151,
   "id": "66559ac6",
   "metadata": {},
   "outputs": [
    {
     "data": {
      "text/plain": [
       "[100, 2, 3, 4]"
      ]
     },
     "execution_count": 151,
     "metadata": {},
     "output_type": "execute_result"
    }
   ],
   "source": [
    "b"
   ]
  },
  {
   "cell_type": "code",
   "execution_count": 152,
   "id": "5452fcbc",
   "metadata": {},
   "outputs": [
    {
     "data": {
      "text/plain": [
       "[100, 2, 3, 4]"
      ]
     },
     "execution_count": 152,
     "metadata": {},
     "output_type": "execute_result"
    }
   ],
   "source": [
    "a"
   ]
  },
  {
   "cell_type": "code",
   "execution_count": 153,
   "id": "22e3c7cc",
   "metadata": {},
   "outputs": [],
   "source": [
    "import copy"
   ]
  },
  {
   "cell_type": "code",
   "execution_count": 154,
   "id": "920901da",
   "metadata": {},
   "outputs": [],
   "source": [
    "a = [1,2,3,4]"
   ]
  },
  {
   "cell_type": "code",
   "execution_count": 155,
   "id": "95ccb6f7",
   "metadata": {},
   "outputs": [
    {
     "data": {
      "text/plain": [
       "[1, 2, 3, 4]"
      ]
     },
     "execution_count": 155,
     "metadata": {},
     "output_type": "execute_result"
    }
   ],
   "source": [
    "a"
   ]
  },
  {
   "cell_type": "code",
   "execution_count": 156,
   "id": "8f322d98",
   "metadata": {},
   "outputs": [],
   "source": [
    "b = copy.deepcopy(a)"
   ]
  },
  {
   "cell_type": "code",
   "execution_count": 157,
   "id": "b64910e8",
   "metadata": {},
   "outputs": [
    {
     "data": {
      "text/plain": [
       "[1, 2, 3, 4]"
      ]
     },
     "execution_count": 157,
     "metadata": {},
     "output_type": "execute_result"
    }
   ],
   "source": [
    "b"
   ]
  },
  {
   "cell_type": "code",
   "execution_count": 158,
   "id": "0e1054e0",
   "metadata": {},
   "outputs": [
    {
     "data": {
      "text/plain": [
       "(2541505853568, 2541505854848)"
      ]
     },
     "execution_count": 158,
     "metadata": {},
     "output_type": "execute_result"
    }
   ],
   "source": [
    "id(a), id(b)"
   ]
  },
  {
   "cell_type": "code",
   "execution_count": 159,
   "id": "895b4abe",
   "metadata": {},
   "outputs": [],
   "source": [
    "b[0] = 99"
   ]
  },
  {
   "cell_type": "code",
   "execution_count": 160,
   "id": "6b0da92f",
   "metadata": {},
   "outputs": [
    {
     "data": {
      "text/plain": [
       "[99, 2, 3, 4]"
      ]
     },
     "execution_count": 160,
     "metadata": {},
     "output_type": "execute_result"
    }
   ],
   "source": [
    "b"
   ]
  },
  {
   "cell_type": "code",
   "execution_count": 161,
   "id": "c7cbccd3",
   "metadata": {},
   "outputs": [
    {
     "data": {
      "text/plain": [
       "[1, 2, 3, 4]"
      ]
     },
     "execution_count": 161,
     "metadata": {},
     "output_type": "execute_result"
    }
   ],
   "source": [
    "a"
   ]
  },
  {
   "cell_type": "code",
   "execution_count": 168,
   "id": "0ac89814",
   "metadata": {},
   "outputs": [],
   "source": [
    "def datetime():\n",
    "    return 5"
   ]
  },
  {
   "cell_type": "code",
   "execution_count": 163,
   "id": "b0eb5fac",
   "metadata": {},
   "outputs": [
    {
     "data": {
      "text/plain": [
       "5"
      ]
     },
     "execution_count": 163,
     "metadata": {},
     "output_type": "execute_result"
    }
   ],
   "source": [
    "datetime()"
   ]
  },
  {
   "cell_type": "code",
   "execution_count": 169,
   "id": "c4a78e9b",
   "metadata": {},
   "outputs": [
    {
     "data": {
      "text/plain": [
       "function"
      ]
     },
     "execution_count": 169,
     "metadata": {},
     "output_type": "execute_result"
    }
   ],
   "source": [
    "datetime.__class__"
   ]
  },
  {
   "cell_type": "code",
   "execution_count": 170,
   "id": "a1f0a0cd",
   "metadata": {},
   "outputs": [],
   "source": [
    "from datetime import datetime"
   ]
  },
  {
   "cell_type": "code",
   "execution_count": 171,
   "id": "4091f6e0",
   "metadata": {},
   "outputs": [
    {
     "data": {
      "text/plain": [
       "type"
      ]
     },
     "execution_count": 171,
     "metadata": {},
     "output_type": "execute_result"
    }
   ],
   "source": [
    "datetime.__class__"
   ]
  },
  {
   "cell_type": "code",
   "execution_count": null,
   "id": "85bd1fb9",
   "metadata": {},
   "outputs": [],
   "source": []
  }
 ],
 "metadata": {
  "kernelspec": {
   "display_name": "Python 3",
   "language": "python",
   "name": "python3"
  },
  "language_info": {
   "codemirror_mode": {
    "name": "ipython",
    "version": 3
   },
   "file_extension": ".py",
   "mimetype": "text/x-python",
   "name": "python",
   "nbconvert_exporter": "python",
   "pygments_lexer": "ipython3",
   "version": "3.8.8"
  }
 },
 "nbformat": 4,
 "nbformat_minor": 5
}
