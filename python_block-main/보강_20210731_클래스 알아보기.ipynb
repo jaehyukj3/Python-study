{
 "cells": [
  {
   "cell_type": "markdown",
   "metadata": {},
   "source": [
    "# 1. 클래스 알아보기"
   ]
  },
  {
   "cell_type": "code",
   "execution_count": null,
   "metadata": {},
   "outputs": [],
   "source": []
  },
  {
   "cell_type": "markdown",
   "metadata": {},
   "source": [
    "## 상속관계 "
   ]
  },
  {
   "cell_type": "code",
   "execution_count": 1,
   "metadata": {},
   "outputs": [
    {
     "ename": "SyntaxError",
     "evalue": "invalid syntax (<ipython-input-1-4458d05ed2e3>, line 1)",
     "output_type": "error",
     "traceback": [
      "\u001b[1;36m  File \u001b[1;32m\"<ipython-input-1-4458d05ed2e3>\"\u001b[1;36m, line \u001b[1;32m1\u001b[0m\n\u001b[1;33m    type P struct {\u001b[0m\n\u001b[1;37m         ^\u001b[0m\n\u001b[1;31mSyntaxError\u001b[0m\u001b[1;31m:\u001b[0m invalid syntax\n"
     ]
    }
   ],
   "source": [
    "type P struct {\n",
    "\n",
    "}"
   ]
  },
  {
   "cell_type": "code",
   "execution_count": 2,
   "metadata": {},
   "outputs": [
    {
     "ename": "SyntaxError",
     "evalue": "invalid syntax (<ipython-input-2-e1450043faad>, line 1)",
     "output_type": "error",
     "traceback": [
      "\u001b[1;36m  File \u001b[1;32m\"<ipython-input-2-e1450043faad>\"\u001b[1;36m, line \u001b[1;32m1\u001b[0m\n\u001b[1;33m    type A struct {\u001b[0m\n\u001b[1;37m         ^\u001b[0m\n\u001b[1;31mSyntaxError\u001b[0m\u001b[1;31m:\u001b[0m invalid syntax\n"
     ]
    }
   ],
   "source": [
    "type A struct {\n",
    "    P\n",
    "}"
   ]
  },
  {
   "cell_type": "code",
   "execution_count": null,
   "metadata": {},
   "outputs": [],
   "source": []
  },
  {
   "cell_type": "code",
   "execution_count": 3,
   "metadata": {},
   "outputs": [],
   "source": [
    "class P :\n",
    "    def ppp(self) :\n",
    "        print(\" parents \")"
   ]
  },
  {
   "cell_type": "code",
   "execution_count": 5,
   "metadata": {},
   "outputs": [],
   "source": [
    "class A(P):\n",
    "    def ppp(self) :\n",
    "        super.ppp() #P.ppp(self)\n",
    "        print(\" child \")"
   ]
  },
  {
   "cell_type": "markdown",
   "metadata": {},
   "source": [
    "### 상속관계 확인 "
   ]
  },
  {
   "cell_type": "code",
   "execution_count": 6,
   "metadata": {},
   "outputs": [
    {
     "data": {
      "text/plain": [
       "[__main__.A, __main__.P, object]"
      ]
     },
     "execution_count": 6,
     "metadata": {},
     "output_type": "execute_result"
    }
   ],
   "source": [
    "A.mro()"
   ]
  },
  {
   "cell_type": "code",
   "execution_count": 9,
   "metadata": {},
   "outputs": [
    {
     "name": "stdout",
     "output_type": "stream",
     "text": [
      " parents \n"
     ]
    }
   ],
   "source": [
    "super(A,A()).ppp()"
   ]
  },
  {
   "cell_type": "code",
   "execution_count": 10,
   "metadata": {},
   "outputs": [
    {
     "data": {
      "text/plain": [
       "<__main__.P at 0x293f61d5df0>"
      ]
     },
     "execution_count": 10,
     "metadata": {},
     "output_type": "execute_result"
    }
   ],
   "source": [
    "super(P,A()).__new__(P)"
   ]
  },
  {
   "cell_type": "code",
   "execution_count": null,
   "metadata": {},
   "outputs": [],
   "source": []
  },
  {
   "cell_type": "code",
   "execution_count": 10,
   "metadata": {},
   "outputs": [
    {
     "name": "stdout",
     "output_type": "stream",
     "text": [
      " parents \n",
      " child \n"
     ]
    }
   ],
   "source": [
    "A().ppp()"
   ]
  },
  {
   "cell_type": "code",
   "execution_count": 11,
   "metadata": {},
   "outputs": [],
   "source": [
    "def __init__(self, a,b) :\n",
    "    self.a = a\n",
    "    self.b = b"
   ]
  },
  {
   "cell_type": "code",
   "execution_count": 12,
   "metadata": {},
   "outputs": [],
   "source": [
    "a = A()"
   ]
  },
  {
   "cell_type": "code",
   "execution_count": 13,
   "metadata": {},
   "outputs": [
    {
     "data": {
      "text/plain": [
       "{}"
      ]
     },
     "execution_count": 13,
     "metadata": {},
     "output_type": "execute_result"
    }
   ],
   "source": [
    "a.__dict__"
   ]
  },
  {
   "cell_type": "code",
   "execution_count": 14,
   "metadata": {},
   "outputs": [],
   "source": [
    "__init__(a, \"sol\", 29)"
   ]
  },
  {
   "cell_type": "code",
   "execution_count": 15,
   "metadata": {},
   "outputs": [
    {
     "data": {
      "text/plain": [
       "{'a': 'sol', 'b': 29}"
      ]
     },
     "execution_count": 15,
     "metadata": {},
     "output_type": "execute_result"
    }
   ],
   "source": [
    "a.__dict__"
   ]
  },
  {
   "cell_type": "code",
   "execution_count": null,
   "metadata": {},
   "outputs": [],
   "source": []
  },
  {
   "cell_type": "code",
   "execution_count": 19,
   "metadata": {},
   "outputs": [],
   "source": [
    "class descriptor:\n",
    "    \n",
    "    def __set_name__(self, owner, name ):\n",
    "        self.name = \"_\"+ name\n",
    "        \n",
    "    def __get__(self, instance, owner):\n",
    "        print('get', instance)\n",
    "        return instance.__dict__.setdefault(self.name,0) \n",
    "    \n",
    "    def __set__(self, instance, value):\n",
    "        print('set')\n",
    "        instance.__dict__[self.name] = value"
   ]
  },
  {
   "cell_type": "code",
   "execution_count": 20,
   "metadata": {},
   "outputs": [],
   "source": [
    "class AA:\n",
    "    a = descriptor()\n",
    "    def __init__(self, a) :\n",
    "        self. a = a"
   ]
  },
  {
   "cell_type": "code",
   "execution_count": 21,
   "metadata": {},
   "outputs": [
    {
     "name": "stdout",
     "output_type": "stream",
     "text": [
      "set\n"
     ]
    }
   ],
   "source": [
    "aa = AA(100)"
   ]
  },
  {
   "cell_type": "code",
   "execution_count": 22,
   "metadata": {},
   "outputs": [
    {
     "data": {
      "text/plain": [
       "{'_a': 100}"
      ]
     },
     "execution_count": 22,
     "metadata": {},
     "output_type": "execute_result"
    }
   ],
   "source": [
    "aa.__dict__"
   ]
  },
  {
   "cell_type": "markdown",
   "metadata": {},
   "source": [
    "###  부모 클래스 내의 멤버 사용하기\n",
    "\n",
    "- super를 객체로 만들어서 사용 "
   ]
  },
  {
   "cell_type": "code",
   "execution_count": 6,
   "metadata": {},
   "outputs": [],
   "source": [
    "class S :\n",
    "    def sss(self) :\n",
    "        print(\" S parents \")"
   ]
  },
  {
   "cell_type": "code",
   "execution_count": null,
   "metadata": {},
   "outputs": [],
   "source": []
  },
  {
   "cell_type": "code",
   "execution_count": 7,
   "metadata": {},
   "outputs": [],
   "source": [
    "class A_(P,S) :\n",
    "    def ppp(self) :\n",
    "        super().ppp()\n",
    "        super(P,A_()).sss()\n",
    "        print(\" child \")\n",
    "        "
   ]
  },
  {
   "cell_type": "code",
   "execution_count": 8,
   "metadata": {},
   "outputs": [
    {
     "data": {
      "text/plain": [
       "[__main__.A_, __main__.P, __main__.S, object]"
      ]
     },
     "execution_count": 8,
     "metadata": {},
     "output_type": "execute_result"
    }
   ],
   "source": [
    "A_.mro()"
   ]
  },
  {
   "cell_type": "code",
   "execution_count": 9,
   "metadata": {},
   "outputs": [
    {
     "name": "stdout",
     "output_type": "stream",
     "text": [
      " parents \n",
      " S parents \n",
      " child \n"
     ]
    }
   ],
   "source": [
    "A_().ppp()"
   ]
  },
  {
   "cell_type": "code",
   "execution_count": null,
   "metadata": {},
   "outputs": [],
   "source": []
  },
  {
   "cell_type": "markdown",
   "metadata": {},
   "source": [
    "## 상속관계 : 믹스인 처리"
   ]
  },
  {
   "cell_type": "code",
   "execution_count": null,
   "metadata": {},
   "outputs": [],
   "source": []
  },
  {
   "cell_type": "code",
   "execution_count": null,
   "metadata": {},
   "outputs": [],
   "source": []
  },
  {
   "cell_type": "code",
   "execution_count": null,
   "metadata": {},
   "outputs": [],
   "source": []
  },
  {
   "cell_type": "markdown",
   "metadata": {},
   "source": [
    "# 2. 메타 클래스 알아보기"
   ]
  },
  {
   "cell_type": "markdown",
   "metadata": {},
   "source": [
    "##  내장 클래스 상속관계"
   ]
  },
  {
   "cell_type": "code",
   "execution_count": 10,
   "metadata": {},
   "outputs": [
    {
     "data": {
      "text/plain": [
       "True"
      ]
     },
     "execution_count": 10,
     "metadata": {},
     "output_type": "execute_result"
    }
   ],
   "source": [
    "isinstance(type, object)"
   ]
  },
  {
   "cell_type": "code",
   "execution_count": 11,
   "metadata": {},
   "outputs": [
    {
     "data": {
      "text/plain": [
       "True"
      ]
     },
     "execution_count": 11,
     "metadata": {},
     "output_type": "execute_result"
    }
   ],
   "source": [
    "issubclass(type, object)"
   ]
  },
  {
   "cell_type": "code",
   "execution_count": 12,
   "metadata": {},
   "outputs": [
    {
     "data": {
      "text/plain": [
       "True"
      ]
     },
     "execution_count": 12,
     "metadata": {},
     "output_type": "execute_result"
    }
   ],
   "source": [
    "isinstance( object, type)"
   ]
  },
  {
   "cell_type": "code",
   "execution_count": 13,
   "metadata": {},
   "outputs": [
    {
     "data": {
      "text/plain": [
       "False"
      ]
     },
     "execution_count": 13,
     "metadata": {},
     "output_type": "execute_result"
    }
   ],
   "source": [
    "issubclass(object,type)"
   ]
  },
  {
   "cell_type": "code",
   "execution_count": 14,
   "metadata": {},
   "outputs": [
    {
     "name": "stdout",
     "output_type": "stream",
     "text": [
      "Help on wrapper_descriptor:\n",
      "\n",
      "__call__(self, /, *args, **kwargs)\n",
      "    Call self as a function.\n",
      "\n"
     ]
    }
   ],
   "source": [
    "help(type.__call__)"
   ]
  },
  {
   "cell_type": "code",
   "execution_count": 15,
   "metadata": {},
   "outputs": [
    {
     "name": "stdout",
     "output_type": "stream",
     "text": [
      "Help on method-wrapper object:\n",
      "\n",
      "__call__ = class method-wrapper(object)\n",
      " |  Methods defined here:\n",
      " |  \n",
      " |  __call__(self, /, *args, **kwargs)\n",
      " |      Call self as a function.\n",
      " |  \n",
      " |  __eq__(self, value, /)\n",
      " |      Return self==value.\n",
      " |  \n",
      " |  __ge__(self, value, /)\n",
      " |      Return self>=value.\n",
      " |  \n",
      " |  __getattribute__(self, name, /)\n",
      " |      Return getattr(self, name).\n",
      " |  \n",
      " |  __gt__(self, value, /)\n",
      " |      Return self>value.\n",
      " |  \n",
      " |  __hash__(self, /)\n",
      " |      Return hash(self).\n",
      " |  \n",
      " |  __le__(self, value, /)\n",
      " |      Return self<=value.\n",
      " |  \n",
      " |  __lt__(self, value, /)\n",
      " |      Return self<value.\n",
      " |  \n",
      " |  __ne__(self, value, /)\n",
      " |      Return self!=value.\n",
      " |  \n",
      " |  __reduce__(...)\n",
      " |      Helper for pickle.\n",
      " |  \n",
      " |  __repr__(self, /)\n",
      " |      Return repr(self).\n",
      " |  \n",
      " |  ----------------------------------------------------------------------\n",
      " |  Data descriptors defined here:\n",
      " |  \n",
      " |  __objclass__\n",
      " |  \n",
      " |  __self__\n",
      " |  \n",
      " |  __text_signature__\n",
      "\n"
     ]
    }
   ],
   "source": [
    "help(object.__call__)"
   ]
  },
  {
   "cell_type": "code",
   "execution_count": 16,
   "metadata": {},
   "outputs": [
    {
     "data": {
      "text/plain": [
       "<method-wrapper '__call__' of type object at 0x10d1ae218>"
      ]
     },
     "execution_count": 16,
     "metadata": {},
     "output_type": "execute_result"
    }
   ],
   "source": [
    "object.__call__"
   ]
  },
  {
   "cell_type": "code",
   "execution_count": null,
   "metadata": {},
   "outputs": [],
   "source": []
  },
  {
   "cell_type": "markdown",
   "metadata": {},
   "source": [
    "##  사용자 메타 클래스 만들기"
   ]
  },
  {
   "cell_type": "code",
   "execution_count": 17,
   "metadata": {},
   "outputs": [],
   "source": [
    "class UserType_2(type) :\n",
    "    \n",
    "    def __new__(meta,name,bases,namespace) :\n",
    "        print('-----------------------------------')\n",
    "        print ( \"Allocating memory for class\", name)\n",
    "        print( meta)\n",
    "        print( bases)\n",
    "        print( namespace)\n",
    "        \n",
    "        instance = super().__new__(meta,name,bases,namespace)\n",
    "        return instance\n",
    "    \n",
    "    def __init__(cls,name,bases,namespace) :\n",
    "        print('-----------------------------------')\n",
    "        print ( \"Allocating memory for class\", name)\n",
    "        print( cls)\n",
    "        print( bases)\n",
    "        print( namespace)\n",
    "        \n",
    "        super(UserType_2, cls).__init__(name, bases, namespace)\n",
    "        \n",
    "    def __call__(self,*args) :\n",
    "        print(\" instance call\")\n",
    "        ins = self.__new__(self,*args)\n",
    "        self.__init__(ins, *args)"
   ]
  },
  {
   "cell_type": "markdown",
   "metadata": {},
   "source": [
    "### 새로운 클래스 만들기\n",
    "\n",
    "- 매개변수는 클래스이름(문자열), 상속관계(튜플), 네임스페이스(딕셔너리)"
   ]
  },
  {
   "cell_type": "code",
   "execution_count": 18,
   "metadata": {},
   "outputs": [
    {
     "name": "stdout",
     "output_type": "stream",
     "text": [
      "-----------------------------------\n",
      "Allocating memory for class AB\n",
      "<class '__main__.UserType_2'>\n",
      "(<class 'object'>,)\n",
      "{}\n",
      "-----------------------------------\n",
      "Allocating memory for class AB\n",
      "<class '__main__.AB'>\n",
      "(<class 'object'>,)\n",
      "{}\n"
     ]
    }
   ],
   "source": [
    "AB = UserType_2('AB',(object,),{})"
   ]
  },
  {
   "cell_type": "code",
   "execution_count": 19,
   "metadata": {},
   "outputs": [
    {
     "data": {
      "text/plain": [
       "__main__.AB"
      ]
     },
     "execution_count": 19,
     "metadata": {},
     "output_type": "execute_result"
    }
   ],
   "source": [
    "AB"
   ]
  },
  {
   "cell_type": "code",
   "execution_count": 20,
   "metadata": {},
   "outputs": [
    {
     "name": "stdout",
     "output_type": "stream",
     "text": [
      " instance call\n"
     ]
    }
   ],
   "source": [
    "ab = AB()"
   ]
  },
  {
   "cell_type": "code",
   "execution_count": 21,
   "metadata": {},
   "outputs": [],
   "source": [
    "ab"
   ]
  },
  {
   "cell_type": "markdown",
   "metadata": {},
   "source": [
    "### 메타 클래스로 직접 사용해서 처리하기"
   ]
  },
  {
   "cell_type": "code",
   "execution_count": 22,
   "metadata": {},
   "outputs": [
    {
     "name": "stdout",
     "output_type": "stream",
     "text": [
      "-----------------------------------\n",
      "Allocating memory for class AB_\n",
      "<class '__main__.UserType_2'>\n",
      "(<class 'object'>,)\n",
      "{}\n",
      "-----------------------------------\n",
      "Allocating memory for class AB_\n",
      "<class '__main__.AB_'>\n",
      "(<class 'object'>,)\n",
      "{}\n"
     ]
    }
   ],
   "source": [
    "AB_ = type.__call__(UserType_2,'AB_',(object,),{})"
   ]
  },
  {
   "cell_type": "code",
   "execution_count": 23,
   "metadata": {},
   "outputs": [
    {
     "data": {
      "text/plain": [
       "__main__.AB_"
      ]
     },
     "execution_count": 23,
     "metadata": {},
     "output_type": "execute_result"
    }
   ],
   "source": [
    "AB_"
   ]
  },
  {
   "cell_type": "markdown",
   "metadata": {},
   "source": [
    "## 메타 클래스를 사용해서 클래스 만들기"
   ]
  },
  {
   "cell_type": "code",
   "execution_count": 24,
   "metadata": {},
   "outputs": [],
   "source": [
    "class UserType(type) :\n",
    "      def __call__(self,*args) :\n",
    "        ins = self.__new__(self,*args)\n",
    "        self.__init__(ins, *args)\n",
    "        return ins"
   ]
  },
  {
   "cell_type": "markdown",
   "metadata": {},
   "source": [
    "### 클래스 상속관계 내부에 metaclass 매개변수에 메타클래스 정의"
   ]
  },
  {
   "cell_type": "code",
   "execution_count": 25,
   "metadata": {},
   "outputs": [],
   "source": [
    "class A(metaclass=UserType) :\n",
    "    def __new__(cls,x,y) :\n",
    "        return super().__new__(cls)\n",
    "    \n",
    "    def __init__(self, x, y) :\n",
    "        self.x = x\n",
    "        self.y = y\n",
    "        \n",
    "    def __call__(self) :\n",
    "        print(\" user defined class instance call\")"
   ]
  },
  {
   "cell_type": "code",
   "execution_count": 26,
   "metadata": {},
   "outputs": [],
   "source": [
    "a = A(1,2)"
   ]
  },
  {
   "cell_type": "code",
   "execution_count": 27,
   "metadata": {},
   "outputs": [
    {
     "data": {
      "text/plain": [
       "{'x': 1, 'y': 2}"
      ]
     },
     "execution_count": 27,
     "metadata": {},
     "output_type": "execute_result"
    }
   ],
   "source": [
    "a.__dict__"
   ]
  },
  {
   "cell_type": "markdown",
   "metadata": {},
   "source": [
    "## 싱글턴 객체 만들기 "
   ]
  },
  {
   "cell_type": "code",
   "execution_count": 49,
   "metadata": {},
   "outputs": [],
   "source": [
    "class Single :\n",
    "    _instance = None\n",
    "    def __new__(cls,*args) :\n",
    "        print(\" class \", cls)\n",
    "        if Single._instance == None :\n",
    "            Single._instance = super().__new__(cls)\n",
    "        \n",
    "        return Single._instance\n",
    "    \n",
    "    def __init__(self, x, y) :\n",
    "        self.x = x\n",
    "        self.y = y"
   ]
  },
  {
   "cell_type": "code",
   "execution_count": 50,
   "metadata": {},
   "outputs": [
    {
     "data": {
      "text/plain": [
       "'\\nclass Single :\\n    _instance = None\\n    def __new__(cls, *args) :\\n        print(\" class \", cls)\\n        if Single._instance == None :\\n            Single._instance = super().__new__(cls)\\n            \\n        return Single._instace\\n    \\n    def __init__(self, x, y) :\\n        self.x = x\\n        self.y = y\\n'"
      ]
     },
     "execution_count": 50,
     "metadata": {},
     "output_type": "execute_result"
    }
   ],
   "source": [
    "\"\"\"\n",
    "class Single :\n",
    "    _instance = None\n",
    "    def __new__(cls, *args) :\n",
    "        print(\" class \", cls)\n",
    "        if Single._instance == None :\n",
    "            Single._instance = super().__new__(cls)\n",
    "            \n",
    "        return Single._instace\n",
    "    \n",
    "    def __init__(self, x, y) :\n",
    "        self.x = x\n",
    "        self.y = y\n",
    "\"\"\""
   ]
  },
  {
   "cell_type": "code",
   "execution_count": 51,
   "metadata": {},
   "outputs": [
    {
     "name": "stdout",
     "output_type": "stream",
     "text": [
      " class  <class '__main__.Single'>\n"
     ]
    }
   ],
   "source": [
    "s = Single(10,20)"
   ]
  },
  {
   "cell_type": "code",
   "execution_count": 52,
   "metadata": {},
   "outputs": [
    {
     "data": {
      "text/plain": [
       "<__main__.Single at 0x293f60e1e80>"
      ]
     },
     "execution_count": 52,
     "metadata": {},
     "output_type": "execute_result"
    }
   ],
   "source": [
    "s"
   ]
  },
  {
   "cell_type": "code",
   "execution_count": 53,
   "metadata": {},
   "outputs": [
    {
     "data": {
      "text/plain": [
       "{'x': 10, 'y': 20}"
      ]
     },
     "execution_count": 53,
     "metadata": {},
     "output_type": "execute_result"
    }
   ],
   "source": [
    "s.__dict__"
   ]
  },
  {
   "cell_type": "code",
   "execution_count": 54,
   "metadata": {},
   "outputs": [
    {
     "name": "stdout",
     "output_type": "stream",
     "text": [
      " class  <class '__main__.Single'>\n"
     ]
    }
   ],
   "source": [
    "s1 = Single(10,20)"
   ]
  },
  {
   "cell_type": "code",
   "execution_count": 55,
   "metadata": {},
   "outputs": [
    {
     "data": {
      "text/plain": [
       "<__main__.Single at 0x293f60e1e80>"
      ]
     },
     "execution_count": 55,
     "metadata": {},
     "output_type": "execute_result"
    }
   ],
   "source": [
    "s1"
   ]
  },
  {
   "cell_type": "code",
   "execution_count": 56,
   "metadata": {},
   "outputs": [
    {
     "data": {
      "text/plain": [
       "{'x': 10, 'y': 20}"
      ]
     },
     "execution_count": 56,
     "metadata": {},
     "output_type": "execute_result"
    }
   ],
   "source": [
    "s1.__dict__"
   ]
  },
  {
   "cell_type": "code",
   "execution_count": 57,
   "metadata": {},
   "outputs": [
    {
     "data": {
      "text/plain": [
       "True"
      ]
     },
     "execution_count": 57,
     "metadata": {},
     "output_type": "execute_result"
    }
   ],
   "source": [
    "s is s1"
   ]
  },
  {
   "cell_type": "markdown",
   "metadata": {},
   "source": [
    "### 내장함수를 사용해서 속성에 객체를 저장하도록 처리"
   ]
  },
  {
   "cell_type": "code",
   "execution_count": 90,
   "metadata": {},
   "outputs": [],
   "source": [
    "class PP :\n",
    "    a = 100"
   ]
  },
  {
   "cell_type": "code",
   "execution_count": 91,
   "metadata": {},
   "outputs": [
    {
     "data": {
      "text/plain": [
       "100"
      ]
     },
     "execution_count": 91,
     "metadata": {},
     "output_type": "execute_result"
    }
   ],
   "source": [
    "PP.__dict__['a']"
   ]
  },
  {
   "cell_type": "code",
   "execution_count": 92,
   "metadata": {},
   "outputs": [
    {
     "data": {
      "text/plain": [
       "100"
      ]
     },
     "execution_count": 92,
     "metadata": {},
     "output_type": "execute_result"
    }
   ],
   "source": [
    "getattr(PP,\"a\")"
   ]
  },
  {
   "cell_type": "code",
   "execution_count": 93,
   "metadata": {},
   "outputs": [],
   "source": [
    "setattr(PP,'a',99)"
   ]
  },
  {
   "cell_type": "code",
   "execution_count": 94,
   "metadata": {},
   "outputs": [
    {
     "data": {
      "text/plain": [
       "99"
      ]
     },
     "execution_count": 94,
     "metadata": {},
     "output_type": "execute_result"
    }
   ],
   "source": [
    "PP.__dict__['a']"
   ]
  },
  {
   "cell_type": "code",
   "execution_count": 95,
   "metadata": {},
   "outputs": [],
   "source": [
    "delattr(PP,'a')"
   ]
  },
  {
   "cell_type": "code",
   "execution_count": 64,
   "metadata": {},
   "outputs": [
    {
     "data": {
      "text/plain": [
       "['__class__',\n",
       " '__contains__',\n",
       " '__delattr__',\n",
       " '__delitem__',\n",
       " '__dir__',\n",
       " '__doc__',\n",
       " '__eq__',\n",
       " '__format__',\n",
       " '__ge__',\n",
       " '__getattribute__',\n",
       " '__getitem__',\n",
       " '__gt__',\n",
       " '__hash__',\n",
       " '__init__',\n",
       " '__init_subclass__',\n",
       " '__iter__',\n",
       " '__le__',\n",
       " '__len__',\n",
       " '__lt__',\n",
       " '__ne__',\n",
       " '__new__',\n",
       " '__reduce__',\n",
       " '__reduce_ex__',\n",
       " '__repr__',\n",
       " '__reversed__',\n",
       " '__setattr__',\n",
       " '__setitem__',\n",
       " '__sizeof__',\n",
       " '__str__',\n",
       " '__subclasshook__',\n",
       " 'clear',\n",
       " 'copy',\n",
       " 'fromkeys',\n",
       " 'get',\n",
       " 'items',\n",
       " 'keys',\n",
       " 'pop',\n",
       " 'popitem',\n",
       " 'setdefault',\n",
       " 'update',\n",
       " 'values']"
      ]
     },
     "execution_count": 64,
     "metadata": {},
     "output_type": "execute_result"
    }
   ],
   "source": [
    "dir(dict)"
   ]
  },
  {
   "cell_type": "code",
   "execution_count": 65,
   "metadata": {},
   "outputs": [],
   "source": [
    "PP.a =  99999"
   ]
  },
  {
   "cell_type": "code",
   "execution_count": 66,
   "metadata": {},
   "outputs": [
    {
     "data": {
      "text/plain": [
       "mappingproxy({'__module__': '__main__',\n",
       "              '__dict__': <attribute '__dict__' of 'PP' objects>,\n",
       "              '__weakref__': <attribute '__weakref__' of 'PP' objects>,\n",
       "              '__doc__': None,\n",
       "              'a': 99999})"
      ]
     },
     "execution_count": 66,
     "metadata": {},
     "output_type": "execute_result"
    }
   ],
   "source": [
    "PP.__dict__"
   ]
  },
  {
   "cell_type": "code",
   "execution_count": 70,
   "metadata": {},
   "outputs": [],
   "source": [
    "class Singleton :\n",
    "    def __new__(cls,*args) :\n",
    "        print(\" class \", cls)\n",
    "        if not hasattr(Singleton,\"_instance\") :\n",
    "            Singleton._instance = super().__new__(cls)\n",
    "            Singleton._count = 1\n",
    "        \n",
    "        return getattr(Singleton, \"_instance\")\n",
    "    \n",
    "    def __init__(self, name) :\n",
    "        if not hasattr(self,\"name\")  :\n",
    "            self.name = name\n",
    "            \n",
    "    def __setattr__(self,key,value) : \n",
    "        if not hasattr(self,key)  :\n",
    "            super().__setattr__(key,value)\n",
    "        "
   ]
  },
  {
   "cell_type": "code",
   "execution_count": 71,
   "metadata": {},
   "outputs": [
    {
     "name": "stdout",
     "output_type": "stream",
     "text": [
      " class  <class '__main__.Singleton'>\n"
     ]
    }
   ],
   "source": [
    "s = Singleton(\"sol\")"
   ]
  },
  {
   "cell_type": "code",
   "execution_count": 72,
   "metadata": {},
   "outputs": [
    {
     "data": {
      "text/plain": [
       "'sol'"
      ]
     },
     "execution_count": 72,
     "metadata": {},
     "output_type": "execute_result"
    }
   ],
   "source": [
    "s.name"
   ]
  },
  {
   "cell_type": "code",
   "execution_count": 73,
   "metadata": {},
   "outputs": [],
   "source": [
    "s.name = \"Moon\""
   ]
  },
  {
   "cell_type": "code",
   "execution_count": 74,
   "metadata": {},
   "outputs": [
    {
     "data": {
      "text/plain": [
       "'sol'"
      ]
     },
     "execution_count": 74,
     "metadata": {},
     "output_type": "execute_result"
    }
   ],
   "source": [
    "s.name"
   ]
  },
  {
   "cell_type": "code",
   "execution_count": 75,
   "metadata": {},
   "outputs": [
    {
     "name": "stdout",
     "output_type": "stream",
     "text": [
      " class  <class '__main__.Singleton'>\n"
     ]
    }
   ],
   "source": [
    "s1 = Singleton(\"jong\")"
   ]
  },
  {
   "cell_type": "code",
   "execution_count": 76,
   "metadata": {},
   "outputs": [
    {
     "data": {
      "text/plain": [
       "'sol'"
      ]
     },
     "execution_count": 76,
     "metadata": {},
     "output_type": "execute_result"
    }
   ],
   "source": [
    "s1.name"
   ]
  },
  {
   "cell_type": "code",
   "execution_count": 77,
   "metadata": {},
   "outputs": [
    {
     "data": {
      "text/plain": [
       "[__main__.Singleton, object]"
      ]
     },
     "execution_count": 77,
     "metadata": {},
     "output_type": "execute_result"
    }
   ],
   "source": [
    "Singleton.mro()"
   ]
  },
  {
   "cell_type": "code",
   "execution_count": 83,
   "metadata": {},
   "outputs": [
    {
     "name": "stdout",
     "output_type": "stream",
     "text": [
      " class  <class '__main__.Singleton'>\n"
     ]
    }
   ],
   "source": [
    "ss = Singleton(\"mmm\")"
   ]
  },
  {
   "cell_type": "code",
   "execution_count": 84,
   "metadata": {},
   "outputs": [
    {
     "data": {
      "text/plain": [
       "<__main__.Singleton at 0x293f62c4dc0>"
      ]
     },
     "execution_count": 84,
     "metadata": {},
     "output_type": "execute_result"
    }
   ],
   "source": [
    "ss"
   ]
  },
  {
   "cell_type": "code",
   "execution_count": 87,
   "metadata": {},
   "outputs": [
    {
     "name": "stdout",
     "output_type": "stream",
     "text": [
      " class  <class '__main__.Singleton'>\n"
     ]
    }
   ],
   "source": [
    "ss1 = Singleton(\"nnn\")"
   ]
  },
  {
   "cell_type": "code",
   "execution_count": 88,
   "metadata": {},
   "outputs": [
    {
     "data": {
      "text/plain": [
       "<__main__.Singleton at 0x293f62c4dc0>"
      ]
     },
     "execution_count": 88,
     "metadata": {},
     "output_type": "execute_result"
    }
   ],
   "source": [
    "ss1"
   ]
  },
  {
   "cell_type": "code",
   "execution_count": 89,
   "metadata": {},
   "outputs": [
    {
     "data": {
      "text/plain": [
       "True"
      ]
     },
     "execution_count": 89,
     "metadata": {},
     "output_type": "execute_result"
    }
   ],
   "source": [
    "ss == ss1"
   ]
  },
  {
   "cell_type": "code",
   "execution_count": 96,
   "metadata": {},
   "outputs": [
    {
     "data": {
      "text/plain": [
       "(bool, int, object)"
      ]
     },
     "execution_count": 96,
     "metadata": {},
     "output_type": "execute_result"
    }
   ],
   "source": [
    "bool.__mro__"
   ]
  },
  {
   "cell_type": "code",
   "execution_count": 97,
   "metadata": {},
   "outputs": [
    {
     "data": {
      "text/plain": [
       "(str, object)"
      ]
     },
     "execution_count": 97,
     "metadata": {},
     "output_type": "execute_result"
    }
   ],
   "source": [
    "str.__mro__"
   ]
  },
  {
   "cell_type": "code",
   "execution_count": 98,
   "metadata": {},
   "outputs": [
    {
     "data": {
      "text/plain": [
       "(float, object)"
      ]
     },
     "execution_count": 98,
     "metadata": {},
     "output_type": "execute_result"
    }
   ],
   "source": [
    "float.__mro__"
   ]
  },
  {
   "cell_type": "code",
   "execution_count": 99,
   "metadata": {},
   "outputs": [
    {
     "data": {
      "text/plain": [
       "[bool,\n",
       " <enum 'IntEnum'>,\n",
       " <enum 'IntFlag'>,\n",
       " sre_constants._NamedIntConstant,\n",
       " subprocess.Handle]"
      ]
     },
     "execution_count": 99,
     "metadata": {},
     "output_type": "execute_result"
    }
   ],
   "source": [
    "int.__subclasses__()"
   ]
  },
  {
   "cell_type": "code",
   "execution_count": 105,
   "metadata": {},
   "outputs": [
    {
     "data": {
      "text/plain": [
       "[]"
      ]
     },
     "execution_count": 105,
     "metadata": {},
     "output_type": "execute_result"
    }
   ],
   "source": [
    "bool.__subclasses__()"
   ]
  },
  {
   "cell_type": "code",
   "execution_count": 186,
   "metadata": {},
   "outputs": [
    {
     "data": {
      "application/javascript": [
       "/* Put everything inside the global mpl namespace */\n",
       "/* global mpl */\n",
       "window.mpl = {};\n",
       "\n",
       "mpl.get_websocket_type = function () {\n",
       "    if (typeof WebSocket !== 'undefined') {\n",
       "        return WebSocket;\n",
       "    } else if (typeof MozWebSocket !== 'undefined') {\n",
       "        return MozWebSocket;\n",
       "    } else {\n",
       "        alert(\n",
       "            'Your browser does not have WebSocket support. ' +\n",
       "                'Please try Chrome, Safari or Firefox ≥ 6. ' +\n",
       "                'Firefox 4 and 5 are also supported but you ' +\n",
       "                'have to enable WebSockets in about:config.'\n",
       "        );\n",
       "    }\n",
       "};\n",
       "\n",
       "mpl.figure = function (figure_id, websocket, ondownload, parent_element) {\n",
       "    this.id = figure_id;\n",
       "\n",
       "    this.ws = websocket;\n",
       "\n",
       "    this.supports_binary = this.ws.binaryType !== undefined;\n",
       "\n",
       "    if (!this.supports_binary) {\n",
       "        var warnings = document.getElementById('mpl-warnings');\n",
       "        if (warnings) {\n",
       "            warnings.style.display = 'block';\n",
       "            warnings.textContent =\n",
       "                'This browser does not support binary websocket messages. ' +\n",
       "                'Performance may be slow.';\n",
       "        }\n",
       "    }\n",
       "\n",
       "    this.imageObj = new Image();\n",
       "\n",
       "    this.context = undefined;\n",
       "    this.message = undefined;\n",
       "    this.canvas = undefined;\n",
       "    this.rubberband_canvas = undefined;\n",
       "    this.rubberband_context = undefined;\n",
       "    this.format_dropdown = undefined;\n",
       "\n",
       "    this.image_mode = 'full';\n",
       "\n",
       "    this.root = document.createElement('div');\n",
       "    this.root.setAttribute('style', 'display: inline-block');\n",
       "    this._root_extra_style(this.root);\n",
       "\n",
       "    parent_element.appendChild(this.root);\n",
       "\n",
       "    this._init_header(this);\n",
       "    this._init_canvas(this);\n",
       "    this._init_toolbar(this);\n",
       "\n",
       "    var fig = this;\n",
       "\n",
       "    this.waiting = false;\n",
       "\n",
       "    this.ws.onopen = function () {\n",
       "        fig.send_message('supports_binary', { value: fig.supports_binary });\n",
       "        fig.send_message('send_image_mode', {});\n",
       "        if (fig.ratio !== 1) {\n",
       "            fig.send_message('set_dpi_ratio', { dpi_ratio: fig.ratio });\n",
       "        }\n",
       "        fig.send_message('refresh', {});\n",
       "    };\n",
       "\n",
       "    this.imageObj.onload = function () {\n",
       "        if (fig.image_mode === 'full') {\n",
       "            // Full images could contain transparency (where diff images\n",
       "            // almost always do), so we need to clear the canvas so that\n",
       "            // there is no ghosting.\n",
       "            fig.context.clearRect(0, 0, fig.canvas.width, fig.canvas.height);\n",
       "        }\n",
       "        fig.context.drawImage(fig.imageObj, 0, 0);\n",
       "    };\n",
       "\n",
       "    this.imageObj.onunload = function () {\n",
       "        fig.ws.close();\n",
       "    };\n",
       "\n",
       "    this.ws.onmessage = this._make_on_message_function(this);\n",
       "\n",
       "    this.ondownload = ondownload;\n",
       "};\n",
       "\n",
       "mpl.figure.prototype._init_header = function () {\n",
       "    var titlebar = document.createElement('div');\n",
       "    titlebar.classList =\n",
       "        'ui-dialog-titlebar ui-widget-header ui-corner-all ui-helper-clearfix';\n",
       "    var titletext = document.createElement('div');\n",
       "    titletext.classList = 'ui-dialog-title';\n",
       "    titletext.setAttribute(\n",
       "        'style',\n",
       "        'width: 100%; text-align: center; padding: 3px;'\n",
       "    );\n",
       "    titlebar.appendChild(titletext);\n",
       "    this.root.appendChild(titlebar);\n",
       "    this.header = titletext;\n",
       "};\n",
       "\n",
       "mpl.figure.prototype._canvas_extra_style = function (_canvas_div) {};\n",
       "\n",
       "mpl.figure.prototype._root_extra_style = function (_canvas_div) {};\n",
       "\n",
       "mpl.figure.prototype._init_canvas = function () {\n",
       "    var fig = this;\n",
       "\n",
       "    var canvas_div = (this.canvas_div = document.createElement('div'));\n",
       "    canvas_div.setAttribute(\n",
       "        'style',\n",
       "        'border: 1px solid #ddd;' +\n",
       "            'box-sizing: content-box;' +\n",
       "            'clear: both;' +\n",
       "            'min-height: 1px;' +\n",
       "            'min-width: 1px;' +\n",
       "            'outline: 0;' +\n",
       "            'overflow: hidden;' +\n",
       "            'position: relative;' +\n",
       "            'resize: both;'\n",
       "    );\n",
       "\n",
       "    function on_keyboard_event_closure(name) {\n",
       "        return function (event) {\n",
       "            return fig.key_event(event, name);\n",
       "        };\n",
       "    }\n",
       "\n",
       "    canvas_div.addEventListener(\n",
       "        'keydown',\n",
       "        on_keyboard_event_closure('key_press')\n",
       "    );\n",
       "    canvas_div.addEventListener(\n",
       "        'keyup',\n",
       "        on_keyboard_event_closure('key_release')\n",
       "    );\n",
       "\n",
       "    this._canvas_extra_style(canvas_div);\n",
       "    this.root.appendChild(canvas_div);\n",
       "\n",
       "    var canvas = (this.canvas = document.createElement('canvas'));\n",
       "    canvas.classList.add('mpl-canvas');\n",
       "    canvas.setAttribute('style', 'box-sizing: content-box;');\n",
       "\n",
       "    this.context = canvas.getContext('2d');\n",
       "\n",
       "    var backingStore =\n",
       "        this.context.backingStorePixelRatio ||\n",
       "        this.context.webkitBackingStorePixelRatio ||\n",
       "        this.context.mozBackingStorePixelRatio ||\n",
       "        this.context.msBackingStorePixelRatio ||\n",
       "        this.context.oBackingStorePixelRatio ||\n",
       "        this.context.backingStorePixelRatio ||\n",
       "        1;\n",
       "\n",
       "    this.ratio = (window.devicePixelRatio || 1) / backingStore;\n",
       "\n",
       "    var rubberband_canvas = (this.rubberband_canvas = document.createElement(\n",
       "        'canvas'\n",
       "    ));\n",
       "    rubberband_canvas.setAttribute(\n",
       "        'style',\n",
       "        'box-sizing: content-box; position: absolute; left: 0; top: 0; z-index: 1;'\n",
       "    );\n",
       "\n",
       "    // Apply a ponyfill if ResizeObserver is not implemented by browser.\n",
       "    if (this.ResizeObserver === undefined) {\n",
       "        if (window.ResizeObserver !== undefined) {\n",
       "            this.ResizeObserver = window.ResizeObserver;\n",
       "        } else {\n",
       "            var obs = _JSXTOOLS_RESIZE_OBSERVER({});\n",
       "            this.ResizeObserver = obs.ResizeObserver;\n",
       "        }\n",
       "    }\n",
       "\n",
       "    this.resizeObserverInstance = new this.ResizeObserver(function (entries) {\n",
       "        var nentries = entries.length;\n",
       "        for (var i = 0; i < nentries; i++) {\n",
       "            var entry = entries[i];\n",
       "            var width, height;\n",
       "            if (entry.contentBoxSize) {\n",
       "                if (entry.contentBoxSize instanceof Array) {\n",
       "                    // Chrome 84 implements new version of spec.\n",
       "                    width = entry.contentBoxSize[0].inlineSize;\n",
       "                    height = entry.contentBoxSize[0].blockSize;\n",
       "                } else {\n",
       "                    // Firefox implements old version of spec.\n",
       "                    width = entry.contentBoxSize.inlineSize;\n",
       "                    height = entry.contentBoxSize.blockSize;\n",
       "                }\n",
       "            } else {\n",
       "                // Chrome <84 implements even older version of spec.\n",
       "                width = entry.contentRect.width;\n",
       "                height = entry.contentRect.height;\n",
       "            }\n",
       "\n",
       "            // Keep the size of the canvas and rubber band canvas in sync with\n",
       "            // the canvas container.\n",
       "            if (entry.devicePixelContentBoxSize) {\n",
       "                // Chrome 84 implements new version of spec.\n",
       "                canvas.setAttribute(\n",
       "                    'width',\n",
       "                    entry.devicePixelContentBoxSize[0].inlineSize\n",
       "                );\n",
       "                canvas.setAttribute(\n",
       "                    'height',\n",
       "                    entry.devicePixelContentBoxSize[0].blockSize\n",
       "                );\n",
       "            } else {\n",
       "                canvas.setAttribute('width', width * fig.ratio);\n",
       "                canvas.setAttribute('height', height * fig.ratio);\n",
       "            }\n",
       "            canvas.setAttribute(\n",
       "                'style',\n",
       "                'width: ' + width + 'px; height: ' + height + 'px;'\n",
       "            );\n",
       "\n",
       "            rubberband_canvas.setAttribute('width', width);\n",
       "            rubberband_canvas.setAttribute('height', height);\n",
       "\n",
       "            // And update the size in Python. We ignore the initial 0/0 size\n",
       "            // that occurs as the element is placed into the DOM, which should\n",
       "            // otherwise not happen due to the minimum size styling.\n",
       "            if (fig.ws.readyState == 1 && width != 0 && height != 0) {\n",
       "                fig.request_resize(width, height);\n",
       "            }\n",
       "        }\n",
       "    });\n",
       "    this.resizeObserverInstance.observe(canvas_div);\n",
       "\n",
       "    function on_mouse_event_closure(name) {\n",
       "        return function (event) {\n",
       "            return fig.mouse_event(event, name);\n",
       "        };\n",
       "    }\n",
       "\n",
       "    rubberband_canvas.addEventListener(\n",
       "        'mousedown',\n",
       "        on_mouse_event_closure('button_press')\n",
       "    );\n",
       "    rubberband_canvas.addEventListener(\n",
       "        'mouseup',\n",
       "        on_mouse_event_closure('button_release')\n",
       "    );\n",
       "    // Throttle sequential mouse events to 1 every 20ms.\n",
       "    rubberband_canvas.addEventListener(\n",
       "        'mousemove',\n",
       "        on_mouse_event_closure('motion_notify')\n",
       "    );\n",
       "\n",
       "    rubberband_canvas.addEventListener(\n",
       "        'mouseenter',\n",
       "        on_mouse_event_closure('figure_enter')\n",
       "    );\n",
       "    rubberband_canvas.addEventListener(\n",
       "        'mouseleave',\n",
       "        on_mouse_event_closure('figure_leave')\n",
       "    );\n",
       "\n",
       "    canvas_div.addEventListener('wheel', function (event) {\n",
       "        if (event.deltaY < 0) {\n",
       "            event.step = 1;\n",
       "        } else {\n",
       "            event.step = -1;\n",
       "        }\n",
       "        on_mouse_event_closure('scroll')(event);\n",
       "    });\n",
       "\n",
       "    canvas_div.appendChild(canvas);\n",
       "    canvas_div.appendChild(rubberband_canvas);\n",
       "\n",
       "    this.rubberband_context = rubberband_canvas.getContext('2d');\n",
       "    this.rubberband_context.strokeStyle = '#000000';\n",
       "\n",
       "    this._resize_canvas = function (width, height, forward) {\n",
       "        if (forward) {\n",
       "            canvas_div.style.width = width + 'px';\n",
       "            canvas_div.style.height = height + 'px';\n",
       "        }\n",
       "    };\n",
       "\n",
       "    // Disable right mouse context menu.\n",
       "    this.rubberband_canvas.addEventListener('contextmenu', function (_e) {\n",
       "        event.preventDefault();\n",
       "        return false;\n",
       "    });\n",
       "\n",
       "    function set_focus() {\n",
       "        canvas.focus();\n",
       "        canvas_div.focus();\n",
       "    }\n",
       "\n",
       "    window.setTimeout(set_focus, 100);\n",
       "};\n",
       "\n",
       "mpl.figure.prototype._init_toolbar = function () {\n",
       "    var fig = this;\n",
       "\n",
       "    var toolbar = document.createElement('div');\n",
       "    toolbar.classList = 'mpl-toolbar';\n",
       "    this.root.appendChild(toolbar);\n",
       "\n",
       "    function on_click_closure(name) {\n",
       "        return function (_event) {\n",
       "            return fig.toolbar_button_onclick(name);\n",
       "        };\n",
       "    }\n",
       "\n",
       "    function on_mouseover_closure(tooltip) {\n",
       "        return function (event) {\n",
       "            if (!event.currentTarget.disabled) {\n",
       "                return fig.toolbar_button_onmouseover(tooltip);\n",
       "            }\n",
       "        };\n",
       "    }\n",
       "\n",
       "    fig.buttons = {};\n",
       "    var buttonGroup = document.createElement('div');\n",
       "    buttonGroup.classList = 'mpl-button-group';\n",
       "    for (var toolbar_ind in mpl.toolbar_items) {\n",
       "        var name = mpl.toolbar_items[toolbar_ind][0];\n",
       "        var tooltip = mpl.toolbar_items[toolbar_ind][1];\n",
       "        var image = mpl.toolbar_items[toolbar_ind][2];\n",
       "        var method_name = mpl.toolbar_items[toolbar_ind][3];\n",
       "\n",
       "        if (!name) {\n",
       "            /* Instead of a spacer, we start a new button group. */\n",
       "            if (buttonGroup.hasChildNodes()) {\n",
       "                toolbar.appendChild(buttonGroup);\n",
       "            }\n",
       "            buttonGroup = document.createElement('div');\n",
       "            buttonGroup.classList = 'mpl-button-group';\n",
       "            continue;\n",
       "        }\n",
       "\n",
       "        var button = (fig.buttons[name] = document.createElement('button'));\n",
       "        button.classList = 'mpl-widget';\n",
       "        button.setAttribute('role', 'button');\n",
       "        button.setAttribute('aria-disabled', 'false');\n",
       "        button.addEventListener('click', on_click_closure(method_name));\n",
       "        button.addEventListener('mouseover', on_mouseover_closure(tooltip));\n",
       "\n",
       "        var icon_img = document.createElement('img');\n",
       "        icon_img.src = '_images/' + image + '.png';\n",
       "        icon_img.srcset = '_images/' + image + '_large.png 2x';\n",
       "        icon_img.alt = tooltip;\n",
       "        button.appendChild(icon_img);\n",
       "\n",
       "        buttonGroup.appendChild(button);\n",
       "    }\n",
       "\n",
       "    if (buttonGroup.hasChildNodes()) {\n",
       "        toolbar.appendChild(buttonGroup);\n",
       "    }\n",
       "\n",
       "    var fmt_picker = document.createElement('select');\n",
       "    fmt_picker.classList = 'mpl-widget';\n",
       "    toolbar.appendChild(fmt_picker);\n",
       "    this.format_dropdown = fmt_picker;\n",
       "\n",
       "    for (var ind in mpl.extensions) {\n",
       "        var fmt = mpl.extensions[ind];\n",
       "        var option = document.createElement('option');\n",
       "        option.selected = fmt === mpl.default_extension;\n",
       "        option.innerHTML = fmt;\n",
       "        fmt_picker.appendChild(option);\n",
       "    }\n",
       "\n",
       "    var status_bar = document.createElement('span');\n",
       "    status_bar.classList = 'mpl-message';\n",
       "    toolbar.appendChild(status_bar);\n",
       "    this.message = status_bar;\n",
       "};\n",
       "\n",
       "mpl.figure.prototype.request_resize = function (x_pixels, y_pixels) {\n",
       "    // Request matplotlib to resize the figure. Matplotlib will then trigger a resize in the client,\n",
       "    // which will in turn request a refresh of the image.\n",
       "    this.send_message('resize', { width: x_pixels, height: y_pixels });\n",
       "};\n",
       "\n",
       "mpl.figure.prototype.send_message = function (type, properties) {\n",
       "    properties['type'] = type;\n",
       "    properties['figure_id'] = this.id;\n",
       "    this.ws.send(JSON.stringify(properties));\n",
       "};\n",
       "\n",
       "mpl.figure.prototype.send_draw_message = function () {\n",
       "    if (!this.waiting) {\n",
       "        this.waiting = true;\n",
       "        this.ws.send(JSON.stringify({ type: 'draw', figure_id: this.id }));\n",
       "    }\n",
       "};\n",
       "\n",
       "mpl.figure.prototype.handle_save = function (fig, _msg) {\n",
       "    var format_dropdown = fig.format_dropdown;\n",
       "    var format = format_dropdown.options[format_dropdown.selectedIndex].value;\n",
       "    fig.ondownload(fig, format);\n",
       "};\n",
       "\n",
       "mpl.figure.prototype.handle_resize = function (fig, msg) {\n",
       "    var size = msg['size'];\n",
       "    if (size[0] !== fig.canvas.width || size[1] !== fig.canvas.height) {\n",
       "        fig._resize_canvas(size[0], size[1], msg['forward']);\n",
       "        fig.send_message('refresh', {});\n",
       "    }\n",
       "};\n",
       "\n",
       "mpl.figure.prototype.handle_rubberband = function (fig, msg) {\n",
       "    var x0 = msg['x0'] / fig.ratio;\n",
       "    var y0 = (fig.canvas.height - msg['y0']) / fig.ratio;\n",
       "    var x1 = msg['x1'] / fig.ratio;\n",
       "    var y1 = (fig.canvas.height - msg['y1']) / fig.ratio;\n",
       "    x0 = Math.floor(x0) + 0.5;\n",
       "    y0 = Math.floor(y0) + 0.5;\n",
       "    x1 = Math.floor(x1) + 0.5;\n",
       "    y1 = Math.floor(y1) + 0.5;\n",
       "    var min_x = Math.min(x0, x1);\n",
       "    var min_y = Math.min(y0, y1);\n",
       "    var width = Math.abs(x1 - x0);\n",
       "    var height = Math.abs(y1 - y0);\n",
       "\n",
       "    fig.rubberband_context.clearRect(\n",
       "        0,\n",
       "        0,\n",
       "        fig.canvas.width / fig.ratio,\n",
       "        fig.canvas.height / fig.ratio\n",
       "    );\n",
       "\n",
       "    fig.rubberband_context.strokeRect(min_x, min_y, width, height);\n",
       "};\n",
       "\n",
       "mpl.figure.prototype.handle_figure_label = function (fig, msg) {\n",
       "    // Updates the figure title.\n",
       "    fig.header.textContent = msg['label'];\n",
       "};\n",
       "\n",
       "mpl.figure.prototype.handle_cursor = function (fig, msg) {\n",
       "    var cursor = msg['cursor'];\n",
       "    switch (cursor) {\n",
       "        case 0:\n",
       "            cursor = 'pointer';\n",
       "            break;\n",
       "        case 1:\n",
       "            cursor = 'default';\n",
       "            break;\n",
       "        case 2:\n",
       "            cursor = 'crosshair';\n",
       "            break;\n",
       "        case 3:\n",
       "            cursor = 'move';\n",
       "            break;\n",
       "    }\n",
       "    fig.rubberband_canvas.style.cursor = cursor;\n",
       "};\n",
       "\n",
       "mpl.figure.prototype.handle_message = function (fig, msg) {\n",
       "    fig.message.textContent = msg['message'];\n",
       "};\n",
       "\n",
       "mpl.figure.prototype.handle_draw = function (fig, _msg) {\n",
       "    // Request the server to send over a new figure.\n",
       "    fig.send_draw_message();\n",
       "};\n",
       "\n",
       "mpl.figure.prototype.handle_image_mode = function (fig, msg) {\n",
       "    fig.image_mode = msg['mode'];\n",
       "};\n",
       "\n",
       "mpl.figure.prototype.handle_history_buttons = function (fig, msg) {\n",
       "    for (var key in msg) {\n",
       "        if (!(key in fig.buttons)) {\n",
       "            continue;\n",
       "        }\n",
       "        fig.buttons[key].disabled = !msg[key];\n",
       "        fig.buttons[key].setAttribute('aria-disabled', !msg[key]);\n",
       "    }\n",
       "};\n",
       "\n",
       "mpl.figure.prototype.handle_navigate_mode = function (fig, msg) {\n",
       "    if (msg['mode'] === 'PAN') {\n",
       "        fig.buttons['Pan'].classList.add('active');\n",
       "        fig.buttons['Zoom'].classList.remove('active');\n",
       "    } else if (msg['mode'] === 'ZOOM') {\n",
       "        fig.buttons['Pan'].classList.remove('active');\n",
       "        fig.buttons['Zoom'].classList.add('active');\n",
       "    } else {\n",
       "        fig.buttons['Pan'].classList.remove('active');\n",
       "        fig.buttons['Zoom'].classList.remove('active');\n",
       "    }\n",
       "};\n",
       "\n",
       "mpl.figure.prototype.updated_canvas_event = function () {\n",
       "    // Called whenever the canvas gets updated.\n",
       "    this.send_message('ack', {});\n",
       "};\n",
       "\n",
       "// A function to construct a web socket function for onmessage handling.\n",
       "// Called in the figure constructor.\n",
       "mpl.figure.prototype._make_on_message_function = function (fig) {\n",
       "    return function socket_on_message(evt) {\n",
       "        if (evt.data instanceof Blob) {\n",
       "            /* FIXME: We get \"Resource interpreted as Image but\n",
       "             * transferred with MIME type text/plain:\" errors on\n",
       "             * Chrome.  But how to set the MIME type?  It doesn't seem\n",
       "             * to be part of the websocket stream */\n",
       "            evt.data.type = 'image/png';\n",
       "\n",
       "            /* Free the memory for the previous frames */\n",
       "            if (fig.imageObj.src) {\n",
       "                (window.URL || window.webkitURL).revokeObjectURL(\n",
       "                    fig.imageObj.src\n",
       "                );\n",
       "            }\n",
       "\n",
       "            fig.imageObj.src = (window.URL || window.webkitURL).createObjectURL(\n",
       "                evt.data\n",
       "            );\n",
       "            fig.updated_canvas_event();\n",
       "            fig.waiting = false;\n",
       "            return;\n",
       "        } else if (\n",
       "            typeof evt.data === 'string' &&\n",
       "            evt.data.slice(0, 21) === 'data:image/png;base64'\n",
       "        ) {\n",
       "            fig.imageObj.src = evt.data;\n",
       "            fig.updated_canvas_event();\n",
       "            fig.waiting = false;\n",
       "            return;\n",
       "        }\n",
       "\n",
       "        var msg = JSON.parse(evt.data);\n",
       "        var msg_type = msg['type'];\n",
       "\n",
       "        // Call the  \"handle_{type}\" callback, which takes\n",
       "        // the figure and JSON message as its only arguments.\n",
       "        try {\n",
       "            var callback = fig['handle_' + msg_type];\n",
       "        } catch (e) {\n",
       "            console.log(\n",
       "                \"No handler for the '\" + msg_type + \"' message type: \",\n",
       "                msg\n",
       "            );\n",
       "            return;\n",
       "        }\n",
       "\n",
       "        if (callback) {\n",
       "            try {\n",
       "                // console.log(\"Handling '\" + msg_type + \"' message: \", msg);\n",
       "                callback(fig, msg);\n",
       "            } catch (e) {\n",
       "                console.log(\n",
       "                    \"Exception inside the 'handler_\" + msg_type + \"' callback:\",\n",
       "                    e,\n",
       "                    e.stack,\n",
       "                    msg\n",
       "                );\n",
       "            }\n",
       "        }\n",
       "    };\n",
       "};\n",
       "\n",
       "// from http://stackoverflow.com/questions/1114465/getting-mouse-location-in-canvas\n",
       "mpl.findpos = function (e) {\n",
       "    //this section is from http://www.quirksmode.org/js/events_properties.html\n",
       "    var targ;\n",
       "    if (!e) {\n",
       "        e = window.event;\n",
       "    }\n",
       "    if (e.target) {\n",
       "        targ = e.target;\n",
       "    } else if (e.srcElement) {\n",
       "        targ = e.srcElement;\n",
       "    }\n",
       "    if (targ.nodeType === 3) {\n",
       "        // defeat Safari bug\n",
       "        targ = targ.parentNode;\n",
       "    }\n",
       "\n",
       "    // pageX,Y are the mouse positions relative to the document\n",
       "    var boundingRect = targ.getBoundingClientRect();\n",
       "    var x = e.pageX - (boundingRect.left + document.body.scrollLeft);\n",
       "    var y = e.pageY - (boundingRect.top + document.body.scrollTop);\n",
       "\n",
       "    return { x: x, y: y };\n",
       "};\n",
       "\n",
       "/*\n",
       " * return a copy of an object with only non-object keys\n",
       " * we need this to avoid circular references\n",
       " * http://stackoverflow.com/a/24161582/3208463\n",
       " */\n",
       "function simpleKeys(original) {\n",
       "    return Object.keys(original).reduce(function (obj, key) {\n",
       "        if (typeof original[key] !== 'object') {\n",
       "            obj[key] = original[key];\n",
       "        }\n",
       "        return obj;\n",
       "    }, {});\n",
       "}\n",
       "\n",
       "mpl.figure.prototype.mouse_event = function (event, name) {\n",
       "    var canvas_pos = mpl.findpos(event);\n",
       "\n",
       "    if (name === 'button_press') {\n",
       "        this.canvas.focus();\n",
       "        this.canvas_div.focus();\n",
       "    }\n",
       "\n",
       "    var x = canvas_pos.x * this.ratio;\n",
       "    var y = canvas_pos.y * this.ratio;\n",
       "\n",
       "    this.send_message(name, {\n",
       "        x: x,\n",
       "        y: y,\n",
       "        button: event.button,\n",
       "        step: event.step,\n",
       "        guiEvent: simpleKeys(event),\n",
       "    });\n",
       "\n",
       "    /* This prevents the web browser from automatically changing to\n",
       "     * the text insertion cursor when the button is pressed.  We want\n",
       "     * to control all of the cursor setting manually through the\n",
       "     * 'cursor' event from matplotlib */\n",
       "    event.preventDefault();\n",
       "    return false;\n",
       "};\n",
       "\n",
       "mpl.figure.prototype._key_event_extra = function (_event, _name) {\n",
       "    // Handle any extra behaviour associated with a key event\n",
       "};\n",
       "\n",
       "mpl.figure.prototype.key_event = function (event, name) {\n",
       "    // Prevent repeat events\n",
       "    if (name === 'key_press') {\n",
       "        if (event.which === this._key) {\n",
       "            return;\n",
       "        } else {\n",
       "            this._key = event.which;\n",
       "        }\n",
       "    }\n",
       "    if (name === 'key_release') {\n",
       "        this._key = null;\n",
       "    }\n",
       "\n",
       "    var value = '';\n",
       "    if (event.ctrlKey && event.which !== 17) {\n",
       "        value += 'ctrl+';\n",
       "    }\n",
       "    if (event.altKey && event.which !== 18) {\n",
       "        value += 'alt+';\n",
       "    }\n",
       "    if (event.shiftKey && event.which !== 16) {\n",
       "        value += 'shift+';\n",
       "    }\n",
       "\n",
       "    value += 'k';\n",
       "    value += event.which.toString();\n",
       "\n",
       "    this._key_event_extra(event, name);\n",
       "\n",
       "    this.send_message(name, { key: value, guiEvent: simpleKeys(event) });\n",
       "    return false;\n",
       "};\n",
       "\n",
       "mpl.figure.prototype.toolbar_button_onclick = function (name) {\n",
       "    if (name === 'download') {\n",
       "        this.handle_save(this, null);\n",
       "    } else {\n",
       "        this.send_message('toolbar_button', { name: name });\n",
       "    }\n",
       "};\n",
       "\n",
       "mpl.figure.prototype.toolbar_button_onmouseover = function (tooltip) {\n",
       "    this.message.textContent = tooltip;\n",
       "};\n",
       "\n",
       "///////////////// REMAINING CONTENT GENERATED BY embed_js.py /////////////////\n",
       "// prettier-ignore\n",
       "var _JSXTOOLS_RESIZE_OBSERVER=function(A){var t,i=new WeakMap,n=new WeakMap,a=new WeakMap,r=new WeakMap,o=new Set;function s(e){if(!(this instanceof s))throw new TypeError(\"Constructor requires 'new' operator\");i.set(this,e)}function h(){throw new TypeError(\"Function is not a constructor\")}function c(e,t,i,n){e=0 in arguments?Number(arguments[0]):0,t=1 in arguments?Number(arguments[1]):0,i=2 in arguments?Number(arguments[2]):0,n=3 in arguments?Number(arguments[3]):0,this.right=(this.x=this.left=e)+(this.width=i),this.bottom=(this.y=this.top=t)+(this.height=n),Object.freeze(this)}function d(){t=requestAnimationFrame(d);var s=new WeakMap,p=new Set;o.forEach((function(t){r.get(t).forEach((function(i){var r=t instanceof window.SVGElement,o=a.get(t),d=r?0:parseFloat(o.paddingTop),f=r?0:parseFloat(o.paddingRight),l=r?0:parseFloat(o.paddingBottom),u=r?0:parseFloat(o.paddingLeft),g=r?0:parseFloat(o.borderTopWidth),m=r?0:parseFloat(o.borderRightWidth),w=r?0:parseFloat(o.borderBottomWidth),b=u+f,F=d+l,v=(r?0:parseFloat(o.borderLeftWidth))+m,W=g+w,y=r?0:t.offsetHeight-W-t.clientHeight,E=r?0:t.offsetWidth-v-t.clientWidth,R=b+v,z=F+W,M=r?t.width:parseFloat(o.width)-R-E,O=r?t.height:parseFloat(o.height)-z-y;if(n.has(t)){var k=n.get(t);if(k[0]===M&&k[1]===O)return}n.set(t,[M,O]);var S=Object.create(h.prototype);S.target=t,S.contentRect=new c(u,d,M,O),s.has(i)||(s.set(i,[]),p.add(i)),s.get(i).push(S)}))})),p.forEach((function(e){i.get(e).call(e,s.get(e),e)}))}return s.prototype.observe=function(i){if(i instanceof window.Element){r.has(i)||(r.set(i,new Set),o.add(i),a.set(i,window.getComputedStyle(i)));var n=r.get(i);n.has(this)||n.add(this),cancelAnimationFrame(t),t=requestAnimationFrame(d)}},s.prototype.unobserve=function(i){if(i instanceof window.Element&&r.has(i)){var n=r.get(i);n.has(this)&&(n.delete(this),n.size||(r.delete(i),o.delete(i))),n.size||r.delete(i),o.size||cancelAnimationFrame(t)}},A.DOMRectReadOnly=c,A.ResizeObserver=s,A.ResizeObserverEntry=h,A}; // eslint-disable-line\n",
       "mpl.toolbar_items = [[\"Home\", \"Reset original view\", \"fa fa-home icon-home\", \"home\"], [\"Back\", \"Back to previous view\", \"fa fa-arrow-left icon-arrow-left\", \"back\"], [\"Forward\", \"Forward to next view\", \"fa fa-arrow-right icon-arrow-right\", \"forward\"], [\"\", \"\", \"\", \"\"], [\"Pan\", \"Left button pans, Right button zooms\\nx/y fixes axis, CTRL fixes aspect\", \"fa fa-arrows icon-move\", \"pan\"], [\"Zoom\", \"Zoom to rectangle\\nx/y fixes axis, CTRL fixes aspect\", \"fa fa-square-o icon-check-empty\", \"zoom\"], [\"\", \"\", \"\", \"\"], [\"Download\", \"Download plot\", \"fa fa-floppy-o icon-save\", \"download\"]];\n",
       "\n",
       "mpl.extensions = [\"eps\", \"jpeg\", \"pdf\", \"png\", \"ps\", \"raw\", \"svg\", \"tif\"];\n",
       "\n",
       "mpl.default_extension = \"png\";/* global mpl */\n",
       "\n",
       "var comm_websocket_adapter = function (comm) {\n",
       "    // Create a \"websocket\"-like object which calls the given IPython comm\n",
       "    // object with the appropriate methods. Currently this is a non binary\n",
       "    // socket, so there is still some room for performance tuning.\n",
       "    var ws = {};\n",
       "\n",
       "    ws.close = function () {\n",
       "        comm.close();\n",
       "    };\n",
       "    ws.send = function (m) {\n",
       "        //console.log('sending', m);\n",
       "        comm.send(m);\n",
       "    };\n",
       "    // Register the callback with on_msg.\n",
       "    comm.on_msg(function (msg) {\n",
       "        //console.log('receiving', msg['content']['data'], msg);\n",
       "        // Pass the mpl event to the overridden (by mpl) onmessage function.\n",
       "        ws.onmessage(msg['content']['data']);\n",
       "    });\n",
       "    return ws;\n",
       "};\n",
       "\n",
       "mpl.mpl_figure_comm = function (comm, msg) {\n",
       "    // This is the function which gets called when the mpl process\n",
       "    // starts-up an IPython Comm through the \"matplotlib\" channel.\n",
       "\n",
       "    var id = msg.content.data.id;\n",
       "    // Get hold of the div created by the display call when the Comm\n",
       "    // socket was opened in Python.\n",
       "    var element = document.getElementById(id);\n",
       "    var ws_proxy = comm_websocket_adapter(comm);\n",
       "\n",
       "    function ondownload(figure, _format) {\n",
       "        window.open(figure.canvas.toDataURL());\n",
       "    }\n",
       "\n",
       "    var fig = new mpl.figure(id, ws_proxy, ondownload, element);\n",
       "\n",
       "    // Call onopen now - mpl needs it, as it is assuming we've passed it a real\n",
       "    // web socket which is closed, not our websocket->open comm proxy.\n",
       "    ws_proxy.onopen();\n",
       "\n",
       "    fig.parent_element = element;\n",
       "    fig.cell_info = mpl.find_output_cell(\"<div id='\" + id + \"'></div>\");\n",
       "    if (!fig.cell_info) {\n",
       "        console.error('Failed to find cell for figure', id, fig);\n",
       "        return;\n",
       "    }\n",
       "    fig.cell_info[0].output_area.element.on(\n",
       "        'cleared',\n",
       "        { fig: fig },\n",
       "        fig._remove_fig_handler\n",
       "    );\n",
       "};\n",
       "\n",
       "mpl.figure.prototype.handle_close = function (fig, msg) {\n",
       "    var width = fig.canvas.width / fig.ratio;\n",
       "    fig.cell_info[0].output_area.element.off(\n",
       "        'cleared',\n",
       "        fig._remove_fig_handler\n",
       "    );\n",
       "    fig.resizeObserverInstance.unobserve(fig.canvas_div);\n",
       "\n",
       "    // Update the output cell to use the data from the current canvas.\n",
       "    fig.push_to_output();\n",
       "    var dataURL = fig.canvas.toDataURL();\n",
       "    // Re-enable the keyboard manager in IPython - without this line, in FF,\n",
       "    // the notebook keyboard shortcuts fail.\n",
       "    IPython.keyboard_manager.enable();\n",
       "    fig.parent_element.innerHTML =\n",
       "        '<img src=\"' + dataURL + '\" width=\"' + width + '\">';\n",
       "    fig.close_ws(fig, msg);\n",
       "};\n",
       "\n",
       "mpl.figure.prototype.close_ws = function (fig, msg) {\n",
       "    fig.send_message('closing', msg);\n",
       "    // fig.ws.close()\n",
       "};\n",
       "\n",
       "mpl.figure.prototype.push_to_output = function (_remove_interactive) {\n",
       "    // Turn the data on the canvas into data in the output cell.\n",
       "    var width = this.canvas.width / this.ratio;\n",
       "    var dataURL = this.canvas.toDataURL();\n",
       "    this.cell_info[1]['text/html'] =\n",
       "        '<img src=\"' + dataURL + '\" width=\"' + width + '\">';\n",
       "};\n",
       "\n",
       "mpl.figure.prototype.updated_canvas_event = function () {\n",
       "    // Tell IPython that the notebook contents must change.\n",
       "    IPython.notebook.set_dirty(true);\n",
       "    this.send_message('ack', {});\n",
       "    var fig = this;\n",
       "    // Wait a second, then push the new image to the DOM so\n",
       "    // that it is saved nicely (might be nice to debounce this).\n",
       "    setTimeout(function () {\n",
       "        fig.push_to_output();\n",
       "    }, 1000);\n",
       "};\n",
       "\n",
       "mpl.figure.prototype._init_toolbar = function () {\n",
       "    var fig = this;\n",
       "\n",
       "    var toolbar = document.createElement('div');\n",
       "    toolbar.classList = 'btn-toolbar';\n",
       "    this.root.appendChild(toolbar);\n",
       "\n",
       "    function on_click_closure(name) {\n",
       "        return function (_event) {\n",
       "            return fig.toolbar_button_onclick(name);\n",
       "        };\n",
       "    }\n",
       "\n",
       "    function on_mouseover_closure(tooltip) {\n",
       "        return function (event) {\n",
       "            if (!event.currentTarget.disabled) {\n",
       "                return fig.toolbar_button_onmouseover(tooltip);\n",
       "            }\n",
       "        };\n",
       "    }\n",
       "\n",
       "    fig.buttons = {};\n",
       "    var buttonGroup = document.createElement('div');\n",
       "    buttonGroup.classList = 'btn-group';\n",
       "    var button;\n",
       "    for (var toolbar_ind in mpl.toolbar_items) {\n",
       "        var name = mpl.toolbar_items[toolbar_ind][0];\n",
       "        var tooltip = mpl.toolbar_items[toolbar_ind][1];\n",
       "        var image = mpl.toolbar_items[toolbar_ind][2];\n",
       "        var method_name = mpl.toolbar_items[toolbar_ind][3];\n",
       "\n",
       "        if (!name) {\n",
       "            /* Instead of a spacer, we start a new button group. */\n",
       "            if (buttonGroup.hasChildNodes()) {\n",
       "                toolbar.appendChild(buttonGroup);\n",
       "            }\n",
       "            buttonGroup = document.createElement('div');\n",
       "            buttonGroup.classList = 'btn-group';\n",
       "            continue;\n",
       "        }\n",
       "\n",
       "        button = fig.buttons[name] = document.createElement('button');\n",
       "        button.classList = 'btn btn-default';\n",
       "        button.href = '#';\n",
       "        button.title = name;\n",
       "        button.innerHTML = '<i class=\"fa ' + image + ' fa-lg\"></i>';\n",
       "        button.addEventListener('click', on_click_closure(method_name));\n",
       "        button.addEventListener('mouseover', on_mouseover_closure(tooltip));\n",
       "        buttonGroup.appendChild(button);\n",
       "    }\n",
       "\n",
       "    if (buttonGroup.hasChildNodes()) {\n",
       "        toolbar.appendChild(buttonGroup);\n",
       "    }\n",
       "\n",
       "    // Add the status bar.\n",
       "    var status_bar = document.createElement('span');\n",
       "    status_bar.classList = 'mpl-message pull-right';\n",
       "    toolbar.appendChild(status_bar);\n",
       "    this.message = status_bar;\n",
       "\n",
       "    // Add the close button to the window.\n",
       "    var buttongrp = document.createElement('div');\n",
       "    buttongrp.classList = 'btn-group inline pull-right';\n",
       "    button = document.createElement('button');\n",
       "    button.classList = 'btn btn-mini btn-primary';\n",
       "    button.href = '#';\n",
       "    button.title = 'Stop Interaction';\n",
       "    button.innerHTML = '<i class=\"fa fa-power-off icon-remove icon-large\"></i>';\n",
       "    button.addEventListener('click', function (_evt) {\n",
       "        fig.handle_close(fig, {});\n",
       "    });\n",
       "    button.addEventListener(\n",
       "        'mouseover',\n",
       "        on_mouseover_closure('Stop Interaction')\n",
       "    );\n",
       "    buttongrp.appendChild(button);\n",
       "    var titlebar = this.root.querySelector('.ui-dialog-titlebar');\n",
       "    titlebar.insertBefore(buttongrp, titlebar.firstChild);\n",
       "};\n",
       "\n",
       "mpl.figure.prototype._remove_fig_handler = function (event) {\n",
       "    var fig = event.data.fig;\n",
       "    if (event.target !== this) {\n",
       "        // Ignore bubbled events from children.\n",
       "        return;\n",
       "    }\n",
       "    fig.close_ws(fig, {});\n",
       "};\n",
       "\n",
       "mpl.figure.prototype._root_extra_style = function (el) {\n",
       "    el.style.boxSizing = 'content-box'; // override notebook setting of border-box.\n",
       "};\n",
       "\n",
       "mpl.figure.prototype._canvas_extra_style = function (el) {\n",
       "    // this is important to make the div 'focusable\n",
       "    el.setAttribute('tabindex', 0);\n",
       "    // reach out to IPython and tell the keyboard manager to turn it's self\n",
       "    // off when our div gets focus\n",
       "\n",
       "    // location in version 3\n",
       "    if (IPython.notebook.keyboard_manager) {\n",
       "        IPython.notebook.keyboard_manager.register_events(el);\n",
       "    } else {\n",
       "        // location in version 2\n",
       "        IPython.keyboard_manager.register_events(el);\n",
       "    }\n",
       "};\n",
       "\n",
       "mpl.figure.prototype._key_event_extra = function (event, _name) {\n",
       "    var manager = IPython.notebook.keyboard_manager;\n",
       "    if (!manager) {\n",
       "        manager = IPython.keyboard_manager;\n",
       "    }\n",
       "\n",
       "    // Check for shift+enter\n",
       "    if (event.shiftKey && event.which === 13) {\n",
       "        this.canvas_div.blur();\n",
       "        // select the cell after this one\n",
       "        var index = IPython.notebook.find_cell_index(this.cell_info[0]);\n",
       "        IPython.notebook.select(index + 1);\n",
       "    }\n",
       "};\n",
       "\n",
       "mpl.figure.prototype.handle_save = function (fig, _msg) {\n",
       "    fig.ondownload(fig, null);\n",
       "};\n",
       "\n",
       "mpl.find_output_cell = function (html_output) {\n",
       "    // Return the cell and output element which can be found *uniquely* in the notebook.\n",
       "    // Note - this is a bit hacky, but it is done because the \"notebook_saving.Notebook\"\n",
       "    // IPython event is triggered only after the cells have been serialised, which for\n",
       "    // our purposes (turning an active figure into a static one), is too late.\n",
       "    var cells = IPython.notebook.get_cells();\n",
       "    var ncells = cells.length;\n",
       "    for (var i = 0; i < ncells; i++) {\n",
       "        var cell = cells[i];\n",
       "        if (cell.cell_type === 'code') {\n",
       "            for (var j = 0; j < cell.output_area.outputs.length; j++) {\n",
       "                var data = cell.output_area.outputs[j];\n",
       "                if (data.data) {\n",
       "                    // IPython >= 3 moved mimebundle to data attribute of output\n",
       "                    data = data.data;\n",
       "                }\n",
       "                if (data['text/html'] === html_output) {\n",
       "                    return [cell, data, j];\n",
       "                }\n",
       "            }\n",
       "        }\n",
       "    }\n",
       "};\n",
       "\n",
       "// Register the function which deals with the matplotlib target/channel.\n",
       "// The kernel may be null if the page has been refreshed.\n",
       "if (IPython.notebook.kernel !== null) {\n",
       "    IPython.notebook.kernel.comm_manager.register_target(\n",
       "        'matplotlib',\n",
       "        mpl.mpl_figure_comm\n",
       "    );\n",
       "}\n"
      ],
      "text/plain": [
       "<IPython.core.display.Javascript object>"
      ]
     },
     "metadata": {},
     "output_type": "display_data"
    },
    {
     "data": {
      "text/html": [
       "<img src=\"data:image/png;base64,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\" width=\"432\">"
      ],
      "text/plain": [
       "<IPython.core.display.HTML object>"
      ]
     },
     "metadata": {},
     "output_type": "display_data"
    }
   ],
   "source": [
    "import numpy as np\n",
    "from matplotlib import pyplot as plt\n",
    "\n",
    "ys = 200 + np.random.randn(100)\n",
    "x = [x for x in range(len(ys))]\n",
    "\n",
    "plt.plot(x, ys, '-')\n",
    "plt.fill_between(x, ys, 195, where=(ys > 195), facecolor='b', alpha=0.6)\n",
    "\n",
    "plt.title(\"Sample Visualization\")\n",
    "plt.show()"
   ]
  },
  {
   "cell_type": "code",
   "execution_count": 154,
   "metadata": {},
   "outputs": [
    {
     "name": "stdout",
     "output_type": "stream",
     "text": [
      "Requirement already satisfied: tensorflow in c:\\users\\a\\anaconda3\\lib\\site-packages (2.5.0)\n",
      "Requirement already satisfied: astunparse~=1.6.3 in c:\\users\\a\\anaconda3\\lib\\site-packages (from tensorflow) (1.6.3)\n",
      "Requirement already satisfied: wrapt~=1.12.1 in c:\\users\\a\\anaconda3\\lib\\site-packages (from tensorflow) (1.12.1)\n",
      "Requirement already satisfied: tensorboard~=2.5 in c:\\users\\a\\anaconda3\\lib\\site-packages (from tensorflow) (2.5.0)\n",
      "Requirement already satisfied: six~=1.15.0 in c:\\users\\a\\anaconda3\\lib\\site-packages (from tensorflow) (1.15.0)\n",
      "Requirement already satisfied: absl-py~=0.10 in c:\\users\\a\\anaconda3\\lib\\site-packages (from tensorflow) (0.13.0)\n",
      "Requirement already satisfied: opt-einsum~=3.3.0 in c:\\users\\a\\anaconda3\\lib\\site-packages (from tensorflow) (3.3.0)\n",
      "Requirement already satisfied: wheel~=0.35 in c:\\users\\a\\anaconda3\\lib\\site-packages (from tensorflow) (0.36.2)\n",
      "Requirement already satisfied: termcolor~=1.1.0 in c:\\users\\a\\anaconda3\\lib\\site-packages (from tensorflow) (1.1.0)\n",
      "Requirement already satisfied: keras-nightly~=2.5.0.dev in c:\\users\\a\\anaconda3\\lib\\site-packages (from tensorflow) (2.5.0.dev2021032900)\n",
      "Requirement already satisfied: keras-preprocessing~=1.1.2 in c:\\users\\a\\anaconda3\\lib\\site-packages (from tensorflow) (1.1.2)\n",
      "Requirement already satisfied: typing-extensions~=3.7.4 in c:\\users\\a\\anaconda3\\lib\\site-packages (from tensorflow) (3.7.4.3)\n",
      "Requirement already satisfied: protobuf>=3.9.2 in c:\\users\\a\\anaconda3\\lib\\site-packages (from tensorflow) (3.17.3)\n",
      "Requirement already satisfied: h5py~=3.1.0 in c:\\users\\a\\anaconda3\\lib\\site-packages (from tensorflow) (3.1.0)\n",
      "Requirement already satisfied: numpy~=1.19.2 in c:\\users\\a\\anaconda3\\lib\\site-packages (from tensorflow) (1.19.5)\n",
      "Requirement already satisfied: tensorflow-estimator<2.6.0,>=2.5.0rc0 in c:\\users\\a\\anaconda3\\lib\\site-packages (from tensorflow) (2.5.0)\n",
      "Requirement already satisfied: gast==0.4.0 in c:\\users\\a\\anaconda3\\lib\\site-packages (from tensorflow) (0.4.0)\n",
      "Requirement already satisfied: google-pasta~=0.2 in c:\\users\\a\\anaconda3\\lib\\site-packages (from tensorflow) (0.2.0)\n",
      "Requirement already satisfied: flatbuffers~=1.12.0 in c:\\users\\a\\anaconda3\\lib\\site-packages (from tensorflow) (1.12)\n",
      "Requirement already satisfied: grpcio~=1.34.0 in c:\\users\\a\\anaconda3\\lib\\site-packages (from tensorflow) (1.34.1)\n",
      "Requirement already satisfied: tensorboard-data-server<0.7.0,>=0.6.0 in c:\\users\\a\\anaconda3\\lib\\site-packages (from tensorboard~=2.5->tensorflow) (0.6.1)\n",
      "Requirement already satisfied: setuptools>=41.0.0 in c:\\users\\a\\anaconda3\\lib\\site-packages (from tensorboard~=2.5->tensorflow) (52.0.0.post20210125)\n",
      "Requirement already satisfied: google-auth-oauthlib<0.5,>=0.4.1 in c:\\users\\a\\anaconda3\\lib\\site-packages (from tensorboard~=2.5->tensorflow) (0.4.4)\n",
      "Requirement already satisfied: tensorboard-plugin-wit>=1.6.0 in c:\\users\\a\\anaconda3\\lib\\site-packages (from tensorboard~=2.5->tensorflow) (1.8.0)\n",
      "Requirement already satisfied: markdown>=2.6.8 in c:\\users\\a\\anaconda3\\lib\\site-packages (from tensorboard~=2.5->tensorflow) (3.3.4)\n",
      "Requirement already satisfied: requests<3,>=2.21.0 in c:\\users\\a\\anaconda3\\lib\\site-packages (from tensorboard~=2.5->tensorflow) (2.25.1)\n",
      "Requirement already satisfied: werkzeug>=0.11.15 in c:\\users\\a\\anaconda3\\lib\\site-packages (from tensorboard~=2.5->tensorflow) (1.0.1)\n",
      "Requirement already satisfied: google-auth<2,>=1.6.3 in c:\\users\\a\\anaconda3\\lib\\site-packages (from tensorboard~=2.5->tensorflow) (1.33.0)\n",
      "Requirement already satisfied: rsa<5,>=3.1.4 in c:\\users\\a\\anaconda3\\lib\\site-packages (from google-auth<2,>=1.6.3->tensorboard~=2.5->tensorflow) (4.7.2)\n",
      "Requirement already satisfied: cachetools<5.0,>=2.0.0 in c:\\users\\a\\anaconda3\\lib\\site-packages (from google-auth<2,>=1.6.3->tensorboard~=2.5->tensorflow) (4.2.2)\n",
      "Requirement already satisfied: pyasn1-modules>=0.2.1 in c:\\users\\a\\anaconda3\\lib\\site-packages (from google-auth<2,>=1.6.3->tensorboard~=2.5->tensorflow) (0.2.8)\n",
      "Requirement already satisfied: requests-oauthlib>=0.7.0 in c:\\users\\a\\anaconda3\\lib\\site-packages (from google-auth-oauthlib<0.5,>=0.4.1->tensorboard~=2.5->tensorflow) (1.3.0)\n",
      "Requirement already satisfied: pyasn1<0.5.0,>=0.4.6 in c:\\users\\a\\anaconda3\\lib\\site-packages (from pyasn1-modules>=0.2.1->google-auth<2,>=1.6.3->tensorboard~=2.5->tensorflow) (0.4.8)\n",
      "Requirement already satisfied: chardet<5,>=3.0.2 in c:\\users\\a\\anaconda3\\lib\\site-packages (from requests<3,>=2.21.0->tensorboard~=2.5->tensorflow) (4.0.0)\n",
      "Requirement already satisfied: idna<3,>=2.5 in c:\\users\\a\\anaconda3\\lib\\site-packages (from requests<3,>=2.21.0->tensorboard~=2.5->tensorflow) (2.10)\n",
      "Requirement already satisfied: certifi>=2017.4.17 in c:\\users\\a\\anaconda3\\lib\\site-packages (from requests<3,>=2.21.0->tensorboard~=2.5->tensorflow) (2020.12.5)\n",
      "Requirement already satisfied: urllib3<1.27,>=1.21.1 in c:\\users\\a\\anaconda3\\lib\\site-packages (from requests<3,>=2.21.0->tensorboard~=2.5->tensorflow) (1.26.4)\n",
      "Requirement already satisfied: oauthlib>=3.0.0 in c:\\users\\a\\anaconda3\\lib\\site-packages (from requests-oauthlib>=0.7.0->google-auth-oauthlib<0.5,>=0.4.1->tensorboard~=2.5->tensorflow) (3.1.1)\n"
     ]
    }
   ],
   "source": [
    "!pip install tensorflow"
   ]
  },
  {
   "cell_type": "code",
   "execution_count": 155,
   "metadata": {},
   "outputs": [],
   "source": [
    "!pip install -q sklearn\n"
   ]
  },
  {
   "cell_type": "code",
   "execution_count": 184,
   "metadata": {},
   "outputs": [],
   "source": [
    "import os\n",
    "import sys\n",
    "\n",
    "import numpy as np\n",
    "import pandas as pd\n",
    "import matplotlib.pyplot as plt\n",
    "from IPython.display import clear_output\n",
    "from six.moves import urllib"
   ]
  },
  {
   "cell_type": "code",
   "execution_count": 185,
   "metadata": {},
   "outputs": [],
   "source": [
    "import tensorflow.compat.v2.feature_column as fc\n",
    "\n",
    "import tensorflow as tf"
   ]
  },
  {
   "cell_type": "code",
   "execution_count": 158,
   "metadata": {},
   "outputs": [],
   "source": [
    "# 데이터셋 불러오기.\n",
    "dftrain = pd.read_csv('https://storage.googleapis.com/tf-datasets/titanic/train.csv')\n",
    "dfeval = pd.read_csv('https://storage.googleapis.com/tf-datasets/titanic/eval.csv')\n",
    "y_train = dftrain.pop('survived')\n",
    "y_eval = dfeval.pop('survived')\n"
   ]
  },
  {
   "cell_type": "code",
   "execution_count": 159,
   "metadata": {},
   "outputs": [
    {
     "data": {
      "text/html": [
       "<div>\n",
       "<style scoped>\n",
       "    .dataframe tbody tr th:only-of-type {\n",
       "        vertical-align: middle;\n",
       "    }\n",
       "\n",
       "    .dataframe tbody tr th {\n",
       "        vertical-align: top;\n",
       "    }\n",
       "\n",
       "    .dataframe thead th {\n",
       "        text-align: right;\n",
       "    }\n",
       "</style>\n",
       "<table border=\"1\" class=\"dataframe\">\n",
       "  <thead>\n",
       "    <tr style=\"text-align: right;\">\n",
       "      <th></th>\n",
       "      <th>sex</th>\n",
       "      <th>age</th>\n",
       "      <th>n_siblings_spouses</th>\n",
       "      <th>parch</th>\n",
       "      <th>fare</th>\n",
       "      <th>class</th>\n",
       "      <th>deck</th>\n",
       "      <th>embark_town</th>\n",
       "      <th>alone</th>\n",
       "    </tr>\n",
       "  </thead>\n",
       "  <tbody>\n",
       "    <tr>\n",
       "      <th>0</th>\n",
       "      <td>male</td>\n",
       "      <td>22.0</td>\n",
       "      <td>1</td>\n",
       "      <td>0</td>\n",
       "      <td>7.2500</td>\n",
       "      <td>Third</td>\n",
       "      <td>unknown</td>\n",
       "      <td>Southampton</td>\n",
       "      <td>n</td>\n",
       "    </tr>\n",
       "    <tr>\n",
       "      <th>1</th>\n",
       "      <td>female</td>\n",
       "      <td>38.0</td>\n",
       "      <td>1</td>\n",
       "      <td>0</td>\n",
       "      <td>71.2833</td>\n",
       "      <td>First</td>\n",
       "      <td>C</td>\n",
       "      <td>Cherbourg</td>\n",
       "      <td>n</td>\n",
       "    </tr>\n",
       "    <tr>\n",
       "      <th>2</th>\n",
       "      <td>female</td>\n",
       "      <td>26.0</td>\n",
       "      <td>0</td>\n",
       "      <td>0</td>\n",
       "      <td>7.9250</td>\n",
       "      <td>Third</td>\n",
       "      <td>unknown</td>\n",
       "      <td>Southampton</td>\n",
       "      <td>y</td>\n",
       "    </tr>\n",
       "    <tr>\n",
       "      <th>3</th>\n",
       "      <td>female</td>\n",
       "      <td>35.0</td>\n",
       "      <td>1</td>\n",
       "      <td>0</td>\n",
       "      <td>53.1000</td>\n",
       "      <td>First</td>\n",
       "      <td>C</td>\n",
       "      <td>Southampton</td>\n",
       "      <td>n</td>\n",
       "    </tr>\n",
       "    <tr>\n",
       "      <th>4</th>\n",
       "      <td>male</td>\n",
       "      <td>28.0</td>\n",
       "      <td>0</td>\n",
       "      <td>0</td>\n",
       "      <td>8.4583</td>\n",
       "      <td>Third</td>\n",
       "      <td>unknown</td>\n",
       "      <td>Queenstown</td>\n",
       "      <td>y</td>\n",
       "    </tr>\n",
       "  </tbody>\n",
       "</table>\n",
       "</div>"
      ],
      "text/plain": [
       "      sex   age  n_siblings_spouses  parch     fare  class     deck  \\\n",
       "0    male  22.0                   1      0   7.2500  Third  unknown   \n",
       "1  female  38.0                   1      0  71.2833  First        C   \n",
       "2  female  26.0                   0      0   7.9250  Third  unknown   \n",
       "3  female  35.0                   1      0  53.1000  First        C   \n",
       "4    male  28.0                   0      0   8.4583  Third  unknown   \n",
       "\n",
       "   embark_town alone  \n",
       "0  Southampton     n  \n",
       "1    Cherbourg     n  \n",
       "2  Southampton     y  \n",
       "3  Southampton     n  \n",
       "4   Queenstown     y  "
      ]
     },
     "execution_count": 159,
     "metadata": {},
     "output_type": "execute_result"
    }
   ],
   "source": [
    "dftrain.head()"
   ]
  },
  {
   "cell_type": "code",
   "execution_count": 160,
   "metadata": {},
   "outputs": [
    {
     "data": {
      "text/html": [
       "<div>\n",
       "<style scoped>\n",
       "    .dataframe tbody tr th:only-of-type {\n",
       "        vertical-align: middle;\n",
       "    }\n",
       "\n",
       "    .dataframe tbody tr th {\n",
       "        vertical-align: top;\n",
       "    }\n",
       "\n",
       "    .dataframe thead th {\n",
       "        text-align: right;\n",
       "    }\n",
       "</style>\n",
       "<table border=\"1\" class=\"dataframe\">\n",
       "  <thead>\n",
       "    <tr style=\"text-align: right;\">\n",
       "      <th></th>\n",
       "      <th>age</th>\n",
       "      <th>n_siblings_spouses</th>\n",
       "      <th>parch</th>\n",
       "      <th>fare</th>\n",
       "    </tr>\n",
       "  </thead>\n",
       "  <tbody>\n",
       "    <tr>\n",
       "      <th>count</th>\n",
       "      <td>627.000000</td>\n",
       "      <td>627.000000</td>\n",
       "      <td>627.000000</td>\n",
       "      <td>627.000000</td>\n",
       "    </tr>\n",
       "    <tr>\n",
       "      <th>mean</th>\n",
       "      <td>29.631308</td>\n",
       "      <td>0.545455</td>\n",
       "      <td>0.379585</td>\n",
       "      <td>34.385399</td>\n",
       "    </tr>\n",
       "    <tr>\n",
       "      <th>std</th>\n",
       "      <td>12.511818</td>\n",
       "      <td>1.151090</td>\n",
       "      <td>0.792999</td>\n",
       "      <td>54.597730</td>\n",
       "    </tr>\n",
       "    <tr>\n",
       "      <th>min</th>\n",
       "      <td>0.750000</td>\n",
       "      <td>0.000000</td>\n",
       "      <td>0.000000</td>\n",
       "      <td>0.000000</td>\n",
       "    </tr>\n",
       "    <tr>\n",
       "      <th>25%</th>\n",
       "      <td>23.000000</td>\n",
       "      <td>0.000000</td>\n",
       "      <td>0.000000</td>\n",
       "      <td>7.895800</td>\n",
       "    </tr>\n",
       "    <tr>\n",
       "      <th>50%</th>\n",
       "      <td>28.000000</td>\n",
       "      <td>0.000000</td>\n",
       "      <td>0.000000</td>\n",
       "      <td>15.045800</td>\n",
       "    </tr>\n",
       "    <tr>\n",
       "      <th>75%</th>\n",
       "      <td>35.000000</td>\n",
       "      <td>1.000000</td>\n",
       "      <td>0.000000</td>\n",
       "      <td>31.387500</td>\n",
       "    </tr>\n",
       "    <tr>\n",
       "      <th>max</th>\n",
       "      <td>80.000000</td>\n",
       "      <td>8.000000</td>\n",
       "      <td>5.000000</td>\n",
       "      <td>512.329200</td>\n",
       "    </tr>\n",
       "  </tbody>\n",
       "</table>\n",
       "</div>"
      ],
      "text/plain": [
       "              age  n_siblings_spouses       parch        fare\n",
       "count  627.000000          627.000000  627.000000  627.000000\n",
       "mean    29.631308            0.545455    0.379585   34.385399\n",
       "std     12.511818            1.151090    0.792999   54.597730\n",
       "min      0.750000            0.000000    0.000000    0.000000\n",
       "25%     23.000000            0.000000    0.000000    7.895800\n",
       "50%     28.000000            0.000000    0.000000   15.045800\n",
       "75%     35.000000            1.000000    0.000000   31.387500\n",
       "max     80.000000            8.000000    5.000000  512.329200"
      ]
     },
     "execution_count": 160,
     "metadata": {},
     "output_type": "execute_result"
    }
   ],
   "source": [
    "dftrain.describe()"
   ]
  },
  {
   "cell_type": "code",
   "execution_count": 161,
   "metadata": {},
   "outputs": [
    {
     "data": {
      "text/plain": [
       "(627, 264)"
      ]
     },
     "execution_count": 161,
     "metadata": {},
     "output_type": "execute_result"
    }
   ],
   "source": [
    "dftrain.shape[0], dfeval.shape[0]"
   ]
  },
  {
   "cell_type": "code",
   "execution_count": 162,
   "metadata": {},
   "outputs": [
    {
     "data": {
      "text/plain": [
       "(627, 9)"
      ]
     },
     "execution_count": 162,
     "metadata": {},
     "output_type": "execute_result"
    }
   ],
   "source": [
    "dftrain.shape"
   ]
  },
  {
   "cell_type": "code",
   "execution_count": 163,
   "metadata": {},
   "outputs": [
    {
     "data": {
      "text/plain": [
       "(264, 9)"
      ]
     },
     "execution_count": 163,
     "metadata": {},
     "output_type": "execute_result"
    }
   ],
   "source": [
    "dfeval.shape"
   ]
  },
  {
   "cell_type": "code",
   "execution_count": 164,
   "metadata": {},
   "outputs": [
    {
     "data": {
      "text/html": [
       "<div>\n",
       "<style scoped>\n",
       "    .dataframe tbody tr th:only-of-type {\n",
       "        vertical-align: middle;\n",
       "    }\n",
       "\n",
       "    .dataframe tbody tr th {\n",
       "        vertical-align: top;\n",
       "    }\n",
       "\n",
       "    .dataframe thead th {\n",
       "        text-align: right;\n",
       "    }\n",
       "</style>\n",
       "<table border=\"1\" class=\"dataframe\">\n",
       "  <thead>\n",
       "    <tr style=\"text-align: right;\">\n",
       "      <th></th>\n",
       "      <th>sex</th>\n",
       "      <th>age</th>\n",
       "      <th>n_siblings_spouses</th>\n",
       "      <th>parch</th>\n",
       "      <th>fare</th>\n",
       "      <th>class</th>\n",
       "      <th>deck</th>\n",
       "      <th>embark_town</th>\n",
       "      <th>alone</th>\n",
       "    </tr>\n",
       "  </thead>\n",
       "  <tbody>\n",
       "    <tr>\n",
       "      <th>0</th>\n",
       "      <td>male</td>\n",
       "      <td>35.0</td>\n",
       "      <td>0</td>\n",
       "      <td>0</td>\n",
       "      <td>8.0500</td>\n",
       "      <td>Third</td>\n",
       "      <td>unknown</td>\n",
       "      <td>Southampton</td>\n",
       "      <td>y</td>\n",
       "    </tr>\n",
       "    <tr>\n",
       "      <th>1</th>\n",
       "      <td>male</td>\n",
       "      <td>54.0</td>\n",
       "      <td>0</td>\n",
       "      <td>0</td>\n",
       "      <td>51.8625</td>\n",
       "      <td>First</td>\n",
       "      <td>E</td>\n",
       "      <td>Southampton</td>\n",
       "      <td>y</td>\n",
       "    </tr>\n",
       "    <tr>\n",
       "      <th>2</th>\n",
       "      <td>female</td>\n",
       "      <td>58.0</td>\n",
       "      <td>0</td>\n",
       "      <td>0</td>\n",
       "      <td>26.5500</td>\n",
       "      <td>First</td>\n",
       "      <td>C</td>\n",
       "      <td>Southampton</td>\n",
       "      <td>y</td>\n",
       "    </tr>\n",
       "    <tr>\n",
       "      <th>3</th>\n",
       "      <td>female</td>\n",
       "      <td>55.0</td>\n",
       "      <td>0</td>\n",
       "      <td>0</td>\n",
       "      <td>16.0000</td>\n",
       "      <td>Second</td>\n",
       "      <td>unknown</td>\n",
       "      <td>Southampton</td>\n",
       "      <td>y</td>\n",
       "    </tr>\n",
       "    <tr>\n",
       "      <th>4</th>\n",
       "      <td>male</td>\n",
       "      <td>34.0</td>\n",
       "      <td>0</td>\n",
       "      <td>0</td>\n",
       "      <td>13.0000</td>\n",
       "      <td>Second</td>\n",
       "      <td>D</td>\n",
       "      <td>Southampton</td>\n",
       "      <td>y</td>\n",
       "    </tr>\n",
       "  </tbody>\n",
       "</table>\n",
       "</div>"
      ],
      "text/plain": [
       "      sex   age  n_siblings_spouses  parch     fare   class     deck  \\\n",
       "0    male  35.0                   0      0   8.0500   Third  unknown   \n",
       "1    male  54.0                   0      0  51.8625   First        E   \n",
       "2  female  58.0                   0      0  26.5500   First        C   \n",
       "3  female  55.0                   0      0  16.0000  Second  unknown   \n",
       "4    male  34.0                   0      0  13.0000  Second        D   \n",
       "\n",
       "   embark_town alone  \n",
       "0  Southampton     y  \n",
       "1  Southampton     y  \n",
       "2  Southampton     y  \n",
       "3  Southampton     y  \n",
       "4  Southampton     y  "
      ]
     },
     "execution_count": 164,
     "metadata": {},
     "output_type": "execute_result"
    }
   ],
   "source": [
    "dfeval.head()"
   ]
  },
  {
   "cell_type": "code",
   "execution_count": 187,
   "metadata": {},
   "outputs": [
    {
     "data": {
      "text/html": [
       "<div>\n",
       "<style scoped>\n",
       "    .dataframe tbody tr th:only-of-type {\n",
       "        vertical-align: middle;\n",
       "    }\n",
       "\n",
       "    .dataframe tbody tr th {\n",
       "        vertical-align: top;\n",
       "    }\n",
       "\n",
       "    .dataframe thead th {\n",
       "        text-align: right;\n",
       "    }\n",
       "</style>\n",
       "<table border=\"1\" class=\"dataframe\">\n",
       "  <thead>\n",
       "    <tr style=\"text-align: right;\">\n",
       "      <th></th>\n",
       "      <th>sex</th>\n",
       "      <th>age</th>\n",
       "      <th>n_siblings_spouses</th>\n",
       "      <th>parch</th>\n",
       "      <th>fare</th>\n",
       "      <th>class</th>\n",
       "      <th>deck</th>\n",
       "      <th>embark_town</th>\n",
       "      <th>alone</th>\n",
       "    </tr>\n",
       "  </thead>\n",
       "  <tbody>\n",
       "    <tr>\n",
       "      <th>0</th>\n",
       "      <td>male</td>\n",
       "      <td>35.0</td>\n",
       "      <td>0</td>\n",
       "      <td>0</td>\n",
       "      <td>8.0500</td>\n",
       "      <td>Third</td>\n",
       "      <td>unknown</td>\n",
       "      <td>Southampton</td>\n",
       "      <td>y</td>\n",
       "    </tr>\n",
       "    <tr>\n",
       "      <th>1</th>\n",
       "      <td>male</td>\n",
       "      <td>54.0</td>\n",
       "      <td>0</td>\n",
       "      <td>0</td>\n",
       "      <td>51.8625</td>\n",
       "      <td>First</td>\n",
       "      <td>E</td>\n",
       "      <td>Southampton</td>\n",
       "      <td>y</td>\n",
       "    </tr>\n",
       "    <tr>\n",
       "      <th>2</th>\n",
       "      <td>female</td>\n",
       "      <td>58.0</td>\n",
       "      <td>0</td>\n",
       "      <td>0</td>\n",
       "      <td>26.5500</td>\n",
       "      <td>First</td>\n",
       "      <td>C</td>\n",
       "      <td>Southampton</td>\n",
       "      <td>y</td>\n",
       "    </tr>\n",
       "    <tr>\n",
       "      <th>3</th>\n",
       "      <td>female</td>\n",
       "      <td>55.0</td>\n",
       "      <td>0</td>\n",
       "      <td>0</td>\n",
       "      <td>16.0000</td>\n",
       "      <td>Second</td>\n",
       "      <td>unknown</td>\n",
       "      <td>Southampton</td>\n",
       "      <td>y</td>\n",
       "    </tr>\n",
       "    <tr>\n",
       "      <th>4</th>\n",
       "      <td>male</td>\n",
       "      <td>34.0</td>\n",
       "      <td>0</td>\n",
       "      <td>0</td>\n",
       "      <td>13.0000</td>\n",
       "      <td>Second</td>\n",
       "      <td>D</td>\n",
       "      <td>Southampton</td>\n",
       "      <td>y</td>\n",
       "    </tr>\n",
       "    <tr>\n",
       "      <th>...</th>\n",
       "      <td>...</td>\n",
       "      <td>...</td>\n",
       "      <td>...</td>\n",
       "      <td>...</td>\n",
       "      <td>...</td>\n",
       "      <td>...</td>\n",
       "      <td>...</td>\n",
       "      <td>...</td>\n",
       "      <td>...</td>\n",
       "    </tr>\n",
       "    <tr>\n",
       "      <th>259</th>\n",
       "      <td>female</td>\n",
       "      <td>25.0</td>\n",
       "      <td>0</td>\n",
       "      <td>1</td>\n",
       "      <td>26.0000</td>\n",
       "      <td>Second</td>\n",
       "      <td>unknown</td>\n",
       "      <td>Southampton</td>\n",
       "      <td>n</td>\n",
       "    </tr>\n",
       "    <tr>\n",
       "      <th>260</th>\n",
       "      <td>male</td>\n",
       "      <td>33.0</td>\n",
       "      <td>0</td>\n",
       "      <td>0</td>\n",
       "      <td>7.8958</td>\n",
       "      <td>Third</td>\n",
       "      <td>unknown</td>\n",
       "      <td>Southampton</td>\n",
       "      <td>y</td>\n",
       "    </tr>\n",
       "    <tr>\n",
       "      <th>261</th>\n",
       "      <td>female</td>\n",
       "      <td>39.0</td>\n",
       "      <td>0</td>\n",
       "      <td>5</td>\n",
       "      <td>29.1250</td>\n",
       "      <td>Third</td>\n",
       "      <td>unknown</td>\n",
       "      <td>Queenstown</td>\n",
       "      <td>n</td>\n",
       "    </tr>\n",
       "    <tr>\n",
       "      <th>262</th>\n",
       "      <td>male</td>\n",
       "      <td>27.0</td>\n",
       "      <td>0</td>\n",
       "      <td>0</td>\n",
       "      <td>13.0000</td>\n",
       "      <td>Second</td>\n",
       "      <td>unknown</td>\n",
       "      <td>Southampton</td>\n",
       "      <td>y</td>\n",
       "    </tr>\n",
       "    <tr>\n",
       "      <th>263</th>\n",
       "      <td>male</td>\n",
       "      <td>26.0</td>\n",
       "      <td>0</td>\n",
       "      <td>0</td>\n",
       "      <td>30.0000</td>\n",
       "      <td>First</td>\n",
       "      <td>C</td>\n",
       "      <td>Cherbourg</td>\n",
       "      <td>y</td>\n",
       "    </tr>\n",
       "  </tbody>\n",
       "</table>\n",
       "<p>264 rows × 9 columns</p>\n",
       "</div>"
      ],
      "text/plain": [
       "        sex   age  n_siblings_spouses  parch     fare   class     deck  \\\n",
       "0      male  35.0                   0      0   8.0500   Third  unknown   \n",
       "1      male  54.0                   0      0  51.8625   First        E   \n",
       "2    female  58.0                   0      0  26.5500   First        C   \n",
       "3    female  55.0                   0      0  16.0000  Second  unknown   \n",
       "4      male  34.0                   0      0  13.0000  Second        D   \n",
       "..      ...   ...                 ...    ...      ...     ...      ...   \n",
       "259  female  25.0                   0      1  26.0000  Second  unknown   \n",
       "260    male  33.0                   0      0   7.8958   Third  unknown   \n",
       "261  female  39.0                   0      5  29.1250   Third  unknown   \n",
       "262    male  27.0                   0      0  13.0000  Second  unknown   \n",
       "263    male  26.0                   0      0  30.0000   First        C   \n",
       "\n",
       "     embark_town alone  \n",
       "0    Southampton     y  \n",
       "1    Southampton     y  \n",
       "2    Southampton     y  \n",
       "3    Southampton     y  \n",
       "4    Southampton     y  \n",
       "..           ...   ...  \n",
       "259  Southampton     n  \n",
       "260  Southampton     y  \n",
       "261   Queenstown     n  \n",
       "262  Southampton     y  \n",
       "263    Cherbourg     y  \n",
       "\n",
       "[264 rows x 9 columns]"
      ]
     },
     "execution_count": 187,
     "metadata": {},
     "output_type": "execute_result"
    }
   ],
   "source": [
    "dfeval"
   ]
  },
  {
   "cell_type": "code",
   "execution_count": 188,
   "metadata": {},
   "outputs": [
    {
     "data": {
      "text/html": [
       "<div>\n",
       "<style scoped>\n",
       "    .dataframe tbody tr th:only-of-type {\n",
       "        vertical-align: middle;\n",
       "    }\n",
       "\n",
       "    .dataframe tbody tr th {\n",
       "        vertical-align: top;\n",
       "    }\n",
       "\n",
       "    .dataframe thead th {\n",
       "        text-align: right;\n",
       "    }\n",
       "</style>\n",
       "<table border=\"1\" class=\"dataframe\">\n",
       "  <thead>\n",
       "    <tr style=\"text-align: right;\">\n",
       "      <th></th>\n",
       "      <th>sex</th>\n",
       "      <th>age</th>\n",
       "      <th>n_siblings_spouses</th>\n",
       "      <th>parch</th>\n",
       "      <th>fare</th>\n",
       "      <th>class</th>\n",
       "      <th>deck</th>\n",
       "      <th>embark_town</th>\n",
       "      <th>alone</th>\n",
       "    </tr>\n",
       "  </thead>\n",
       "  <tbody>\n",
       "    <tr>\n",
       "      <th>0</th>\n",
       "      <td>male</td>\n",
       "      <td>22.0</td>\n",
       "      <td>1</td>\n",
       "      <td>0</td>\n",
       "      <td>7.2500</td>\n",
       "      <td>Third</td>\n",
       "      <td>unknown</td>\n",
       "      <td>Southampton</td>\n",
       "      <td>n</td>\n",
       "    </tr>\n",
       "    <tr>\n",
       "      <th>1</th>\n",
       "      <td>female</td>\n",
       "      <td>38.0</td>\n",
       "      <td>1</td>\n",
       "      <td>0</td>\n",
       "      <td>71.2833</td>\n",
       "      <td>First</td>\n",
       "      <td>C</td>\n",
       "      <td>Cherbourg</td>\n",
       "      <td>n</td>\n",
       "    </tr>\n",
       "    <tr>\n",
       "      <th>2</th>\n",
       "      <td>female</td>\n",
       "      <td>26.0</td>\n",
       "      <td>0</td>\n",
       "      <td>0</td>\n",
       "      <td>7.9250</td>\n",
       "      <td>Third</td>\n",
       "      <td>unknown</td>\n",
       "      <td>Southampton</td>\n",
       "      <td>y</td>\n",
       "    </tr>\n",
       "    <tr>\n",
       "      <th>3</th>\n",
       "      <td>female</td>\n",
       "      <td>35.0</td>\n",
       "      <td>1</td>\n",
       "      <td>0</td>\n",
       "      <td>53.1000</td>\n",
       "      <td>First</td>\n",
       "      <td>C</td>\n",
       "      <td>Southampton</td>\n",
       "      <td>n</td>\n",
       "    </tr>\n",
       "    <tr>\n",
       "      <th>4</th>\n",
       "      <td>male</td>\n",
       "      <td>28.0</td>\n",
       "      <td>0</td>\n",
       "      <td>0</td>\n",
       "      <td>8.4583</td>\n",
       "      <td>Third</td>\n",
       "      <td>unknown</td>\n",
       "      <td>Queenstown</td>\n",
       "      <td>y</td>\n",
       "    </tr>\n",
       "    <tr>\n",
       "      <th>...</th>\n",
       "      <td>...</td>\n",
       "      <td>...</td>\n",
       "      <td>...</td>\n",
       "      <td>...</td>\n",
       "      <td>...</td>\n",
       "      <td>...</td>\n",
       "      <td>...</td>\n",
       "      <td>...</td>\n",
       "      <td>...</td>\n",
       "    </tr>\n",
       "    <tr>\n",
       "      <th>622</th>\n",
       "      <td>male</td>\n",
       "      <td>28.0</td>\n",
       "      <td>0</td>\n",
       "      <td>0</td>\n",
       "      <td>10.5000</td>\n",
       "      <td>Second</td>\n",
       "      <td>unknown</td>\n",
       "      <td>Southampton</td>\n",
       "      <td>y</td>\n",
       "    </tr>\n",
       "    <tr>\n",
       "      <th>623</th>\n",
       "      <td>male</td>\n",
       "      <td>25.0</td>\n",
       "      <td>0</td>\n",
       "      <td>0</td>\n",
       "      <td>7.0500</td>\n",
       "      <td>Third</td>\n",
       "      <td>unknown</td>\n",
       "      <td>Southampton</td>\n",
       "      <td>y</td>\n",
       "    </tr>\n",
       "    <tr>\n",
       "      <th>624</th>\n",
       "      <td>female</td>\n",
       "      <td>19.0</td>\n",
       "      <td>0</td>\n",
       "      <td>0</td>\n",
       "      <td>30.0000</td>\n",
       "      <td>First</td>\n",
       "      <td>B</td>\n",
       "      <td>Southampton</td>\n",
       "      <td>y</td>\n",
       "    </tr>\n",
       "    <tr>\n",
       "      <th>625</th>\n",
       "      <td>female</td>\n",
       "      <td>28.0</td>\n",
       "      <td>1</td>\n",
       "      <td>2</td>\n",
       "      <td>23.4500</td>\n",
       "      <td>Third</td>\n",
       "      <td>unknown</td>\n",
       "      <td>Southampton</td>\n",
       "      <td>n</td>\n",
       "    </tr>\n",
       "    <tr>\n",
       "      <th>626</th>\n",
       "      <td>male</td>\n",
       "      <td>32.0</td>\n",
       "      <td>0</td>\n",
       "      <td>0</td>\n",
       "      <td>7.7500</td>\n",
       "      <td>Third</td>\n",
       "      <td>unknown</td>\n",
       "      <td>Queenstown</td>\n",
       "      <td>y</td>\n",
       "    </tr>\n",
       "  </tbody>\n",
       "</table>\n",
       "<p>627 rows × 9 columns</p>\n",
       "</div>"
      ],
      "text/plain": [
       "        sex   age  n_siblings_spouses  parch     fare   class     deck  \\\n",
       "0      male  22.0                   1      0   7.2500   Third  unknown   \n",
       "1    female  38.0                   1      0  71.2833   First        C   \n",
       "2    female  26.0                   0      0   7.9250   Third  unknown   \n",
       "3    female  35.0                   1      0  53.1000   First        C   \n",
       "4      male  28.0                   0      0   8.4583   Third  unknown   \n",
       "..      ...   ...                 ...    ...      ...     ...      ...   \n",
       "622    male  28.0                   0      0  10.5000  Second  unknown   \n",
       "623    male  25.0                   0      0   7.0500   Third  unknown   \n",
       "624  female  19.0                   0      0  30.0000   First        B   \n",
       "625  female  28.0                   1      2  23.4500   Third  unknown   \n",
       "626    male  32.0                   0      0   7.7500   Third  unknown   \n",
       "\n",
       "     embark_town alone  \n",
       "0    Southampton     n  \n",
       "1      Cherbourg     n  \n",
       "2    Southampton     y  \n",
       "3    Southampton     n  \n",
       "4     Queenstown     y  \n",
       "..           ...   ...  \n",
       "622  Southampton     y  \n",
       "623  Southampton     y  \n",
       "624  Southampton     y  \n",
       "625  Southampton     n  \n",
       "626   Queenstown     y  \n",
       "\n",
       "[627 rows x 9 columns]"
      ]
     },
     "execution_count": 188,
     "metadata": {},
     "output_type": "execute_result"
    }
   ],
   "source": [
    "dftrain"
   ]
  },
  {
   "cell_type": "code",
   "execution_count": 165,
   "metadata": {},
   "outputs": [
    {
     "data": {
      "text/plain": [
       "<AxesSubplot:title={'center':'Sample Visualization'}>"
      ]
     },
     "execution_count": 165,
     "metadata": {},
     "output_type": "execute_result"
    }
   ],
   "source": [
    "dftrain.age.hist(bins=20)"
   ]
  },
  {
   "cell_type": "code",
   "execution_count": 166,
   "metadata": {},
   "outputs": [
    {
     "data": {
      "text/plain": [
       "<AxesSubplot:title={'center':'Sample Visualization'}>"
      ]
     },
     "execution_count": 166,
     "metadata": {},
     "output_type": "execute_result"
    }
   ],
   "source": [
    "dftrain.age.hist(bins=20)"
   ]
  },
  {
   "cell_type": "code",
   "execution_count": 167,
   "metadata": {},
   "outputs": [
    {
     "data": {
      "text/plain": [
       "<AxesSubplot:title={'center':'Sample Visualization'}>"
      ]
     },
     "execution_count": 167,
     "metadata": {},
     "output_type": "execute_result"
    }
   ],
   "source": [
    "dftrain.sex.value_counts().plot(kind='barh')"
   ]
  },
  {
   "cell_type": "code",
   "execution_count": 168,
   "metadata": {},
   "outputs": [
    {
     "data": {
      "text/plain": [
       "<AxesSubplot:title={'center':'Sample Visualization'}>"
      ]
     },
     "execution_count": 168,
     "metadata": {},
     "output_type": "execute_result"
    }
   ],
   "source": [
    "dftrain['class'].value_counts().plot(kind='barh')"
   ]
  },
  {
   "cell_type": "code",
   "execution_count": 169,
   "metadata": {},
   "outputs": [
    {
     "data": {
      "text/plain": [
       "Text(0.5, 22.5, '% survive')"
      ]
     },
     "execution_count": 169,
     "metadata": {},
     "output_type": "execute_result"
    }
   ],
   "source": [
    "pd.concat([dftrain, y_train], axis=1).groupby('sex').survived.mean().plot(kind='barh').set_xlabel('% survive')"
   ]
  },
  {
   "cell_type": "code",
   "execution_count": 170,
   "metadata": {},
   "outputs": [],
   "source": [
    "CATEGORICAL_COLUMNS = ['sex', 'n_siblings_spouses', 'parch', 'class', 'deck',\n",
    "                       'embark_town', 'alone']\n",
    "NUMERIC_COLUMNS = ['age', 'fare']\n",
    "\n",
    "feature_columns = []\n",
    "for feature_name in CATEGORICAL_COLUMNS:\n",
    "  vocabulary = dftrain[feature_name].unique()\n",
    "  feature_columns.append(tf.feature_column.categorical_column_with_vocabulary_list(feature_name, vocabulary))\n",
    "\n",
    "for feature_name in NUMERIC_COLUMNS:\n",
    "  feature_columns.append(tf.feature_column.numeric_column(feature_name, dtype=tf.float32))\n"
   ]
  },
  {
   "cell_type": "code",
   "execution_count": 171,
   "metadata": {},
   "outputs": [],
   "source": [
    "def make_input_fn(data_df, label_df, num_epochs=10, shuffle=True, batch_size=32):\n",
    "  def input_function():\n",
    "    ds = tf.data.Dataset.from_tensor_slices((dict(data_df), label_df))\n",
    "    if shuffle:\n",
    "      ds = ds.shuffle(1000)\n",
    "    ds = ds.batch(batch_size).repeat(num_epochs)\n",
    "    return ds\n",
    "  return input_function\n",
    "\n",
    "train_input_fn = make_input_fn(dftrain, y_train)\n",
    "eval_input_fn = make_input_fn(dfeval, y_eval, num_epochs=1, shuffle=False)\n"
   ]
  },
  {
   "cell_type": "code",
   "execution_count": 172,
   "metadata": {},
   "outputs": [
    {
     "name": "stdout",
     "output_type": "stream",
     "text": [
      "특성 키: ['sex', 'age', 'n_siblings_spouses', 'parch', 'fare', 'class', 'deck', 'embark_town', 'alone']\n",
      "\n",
      "클래스 배치: [b'Third' b'First' b'First' b'Third' b'Third' b'Third' b'Third' b'Third'\n",
      " b'First' b'Third']\n",
      "\n",
      "레이블 배치: [0 1 1 0 1 0 1 1 0 1]\n"
     ]
    }
   ],
   "source": [
    "ds = make_input_fn(dftrain, y_train, batch_size=10)()\n",
    "for feature_batch, label_batch in ds.take(1):\n",
    "  print('특성 키:', list(feature_batch.keys()))\n",
    "  print()\n",
    "  print('클래스 배치:', feature_batch['class'].numpy())\n",
    "  print()\n",
    "  print('레이블 배치:', label_batch.numpy())\n"
   ]
  },
  {
   "cell_type": "code",
   "execution_count": 173,
   "metadata": {},
   "outputs": [],
   "source": [
    "CATEGORICAL_COLUMNS = ['sex', 'n_siblings_spouses', 'parch', 'class', 'deck',\n",
    "                       'embark_town', 'alone']\n",
    "NUMERIC_COLUMNS = ['age', 'fare']\n",
    "\n",
    "feature_columns = []\n",
    "for feature_name in CATEGORICAL_COLUMNS:\n",
    "  vocabulary = dftrain[feature_name].unique()\n",
    "  feature_columns.append(tf.feature_column.categorical_column_with_vocabulary_list(feature_name, vocabulary))\n",
    "\n",
    "for feature_name in NUMERIC_COLUMNS:\n",
    "  feature_columns.append(tf.feature_column.numeric_column(feature_name, dtype=tf.float32))\n"
   ]
  },
  {
   "cell_type": "code",
   "execution_count": 174,
   "metadata": {},
   "outputs": [],
   "source": [
    "def make_input_fn(data_df, label_df, num_epochs=10, shuffle=True, batch_size=32):\n",
    "  def input_function():\n",
    "    ds = tf.data.Dataset.from_tensor_slices((dict(data_df), label_df))\n",
    "    if shuffle:\n",
    "      ds = ds.shuffle(1000)\n",
    "    ds = ds.batch(batch_size).repeat(num_epochs)\n",
    "    return ds\n",
    "  return input_function\n",
    "\n",
    "train_input_fn = make_input_fn(dftrain, y_train)\n",
    "eval_input_fn = make_input_fn(dfeval, y_eval, num_epochs=1, shuffle=False)\n"
   ]
  },
  {
   "cell_type": "code",
   "execution_count": 175,
   "metadata": {},
   "outputs": [
    {
     "name": "stdout",
     "output_type": "stream",
     "text": [
      "특성 키: ['sex', 'age', 'n_siblings_spouses', 'parch', 'fare', 'class', 'deck', 'embark_town', 'alone']\n",
      "\n",
      "클래스 배치: [b'Third' b'Third' b'Third' b'Second' b'Third' b'Second' b'Third' b'Third'\n",
      " b'First' b'Third']\n",
      "\n",
      "레이블 배치: [0 0 0 0 0 1 0 0 0 1]\n"
     ]
    }
   ],
   "source": [
    "ds = make_input_fn(dftrain, y_train, batch_size=10)()\n",
    "for feature_batch, label_batch in ds.take(1):\n",
    "  print('특성 키:', list(feature_batch.keys()))\n",
    "  print()\n",
    "  print('클래스 배치:', feature_batch['class'].numpy())\n",
    "  print()\n",
    "  print('레이블 배치:', label_batch.numpy())\n"
   ]
  },
  {
   "cell_type": "code",
   "execution_count": 176,
   "metadata": {},
   "outputs": [
    {
     "data": {
      "text/plain": [
       "array([[34.],\n",
       "       [28.],\n",
       "       [28.],\n",
       "       [57.],\n",
       "       [28.],\n",
       "       [21.],\n",
       "       [18.],\n",
       "       [19.],\n",
       "       [30.],\n",
       "       [ 5.]], dtype=float32)"
      ]
     },
     "execution_count": 176,
     "metadata": {},
     "output_type": "execute_result"
    }
   ],
   "source": [
    "age_column = feature_columns[7]\n",
    "tf.keras.layers.DenseFeatures([age_column])(feature_batch).numpy()\n"
   ]
  },
  {
   "cell_type": "code",
   "execution_count": 177,
   "metadata": {},
   "outputs": [
    {
     "data": {
      "text/plain": [
       "array([[1., 0.],\n",
       "       [1., 0.],\n",
       "       [1., 0.],\n",
       "       [1., 0.],\n",
       "       [1., 0.],\n",
       "       [0., 1.],\n",
       "       [1., 0.],\n",
       "       [1., 0.],\n",
       "       [1., 0.],\n",
       "       [0., 1.]], dtype=float32)"
      ]
     },
     "execution_count": 177,
     "metadata": {},
     "output_type": "execute_result"
    }
   ],
   "source": [
    "gender_column = feature_columns[0]\n",
    "tf.keras.layers.DenseFeatures([tf.feature_column.indicator_column(gender_column)])(feature_batch).numpy()\n"
   ]
  },
  {
   "cell_type": "code",
   "execution_count": 178,
   "metadata": {},
   "outputs": [
    {
     "name": "stdout",
     "output_type": "stream",
     "text": [
      "{'accuracy': 0.75, 'accuracy_baseline': 0.625, 'auc': 0.8217631, 'auc_precision_recall': 0.7490986, 'average_loss': 0.51935583, 'label/mean': 0.375, 'loss': 0.5162833, 'precision': 0.6386555, 'prediction/mean': 0.4270402, 'recall': 0.7676768, 'global_step': 200}\n"
     ]
    }
   ],
   "source": [
    "linear_est = tf.estimator.LinearClassifier(feature_columns=feature_columns)\n",
    "linear_est.train(train_input_fn)\n",
    "result = linear_est.evaluate(eval_input_fn)\n",
    "\n",
    "clear_output()\n",
    "print(result)\n"
   ]
  },
  {
   "cell_type": "code",
   "execution_count": 179,
   "metadata": {},
   "outputs": [],
   "source": [
    "age_x_gender = tf.feature_column.crossed_column(['age', 'sex'], hash_bucket_size=100)"
   ]
  },
  {
   "cell_type": "code",
   "execution_count": 180,
   "metadata": {},
   "outputs": [
    {
     "name": "stdout",
     "output_type": "stream",
     "text": [
      "{'accuracy': 0.7651515, 'accuracy_baseline': 0.625, 'auc': 0.8437098, 'auc_precision_recall': 0.79329175, 'average_loss': 0.47423017, 'label/mean': 0.375, 'loss': 0.46578968, 'precision': 0.7126437, 'prediction/mean': 0.36202213, 'recall': 0.6262626, 'global_step': 200}\n"
     ]
    }
   ],
   "source": [
    "derived_feature_columns = [age_x_gender]\n",
    "linear_est = tf.estimator.LinearClassifier(feature_columns=feature_columns+derived_feature_columns)\n",
    "linear_est.train(train_input_fn)\n",
    "result = linear_est.evaluate(eval_input_fn)\n",
    "\n",
    "clear_output()\n",
    "print(result)\n"
   ]
  },
  {
   "cell_type": "code",
   "execution_count": 181,
   "metadata": {},
   "outputs": [
    {
     "name": "stdout",
     "output_type": "stream",
     "text": [
      "INFO:tensorflow:Calling model_fn.\n",
      "INFO:tensorflow:Done calling model_fn.\n",
      "INFO:tensorflow:Graph was finalized.\n",
      "INFO:tensorflow:Restoring parameters from C:\\Users\\A\\AppData\\Local\\Temp\\tmp055dpyfk\\model.ckpt-200\n",
      "INFO:tensorflow:Running local_init_op.\n",
      "INFO:tensorflow:Done running local_init_op.\n"
     ]
    },
    {
     "data": {
      "text/plain": [
       "<AxesSubplot:title={'center':'예측 확률'}, xlabel='% survive', ylabel='Frequency'>"
      ]
     },
     "execution_count": 181,
     "metadata": {},
     "output_type": "execute_result"
    }
   ],
   "source": [
    "pred_dicts = list(linear_est.predict(eval_input_fn))\n",
    "probs = pd.Series([pred['probabilities'][1] for pred in pred_dicts])\n",
    "\n",
    "probs.plot(kind='hist', bins=20, title='예측 확률')"
   ]
  },
  {
   "cell_type": "code",
   "execution_count": 182,
   "metadata": {},
   "outputs": [
    {
     "data": {
      "text/plain": [
       "(0.0, 1.5)"
      ]
     },
     "execution_count": 182,
     "metadata": {},
     "output_type": "execute_result"
    }
   ],
   "source": [
    "from sklearn.metrics import roc_curve\n",
    "from matplotlib import pyplot as plt\n",
    "\n",
    "fpr, tpr, _ = roc_curve(y_eval, probs)\n",
    "plt.plot(fpr, tpr)\n",
    "plt.title('ROC curve')\n",
    "plt.xlabel('오탐률(false positive rate)')\n",
    "plt.ylabel('정탐률(true positive rate)')\n",
    "plt.xlim(0,)\n",
    "plt.ylim(0,)\n"
   ]
  },
  {
   "cell_type": "code",
   "execution_count": 183,
   "metadata": {},
   "outputs": [
    {
     "data": {
      "text/plain": [
       "(0.0, 1.5)"
      ]
     },
     "execution_count": 183,
     "metadata": {},
     "output_type": "execute_result"
    }
   ],
   "source": [
    "from sklearn.metrics import roc_curve\n",
    "from matplotlib import pyplot as plt\n",
    "\n",
    "fpr, tpr, _ = roc_curve(y_eval, probs)\n",
    "plt.plot(fpr, tpr)\n",
    "plt.title('ROC curve')\n",
    "plt.xlabel('오탐률(false positive rate)')\n",
    "plt.ylabel('정탐률(true positive rate)')\n",
    "plt.xlim(0,)\n",
    "plt.ylim(0,)\n"
   ]
  },
  {
   "cell_type": "code",
   "execution_count": 199,
   "metadata": {},
   "outputs": [],
   "source": [
    "def aaa(a, b, c, k=1,) :\n",
    "    return a,b,c, k"
   ]
  },
  {
   "cell_type": "code",
   "execution_count": 201,
   "metadata": {},
   "outputs": [
    {
     "data": {
      "text/plain": [
       "(3, 1, 2, 1)"
      ]
     },
     "execution_count": 201,
     "metadata": {},
     "output_type": "execute_result"
    }
   ],
   "source": [
    "aaa(b=1,c=2,a=3)"
   ]
  },
  {
   "cell_type": "code",
   "execution_count": null,
   "metadata": {},
   "outputs": [],
   "source": [
    "aaa(c=1, b)"
   ]
  }
 ],
 "metadata": {
  "kernelspec": {
   "display_name": "Python 3",
   "language": "python",
   "name": "python3"
  },
  "language_info": {
   "codemirror_mode": {
    "name": "ipython",
    "version": 3
   },
   "file_extension": ".py",
   "mimetype": "text/x-python",
   "name": "python",
   "nbconvert_exporter": "python",
   "pygments_lexer": "ipython3",
   "version": "3.8.8"
  }
 },
 "nbformat": 4,
 "nbformat_minor": 2
}
