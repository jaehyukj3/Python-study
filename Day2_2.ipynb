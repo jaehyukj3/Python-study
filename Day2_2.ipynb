{
 "cells": [
  {
   "cell_type": "markdown",
   "id": "4e4a342a",
   "metadata": {},
   "source": [
    "### 정수 (int) cached internal"
   ]
  },
  {
   "cell_type": "code",
   "execution_count": 1,
   "id": "e008537d",
   "metadata": {},
   "outputs": [
    {
     "data": {
      "text/plain": [
       "100"
      ]
     },
     "execution_count": 1,
     "metadata": {},
     "output_type": "execute_result"
    }
   ],
   "source": [
    "100"
   ]
  },
  {
   "cell_type": "markdown",
   "id": "925a2689",
   "metadata": {},
   "source": [
    "[-5, 256] 범위의 정수는 인스턴스를 재생성하지 않는다."
   ]
  },
  {
   "cell_type": "code",
   "execution_count": 2,
   "id": "6462c274",
   "metadata": {},
   "outputs": [],
   "source": [
    "a = 256; b = 256; c = 256"
   ]
  },
  {
   "cell_type": "code",
   "execution_count": 3,
   "id": "051f0cf8",
   "metadata": {},
   "outputs": [
    {
     "data": {
      "text/plain": [
       "True"
      ]
     },
     "execution_count": 3,
     "metadata": {},
     "output_type": "execute_result"
    }
   ],
   "source": [
    "a is b is c"
   ]
  },
  {
   "cell_type": "code",
   "execution_count": 4,
   "id": "52772770",
   "metadata": {},
   "outputs": [],
   "source": [
    "d = 257; e = 257; f=257"
   ]
  },
  {
   "cell_type": "code",
   "execution_count": 5,
   "id": "505cc99a",
   "metadata": {},
   "outputs": [
    {
     "data": {
      "text/plain": [
       "False"
      ]
     },
     "execution_count": 5,
     "metadata": {},
     "output_type": "execute_result"
    }
   ],
   "source": [
    "d is e is f"
   ]
  },
  {
   "cell_type": "code",
   "execution_count": 8,
   "id": "4d361e60",
   "metadata": {},
   "outputs": [
    {
     "data": {
      "text/plain": [
       "(2719127909872, 2719127909744, 2719127909840)"
      ]
     },
     "execution_count": 8,
     "metadata": {},
     "output_type": "execute_result"
    }
   ],
   "source": [
    "id(d), id(e), id(f)"
   ]
  },
  {
   "cell_type": "markdown",
   "id": "3ec10183",
   "metadata": {},
   "source": [
    "### str 객체의 cached internal"
   ]
  },
  {
   "cell_type": "code",
   "execution_count": 9,
   "id": "df706ecf",
   "metadata": {},
   "outputs": [],
   "source": [
    "a = \"ab\"; b =\"ab\"; c = \"ab\""
   ]
  },
  {
   "cell_type": "code",
   "execution_count": 10,
   "id": "ea02ead1",
   "metadata": {},
   "outputs": [
    {
     "data": {
      "text/plain": [
       "True"
      ]
     },
     "execution_count": 10,
     "metadata": {},
     "output_type": "execute_result"
    }
   ],
   "source": [
    "a is b is c"
   ]
  },
  {
   "cell_type": "code",
   "execution_count": 13,
   "id": "d697ec1c",
   "metadata": {},
   "outputs": [
    {
     "data": {
      "text/plain": [
       "(2719064884848, 2719064884848, 2719064884848)"
      ]
     },
     "execution_count": 13,
     "metadata": {},
     "output_type": "execute_result"
    }
   ],
   "source": [
    "id(a), id(b), id(c)"
   ]
  },
  {
   "cell_type": "code",
   "execution_count": 11,
   "id": "b2d34603",
   "metadata": {},
   "outputs": [],
   "source": [
    "d = \"!!\"; e = \"!!\"; f = \"!!\""
   ]
  },
  {
   "cell_type": "code",
   "execution_count": 12,
   "id": "c8bd22a3",
   "metadata": {},
   "outputs": [
    {
     "data": {
      "text/plain": [
       "False"
      ]
     },
     "execution_count": 12,
     "metadata": {},
     "output_type": "execute_result"
    }
   ],
   "source": [
    "d is e is f"
   ]
  },
  {
   "cell_type": "code",
   "execution_count": 14,
   "id": "42d25808",
   "metadata": {},
   "outputs": [
    {
     "data": {
      "text/plain": [
       "(2719128156720, 2719128155504, 2719128156976)"
      ]
     },
     "execution_count": 14,
     "metadata": {},
     "output_type": "execute_result"
    }
   ],
   "source": [
    "id(d), id(e), id(f)"
   ]
  },
  {
   "cell_type": "markdown",
   "id": "c5ed632c",
   "metadata": {},
   "source": [
    "# 함수"
   ]
  },
  {
   "cell_type": "markdown",
   "id": "13b0a1a1",
   "metadata": {},
   "source": [
    "반복되는 코드의 중복을 방지하기 위한 하나의 코드 블록을 이야기한다.  \n",
    "정의를 먼저 진행하고, 이 함수의 이름을 호출해서 사용한다. ( () )  \n",
    "순수함수, 비순수함수  \n",
    "순수함수 : 입력을 받아서 출력을 처리해서 전달해주는 함수 ( ex: f(x) = y )  \n",
    "비순수함수 : 함수 내의 기능의 외부의 변수나 객체를 호출한다음에 상태를 바꿔주는 함수 ( ex: f(x) )"
   ]
  },
  {
   "cell_type": "code",
   "execution_count": 16,
   "id": "d05ae9aa",
   "metadata": {},
   "outputs": [],
   "source": [
    "def soonsu(a, b):\n",
    "    return a+b"
   ]
  },
  {
   "cell_type": "code",
   "execution_count": 31,
   "id": "09b5d337",
   "metadata": {},
   "outputs": [],
   "source": [
    "c = 0\n",
    "def bisoonsu(a, b):\n",
    "    globals()['c'] = a+b"
   ]
  },
  {
   "cell_type": "code",
   "execution_count": 18,
   "id": "d383e986",
   "metadata": {},
   "outputs": [],
   "source": [
    "d = soonsu(10, 10)"
   ]
  },
  {
   "cell_type": "code",
   "execution_count": 19,
   "id": "eec89642",
   "metadata": {},
   "outputs": [
    {
     "data": {
      "text/plain": [
       "20"
      ]
     },
     "execution_count": 19,
     "metadata": {},
     "output_type": "execute_result"
    }
   ],
   "source": [
    "d"
   ]
  },
  {
   "cell_type": "code",
   "execution_count": 20,
   "id": "b965d81f",
   "metadata": {},
   "outputs": [
    {
     "data": {
      "text/plain": [
       "int"
      ]
     },
     "execution_count": 20,
     "metadata": {},
     "output_type": "execute_result"
    }
   ],
   "source": [
    "type(d)"
   ]
  },
  {
   "cell_type": "code",
   "execution_count": 32,
   "id": "a766106a",
   "metadata": {},
   "outputs": [],
   "source": [
    "e = bisoonsu(10, 20)"
   ]
  },
  {
   "cell_type": "code",
   "execution_count": 25,
   "id": "9b0aa293",
   "metadata": {},
   "outputs": [
    {
     "data": {
      "text/plain": [
       "NoneType"
      ]
     },
     "execution_count": 25,
     "metadata": {},
     "output_type": "execute_result"
    }
   ],
   "source": [
    "type(e)"
   ]
  },
  {
   "cell_type": "code",
   "execution_count": 33,
   "id": "2b52e46a",
   "metadata": {},
   "outputs": [
    {
     "data": {
      "text/plain": [
       "30"
      ]
     },
     "execution_count": 33,
     "metadata": {},
     "output_type": "execute_result"
    }
   ],
   "source": [
    "c"
   ]
  },
  {
   "cell_type": "markdown",
   "id": "076ab14e",
   "metadata": {},
   "source": [
    "## 1. 함수 정의\n",
    "### 함수 정의문\n",
    "- 함수는 콜론(:)을 기준으로 좌측에는 헤더부(Header)부 이고, 우측이나 아래는 몸체부(Body).  \n",
    "- 헤더부 : 함수명과 매개변수(parameter)\n",
    "- 몸체부 : 로직과 return처리\n",
    "\n",
    ">def 키워드+함수명(매개변수):  \n",
    "    로직  \n",
    "    return"
   ]
  },
  {
   "cell_type": "code",
   "execution_count": 36,
   "id": "efa05923",
   "metadata": {},
   "outputs": [],
   "source": [
    "def add(x, y):\n",
    "    result = x+y\n",
    "    return result"
   ]
  },
  {
   "cell_type": "code",
   "execution_count": 37,
   "id": "0f0bab68",
   "metadata": {},
   "outputs": [
    {
     "data": {
      "text/plain": [
       "5"
      ]
     },
     "execution_count": 37,
     "metadata": {},
     "output_type": "execute_result"
    }
   ],
   "source": [
    "add(2, 3)"
   ]
  },
  {
   "cell_type": "code",
   "execution_count": 38,
   "id": "9660a8fe",
   "metadata": {},
   "outputs": [
    {
     "data": {
      "text/plain": [
       "<function __main__.add(x, y)>"
      ]
     },
     "execution_count": 38,
     "metadata": {},
     "output_type": "execute_result"
    }
   ],
   "source": [
    "add"
   ]
  },
  {
   "cell_type": "code",
   "execution_count": 39,
   "id": "b462b970",
   "metadata": {},
   "outputs": [
    {
     "data": {
      "text/plain": [
       "True"
      ]
     },
     "execution_count": 39,
     "metadata": {},
     "output_type": "execute_result"
    }
   ],
   "source": [
    "callable(add)"
   ]
  },
  {
   "cell_type": "code",
   "execution_count": 40,
   "id": "6b13c981",
   "metadata": {},
   "outputs": [],
   "source": [
    "a = 100"
   ]
  },
  {
   "cell_type": "code",
   "execution_count": 41,
   "id": "312ce324",
   "metadata": {},
   "outputs": [
    {
     "data": {
      "text/plain": [
       "False"
      ]
     },
     "execution_count": 41,
     "metadata": {},
     "output_type": "execute_result"
    }
   ],
   "source": [
    "callable(a)"
   ]
  },
  {
   "cell_type": "code",
   "execution_count": 42,
   "id": "5a68af93",
   "metadata": {},
   "outputs": [
    {
     "name": "stdout",
     "output_type": "stream",
     "text": [
      "['__annotations__', '__call__', '__class__', '__closure__', '__code__', '__defaults__', '__delattr__', '__dict__', '__dir__', '__doc__', '__eq__', '__format__', '__ge__', '__get__', '__getattribute__', '__globals__', '__gt__', '__hash__', '__init__', '__init_subclass__', '__kwdefaults__', '__le__', '__lt__', '__module__', '__name__', '__ne__', '__new__', '__qualname__', '__reduce__', '__reduce_ex__', '__repr__', '__setattr__', '__sizeof__', '__str__', '__subclasshook__']\n"
     ]
    }
   ],
   "source": [
    "print(dir(add))"
   ]
  },
  {
   "cell_type": "markdown",
   "id": "cd8c9983",
   "metadata": {},
   "source": [
    "### 함수 호출을 위해 호출연산자 사용\n",
    "- 함수 이름 다음에 괄호 즉! 함수호출연산자를 사용한다.  \n",
    "- 함수에 매개변수가 있으면, 해당하는 값인 인자를 전달해야 한다."
   ]
  },
  {
   "cell_type": "code",
   "execution_count": 43,
   "id": "2a3585c6",
   "metadata": {},
   "outputs": [
    {
     "data": {
      "text/plain": [
       "7"
      ]
     },
     "execution_count": 43,
     "metadata": {},
     "output_type": "execute_result"
    }
   ],
   "source": [
    "add(2, 5)"
   ]
  },
  {
   "cell_type": "code",
   "execution_count": 44,
   "id": "b9a58678",
   "metadata": {},
   "outputs": [
    {
     "data": {
      "text/plain": [
       "7"
      ]
     },
     "execution_count": 44,
     "metadata": {},
     "output_type": "execute_result"
    }
   ],
   "source": [
    "add.__call__(2,5)"
   ]
  },
  {
   "cell_type": "code",
   "execution_count": 45,
   "id": "061eee32",
   "metadata": {},
   "outputs": [],
   "source": [
    "def add(a, b):\n",
    "    return a+b"
   ]
  },
  {
   "cell_type": "code",
   "execution_count": 46,
   "id": "f7cbb881",
   "metadata": {},
   "outputs": [
    {
     "data": {
      "text/plain": [
       "<function __main__.add(a, b)>"
      ]
     },
     "execution_count": 46,
     "metadata": {},
     "output_type": "execute_result"
    }
   ],
   "source": [
    "add"
   ]
  },
  {
   "cell_type": "code",
   "execution_count": 47,
   "id": "75240564",
   "metadata": {},
   "outputs": [],
   "source": [
    "class A:\n",
    "    def add(self, a, b):\n",
    "        return a+b+b"
   ]
  },
  {
   "cell_type": "code",
   "execution_count": 48,
   "id": "ca23e9bd",
   "metadata": {},
   "outputs": [
    {
     "data": {
      "text/plain": [
       "20"
      ]
     },
     "execution_count": 48,
     "metadata": {},
     "output_type": "execute_result"
    }
   ],
   "source": [
    "add(10, 10)"
   ]
  },
  {
   "cell_type": "code",
   "execution_count": 49,
   "id": "769cfa40",
   "metadata": {},
   "outputs": [],
   "source": [
    "b = A()"
   ]
  },
  {
   "cell_type": "code",
   "execution_count": 50,
   "id": "b594a2b6",
   "metadata": {},
   "outputs": [
    {
     "data": {
      "text/plain": [
       "<__main__.A at 0x27918abb430>"
      ]
     },
     "execution_count": 50,
     "metadata": {},
     "output_type": "execute_result"
    }
   ],
   "source": [
    "b"
   ]
  },
  {
   "cell_type": "code",
   "execution_count": 51,
   "id": "1f2e35bc",
   "metadata": {},
   "outputs": [
    {
     "name": "stdout",
     "output_type": "stream",
     "text": [
      "['__class__', '__delattr__', '__dict__', '__dir__', '__doc__', '__eq__', '__format__', '__ge__', '__getattribute__', '__gt__', '__hash__', '__init__', '__init_subclass__', '__le__', '__lt__', '__module__', '__ne__', '__new__', '__reduce__', '__reduce_ex__', '__repr__', '__setattr__', '__sizeof__', '__str__', '__subclasshook__', '__weakref__', 'add']\n"
     ]
    }
   ],
   "source": [
    "print(dir(b))"
   ]
  },
  {
   "cell_type": "code",
   "execution_count": 52,
   "id": "ec55cd64",
   "metadata": {},
   "outputs": [
    {
     "data": {
      "text/plain": [
       "<bound method A.add of <__main__.A object at 0x0000027918ABB430>>"
      ]
     },
     "execution_count": 52,
     "metadata": {},
     "output_type": "execute_result"
    }
   ],
   "source": [
    "b.add"
   ]
  },
  {
   "cell_type": "code",
   "execution_count": 53,
   "id": "6bcc7b5b",
   "metadata": {},
   "outputs": [
    {
     "data": {
      "text/plain": [
       "30"
      ]
     },
     "execution_count": 53,
     "metadata": {},
     "output_type": "execute_result"
    }
   ],
   "source": [
    "b.add(10, 10)"
   ]
  },
  {
   "cell_type": "code",
   "execution_count": 73,
   "id": "647a32e6",
   "metadata": {},
   "outputs": [
    {
     "data": {
      "text/plain": [
       "method"
      ]
     },
     "execution_count": 73,
     "metadata": {},
     "output_type": "execute_result"
    }
   ],
   "source": [
    "type(b.add)"
   ]
  },
  {
   "cell_type": "code",
   "execution_count": 58,
   "id": "11a31706",
   "metadata": {},
   "outputs": [
    {
     "data": {
      "text/plain": [
       "__main__.A"
      ]
     },
     "execution_count": 58,
     "metadata": {},
     "output_type": "execute_result"
    }
   ],
   "source": [
    "A"
   ]
  },
  {
   "cell_type": "code",
   "execution_count": 59,
   "id": "3177569a",
   "metadata": {},
   "outputs": [
    {
     "name": "stdout",
     "output_type": "stream",
     "text": [
      "['__class__', '__delattr__', '__dict__', '__dir__', '__doc__', '__eq__', '__format__', '__ge__', '__getattribute__', '__gt__', '__hash__', '__init__', '__init_subclass__', '__le__', '__lt__', '__module__', '__ne__', '__new__', '__reduce__', '__reduce_ex__', '__repr__', '__setattr__', '__sizeof__', '__str__', '__subclasshook__', '__weakref__', 'add']\n"
     ]
    }
   ],
   "source": [
    "print(dir(A))"
   ]
  },
  {
   "cell_type": "code",
   "execution_count": 60,
   "id": "1dc0798a",
   "metadata": {},
   "outputs": [
    {
     "data": {
      "text/plain": [
       "<function __main__.A.add(self, a, b)>"
      ]
     },
     "execution_count": 60,
     "metadata": {},
     "output_type": "execute_result"
    }
   ],
   "source": [
    "A.add"
   ]
  },
  {
   "cell_type": "code",
   "execution_count": 61,
   "id": "57de295e",
   "metadata": {},
   "outputs": [
    {
     "data": {
      "text/plain": [
       "30"
      ]
     },
     "execution_count": 61,
     "metadata": {},
     "output_type": "execute_result"
    }
   ],
   "source": [
    "A.add(A(),10, 10)"
   ]
  },
  {
   "cell_type": "markdown",
   "id": "1c972e57",
   "metadata": {},
   "source": [
    "### 일반 로직과 함수 처리 비교\n",
    "일반로직 : 한 번을 처리할 때 일반적인 로직으로 처리  \n",
    "동일한 로직을 여러 번 사용할 때는 함수로 정의해서 사용 가능  "
   ]
  },
  {
   "cell_type": "code",
   "execution_count": 64,
   "id": "e526c92e",
   "metadata": {},
   "outputs": [
    {
     "name": "stdout",
     "output_type": "stream",
     "text": [
      "45\n"
     ]
    }
   ],
   "source": [
    "a = 0\n",
    "for data in range(0, 10):\n",
    "    a += data\n",
    "    \n",
    "print(a)"
   ]
  },
  {
   "cell_type": "code",
   "execution_count": 66,
   "id": "63cb085f",
   "metadata": {},
   "outputs": [],
   "source": [
    "def add_function(a):\n",
    "    for data in range(0, 10):\n",
    "        a += data\n",
    "    return a"
   ]
  },
  {
   "cell_type": "code",
   "execution_count": 67,
   "id": "a1ac4fb9",
   "metadata": {},
   "outputs": [
    {
     "data": {
      "text/plain": [
       "90"
      ]
     },
     "execution_count": 67,
     "metadata": {},
     "output_type": "execute_result"
    }
   ],
   "source": [
    "add_function(a)"
   ]
  },
  {
   "cell_type": "code",
   "execution_count": 69,
   "id": "caf38978",
   "metadata": {},
   "outputs": [
    {
     "data": {
      "text/plain": [
       "<function __main__.add_function(a)>"
      ]
     },
     "execution_count": 69,
     "metadata": {},
     "output_type": "execute_result"
    }
   ],
   "source": [
    "add_function"
   ]
  },
  {
   "cell_type": "code",
   "execution_count": 70,
   "id": "056a4181",
   "metadata": {},
   "outputs": [
    {
     "data": {
      "text/plain": [
       "<function __main__.add_function(a)>"
      ]
     },
     "execution_count": 70,
     "metadata": {},
     "output_type": "execute_result"
    }
   ],
   "source": [
    "globals()['add_function']"
   ]
  },
  {
   "cell_type": "code",
   "execution_count": 71,
   "id": "dda298cd",
   "metadata": {},
   "outputs": [
    {
     "data": {
      "text/plain": [
       "45"
      ]
     },
     "execution_count": 71,
     "metadata": {},
     "output_type": "execute_result"
    }
   ],
   "source": [
    "a"
   ]
  },
  {
   "cell_type": "code",
   "execution_count": 72,
   "id": "dc2e4de9",
   "metadata": {},
   "outputs": [
    {
     "data": {
      "text/plain": [
       "45"
      ]
     },
     "execution_count": 72,
     "metadata": {},
     "output_type": "execute_result"
    }
   ],
   "source": [
    "globals()['a']"
   ]
  },
  {
   "cell_type": "code",
   "execution_count": 74,
   "id": "b8855526",
   "metadata": {},
   "outputs": [],
   "source": [
    "add_function_ = add_function"
   ]
  },
  {
   "cell_type": "code",
   "execution_count": 76,
   "id": "53e60db7",
   "metadata": {},
   "outputs": [
    {
     "data": {
      "text/plain": [
       "90"
      ]
     },
     "execution_count": 76,
     "metadata": {},
     "output_type": "execute_result"
    }
   ],
   "source": [
    "add_function_(a)"
   ]
  },
  {
   "cell_type": "code",
   "execution_count": 77,
   "id": "587a0147",
   "metadata": {},
   "outputs": [
    {
     "data": {
      "text/plain": [
       "'add_function'"
      ]
     },
     "execution_count": 77,
     "metadata": {},
     "output_type": "execute_result"
    }
   ],
   "source": [
    "add_function.__name__"
   ]
  },
  {
   "cell_type": "code",
   "execution_count": 78,
   "id": "a5d4baa2",
   "metadata": {},
   "outputs": [
    {
     "data": {
      "text/plain": [
       "function"
      ]
     },
     "execution_count": 78,
     "metadata": {},
     "output_type": "execute_result"
    }
   ],
   "source": [
    "type(add_function)"
   ]
  },
  {
   "cell_type": "code",
   "execution_count": 79,
   "id": "a42e6a46",
   "metadata": {},
   "outputs": [
    {
     "data": {
      "text/plain": [
       "function"
      ]
     },
     "execution_count": 79,
     "metadata": {},
     "output_type": "execute_result"
    }
   ],
   "source": [
    "add_function.__class__"
   ]
  },
  {
   "cell_type": "markdown",
   "id": "ac969b52",
   "metadata": {},
   "source": [
    "### 매개변수\n",
    "- 컴퓨터 프로그래밍에서 매개변수(영어: parameter 파라미터[*])란 변수의 특별한 한 종류로서, 함수 등과 같은 서브루틴[1]의 인풋으로 제공되는 여러 데이터 중 하나를 가리키기 위해 사용된다."
   ]
  },
  {
   "cell_type": "code",
   "execution_count": 106,
   "id": "cf43899e",
   "metadata": {},
   "outputs": [],
   "source": [
    "def add(a: int, b: int):\n",
    "    if type(a) == int and type(b) == int:\n",
    "        return a+b\n",
    "    else:\n",
    "        print(\"매개변수 값을 수정해주세요. ( int만 가능합니다 )\")"
   ]
  },
  {
   "cell_type": "code",
   "execution_count": 107,
   "id": "093cf9f8",
   "metadata": {},
   "outputs": [
    {
     "data": {
      "text/plain": [
       "{'a': int, 'b': int}"
      ]
     },
     "execution_count": 107,
     "metadata": {},
     "output_type": "execute_result"
    }
   ],
   "source": [
    "add.__annotations__"
   ]
  },
  {
   "cell_type": "code",
   "execution_count": 108,
   "id": "fbc770d8",
   "metadata": {},
   "outputs": [
    {
     "name": "stdout",
     "output_type": "stream",
     "text": [
      "매개변수 값을 수정해주세요. ( int만 가능합니다 )\n"
     ]
    }
   ],
   "source": [
    "add('0', 2)"
   ]
  },
  {
   "cell_type": "code",
   "execution_count": 109,
   "id": "f3db8f38",
   "metadata": {},
   "outputs": [
    {
     "name": "stdout",
     "output_type": "stream",
     "text": [
      "!\n"
     ]
    }
   ],
   "source": [
    "b = print(\"!\")"
   ]
  },
  {
   "cell_type": "code",
   "execution_count": 110,
   "id": "69c05dfc",
   "metadata": {},
   "outputs": [
    {
     "data": {
      "text/plain": [
       "NoneType"
      ]
     },
     "execution_count": 110,
     "metadata": {},
     "output_type": "execute_result"
    }
   ],
   "source": [
    "type(b)"
   ]
  },
  {
   "cell_type": "code",
   "execution_count": 47,
   "id": "a7b34fb6",
   "metadata": {},
   "outputs": [],
   "source": [
    "class Calculator:\n",
    "    \n",
    "    \"\"\"계산기 클래스입니다\"\"\"\n",
    "    \n",
    "    result = 0\n",
    "    \n",
    "    def add(self, a):\n",
    "        \"\"\"더하기 함수 입니다.\"\"\"\n",
    "        self.result += a\n",
    "    \n",
    "    def minus(self, a):\n",
    "        \"\"\"빼기 함수 입니다.\"\"\"\n",
    "        self.result -= a\n",
    "    \n",
    "    def multiplication(self, a):\n",
    "        \"\"\"곱하기 함수 입니다.\"\"\"\n",
    "        self.result *= a\n",
    "    \n",
    "    def division(self, a):\n",
    "        \"\"\"나누기 함수 입니다.\"\"\"\n",
    "        self.result /= a\n",
    "        \n",
    "    def ac(self):\n",
    "        \"\"\"초기화 함수 입니다.\"\"\"\n",
    "        self.result = 0"
   ]
  },
  {
   "cell_type": "code",
   "execution_count": 48,
   "id": "ec57fcd1",
   "metadata": {},
   "outputs": [],
   "source": [
    "calculator = Calculator()"
   ]
  },
  {
   "cell_type": "code",
   "execution_count": 49,
   "id": "2380e51f",
   "metadata": {},
   "outputs": [
    {
     "name": "stdout",
     "output_type": "stream",
     "text": [
      "Help on class Calculator in module __main__:\n",
      "\n",
      "class Calculator(builtins.object)\n",
      " |  계산기 클래스입니다\n",
      " |  \n",
      " |  Methods defined here:\n",
      " |  \n",
      " |  ac(self)\n",
      " |      초기화 함수 입니다.\n",
      " |  \n",
      " |  add(self, a)\n",
      " |      더하기 함수 입니다.\n",
      " |  \n",
      " |  division(self, a)\n",
      " |      나누기 함수 입니다.\n",
      " |  \n",
      " |  minus(self, a)\n",
      " |      빼기 함수 입니다.\n",
      " |  \n",
      " |  multiplication(self, a)\n",
      " |      곱하기 함수 입니다.\n",
      " |  \n",
      " |  ----------------------------------------------------------------------\n",
      " |  Data descriptors defined here:\n",
      " |  \n",
      " |  __dict__\n",
      " |      dictionary for instance variables (if defined)\n",
      " |  \n",
      " |  __weakref__\n",
      " |      list of weak references to the object (if defined)\n",
      " |  \n",
      " |  ----------------------------------------------------------------------\n",
      " |  Data and other attributes defined here:\n",
      " |  \n",
      " |  result = 0\n",
      "\n"
     ]
    }
   ],
   "source": [
    "help(Calculator)"
   ]
  },
  {
   "cell_type": "code",
   "execution_count": 9,
   "id": "ddc9a9f2",
   "metadata": {},
   "outputs": [
    {
     "data": {
      "text/plain": [
       "0"
      ]
     },
     "execution_count": 9,
     "metadata": {},
     "output_type": "execute_result"
    }
   ],
   "source": [
    "calculator.result"
   ]
  },
  {
   "cell_type": "code",
   "execution_count": 10,
   "id": "a48a923e",
   "metadata": {},
   "outputs": [],
   "source": [
    "calculator.add(3)"
   ]
  },
  {
   "cell_type": "code",
   "execution_count": 11,
   "id": "cd93e433",
   "metadata": {},
   "outputs": [
    {
     "data": {
      "text/plain": [
       "3"
      ]
     },
     "execution_count": 11,
     "metadata": {},
     "output_type": "execute_result"
    }
   ],
   "source": [
    "calculator.result"
   ]
  },
  {
   "cell_type": "code",
   "execution_count": 12,
   "id": "6eccc68b",
   "metadata": {},
   "outputs": [],
   "source": [
    "calculator.ac()"
   ]
  },
  {
   "cell_type": "code",
   "execution_count": 13,
   "id": "8d0519bf",
   "metadata": {},
   "outputs": [
    {
     "data": {
      "text/plain": [
       "0"
      ]
     },
     "execution_count": 13,
     "metadata": {},
     "output_type": "execute_result"
    }
   ],
   "source": [
    "calculator.result"
   ]
  },
  {
   "cell_type": "code",
   "execution_count": 21,
   "id": "f401d1d1",
   "metadata": {},
   "outputs": [],
   "source": [
    "## add function\n",
    "def add(x, y):\n",
    "    \"\"\"\n",
    "    add 함수\n",
    "    - 정수 혹은 숫자 자료형 x, y의 더한 결과값을 리턴합니다.\n",
    "    \"\"\"\n",
    "    return x+y"
   ]
  },
  {
   "cell_type": "code",
   "execution_count": 22,
   "id": "9823f58d",
   "metadata": {},
   "outputs": [
    {
     "name": "stdout",
     "output_type": "stream",
     "text": [
      "Help on function add in module __main__:\n",
      "\n",
      "add(x, y)\n",
      "    add 함수\n",
      "    - 정수 혹은 숫자 자료형 x, y의 더한 결과값을 리턴합니다.\n",
      "\n"
     ]
    }
   ],
   "source": [
    "help(add)"
   ]
  },
  {
   "cell_type": "code",
   "execution_count": 23,
   "id": "7803b273",
   "metadata": {},
   "outputs": [
    {
     "data": {
      "text/plain": [
       "'\\n    add 함수\\n    - 정수 혹은 숫자 자료형 x, y의 더한 결과값을 리턴합니다.\\n    '"
      ]
     },
     "execution_count": 23,
     "metadata": {},
     "output_type": "execute_result"
    }
   ],
   "source": [
    "add.__doc__"
   ]
  },
  {
   "cell_type": "code",
   "execution_count": 24,
   "id": "240c4eda",
   "metadata": {},
   "outputs": [],
   "source": [
    "def add(x: int, y: int) -> int:\n",
    "    return x+y"
   ]
  },
  {
   "cell_type": "code",
   "execution_count": 25,
   "id": "45ce6bd7",
   "metadata": {},
   "outputs": [
    {
     "data": {
      "text/plain": [
       "{'x': int, 'y': int, 'return': int}"
      ]
     },
     "execution_count": 25,
     "metadata": {},
     "output_type": "execute_result"
    }
   ],
   "source": [
    "add.__annotations__"
   ]
  },
  {
   "cell_type": "code",
   "execution_count": 26,
   "id": "e4644e76",
   "metadata": {},
   "outputs": [
    {
     "data": {
      "text/plain": [
       "'12'"
      ]
     },
     "execution_count": 26,
     "metadata": {},
     "output_type": "execute_result"
    }
   ],
   "source": [
    "add(\"1\", \"2\")"
   ]
  },
  {
   "cell_type": "code",
   "execution_count": 27,
   "id": "a517c559",
   "metadata": {},
   "outputs": [],
   "source": [
    "import inspect"
   ]
  },
  {
   "cell_type": "code",
   "execution_count": 28,
   "id": "b415f692",
   "metadata": {},
   "outputs": [
    {
     "data": {
      "text/plain": [
       "FullArgSpec(args=['x', 'y'], varargs=None, varkw=None, defaults=None, kwonlyargs=[], kwonlydefaults=None, annotations={'return': <class 'int'>, 'x': <class 'int'>, 'y': <class 'int'>})"
      ]
     },
     "execution_count": 28,
     "metadata": {},
     "output_type": "execute_result"
    }
   ],
   "source": [
    "inspect.getfullargspec(add)"
   ]
  },
  {
   "cell_type": "markdown",
   "id": "f167c172",
   "metadata": {},
   "source": [
    "# 여러 parameter가 필요한 경우"
   ]
  },
  {
   "cell_type": "markdown",
   "id": "04aff681",
   "metadata": {},
   "source": [
    "### 가변인자처리\n",
    "- 여러개의 인자를 하나로 묶어서 처리  \n",
    "- 함수를 정의할 때 가변인자가 들어가는 매개변수를 args라는 이름으로 지정하고 그 앞에 별을 붙여서 사용한다."
   ]
  },
  {
   "cell_type": "code",
   "execution_count": 42,
   "id": "8a9f34ef",
   "metadata": {},
   "outputs": [],
   "source": [
    "def sum_all(*args):\n",
    "    print(args)\n",
    "    print(type(args))\n",
    "    l = list(args)\n",
    "    l[0] = 100\n",
    "    print(l, args)\n",
    "    return sum(l)"
   ]
  },
  {
   "cell_type": "code",
   "execution_count": 43,
   "id": "a6856e47",
   "metadata": {},
   "outputs": [
    {
     "name": "stdout",
     "output_type": "stream",
     "text": [
      "(1, 2, 3, 4, 5, 6, 7, 8)\n",
      "<class 'tuple'>\n",
      "[100, 2, 3, 4, 5, 6, 7, 8] (1, 2, 3, 4, 5, 6, 7, 8)\n"
     ]
    },
    {
     "data": {
      "text/plain": [
       "135"
      ]
     },
     "execution_count": 43,
     "metadata": {},
     "output_type": "execute_result"
    }
   ],
   "source": [
    "sum_all(1,2,3,4,5,6,7,8)"
   ]
  },
  {
   "cell_type": "code",
   "execution_count": 33,
   "id": "5fa49339",
   "metadata": {},
   "outputs": [],
   "source": [
    "l = [1,2,3,4]\n",
    "t = (1,2,3,4)"
   ]
  },
  {
   "cell_type": "code",
   "execution_count": 34,
   "id": "9002adf6",
   "metadata": {},
   "outputs": [
    {
     "data": {
      "text/plain": [
       "(list, tuple)"
      ]
     },
     "execution_count": 34,
     "metadata": {},
     "output_type": "execute_result"
    }
   ],
   "source": [
    "type(l), type(t)"
   ]
  },
  {
   "cell_type": "code",
   "execution_count": 35,
   "id": "ddd12f96",
   "metadata": {},
   "outputs": [
    {
     "data": {
      "text/plain": [
       "[100, 2, 3, 4]"
      ]
     },
     "execution_count": 35,
     "metadata": {},
     "output_type": "execute_result"
    }
   ],
   "source": [
    "l[0] = 100\n",
    "l"
   ]
  },
  {
   "cell_type": "code",
   "execution_count": 36,
   "id": "fc360a29",
   "metadata": {},
   "outputs": [
    {
     "ename": "TypeError",
     "evalue": "'tuple' object does not support item assignment",
     "output_type": "error",
     "traceback": [
      "\u001b[1;31m---------------------------------------------------------------------------\u001b[0m",
      "\u001b[1;31mTypeError\u001b[0m                                 Traceback (most recent call last)",
      "\u001b[1;32m<ipython-input-36-e6cf7836e708>\u001b[0m in \u001b[0;36m<module>\u001b[1;34m\u001b[0m\n\u001b[1;32m----> 1\u001b[1;33m \u001b[0mt\u001b[0m\u001b[1;33m[\u001b[0m\u001b[1;36m0\u001b[0m\u001b[1;33m]\u001b[0m \u001b[1;33m=\u001b[0m \u001b[1;36m100\u001b[0m\u001b[1;33m\u001b[0m\u001b[1;33m\u001b[0m\u001b[0m\n\u001b[0m",
      "\u001b[1;31mTypeError\u001b[0m: 'tuple' object does not support item assignment"
     ]
    }
   ],
   "source": [
    "t[0] = 100"
   ]
  },
  {
   "cell_type": "code",
   "execution_count": 37,
   "id": "d60c69bf",
   "metadata": {},
   "outputs": [
    {
     "name": "stdout",
     "output_type": "stream",
     "text": [
      "['__add__', '__class__', '__contains__', '__delattr__', '__delitem__', '__dir__', '__doc__', '__eq__', '__format__', '__ge__', '__getattribute__', '__getitem__', '__gt__', '__hash__', '__iadd__', '__imul__', '__init__', '__init_subclass__', '__iter__', '__le__', '__len__', '__lt__', '__mul__', '__ne__', '__new__', '__reduce__', '__reduce_ex__', '__repr__', '__reversed__', '__rmul__', '__setattr__', '__setitem__', '__sizeof__', '__str__', '__subclasshook__', 'append', 'clear', 'copy', 'count', 'extend', 'index', 'insert', 'pop', 'remove', 'reverse', 'sort']\n"
     ]
    }
   ],
   "source": [
    "print(dir(l))"
   ]
  },
  {
   "cell_type": "code",
   "execution_count": 38,
   "id": "0b2a784a",
   "metadata": {},
   "outputs": [
    {
     "name": "stdout",
     "output_type": "stream",
     "text": [
      "['__add__', '__class__', '__contains__', '__delattr__', '__dir__', '__doc__', '__eq__', '__format__', '__ge__', '__getattribute__', '__getitem__', '__getnewargs__', '__gt__', '__hash__', '__init__', '__init_subclass__', '__iter__', '__le__', '__len__', '__lt__', '__mul__', '__ne__', '__new__', '__reduce__', '__reduce_ex__', '__repr__', '__rmul__', '__setattr__', '__sizeof__', '__str__', '__subclasshook__', 'count', 'index']\n"
     ]
    }
   ],
   "source": [
    "print(dir(t))"
   ]
  },
  {
   "cell_type": "code",
   "execution_count": 39,
   "id": "acb9a434",
   "metadata": {},
   "outputs": [
    {
     "name": "stdout",
     "output_type": "stream",
     "text": [
      "__delitem__\n",
      "__iadd__\n",
      "__imul__\n",
      "__reversed__\n",
      "__setitem__\n",
      "append\n",
      "clear\n",
      "copy\n",
      "extend\n",
      "insert\n",
      "pop\n",
      "remove\n",
      "reverse\n",
      "sort\n"
     ]
    }
   ],
   "source": [
    "for data in dir(l):\n",
    "    if data not in (dir(t)):\n",
    "        print(data)"
   ]
  },
  {
   "cell_type": "code",
   "execution_count": 50,
   "id": "1840416d",
   "metadata": {},
   "outputs": [],
   "source": [
    "a = tuple([3])"
   ]
  },
  {
   "cell_type": "markdown",
   "id": "c23535e6",
   "metadata": {},
   "source": [
    "### 가변키워드인자\n",
    "- 이름과 값을 나열해서 지정할 수 있다.  \n",
    "- 가변인자와 함께 쓸 때는 가변인자 다음에 가변키워드인자를 넣어서 사용해야함."
   ]
  },
  {
   "cell_type": "code",
   "execution_count": 53,
   "id": "2fa12c82",
   "metadata": {},
   "outputs": [],
   "source": [
    "def kwargs_function(**kwargs):\n",
    "    print(kwargs)\n",
    "    print(type(kwargs))"
   ]
  },
  {
   "cell_type": "code",
   "execution_count": 55,
   "id": "00f26ac8",
   "metadata": {},
   "outputs": [
    {
     "name": "stdout",
     "output_type": "stream",
     "text": [
      "{'a': 1, 'b': '2', 'c': None, 'asdf': '234'}\n",
      "<class 'dict'>\n"
     ]
    }
   ],
   "source": [
    "kwargs_function(a=1, b='2', c=None, asdf = '234')"
   ]
  },
  {
   "cell_type": "code",
   "execution_count": 56,
   "id": "5456d912",
   "metadata": {},
   "outputs": [],
   "source": [
    "def args_kwargs_function(*args, **kwargs) :\n",
    "    print(args)\n",
    "    print(type(args))\n",
    "    \n",
    "    print(kwargs)\n",
    "    print(type(kwargs))"
   ]
  },
  {
   "cell_type": "code",
   "execution_count": 58,
   "id": "924c92e8",
   "metadata": {},
   "outputs": [
    {
     "name": "stdout",
     "output_type": "stream",
     "text": [
      "(1, 2, 3, 4, 5)\n",
      "<class 'tuple'>\n",
      "{'a': '1', 'b': '2', 'c': 3, 'd': None}\n",
      "<class 'dict'>\n"
     ]
    }
   ],
   "source": [
    "args_kwargs_function(1,2,3,4,5,a='1', b='2', c=3, d=None)"
   ]
  },
  {
   "cell_type": "code",
   "execution_count": 59,
   "id": "eec5798e",
   "metadata": {},
   "outputs": [],
   "source": [
    "def basic_parameter_args_kwargs_function(a, b, *args, **kwargs):\n",
    "    print(args)\n",
    "    print(type(args))\n",
    "    \n",
    "    print(kwargs)\n",
    "    print(type(kwargs))\n",
    "    \n",
    "    print(a)\n",
    "    print(b)"
   ]
  },
  {
   "cell_type": "code",
   "execution_count": 60,
   "id": "c0a193bc",
   "metadata": {},
   "outputs": [
    {
     "name": "stdout",
     "output_type": "stream",
     "text": [
      "(1, 2, 3, 4)\n",
      "<class 'tuple'>\n",
      "{'c': 30, 'd': 40}\n",
      "<class 'dict'>\n",
      "10\n",
      "20\n"
     ]
    }
   ],
   "source": [
    "basic_parameter_args_kwargs_function(10, 20, 1,2,3,4, c=30, d=40)"
   ]
  },
  {
   "cell_type": "markdown",
   "id": "6fd29060",
   "metadata": {},
   "source": [
    "### *args 내가 원하는 구구단 단수만 입력받아서 추력하는 함수 제작 gugudan(2,5, seven = 7, nine = 9)"
   ]
  },
  {
   "cell_type": "code",
   "execution_count": 82,
   "id": "53b029bd",
   "metadata": {},
   "outputs": [],
   "source": [
    "def gugudan(*args, **kwargs):\n",
    "    for first in args:\n",
    "        print(f\"{first}단\")\n",
    "        for second in range(1, 10):\n",
    "            print(f\"{first} * {second} = {first*second}\")\n",
    "        print()\n",
    "    for kwarg in kwargs:\n",
    "        dan = kwargs[kwarg]\n",
    "        print(f\"{dan} 단\")\n",
    "        for multiple in range(1, 10):\n",
    "            print(f\"{dan} * {multiple} = {dan*multiple}\")\n",
    "        print()\n",
    "        "
   ]
  },
  {
   "cell_type": "code",
   "execution_count": 83,
   "id": "50764cb6",
   "metadata": {},
   "outputs": [
    {
     "name": "stdout",
     "output_type": "stream",
     "text": [
      "2단\n",
      "2 * 1 = 2\n",
      "2 * 2 = 4\n",
      "2 * 3 = 6\n",
      "2 * 4 = 8\n",
      "2 * 5 = 10\n",
      "2 * 6 = 12\n",
      "2 * 7 = 14\n",
      "2 * 8 = 16\n",
      "2 * 9 = 18\n",
      "\n",
      "5단\n",
      "5 * 1 = 5\n",
      "5 * 2 = 10\n",
      "5 * 3 = 15\n",
      "5 * 4 = 20\n",
      "5 * 5 = 25\n",
      "5 * 6 = 30\n",
      "5 * 7 = 35\n",
      "5 * 8 = 40\n",
      "5 * 9 = 45\n",
      "\n",
      "7 단\n",
      "7 * 1 = 7\n",
      "7 * 2 = 14\n",
      "7 * 3 = 21\n",
      "7 * 4 = 28\n",
      "7 * 5 = 35\n",
      "7 * 6 = 42\n",
      "7 * 7 = 49\n",
      "7 * 8 = 56\n",
      "7 * 9 = 63\n",
      "\n",
      "9 단\n",
      "9 * 1 = 9\n",
      "9 * 2 = 18\n",
      "9 * 3 = 27\n",
      "9 * 4 = 36\n",
      "9 * 5 = 45\n",
      "9 * 6 = 54\n",
      "9 * 7 = 63\n",
      "9 * 8 = 72\n",
      "9 * 9 = 81\n",
      "\n"
     ]
    }
   ],
   "source": [
    "gugudan(2, 5, seven = 7, nine = 9)"
   ]
  },
  {
   "cell_type": "markdown",
   "id": "394c11f4",
   "metadata": {},
   "source": [
    "## 함수 내에 함수 정의 : 로컬 함수\n",
    "- 각 함수 정의 별로 그 안에 지역변수가 만들어지므로(locals()) 해당 이름공간도 같이 만들어집니다.  \n",
    "- 함수 내부의 로직들을 하나의 블럭인 함수로 지정해서 재사용 용도로 구성할 수 있음."
   ]
  },
  {
   "cell_type": "code",
   "execution_count": 97,
   "id": "c3260105",
   "metadata": {},
   "outputs": [],
   "source": [
    "def outer(a):\n",
    "    \n",
    "    def inner(b):\n",
    "        b += 2\n",
    "        print(f\"inner 함수 { locals() }\")\n",
    "        return b\n",
    "    a += 1\n",
    "    print(f\"outer 함수 { locals() }\")\n",
    "    \n",
    "    for data in range(1, 3):\n",
    "        inner(a)"
   ]
  },
  {
   "cell_type": "code",
   "execution_count": 94,
   "id": "cfcd8e36",
   "metadata": {},
   "outputs": [
    {
     "name": "stdout",
     "output_type": "stream",
     "text": [
      "outer 함수 {'a': 101, 'inner': <function outer.<locals>.inner at 0x0000026C414D1280>}\n",
      "inner 함수 {'b': 103}\n",
      "inner 함수 {'b': 103}\n"
     ]
    }
   ],
   "source": [
    "outer(100)"
   ]
  },
  {
   "cell_type": "code",
   "execution_count": null,
   "id": "20349f2d",
   "metadata": {},
   "outputs": [],
   "source": []
  }
 ],
 "metadata": {
  "kernelspec": {
   "display_name": "Python 3",
   "language": "python",
   "name": "python3"
  },
  "language_info": {
   "codemirror_mode": {
    "name": "ipython",
    "version": 3
   },
   "file_extension": ".py",
   "mimetype": "text/x-python",
   "name": "python",
   "nbconvert_exporter": "python",
   "pygments_lexer": "ipython3",
   "version": "3.8.8"
  }
 },
 "nbformat": 4,
 "nbformat_minor": 5
}
