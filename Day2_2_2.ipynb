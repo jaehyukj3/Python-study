{
 "cells": [
  {
   "cell_type": "code",
   "execution_count": 1,
   "id": "ad5d7504",
   "metadata": {},
   "outputs": [
    {
     "data": {
      "text/plain": [
       "'HELLO'"
      ]
     },
     "execution_count": 1,
     "metadata": {},
     "output_type": "execute_result"
    }
   ],
   "source": [
    "\"HELLO\""
   ]
  },
  {
   "cell_type": "code",
   "execution_count": 2,
   "id": "8703fd4a",
   "metadata": {},
   "outputs": [],
   "source": [
    "from datetime import datetime"
   ]
  },
  {
   "cell_type": "code",
   "execution_count": 3,
   "id": "6fbc5416",
   "metadata": {},
   "outputs": [
    {
     "data": {
      "text/plain": [
       "datetime.datetime(2021, 7, 29, 16, 28, 22, 264399)"
      ]
     },
     "execution_count": 3,
     "metadata": {},
     "output_type": "execute_result"
    }
   ],
   "source": [
    "datetime.now()"
   ]
  },
  {
   "cell_type": "code",
   "execution_count": 4,
   "id": "0b4a85ad",
   "metadata": {},
   "outputs": [
    {
     "data": {
      "text/plain": [
       "datetime.datetime(2021, 7, 29, 16, 28, 30, 190946)"
      ]
     },
     "execution_count": 4,
     "metadata": {},
     "output_type": "execute_result"
    }
   ],
   "source": [
    "datetime.now()"
   ]
  },
  {
   "cell_type": "markdown",
   "id": "183b0630",
   "metadata": {},
   "source": [
    "# Git(Code Repository)\n",
    "\n",
    "1. GitHub, Bitbucket, GitLab 가입\n",
    "2. Repository 생성\n",
    "3. clone\n",
    "- git clone https://나의RepositoryURL (폴더명)\n",
    "4. 여러가지 작업을 진행...\n",
    "5. 작업물을 올릴때 하는 명령어들\n",
    "- git add ( => local 어떤 파일들, 어떤 것들을 올릴지 결정하는)\n",
    "    - git add . (전체)\n",
    "    - git add -PATH/파일명 ( 해당 파일만)\n",
    "- git commit (=> 우리의 코드를 가지는 해당 서버로 기록과 보관을 해주는 것)\n",
    "    - git commit -m \"메시지\"\n",
    "- git push origin main(=> 코드를 가지는 해당 서버로 완전히 기록 및 업로드)\n",
    "    - gir push origin main (혹은 자신이 가진 브랜치)\n",
    "  \n",
    "6. 다른 사람이 수정한 결과를 받을 떄\n",
    "- git pull origin main\n",
    "    - update가 된다.\n",
    "    <<<<<< head"
   ]
  },
  {
   "cell_type": "code",
   "execution_count": null,
   "id": "d1789d76",
   "metadata": {},
   "outputs": [],
   "source": []
  }
 ],
 "metadata": {
  "kernelspec": {
   "display_name": "Python 3",
   "language": "python",
   "name": "python3"
  },
  "language_info": {
   "codemirror_mode": {
    "name": "ipython",
    "version": 3
   },
   "file_extension": ".py",
   "mimetype": "text/x-python",
   "name": "python",
   "nbconvert_exporter": "python",
   "pygments_lexer": "ipython3",
   "version": "3.8.8"
  }
 },
 "nbformat": 4,
 "nbformat_minor": 5
}
