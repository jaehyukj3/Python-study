{
 "cells": [
  {
   "cell_type": "code",
   "execution_count": 4,
   "id": "6e194896",
   "metadata": {},
   "outputs": [],
   "source": [
    "import calculator"
   ]
  },
  {
   "cell_type": "code",
   "execution_count": 9,
   "id": "bcd6bac7",
   "metadata": {},
   "outputs": [],
   "source": [
    "c=calculator.Calculator()"
   ]
  },
  {
   "cell_type": "code",
   "execution_count": 10,
   "id": "95c6b20a",
   "metadata": {},
   "outputs": [
    {
     "data": {
      "text/plain": [
       "0"
      ]
     },
     "execution_count": 10,
     "metadata": {},
     "output_type": "execute_result"
    }
   ],
   "source": [
    "c.result"
   ]
  },
  {
   "cell_type": "code",
   "execution_count": 11,
   "id": "69be440c",
   "metadata": {},
   "outputs": [],
   "source": [
    "c.add(2)"
   ]
  },
  {
   "cell_type": "code",
   "execution_count": 12,
   "id": "f8367e47",
   "metadata": {},
   "outputs": [
    {
     "data": {
      "text/plain": [
       "2"
      ]
     },
     "execution_count": 12,
     "metadata": {},
     "output_type": "execute_result"
    }
   ],
   "source": [
    "c.result"
   ]
  },
  {
   "cell_type": "code",
   "execution_count": 13,
   "id": "a24b5a59",
   "metadata": {},
   "outputs": [],
   "source": [
    "c.division(5)"
   ]
  },
  {
   "cell_type": "code",
   "execution_count": 14,
   "id": "c544dd64",
   "metadata": {},
   "outputs": [
    {
     "data": {
      "text/plain": [
       "0.4"
      ]
     },
     "execution_count": 14,
     "metadata": {},
     "output_type": "execute_result"
    }
   ],
   "source": [
    "c.result"
   ]
  },
  {
   "cell_type": "code",
   "execution_count": null,
   "id": "e7b1261b",
   "metadata": {},
   "outputs": [],
   "source": []
  }
 ],
 "metadata": {
  "kernelspec": {
   "display_name": "Python 3",
   "language": "python",
   "name": "python3"
  },
  "language_info": {
   "codemirror_mode": {
    "name": "ipython",
    "version": 3
   },
   "file_extension": ".py",
   "mimetype": "text/x-python",
   "name": "python",
   "nbconvert_exporter": "python",
   "pygments_lexer": "ipython3",
   "version": "3.8.8"
  }
 },
 "nbformat": 4,
 "nbformat_minor": 5
}
