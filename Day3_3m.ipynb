{
 "cells": [
  {
   "cell_type": "markdown",
   "id": "a0c9e64c",
   "metadata": {},
   "source": [
    "## 함수도 객체다.\n",
    "\n",
    "- 함수도 다른 객체처럼 클래스를 가지고 있다.\n",
    "- 함수도 다른 객체처럼 변수에 할당도 가능하고, 즉 매개변수로 전달이 가능합니다,"
   ]
  },
  {
   "cell_type": "code",
   "execution_count": 17,
   "id": "652886d0",
   "metadata": {},
   "outputs": [],
   "source": [
    "def add(x, y):\n",
    "    \"\"\"덧셈을 위한 함수\"\"\"\n",
    "    return x+y"
   ]
  },
  {
   "cell_type": "code",
   "execution_count": 2,
   "id": "c8f4c2d8",
   "metadata": {},
   "outputs": [
    {
     "data": {
      "text/plain": [
       "function"
      ]
     },
     "execution_count": 2,
     "metadata": {},
     "output_type": "execute_result"
    }
   ],
   "source": [
    "type(add)"
   ]
  },
  {
   "cell_type": "code",
   "execution_count": 3,
   "id": "7245128f",
   "metadata": {},
   "outputs": [],
   "source": [
    "import types"
   ]
  },
  {
   "cell_type": "code",
   "execution_count": 5,
   "id": "0e5f1aa1",
   "metadata": {},
   "outputs": [
    {
     "name": "stdout",
     "output_type": "stream",
     "text": [
      "['AsyncGeneratorType', 'BuiltinFunctionType', 'BuiltinMethodType', 'CellType', 'ClassMethodDescriptorType', 'CodeType', 'CoroutineType', 'DynamicClassAttribute', 'FrameType', 'FunctionType', 'GeneratorType', 'GetSetDescriptorType', 'LambdaType', 'MappingProxyType', 'MemberDescriptorType', 'MethodDescriptorType', 'MethodType', 'MethodWrapperType', 'ModuleType', 'SimpleNamespace', 'TracebackType', 'WrapperDescriptorType', '_GeneratorWrapper', '__all__', '__builtins__', '__cached__', '__doc__', '__file__', '__loader__', '__name__', '__package__', '__spec__', '_calculate_meta', '_cell_factory', 'coroutine', 'new_class', 'prepare_class', 'resolve_bases']\n"
     ]
    }
   ],
   "source": [
    "print(dir(types))"
   ]
  },
  {
   "cell_type": "code",
   "execution_count": 6,
   "id": "ff149c4f",
   "metadata": {},
   "outputs": [],
   "source": [
    "from types import FunctionType"
   ]
  },
  {
   "cell_type": "code",
   "execution_count": 7,
   "id": "388a53ba",
   "metadata": {},
   "outputs": [
    {
     "data": {
      "text/plain": [
       "True"
      ]
     },
     "execution_count": 7,
     "metadata": {},
     "output_type": "execute_result"
    }
   ],
   "source": [
    "add.__class__ is FunctionType"
   ]
  },
  {
   "cell_type": "code",
   "execution_count": 10,
   "id": "5f3dd047",
   "metadata": {},
   "outputs": [],
   "source": [
    "add_ = add"
   ]
  },
  {
   "cell_type": "code",
   "execution_count": 12,
   "id": "398ce88e",
   "metadata": {},
   "outputs": [
    {
     "data": {
      "text/plain": [
       "3"
      ]
     },
     "execution_count": 12,
     "metadata": {},
     "output_type": "execute_result"
    }
   ],
   "source": [
    "add_(1, 2)"
   ]
  },
  {
   "cell_type": "code",
   "execution_count": 13,
   "id": "ff04ce6a",
   "metadata": {},
   "outputs": [
    {
     "data": {
      "text/plain": [
       "(2186679083792, 2186679083792)"
      ]
     },
     "execution_count": 13,
     "metadata": {},
     "output_type": "execute_result"
    }
   ],
   "source": [
    "id(add_), id(add)"
   ]
  },
  {
   "cell_type": "code",
   "execution_count": 15,
   "id": "bfae6edc",
   "metadata": {},
   "outputs": [
    {
     "data": {
      "text/plain": [
       "True"
      ]
     },
     "execution_count": 15,
     "metadata": {},
     "output_type": "execute_result"
    }
   ],
   "source": [
    "add_.__class__ is FunctionType"
   ]
  },
  {
   "cell_type": "code",
   "execution_count": 16,
   "id": "7c3ca82a",
   "metadata": {},
   "outputs": [
    {
     "data": {
      "text/plain": [
       "function"
      ]
     },
     "execution_count": 16,
     "metadata": {},
     "output_type": "execute_result"
    }
   ],
   "source": [
    "FunctionType"
   ]
  },
  {
   "cell_type": "markdown",
   "id": "6a373098",
   "metadata": {},
   "source": [
    "## 매개변수에 초기 고정값 지정하기\n",
    "\n",
    "- 매개변수에 초기값을 지정하는 이유는 이 매개변수에 인자가 안들어올경우 에러 없이 처리하기 위해 존재.  \n",
    "- 다른 언어는 함수를 오버로딩이 가능해서 여러 함수를 정의하는 것을 방지하기 위해 초기값을 지정하지만  \n",
    "- 파이썬은 여러 함수를 동시에 정의할 수 없어서 초기값만으로 여러 함수를 정의한 것처럼 사용하게 됩니다."
   ]
  },
  {
   "cell_type": "code",
   "execution_count": 32,
   "id": "dfb6c24d",
   "metadata": {},
   "outputs": [],
   "source": [
    "def subtract(x = 1, y = 2):\n",
    "    return x-y"
   ]
  },
  {
   "cell_type": "code",
   "execution_count": 19,
   "id": "c0045eea",
   "metadata": {},
   "outputs": [
    {
     "data": {
      "text/plain": [
       "<function __main__.add(x, y)>"
      ]
     },
     "execution_count": 19,
     "metadata": {},
     "output_type": "execute_result"
    }
   ],
   "source": [
    "globals()['add']"
   ]
  },
  {
   "cell_type": "code",
   "execution_count": 20,
   "id": "7ab9e38c",
   "metadata": {},
   "outputs": [],
   "source": [
    "def add(x, y, z):\n",
    "    return x+y+z"
   ]
  },
  {
   "cell_type": "code",
   "execution_count": 21,
   "id": "f4c8ddab",
   "metadata": {},
   "outputs": [
    {
     "data": {
      "text/plain": [
       "<function __main__.add(x, y, z)>"
      ]
     },
     "execution_count": 21,
     "metadata": {},
     "output_type": "execute_result"
    }
   ],
   "source": [
    "globals()['add']"
   ]
  },
  {
   "cell_type": "code",
   "execution_count": 33,
   "id": "3fc7c044",
   "metadata": {},
   "outputs": [],
   "source": [
    "def subtract(x = 1, y = 2):\n",
    "    return x-y"
   ]
  },
  {
   "cell_type": "code",
   "execution_count": 34,
   "id": "a35eb50b",
   "metadata": {},
   "outputs": [
    {
     "name": "stdout",
     "output_type": "stream",
     "text": [
      "['__annotations__', '__call__', '__class__', '__closure__', '__code__', '__defaults__', '__delattr__', '__dict__', '__dir__', '__doc__', '__eq__', '__format__', '__ge__', '__get__', '__getattribute__', '__globals__', '__gt__', '__hash__', '__init__', '__init_subclass__', '__kwdefaults__', '__le__', '__lt__', '__module__', '__name__', '__ne__', '__new__', '__qualname__', '__reduce__', '__reduce_ex__', '__repr__', '__setattr__', '__sizeof__', '__str__', '__subclasshook__']\n"
     ]
    }
   ],
   "source": [
    "print(dir(subtract))"
   ]
  },
  {
   "cell_type": "code",
   "execution_count": 35,
   "id": "5d4d9256",
   "metadata": {},
   "outputs": [
    {
     "data": {
      "text/plain": [
       "(1, 2)"
      ]
     },
     "execution_count": 35,
     "metadata": {},
     "output_type": "execute_result"
    }
   ],
   "source": [
    "subtract.__defaults__"
   ]
  },
  {
   "cell_type": "code",
   "execution_count": 41,
   "id": "b16090a9",
   "metadata": {},
   "outputs": [
    {
     "data": {
      "text/plain": [
       "-2"
      ]
     },
     "execution_count": 41,
     "metadata": {},
     "output_type": "execute_result"
    }
   ],
   "source": [
    "subtract(y=3)"
   ]
  },
  {
   "cell_type": "code",
   "execution_count": 52,
   "id": "48d3a8d0",
   "metadata": {},
   "outputs": [],
   "source": [
    "def sample_function(a,b, c=1, d=2, *, kwarg1 = \"123\", kwargs2=\"name\"):\n",
    "    print(a,b)"
   ]
  },
  {
   "cell_type": "code",
   "execution_count": 53,
   "id": "3a4c6179",
   "metadata": {},
   "outputs": [
    {
     "data": {
      "text/plain": [
       "(1, 2)"
      ]
     },
     "execution_count": 53,
     "metadata": {},
     "output_type": "execute_result"
    }
   ],
   "source": [
    "sample_function.__defaults__"
   ]
  },
  {
   "cell_type": "code",
   "execution_count": 54,
   "id": "1db0fccb",
   "metadata": {},
   "outputs": [
    {
     "data": {
      "text/plain": [
       "{'kwarg1': '123', 'kwargs2': 'name'}"
      ]
     },
     "execution_count": 54,
     "metadata": {},
     "output_type": "execute_result"
    }
   ],
   "source": [
    "sample_function.__kwdefaults__"
   ]
  },
  {
   "cell_type": "code",
   "execution_count": 134,
   "id": "a0fa1d1e",
   "metadata": {},
   "outputs": [],
   "source": [
    "N = 3\n",
    "\n",
    "schedule = [\n",
    "    {\n",
    "        'name' : '1일',\n",
    "        'T': 3,\n",
    "        'P': 10\n",
    "    },\n",
    "    {\n",
    "        'name' : '2일',\n",
    "        'T': 2,\n",
    "        'P': 20\n",
    "    },\n",
    "    {\n",
    "        'name' : '3일',\n",
    "        'T': 1,\n",
    "        'P': 20\n",
    "    }\n",
    "     \n",
    "]"
   ]
  },
  {
   "cell_type": "code",
   "execution_count": 109,
   "id": "675dbaad",
   "metadata": {},
   "outputs": [],
   "source": [
    "N = 10\n",
    "\n",
    "schedule = [\n",
    "    {\n",
    "        'name': '1일',\n",
    "        'T': 1,\n",
    "        'P': 1\n",
    "    },\n",
    "    {\n",
    "        'name': '2일',\n",
    "        'T': 1,\n",
    "        'P': 2\n",
    "    },\n",
    "    {\n",
    "        'name': '3일',\n",
    "        'T': 1,\n",
    "        'P': 3\n",
    "    },\n",
    "    {\n",
    "        'name': '4일',\n",
    "        'T': 1,\n",
    "        'P': 4\n",
    "    },\n",
    "    {\n",
    "        'name': '5일',\n",
    "        'T': 1,\n",
    "        'P': 5\n",
    "    },\n",
    "    {\n",
    "        'name': '6일',\n",
    "        'T': 1,\n",
    "        'P': 6\n",
    "    },\n",
    "    {\n",
    "        'name': '7일',\n",
    "        'T': 1,\n",
    "        'P': 7\n",
    "    },\n",
    "    {\n",
    "        'name': '8일',\n",
    "        'T': 1,\n",
    "        'P': 8\n",
    "    },\n",
    "    {\n",
    "        'name': '9일',\n",
    "        'T': 1,\n",
    "        'P': 9\n",
    "    },\n",
    "    {\n",
    "        'name': '10일',\n",
    "        'T': 1,\n",
    "        'P': 10\n",
    "    },\n",
    "]"
   ]
  },
  {
   "cell_type": "code",
   "execution_count": 111,
   "id": "7dd28d1e",
   "metadata": {},
   "outputs": [],
   "source": [
    "N = 10\n",
    "\n",
    "schedule = [\n",
    "    {\n",
    "        'name': '1일',\n",
    "        'T': 5,\n",
    "        'P': 10\n",
    "    },\n",
    "    {\n",
    "        'name': '2일',\n",
    "        'T': 5,\n",
    "        'P': 9\n",
    "    },\n",
    "    {\n",
    "        'name': '3일',\n",
    "        'T': 5,\n",
    "        'P': 8\n",
    "    },\n",
    "    {\n",
    "        'name': '4일',\n",
    "        'T': 5,\n",
    "        'P': 7\n",
    "    },\n",
    "    {\n",
    "        'name': '5일',\n",
    "        'T': 5,\n",
    "        'P': 6\n",
    "    },\n",
    "    {\n",
    "        'name': '6일',\n",
    "        'T': 5,\n",
    "        'P': 10\n",
    "    },\n",
    "    {\n",
    "        'name': '7일',\n",
    "        'T': 5,\n",
    "        'P': 9\n",
    "    },\n",
    "    {\n",
    "        'name': '8일',\n",
    "        'T': 5,\n",
    "        'P': 8\n",
    "    },\n",
    "    {\n",
    "        'name': '9일',\n",
    "        'T': 5,\n",
    "        'P': 7\n",
    "    },\n",
    "    {\n",
    "        'name': '10일',\n",
    "        'T': 5,\n",
    "        'P': 6\n",
    "    },\n",
    "]"
   ]
  },
  {
   "cell_type": "code",
   "execution_count": 82,
   "id": "e7299e7d",
   "metadata": {},
   "outputs": [
    {
     "name": "stdout",
     "output_type": "stream",
     "text": [
      "1일 : {'name': '1일', 'T': 3, 'P': 10}\n",
      "2일 : {'name': '2일', 'T': 5, 'P': 20}\n",
      "3일 : {'name': '3일', 'T': 1, 'P': 10}\n",
      "4일 : {'name': '4일', 'T': 1, 'P': 20}\n",
      "5일 : {'name': '5일', 'T': 2, 'P': 15}\n",
      "6일 : {'name': '6일', 'T': 4, 'P': 40}\n",
      "7일 : {'name': '7일', 'T': 2, 'P': 200}\n"
     ]
    }
   ],
   "source": [
    "for index, data in enumerate(schedule):\n",
    "    print(f'{index + 1}일 : {data}')"
   ]
  },
  {
   "cell_type": "code",
   "execution_count": 83,
   "id": "fd299a7e",
   "metadata": {},
   "outputs": [
    {
     "name": "stdout",
     "output_type": "stream",
     "text": [
      "1\n",
      "2\n",
      "3\n",
      "4\n",
      "5\n",
      "6\n",
      "7\n"
     ]
    }
   ],
   "source": [
    "for data in range(0, N):\n",
    "    print(data+1)"
   ]
  },
  {
   "cell_type": "code",
   "execution_count": 85,
   "id": "e490c78a",
   "metadata": {},
   "outputs": [
    {
     "ename": "IndentationError",
     "evalue": "unindent does not match any outer indentation level (<tokenize>, line 3)",
     "output_type": "error",
     "traceback": [
      "\u001b[1;36m  File \u001b[1;32m\"<tokenize>\"\u001b[1;36m, line \u001b[1;32m3\u001b[0m\n\u001b[1;33m    - 4X -5O  ( END )\u001b[0m\n\u001b[1;37m    ^\u001b[0m\n\u001b[1;31mIndentationError\u001b[0m\u001b[1;31m:\u001b[0m unindent does not match any outer indentation level\n"
     ]
    }
   ],
   "source": [
    "1일 : {'T': 3, 'P': 10} - O -2X -3X - 4O - 5O ( END)\n",
    "                                          - 5X ( END )\n",
    "                                     - 4X -5O  ( END )\n",
    "                        - X - 2O -3X -4X -5X   ( END )\n",
    "2일 : {'T': 5, 'P': 20} - O\n",
    "3일 : {'T': 1, 'P': 10}\n",
    "4일 : {'T': 1, 'P': 20}\n",
    "5일 : {'T': 2, 'P': 15}\n",
    "6일 : {'T': 4, 'P': 40}\n",
    "7일 : {'T': 2, 'P': 200}"
   ]
  },
  {
   "cell_type": "code",
   "execution_count": 135,
   "id": "e2e684e8",
   "metadata": {},
   "outputs": [
    {
     "name": "stdout",
     "output_type": "stream",
     "text": [
      "[{'total': 10, 'data': [{'name': '1일', 'T': 3, 'P': 10}]}, {'total': 20, 'data': [{'name': '3일', 'T': 1, 'P': 20}]}, {'total': 40, 'data': [{'name': '2일', 'T': 2, 'P': 20}, {'name': '3일', 'T': 1, 'P': 20}]}]\n",
      "{'total': 40, 'data': [{'name': '2일', 'T': 2, 'P': 20}, {'name': '3일', 'T': 1, 'P': 20}]}\n"
     ]
    }
   ],
   "source": [
    "result_data = []\n",
    "\n",
    "for index1, data1 in enumerate(schedule):\n",
    "    remain_days = N\n",
    "    result_datum = []\n",
    "    for index2, data2 in enumerate(schedule):\n",
    "        if index2 < index1:\n",
    "            continue\n",
    "        \n",
    "        if data2['T'] <= remain_days:\n",
    "            if len(result_datum) > 0:\n",
    "                if result_datum[len(result_datum) - 1]['T'] < index2 + 1 and N - (index2) >= data2['T']:\n",
    "                    result_datum.append(data2)\n",
    "                    remain_days -= data2['T']\n",
    "            else:\n",
    "                if N - (index2) >= data2['T']:\n",
    "                    result_datum.append(data2)\n",
    "                    remain_days -= data2['T']\n",
    "    \n",
    "    if len(result_datum) > 0:\n",
    "        result_data.append(result_datum)\n",
    "        \n",
    "result = []        \n",
    "\n",
    "for data in result_data:\n",
    "    total = 0\n",
    "    for datum in data:\n",
    "        total += datum['P']\n",
    "        \n",
    "    result.append({'total': total, 'data': data})\n",
    "\n",
    "from operator import itemgetter\n",
    "\n",
    "data = sorted(result, key=itemgetter('total'))\n",
    "\n",
    "print(data)\n",
    "print(data[len(data) - 1])"
   ]
  },
  {
   "cell_type": "code",
   "execution_count": 127,
   "id": "d5b11488",
   "metadata": {},
   "outputs": [
    {
     "data": {
      "text/plain": [
       "list"
      ]
     },
     "execution_count": 127,
     "metadata": {},
     "output_type": "execute_result"
    }
   ],
   "source": [
    "type(schedule)"
   ]
  },
  {
   "cell_type": "markdown",
   "id": "9bbfcae5",
   "metadata": {},
   "source": [
    "### 익명함수 lambda 함수\n",
    "\n",
    "- 이름없는 함수를 제작할 수 있다.\n",
    "- 이름없는 함수는 사용한 즉시 가비지컬렉션으로 사라짐.\n",
    "- 변수에 할당할 경우는 이름있는 함수로 지정해서 사용해야 함"
   ]
  },
  {
   "cell_type": "markdown",
   "id": "e073131a",
   "metadata": {},
   "source": [
    "1. 익명함수 정의 및 실행\n",
    "- lamda 키워드를 사용\n",
    "- : ( 콜론 )으로 나눠지는데, 좌측은 매개변수 우측은 표현식을 지정"
   ]
  },
  {
   "cell_type": "code",
   "execution_count": 136,
   "id": "72debe76",
   "metadata": {},
   "outputs": [
    {
     "data": {
      "text/plain": [
       "<function __main__.<lambda>(x)>"
      ]
     },
     "execution_count": 136,
     "metadata": {},
     "output_type": "execute_result"
    }
   ],
   "source": [
    "lambda x : x + 1"
   ]
  },
  {
   "cell_type": "code",
   "execution_count": 137,
   "id": "3fa3caca",
   "metadata": {},
   "outputs": [
    {
     "data": {
      "text/plain": [
       "4"
      ]
     },
     "execution_count": 137,
     "metadata": {},
     "output_type": "execute_result"
    }
   ],
   "source": [
    "(lambda x : x + 1)(3)"
   ]
  },
  {
   "cell_type": "code",
   "execution_count": 138,
   "id": "1d753dad",
   "metadata": {},
   "outputs": [],
   "source": [
    "from types import FunctionType"
   ]
  },
  {
   "cell_type": "code",
   "execution_count": 140,
   "id": "35ae47d5",
   "metadata": {},
   "outputs": [
    {
     "data": {
      "text/plain": [
       "True"
      ]
     },
     "execution_count": 140,
     "metadata": {},
     "output_type": "execute_result"
    }
   ],
   "source": [
    "(lambda x : x + 1).__class__ is FunctionType"
   ]
  },
  {
   "cell_type": "markdown",
   "id": "2b97adc9",
   "metadata": {},
   "source": [
    "### 재귀함수\n",
    "\n",
    "- 함수 자신을 호출하고 함수의 결과와 다른 변수가 계산되어 처리하는 함수\n",
    "- 꼬리 재귀는 함수 자신만을 호출해서 처리하는 재귀함수\n",
    "- 특징 : 순환문 없이 함수를 호출해서 순환을 처리\n",
    "\n",
    "예시 : 5! = 5x4x3x2x1"
   ]
  },
  {
   "cell_type": "code",
   "execution_count": 141,
   "id": "18346d9c",
   "metadata": {},
   "outputs": [],
   "source": [
    "def factorial_for(n):\n",
    "    result = 1\n",
    "    for index in range(1, n + 1):\n",
    "        result *=index\n",
    "    return result"
   ]
  },
  {
   "cell_type": "code",
   "execution_count": 142,
   "id": "1ee951c2",
   "metadata": {},
   "outputs": [
    {
     "data": {
      "text/plain": [
       "120"
      ]
     },
     "execution_count": 142,
     "metadata": {},
     "output_type": "execute_result"
    }
   ],
   "source": [
    "factorial_for(5)"
   ]
  },
  {
   "cell_type": "code",
   "execution_count": 143,
   "id": "d82089cc",
   "metadata": {},
   "outputs": [],
   "source": [
    "def factorial_recursive(n):\n",
    "    return n * factorial_recursive(n-1) if n > 1 else 1"
   ]
  },
  {
   "cell_type": "code",
   "execution_count": 144,
   "id": "d1dadff6",
   "metadata": {},
   "outputs": [
    {
     "data": {
      "text/plain": [
       "120"
      ]
     },
     "execution_count": 144,
     "metadata": {},
     "output_type": "execute_result"
    }
   ],
   "source": [
    "factorial_recursive(5)"
   ]
  },
  {
   "cell_type": "code",
   "execution_count": 145,
   "id": "e7a1bd3d",
   "metadata": {},
   "outputs": [
    {
     "name": "stdout",
     "output_type": "stream",
     "text": [
      "예제 입력 1 :1 2\n"
     ]
    }
   ],
   "source": [
    "input_data = input(\"예제 입력 1 :\")"
   ]
  },
  {
   "cell_type": "code",
   "execution_count": 146,
   "id": "dd526054",
   "metadata": {},
   "outputs": [
    {
     "data": {
      "text/plain": [
       "['1', '2']"
      ]
     },
     "execution_count": 146,
     "metadata": {},
     "output_type": "execute_result"
    }
   ],
   "source": [
    "input_data.split(' ')"
   ]
  },
  {
   "cell_type": "code",
   "execution_count": 147,
   "id": "42a06b93",
   "metadata": {},
   "outputs": [],
   "source": [
    "split_input_data = input_data.split(' ')"
   ]
  },
  {
   "cell_type": "code",
   "execution_count": 149,
   "id": "18096ccc",
   "metadata": {},
   "outputs": [
    {
     "data": {
      "text/plain": [
       "3"
      ]
     },
     "execution_count": 149,
     "metadata": {},
     "output_type": "execute_result"
    }
   ],
   "source": [
    "int(split_input_data[0]) + int(split_input_data[len(split_input_data) - 1])"
   ]
  },
  {
   "cell_type": "code",
   "execution_count": 180,
   "id": "f6619dd0",
   "metadata": {},
   "outputs": [],
   "source": [
    "\n",
    "def input_AB():\n",
    "    input_data = input(\"예제 입력 : \")\n",
    "    split_input_data = input_data.split(' ')\n",
    "    \n",
    "    A = int(split_input_data[0])\n",
    "    if( A <= 0 or A >= 10):\n",
    "        print(\"A의 범위가 올바르지 않습니다.\")\n",
    "        return None\n",
    "    \n",
    "    B = int(split_input_data[1])\n",
    "    if( B <= 0 or B >= 10):\n",
    "        print(\"B의 범위가 올바르지 않습니다.\")\n",
    "        return None\n",
    "    return(A, B)\n",
    "\n",
    "def A_add_B():\n",
    "    data = input_AB()\n",
    "    if data is None:\n",
    "        return\n",
    "    \n",
    "    print(data[0] + data[1])\n",
    "\n",
    "def A_multiply_B():\n",
    "    data = input_AB()\n",
    "    if data is None:\n",
    "        return\n",
    "    print(f'예제 출력: {data[0] * data[1]}')\n",
    "    \n",
    "def A_subtract_B():\n",
    "    data = input_AB()\n",
    "    if data is None:\n",
    "        return\n",
    "    print(f'예제 출력: {data[0] - data[1]}')\n",
    "    \n",
    "def A_divide_B():\n",
    "    data = input_AB()\n",
    "    if data is None:\n",
    "        return\n",
    "    print(f'예제 출력: {data[0] / data[1]}')"
   ]
  },
  {
   "cell_type": "code",
   "execution_count": 166,
   "id": "39395303",
   "metadata": {},
   "outputs": [
    {
     "name": "stdout",
     "output_type": "stream",
     "text": [
      "예제 입력 : 1 2\n",
      "3\n"
     ]
    }
   ],
   "source": [
    "A_add_B()"
   ]
  },
  {
   "cell_type": "code",
   "execution_count": 168,
   "id": "a5474f9c",
   "metadata": {},
   "outputs": [
    {
     "name": "stdout",
     "output_type": "stream",
     "text": [
      "예제 입력 : 3 4\n",
      "12\n"
     ]
    }
   ],
   "source": [
    "A_multiple_B()"
   ]
  },
  {
   "cell_type": "code",
   "execution_count": 181,
   "id": "df7fc4ab",
   "metadata": {},
   "outputs": [
    {
     "name": "stdout",
     "output_type": "stream",
     "text": [
      "예제 입력 : 4 5\n",
      "예제 출력: 0.8\n"
     ]
    }
   ],
   "source": [
    "A_divide_B()"
   ]
  },
  {
   "cell_type": "code",
   "execution_count": 179,
   "id": "82a154a6",
   "metadata": {},
   "outputs": [
    {
     "name": "stdout",
     "output_type": "stream",
     "text": [
      "예제 입력 : 3 2\n",
      "예제 출력: 1\n"
     ]
    }
   ],
   "source": [
    "A_subtract_B()"
   ]
  },
  {
   "cell_type": "code",
   "execution_count": 186,
   "id": "4339da46",
   "metadata": {},
   "outputs": [
    {
     "name": "stdout",
     "output_type": "stream",
     "text": [
      "233168\n"
     ]
    }
   ],
   "source": [
    "sum = 0\n",
    "for data in range(1000):\n",
    "    if data % 3 == 0 or data % 5 ==0:\n",
    "        sum += data\n",
    "    elif data % 3 == 0 and data % 5 ==0:\n",
    "        if data % 15 == 0;\n",
    "            continue\n",
    "        sum -= data\n",
    "\n",
    "print (sum)"
   ]
  },
  {
   "cell_type": "code",
   "execution_count": 187,
   "id": "0e466fc5",
   "metadata": {},
   "outputs": [],
   "source": [
    "three_list = []\n",
    "five_list = []"
   ]
  },
  {
   "cell_type": "code",
   "execution_count": 191,
   "id": "bd0b3ce4",
   "metadata": {},
   "outputs": [],
   "source": [
    "count = 1000\n",
    "for data in range(1, count):\n",
    "    if data % 3 == 0:\n",
    "        three_list.append(data)\n",
    "    if data % 5 == 5:\n",
    "        five_list.append(data)"
   ]
  },
  {
   "cell_type": "code",
   "execution_count": 198,
   "id": "806738da",
   "metadata": {},
   "outputs": [
    {
     "name": "stdout",
     "output_type": "stream",
     "text": [
      "[3, 6, 9, 3, 6, 9, 12, 15, 18, 21, 24, 27, 30, 33, 36, 39, 42, 45, 48, 51, 54, 57, 60, 63, 66, 69, 72, 75, 78, 81, 84, 87, 90, 93, 96, 99, 102, 105, 108, 111, 114, 117, 120, 123, 126, 129, 132, 135, 138, 141, 144, 147, 150, 153, 156, 159, 162, 165, 168, 171, 174, 177, 180, 183, 186, 189, 192, 195, 198, 201, 204, 207, 210, 213, 216, 219, 222, 225, 228, 231, 234, 237, 240, 243, 246, 249, 252, 255, 258, 261, 264, 267, 270, 273, 276, 279, 282, 285, 288, 291, 294, 297, 300, 303, 306, 309, 312, 315, 318, 321, 324, 327, 330, 333, 336, 339, 342, 345, 348, 351, 354, 357, 360, 363, 366, 369, 372, 375, 378, 381, 384, 387, 390, 393, 396, 399, 402, 405, 408, 411, 414, 417, 420, 423, 426, 429, 432, 435, 438, 441, 444, 447, 450, 453, 456, 459, 462, 465, 468, 471, 474, 477, 480, 483, 486, 489, 492, 495, 498, 501, 504, 507, 510, 513, 516, 519, 522, 525, 528, 531, 534, 537, 540, 543, 546, 549, 552, 555, 558, 561, 564, 567, 570, 573, 576, 579, 582, 585, 588, 591, 594, 597, 600, 603, 606, 609, 612, 615, 618, 621, 624, 627, 630, 633, 636, 639, 642, 645, 648, 651, 654, 657, 660, 663, 666, 669, 672, 675, 678, 681, 684, 687, 690, 693, 696, 699, 702, 705, 708, 711, 714, 717, 720, 723, 726, 729, 732, 735, 738, 741, 744, 747, 750, 753, 756, 759, 762, 765, 768, 771, 774, 777, 780, 783, 786, 789, 792, 795, 798, 801, 804, 807, 810, 813, 816, 819, 822, 825, 828, 831, 834, 837, 840, 843, 846, 849, 852, 855, 858, 861, 864, 867, 870, 873, 876, 879, 882, 885, 888, 891, 894, 897, 900, 903, 906, 909, 912, 915, 918, 921, 924, 927, 930, 933, 936, 939, 942, 945, 948, 951, 954, 957, 960, 963, 966, 969, 972, 975, 978, 981, 984, 987, 990, 993, 996, 999]\n"
     ]
    }
   ],
   "source": [
    "print(three_list + five_list)"
   ]
  },
  {
   "cell_type": "code",
   "execution_count": 197,
   "id": "cc4892e7",
   "metadata": {},
   "outputs": [
    {
     "ename": "SyntaxError",
     "evalue": "invalid syntax (<ipython-input-197-2aa96c3037c4>, line 1)",
     "output_type": "error",
     "traceback": [
      "\u001b[1;36m  File \u001b[1;32m\"<ipython-input-197-2aa96c3037c4>\"\u001b[1;36m, line \u001b[1;32m1\u001b[0m\n\u001b[1;33m    three_set = set(three_list), five_set =s et(five_list)\u001b[0m\n\u001b[1;37m                                             ^\u001b[0m\n\u001b[1;31mSyntaxError\u001b[0m\u001b[1;31m:\u001b[0m invalid syntax\n"
     ]
    }
   ],
   "source": [
    "three_set = set(three_list), five_set =s et(five_list)"
   ]
  },
  {
   "cell_type": "code",
   "execution_count": 196,
   "id": "46c854a2",
   "metadata": {},
   "outputs": [
    {
     "ename": "NameError",
     "evalue": "name 'three_set' is not defined",
     "output_type": "error",
     "traceback": [
      "\u001b[1;31m---------------------------------------------------------------------------\u001b[0m",
      "\u001b[1;31mNameError\u001b[0m                                 Traceback (most recent call last)",
      "\u001b[1;32m<ipython-input-196-00d466dc6c06>\u001b[0m in \u001b[0;36m<module>\u001b[1;34m\u001b[0m\n\u001b[1;32m----> 1\u001b[1;33m \u001b[0mprint\u001b[0m\u001b[1;33m(\u001b[0m\u001b[0mdir\u001b[0m\u001b[1;33m(\u001b[0m\u001b[0mthree_set\u001b[0m\u001b[1;33m)\u001b[0m\u001b[1;33m)\u001b[0m\u001b[1;33m\u001b[0m\u001b[1;33m\u001b[0m\u001b[0m\n\u001b[0m",
      "\u001b[1;31mNameError\u001b[0m: name 'three_set' is not defined"
     ]
    }
   ],
   "source": [
    "print(dir(three_set))"
   ]
  },
  {
   "cell_type": "code",
   "execution_count": 202,
   "id": "85a5d7c7",
   "metadata": {},
   "outputs": [
    {
     "name": "stdout",
     "output_type": "stream",
     "text": [
      "[15, 30, 45, 60, 75, 90, 105, 120, 135, 150, 165, 180, 195, 210, 225, 240, 255, 270, 285, 300, 315, 330, 345, 360, 375, 390, 405, 420, 435, 450, 465, 480, 495, 510, 525, 540, 555, 570, 585, 600, 615, 630, 645, 660, 675, 690, 705, 720, 735, 750, 765, 780, 795, 810, 825, 840, 855, 870, 885, 900, 915, 930, 945, 960, 975, 990]\n"
     ]
    }
   ],
   "source": [
    "subtract_list = []\n",
    "for data in three_list:\n",
    "    if data % 15 == 0:\n",
    "        subtract_list.append(data)\n",
    "print(subtract_list)"
   ]
  },
  {
   "cell_type": "code",
   "execution_count": 203,
   "id": "90840af8",
   "metadata": {},
   "outputs": [
    {
     "data": {
      "text/plain": [
       "int"
      ]
     },
     "execution_count": 203,
     "metadata": {},
     "output_type": "execute_result"
    }
   ],
   "source": [
    "type(sum)"
   ]
  },
  {
   "cell_type": "code",
   "execution_count": null,
   "id": "ad1ffa21",
   "metadata": {},
   "outputs": [],
   "source": []
  }
 ],
 "metadata": {
  "kernelspec": {
   "display_name": "Python 3",
   "language": "python",
   "name": "python3"
  },
  "language_info": {
   "codemirror_mode": {
    "name": "ipython",
    "version": 3
   },
   "file_extension": ".py",
   "mimetype": "text/x-python",
   "name": "python",
   "nbconvert_exporter": "python",
   "pygments_lexer": "ipython3",
   "version": "3.8.8"
  }
 },
 "nbformat": 4,
 "nbformat_minor": 5
}
