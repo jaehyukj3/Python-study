{
 "cells": [
  {
   "cell_type": "markdown",
   "id": "5d111c8a",
   "metadata": {},
   "source": [
    "#### Python Version 확인하기\n",
    "#### 명령어 콘솔 이용(!)"
   ]
  },
  {
   "cell_type": "code",
   "execution_count": 1,
   "id": "7a3ccaea",
   "metadata": {},
   "outputs": [
    {
     "name": "stdout",
     "output_type": "stream",
     "text": [
      "Python 3.8.8\n"
     ]
    }
   ],
   "source": [
    "!python --version"
   ]
  },
  {
   "cell_type": "code",
   "execution_count": 2,
   "id": "0a59e5c8",
   "metadata": {},
   "outputs": [],
   "source": [
    "import sys"
   ]
  },
  {
   "cell_type": "code",
   "execution_count": 3,
   "id": "5675ad41",
   "metadata": {},
   "outputs": [
    {
     "name": "stdout",
     "output_type": "stream",
     "text": [
      "3.8.8 (default, Apr 13 2021, 15:08:03) [MSC v.1916 64 bit (AMD64)]\n"
     ]
    }
   ],
   "source": [
    "print(sys.version)"
   ]
  },
  {
   "cell_type": "markdown",
   "id": "9232a971",
   "metadata": {},
   "source": [
    "# Day-1-1\n",
    "## 대구\n",
    "### IT교육원\n",
    "#### 강사:문성혁\n",
    "+ Anaconda 설치\n",
    "+ Jupyter Notebook 사용법\n",
    "\n"
   ]
  },
  {
   "cell_type": "code",
   "execution_count": 4,
   "id": "62c93144",
   "metadata": {},
   "outputs": [
    {
     "name": "stdout",
     "output_type": "stream",
     "text": [
      "Overwriting helloworld.py\n"
     ]
    }
   ],
   "source": [
    "%%writefile helloworld.py\n",
    "print(\"Hello World!!\")"
   ]
  },
  {
   "cell_type": "code",
   "execution_count": 8,
   "id": "b54bd75b",
   "metadata": {},
   "outputs": [],
   "source": [
    "import helloworld"
   ]
  },
  {
   "cell_type": "code",
   "execution_count": 9,
   "id": "1e595d28",
   "metadata": {},
   "outputs": [],
   "source": [
    "import helloworld"
   ]
  },
  {
   "cell_type": "code",
   "execution_count": 10,
   "id": "9a2c9c1c",
   "metadata": {},
   "outputs": [
    {
     "name": "stdout",
     "output_type": "stream",
     "text": [
      " C 드라이브의 볼륨에는 이름이 없습니다.\n",
      " 볼륨 일련 번호: A612-B1FF\n",
      "\n",
      " C:\\Users\\A\\Desktop\\Python 디렉터리\n",
      "\n",
      "2021-07-28  오전 09:35    <DIR>          .\n",
      "2021-07-28  오전 09:35    <DIR>          ..\n",
      "2021-07-28  오전 09:12    <DIR>          .ipynb_checkpoints\n",
      "2021-07-28  오전 09:35    <DIR>          __pycache__\n",
      "2021-07-28  오전 09:33             1,788 Day1_1.ipynb\n",
      "2021-07-28  오전 09:35                24 helloworld.py\n",
      "               2개 파일               1,812 바이트\n",
      "               4개 디렉터리  149,514,895,360 바이트 남음\n"
     ]
    }
   ],
   "source": [
    "%ls"
   ]
  },
  {
   "cell_type": "code",
   "execution_count": 11,
   "id": "7f72026d",
   "metadata": {},
   "outputs": [
    {
     "name": "stderr",
     "output_type": "stream",
     "text": [
      "'ls'은(는) 내부 또는 외부 명령, 실행할 수 있는 프로그램, 또는\n",
      "배치 파일이 아닙니다.\n"
     ]
    }
   ],
   "source": [
    "!ls"
   ]
  },
  {
   "cell_type": "code",
   "execution_count": 12,
   "id": "9534c483",
   "metadata": {},
   "outputs": [
    {
     "name": "stdout",
     "output_type": "stream",
     "text": [
      "Hello World!!\n"
     ]
    }
   ],
   "source": [
    "!python helloworld.py"
   ]
  },
  {
   "cell_type": "code",
   "execution_count": 13,
   "id": "28603fdc",
   "metadata": {},
   "outputs": [
    {
     "name": "stdout",
     "output_type": "stream",
     "text": [
      "Hello World!!\n"
     ]
    }
   ],
   "source": [
    "%run helloworld.py"
   ]
  },
  {
   "cell_type": "code",
   "execution_count": 14,
   "id": "5ec8a735",
   "metadata": {},
   "outputs": [],
   "source": [
    "import keyword"
   ]
  },
  {
   "cell_type": "code",
   "execution_count": 15,
   "id": "8cec7ff7",
   "metadata": {},
   "outputs": [
    {
     "data": {
      "text/plain": [
       "['__all__',\n",
       " '__builtins__',\n",
       " '__cached__',\n",
       " '__doc__',\n",
       " '__file__',\n",
       " '__loader__',\n",
       " '__name__',\n",
       " '__package__',\n",
       " '__spec__',\n",
       " 'iskeyword',\n",
       " 'kwlist']"
      ]
     },
     "execution_count": 15,
     "metadata": {},
     "output_type": "execute_result"
    }
   ],
   "source": [
    "dir(keyword)"
   ]
  },
  {
   "cell_type": "code",
   "execution_count": 16,
   "id": "15ca263d",
   "metadata": {},
   "outputs": [
    {
     "name": "stdout",
     "output_type": "stream",
     "text": [
      "['False', 'None', 'True', 'and', 'as', 'assert', 'async', 'await', 'break', 'class', 'continue', 'def', 'del', 'elif', 'else', 'except', 'finally', 'for', 'from', 'global', 'if', 'import', 'in', 'is', 'lambda', 'nonlocal', 'not', 'or', 'pass', 'raise', 'return', 'try', 'while', 'with', 'yield']\n"
     ]
    }
   ],
   "source": [
    "print(keyword.kwlist)"
   ]
  },
  {
   "cell_type": "code",
   "execution_count": 17,
   "id": "3eee1d55",
   "metadata": {},
   "outputs": [
    {
     "data": {
      "text/plain": [
       "35"
      ]
     },
     "execution_count": 17,
     "metadata": {},
     "output_type": "execute_result"
    }
   ],
   "source": [
    "len(keyword.kwlist)"
   ]
  },
  {
   "cell_type": "code",
   "execution_count": 18,
   "id": "97a5e404",
   "metadata": {},
   "outputs": [],
   "source": [
    "if_ = 100"
   ]
  },
  {
   "cell_type": "code",
   "execution_count": 19,
   "id": "5a3e9bcb",
   "metadata": {},
   "outputs": [
    {
     "data": {
      "text/plain": [
       "100"
      ]
     },
     "execution_count": 19,
     "metadata": {},
     "output_type": "execute_result"
    }
   ],
   "source": [
    "if_"
   ]
  },
  {
   "cell_type": "code",
   "execution_count": 20,
   "id": "d10ca31b",
   "metadata": {},
   "outputs": [
    {
     "data": {
      "text/plain": [
       "type"
      ]
     },
     "execution_count": 20,
     "metadata": {},
     "output_type": "execute_result"
    }
   ],
   "source": [
    "type(int)"
   ]
  },
  {
   "cell_type": "markdown",
   "id": "24f9f4b7",
   "metadata": {},
   "source": [
    "1  2"
   ]
  },
  {
   "cell_type": "markdown",
   "id": "24dba1bd",
   "metadata": {},
   "source": [
    "#### 테스트\n",
    "1. 모듈이 뭔지\n",
    ">첫 번째 문장  \n",
    "두 번째 문장\n",
    "+ ㅁㅁ\n",
    "    + ㅁㄴㅇㄹ"
   ]
  },
  {
   "cell_type": "markdown",
   "id": "525b3dcc",
   "metadata": {},
   "source": [
    "a  \n",
    "b"
   ]
  },
  {
   "cell_type": "code",
   "execution_count": 23,
   "id": "f5880ff7",
   "metadata": {},
   "outputs": [
    {
     "data": {
      "text/plain": [
       "100"
      ]
     },
     "execution_count": 23,
     "metadata": {},
     "output_type": "execute_result"
    }
   ],
   "source": [
    "100"
   ]
  },
  {
   "cell_type": "code",
   "execution_count": 24,
   "id": "6f388303",
   "metadata": {},
   "outputs": [
    {
     "data": {
      "text/plain": [
       "int"
      ]
     },
     "execution_count": 24,
     "metadata": {},
     "output_type": "execute_result"
    }
   ],
   "source": [
    "type(100)"
   ]
  },
  {
   "cell_type": "markdown",
   "id": "203da3e1",
   "metadata": {},
   "source": [
    "#### type\n",
    "\n",
    "- 객체"
   ]
  },
  {
   "cell_type": "code",
   "execution_count": 36,
   "id": "f0c33919",
   "metadata": {},
   "outputs": [
    {
     "data": {
      "text/plain": [
       "mappingproxy({'__repr__': <slot wrapper '__repr__' of 'type' objects>,\n",
       "              '__call__': <slot wrapper '__call__' of 'type' objects>,\n",
       "              '__getattribute__': <slot wrapper '__getattribute__' of 'type' objects>,\n",
       "              '__setattr__': <slot wrapper '__setattr__' of 'type' objects>,\n",
       "              '__delattr__': <slot wrapper '__delattr__' of 'type' objects>,\n",
       "              '__init__': <slot wrapper '__init__' of 'type' objects>,\n",
       "              '__new__': <function type.__new__(*args, **kwargs)>,\n",
       "              'mro': <method 'mro' of 'type' objects>,\n",
       "              '__subclasses__': <method '__subclasses__' of 'type' objects>,\n",
       "              '__prepare__': <method '__prepare__' of 'type' objects>,\n",
       "              '__instancecheck__': <method '__instancecheck__' of 'type' objects>,\n",
       "              '__subclasscheck__': <method '__subclasscheck__' of 'type' objects>,\n",
       "              '__dir__': <method '__dir__' of 'type' objects>,\n",
       "              '__sizeof__': <method '__sizeof__' of 'type' objects>,\n",
       "              '__basicsize__': <member '__basicsize__' of 'type' objects>,\n",
       "              '__itemsize__': <member '__itemsize__' of 'type' objects>,\n",
       "              '__flags__': <member '__flags__' of 'type' objects>,\n",
       "              '__weakrefoffset__': <member '__weakrefoffset__' of 'type' objects>,\n",
       "              '__base__': <member '__base__' of 'type' objects>,\n",
       "              '__dictoffset__': <member '__dictoffset__' of 'type' objects>,\n",
       "              '__mro__': <member '__mro__' of 'type' objects>,\n",
       "              '__name__': <attribute '__name__' of 'type' objects>,\n",
       "              '__qualname__': <attribute '__qualname__' of 'type' objects>,\n",
       "              '__bases__': <attribute '__bases__' of 'type' objects>,\n",
       "              '__module__': <attribute '__module__' of 'type' objects>,\n",
       "              '__abstractmethods__': <attribute '__abstractmethods__' of 'type' objects>,\n",
       "              '__dict__': <attribute '__dict__' of 'type' objects>,\n",
       "              '__doc__': <attribute '__doc__' of 'type' objects>,\n",
       "              '__text_signature__': <attribute '__text_signature__' of 'type' objects>})"
      ]
     },
     "execution_count": 36,
     "metadata": {},
     "output_type": "execute_result"
    }
   ],
   "source": [
    "type.__dict__"
   ]
  },
  {
   "cell_type": "code",
   "execution_count": 25,
   "id": "7c406de1",
   "metadata": {},
   "outputs": [
    {
     "data": {
      "text/plain": [
       "True"
      ]
     },
     "execution_count": 25,
     "metadata": {},
     "output_type": "execute_result"
    }
   ],
   "source": [
    "isinstance(100, int)"
   ]
  },
  {
   "cell_type": "code",
   "execution_count": 39,
   "id": "67fc0d52",
   "metadata": {},
   "outputs": [],
   "source": [
    "a: int = 100"
   ]
  },
  {
   "cell_type": "code",
   "execution_count": 41,
   "id": "78fb2004",
   "metadata": {},
   "outputs": [],
   "source": [
    "a = '200'"
   ]
  },
  {
   "cell_type": "code",
   "execution_count": 42,
   "id": "46f01869",
   "metadata": {},
   "outputs": [
    {
     "data": {
      "text/plain": [
       "str"
      ]
     },
     "execution_count": 42,
     "metadata": {},
     "output_type": "execute_result"
    }
   ],
   "source": [
    "type(a)"
   ]
  },
  {
   "cell_type": "code",
   "execution_count": 43,
   "id": "d8aea176",
   "metadata": {},
   "outputs": [
    {
     "name": "stdout",
     "output_type": "stream",
     "text": [
      "2\n",
      "0\n",
      "0\n"
     ]
    }
   ],
   "source": [
    "for b in a:\n",
    "    print(b)"
   ]
  },
  {
   "cell_type": "code",
   "execution_count": 31,
   "id": "16a8b0e3",
   "metadata": {},
   "outputs": [],
   "source": [
    "a = 100; b = 200; c = a+b"
   ]
  },
  {
   "cell_type": "code",
   "execution_count": 33,
   "id": "50420d99",
   "metadata": {},
   "outputs": [
    {
     "data": {
      "text/plain": [
       "(100, 200, 300)"
      ]
     },
     "execution_count": 33,
     "metadata": {},
     "output_type": "execute_result"
    }
   ],
   "source": [
    "a, b, c"
   ]
  },
  {
   "cell_type": "code",
   "execution_count": 44,
   "id": "e1e4ebf7",
   "metadata": {},
   "outputs": [
    {
     "data": {
      "text/plain": [
       "{'__name__': '__main__',\n",
       " '__doc__': 'Module created for script run in IPython',\n",
       " '__package__': None,\n",
       " '__loader__': None,\n",
       " '__spec__': None,\n",
       " '__builtin__': <module 'builtins' (built-in)>,\n",
       " '__builtins__': <module 'builtins' (built-in)>,\n",
       " '_ih': ['',\n",
       "  'get_ipython().run_cell_magic(\\'writefile\\', \\'helloworld.py\\', \\'print(\"Hello World!\")\\\\n\\')',\n",
       "  'import hellowrld',\n",
       "  'import helloworld',\n",
       "  'get_ipython().run_cell_magic(\\'writefile\\', \\'helloworld.py\\', \\'print(\"Hello World!!\")\\\\n\\')',\n",
       "  'import helloworld',\n",
       "  'import helloworld',\n",
       "  'import helloworld.py',\n",
       "  'import helloworld',\n",
       "  'import helloworld',\n",
       "  \"get_ipython().run_line_magic('ls', '')\",\n",
       "  \"get_ipython().system('ls')\",\n",
       "  \"get_ipython().system('python helloworld.py')\",\n",
       "  \"get_ipython().run_line_magic('run', 'helloworld.py')\",\n",
       "  'import keyword',\n",
       "  'dir(keyword)',\n",
       "  'print(keyword.kwlist)',\n",
       "  'len(keyword.kwlist)',\n",
       "  'if_ = 100',\n",
       "  'if_',\n",
       "  'type(int)',\n",
       "  '1.  \\n2.',\n",
       "  'a  \\nb',\n",
       "  '100',\n",
       "  'type(100)',\n",
       "  'isinstance(100, int)',\n",
       "  'a: double = 100',\n",
       "  'a: float = 100',\n",
       "  'type(a)',\n",
       "  'a: int = 100',\n",
       "  'type(a)',\n",
       "  'a = 100; b = 200; c = a+b',\n",
       "  'dir(type)',\n",
       "  'a, b, c',\n",
       "  'type._dict_',\n",
       "  'dir(type)',\n",
       "  'type.__dict__',\n",
       "  \"a: int = '100'\",\n",
       "  'type(a)',\n",
       "  'a: int = 100',\n",
       "  'type(a)',\n",
       "  \"a = '200'\",\n",
       "  'type(a)',\n",
       "  'for b in a:\\n    print(b)',\n",
       "  'globals()'],\n",
       " '_oh': {15: ['__all__',\n",
       "   '__builtins__',\n",
       "   '__cached__',\n",
       "   '__doc__',\n",
       "   '__file__',\n",
       "   '__loader__',\n",
       "   '__name__',\n",
       "   '__package__',\n",
       "   '__spec__',\n",
       "   'iskeyword',\n",
       "   'kwlist'],\n",
       "  17: 35,\n",
       "  19: 100,\n",
       "  20: type,\n",
       "  21: 2.0,\n",
       "  23: 100,\n",
       "  24: int,\n",
       "  25: True,\n",
       "  28: int,\n",
       "  30: int,\n",
       "  32: ['__abstractmethods__',\n",
       "   '__base__',\n",
       "   '__bases__',\n",
       "   '__basicsize__',\n",
       "   '__call__',\n",
       "   '__class__',\n",
       "   '__delattr__',\n",
       "   '__dict__',\n",
       "   '__dictoffset__',\n",
       "   '__dir__',\n",
       "   '__doc__',\n",
       "   '__eq__',\n",
       "   '__flags__',\n",
       "   '__format__',\n",
       "   '__ge__',\n",
       "   '__getattribute__',\n",
       "   '__gt__',\n",
       "   '__hash__',\n",
       "   '__init__',\n",
       "   '__init_subclass__',\n",
       "   '__instancecheck__',\n",
       "   '__itemsize__',\n",
       "   '__le__',\n",
       "   '__lt__',\n",
       "   '__module__',\n",
       "   '__mro__',\n",
       "   '__name__',\n",
       "   '__ne__',\n",
       "   '__new__',\n",
       "   '__prepare__',\n",
       "   '__qualname__',\n",
       "   '__reduce__',\n",
       "   '__reduce_ex__',\n",
       "   '__repr__',\n",
       "   '__setattr__',\n",
       "   '__sizeof__',\n",
       "   '__str__',\n",
       "   '__subclasscheck__',\n",
       "   '__subclasses__',\n",
       "   '__subclasshook__',\n",
       "   '__text_signature__',\n",
       "   '__weakrefoffset__',\n",
       "   'mro'],\n",
       "  33: (100, 200, 300),\n",
       "  35: ['__abstractmethods__',\n",
       "   '__base__',\n",
       "   '__bases__',\n",
       "   '__basicsize__',\n",
       "   '__call__',\n",
       "   '__class__',\n",
       "   '__delattr__',\n",
       "   '__dict__',\n",
       "   '__dictoffset__',\n",
       "   '__dir__',\n",
       "   '__doc__',\n",
       "   '__eq__',\n",
       "   '__flags__',\n",
       "   '__format__',\n",
       "   '__ge__',\n",
       "   '__getattribute__',\n",
       "   '__gt__',\n",
       "   '__hash__',\n",
       "   '__init__',\n",
       "   '__init_subclass__',\n",
       "   '__instancecheck__',\n",
       "   '__itemsize__',\n",
       "   '__le__',\n",
       "   '__lt__',\n",
       "   '__module__',\n",
       "   '__mro__',\n",
       "   '__name__',\n",
       "   '__ne__',\n",
       "   '__new__',\n",
       "   '__prepare__',\n",
       "   '__qualname__',\n",
       "   '__reduce__',\n",
       "   '__reduce_ex__',\n",
       "   '__repr__',\n",
       "   '__setattr__',\n",
       "   '__sizeof__',\n",
       "   '__str__',\n",
       "   '__subclasscheck__',\n",
       "   '__subclasses__',\n",
       "   '__subclasshook__',\n",
       "   '__text_signature__',\n",
       "   '__weakrefoffset__',\n",
       "   'mro'],\n",
       "  36: mappingproxy({'__repr__': <slot wrapper '__repr__' of 'type' objects>,\n",
       "                '__call__': <slot wrapper '__call__' of 'type' objects>,\n",
       "                '__getattribute__': <slot wrapper '__getattribute__' of 'type' objects>,\n",
       "                '__setattr__': <slot wrapper '__setattr__' of 'type' objects>,\n",
       "                '__delattr__': <slot wrapper '__delattr__' of 'type' objects>,\n",
       "                '__init__': <slot wrapper '__init__' of 'type' objects>,\n",
       "                '__new__': <function type.__new__(*args, **kwargs)>,\n",
       "                'mro': <method 'mro' of 'type' objects>,\n",
       "                '__subclasses__': <method '__subclasses__' of 'type' objects>,\n",
       "                '__prepare__': <method '__prepare__' of 'type' objects>,\n",
       "                '__instancecheck__': <method '__instancecheck__' of 'type' objects>,\n",
       "                '__subclasscheck__': <method '__subclasscheck__' of 'type' objects>,\n",
       "                '__dir__': <method '__dir__' of 'type' objects>,\n",
       "                '__sizeof__': <method '__sizeof__' of 'type' objects>,\n",
       "                '__basicsize__': <member '__basicsize__' of 'type' objects>,\n",
       "                '__itemsize__': <member '__itemsize__' of 'type' objects>,\n",
       "                '__flags__': <member '__flags__' of 'type' objects>,\n",
       "                '__weakrefoffset__': <member '__weakrefoffset__' of 'type' objects>,\n",
       "                '__base__': <member '__base__' of 'type' objects>,\n",
       "                '__dictoffset__': <member '__dictoffset__' of 'type' objects>,\n",
       "                '__mro__': <member '__mro__' of 'type' objects>,\n",
       "                '__name__': <attribute '__name__' of 'type' objects>,\n",
       "                '__qualname__': <attribute '__qualname__' of 'type' objects>,\n",
       "                '__bases__': <attribute '__bases__' of 'type' objects>,\n",
       "                '__module__': <attribute '__module__' of 'type' objects>,\n",
       "                '__abstractmethods__': <attribute '__abstractmethods__' of 'type' objects>,\n",
       "                '__dict__': <attribute '__dict__' of 'type' objects>,\n",
       "                '__doc__': <attribute '__doc__' of 'type' objects>,\n",
       "                '__text_signature__': <attribute '__text_signature__' of 'type' objects>}),\n",
       "  38: str,\n",
       "  40: int,\n",
       "  42: str},\n",
       " '_dh': ['C:\\\\Users\\\\A\\\\Desktop\\\\Python'],\n",
       " 'In': ['',\n",
       "  'get_ipython().run_cell_magic(\\'writefile\\', \\'helloworld.py\\', \\'print(\"Hello World!\")\\\\n\\')',\n",
       "  'import hellowrld',\n",
       "  'import helloworld',\n",
       "  'get_ipython().run_cell_magic(\\'writefile\\', \\'helloworld.py\\', \\'print(\"Hello World!!\")\\\\n\\')',\n",
       "  'import helloworld',\n",
       "  'import helloworld',\n",
       "  'import helloworld.py',\n",
       "  'import helloworld',\n",
       "  'import helloworld',\n",
       "  \"get_ipython().run_line_magic('ls', '')\",\n",
       "  \"get_ipython().system('ls')\",\n",
       "  \"get_ipython().system('python helloworld.py')\",\n",
       "  \"get_ipython().run_line_magic('run', 'helloworld.py')\",\n",
       "  'import keyword',\n",
       "  'dir(keyword)',\n",
       "  'print(keyword.kwlist)',\n",
       "  'len(keyword.kwlist)',\n",
       "  'if_ = 100',\n",
       "  'if_',\n",
       "  'type(int)',\n",
       "  '1.  \\n2.',\n",
       "  'a  \\nb',\n",
       "  '100',\n",
       "  'type(100)',\n",
       "  'isinstance(100, int)',\n",
       "  'a: double = 100',\n",
       "  'a: float = 100',\n",
       "  'type(a)',\n",
       "  'a: int = 100',\n",
       "  'type(a)',\n",
       "  'a = 100; b = 200; c = a+b',\n",
       "  'dir(type)',\n",
       "  'a, b, c',\n",
       "  'type._dict_',\n",
       "  'dir(type)',\n",
       "  'type.__dict__',\n",
       "  \"a: int = '100'\",\n",
       "  'type(a)',\n",
       "  'a: int = 100',\n",
       "  'type(a)',\n",
       "  \"a = '200'\",\n",
       "  'type(a)',\n",
       "  'for b in a:\\n    print(b)',\n",
       "  'globals()'],\n",
       " 'Out': {15: ['__all__',\n",
       "   '__builtins__',\n",
       "   '__cached__',\n",
       "   '__doc__',\n",
       "   '__file__',\n",
       "   '__loader__',\n",
       "   '__name__',\n",
       "   '__package__',\n",
       "   '__spec__',\n",
       "   'iskeyword',\n",
       "   'kwlist'],\n",
       "  17: 35,\n",
       "  19: 100,\n",
       "  20: type,\n",
       "  21: 2.0,\n",
       "  23: 100,\n",
       "  24: int,\n",
       "  25: True,\n",
       "  28: int,\n",
       "  30: int,\n",
       "  32: ['__abstractmethods__',\n",
       "   '__base__',\n",
       "   '__bases__',\n",
       "   '__basicsize__',\n",
       "   '__call__',\n",
       "   '__class__',\n",
       "   '__delattr__',\n",
       "   '__dict__',\n",
       "   '__dictoffset__',\n",
       "   '__dir__',\n",
       "   '__doc__',\n",
       "   '__eq__',\n",
       "   '__flags__',\n",
       "   '__format__',\n",
       "   '__ge__',\n",
       "   '__getattribute__',\n",
       "   '__gt__',\n",
       "   '__hash__',\n",
       "   '__init__',\n",
       "   '__init_subclass__',\n",
       "   '__instancecheck__',\n",
       "   '__itemsize__',\n",
       "   '__le__',\n",
       "   '__lt__',\n",
       "   '__module__',\n",
       "   '__mro__',\n",
       "   '__name__',\n",
       "   '__ne__',\n",
       "   '__new__',\n",
       "   '__prepare__',\n",
       "   '__qualname__',\n",
       "   '__reduce__',\n",
       "   '__reduce_ex__',\n",
       "   '__repr__',\n",
       "   '__setattr__',\n",
       "   '__sizeof__',\n",
       "   '__str__',\n",
       "   '__subclasscheck__',\n",
       "   '__subclasses__',\n",
       "   '__subclasshook__',\n",
       "   '__text_signature__',\n",
       "   '__weakrefoffset__',\n",
       "   'mro'],\n",
       "  33: (100, 200, 300),\n",
       "  35: ['__abstractmethods__',\n",
       "   '__base__',\n",
       "   '__bases__',\n",
       "   '__basicsize__',\n",
       "   '__call__',\n",
       "   '__class__',\n",
       "   '__delattr__',\n",
       "   '__dict__',\n",
       "   '__dictoffset__',\n",
       "   '__dir__',\n",
       "   '__doc__',\n",
       "   '__eq__',\n",
       "   '__flags__',\n",
       "   '__format__',\n",
       "   '__ge__',\n",
       "   '__getattribute__',\n",
       "   '__gt__',\n",
       "   '__hash__',\n",
       "   '__init__',\n",
       "   '__init_subclass__',\n",
       "   '__instancecheck__',\n",
       "   '__itemsize__',\n",
       "   '__le__',\n",
       "   '__lt__',\n",
       "   '__module__',\n",
       "   '__mro__',\n",
       "   '__name__',\n",
       "   '__ne__',\n",
       "   '__new__',\n",
       "   '__prepare__',\n",
       "   '__qualname__',\n",
       "   '__reduce__',\n",
       "   '__reduce_ex__',\n",
       "   '__repr__',\n",
       "   '__setattr__',\n",
       "   '__sizeof__',\n",
       "   '__str__',\n",
       "   '__subclasscheck__',\n",
       "   '__subclasses__',\n",
       "   '__subclasshook__',\n",
       "   '__text_signature__',\n",
       "   '__weakrefoffset__',\n",
       "   'mro'],\n",
       "  36: mappingproxy({'__repr__': <slot wrapper '__repr__' of 'type' objects>,\n",
       "                '__call__': <slot wrapper '__call__' of 'type' objects>,\n",
       "                '__getattribute__': <slot wrapper '__getattribute__' of 'type' objects>,\n",
       "                '__setattr__': <slot wrapper '__setattr__' of 'type' objects>,\n",
       "                '__delattr__': <slot wrapper '__delattr__' of 'type' objects>,\n",
       "                '__init__': <slot wrapper '__init__' of 'type' objects>,\n",
       "                '__new__': <function type.__new__(*args, **kwargs)>,\n",
       "                'mro': <method 'mro' of 'type' objects>,\n",
       "                '__subclasses__': <method '__subclasses__' of 'type' objects>,\n",
       "                '__prepare__': <method '__prepare__' of 'type' objects>,\n",
       "                '__instancecheck__': <method '__instancecheck__' of 'type' objects>,\n",
       "                '__subclasscheck__': <method '__subclasscheck__' of 'type' objects>,\n",
       "                '__dir__': <method '__dir__' of 'type' objects>,\n",
       "                '__sizeof__': <method '__sizeof__' of 'type' objects>,\n",
       "                '__basicsize__': <member '__basicsize__' of 'type' objects>,\n",
       "                '__itemsize__': <member '__itemsize__' of 'type' objects>,\n",
       "                '__flags__': <member '__flags__' of 'type' objects>,\n",
       "                '__weakrefoffset__': <member '__weakrefoffset__' of 'type' objects>,\n",
       "                '__base__': <member '__base__' of 'type' objects>,\n",
       "                '__dictoffset__': <member '__dictoffset__' of 'type' objects>,\n",
       "                '__mro__': <member '__mro__' of 'type' objects>,\n",
       "                '__name__': <attribute '__name__' of 'type' objects>,\n",
       "                '__qualname__': <attribute '__qualname__' of 'type' objects>,\n",
       "                '__bases__': <attribute '__bases__' of 'type' objects>,\n",
       "                '__module__': <attribute '__module__' of 'type' objects>,\n",
       "                '__abstractmethods__': <attribute '__abstractmethods__' of 'type' objects>,\n",
       "                '__dict__': <attribute '__dict__' of 'type' objects>,\n",
       "                '__doc__': <attribute '__doc__' of 'type' objects>,\n",
       "                '__text_signature__': <attribute '__text_signature__' of 'type' objects>}),\n",
       "  38: str,\n",
       "  40: int,\n",
       "  42: str},\n",
       " 'get_ipython': <bound method InteractiveShell.get_ipython of <ipykernel.zmqshell.ZMQInteractiveShell object at 0x000001B1479EEA00>>,\n",
       " 'exit': <IPython.core.autocall.ZMQExitAutocall at 0x1b147a5f7f0>,\n",
       " 'quit': <IPython.core.autocall.ZMQExitAutocall at 0x1b147a5f7f0>,\n",
       " '_': str,\n",
       " '__': int,\n",
       " '___': str,\n",
       " '_i': 'for b in a:\\n    print(b)',\n",
       " '_ii': 'type(a)',\n",
       " '_iii': \"a = '200'\",\n",
       " '_i1': '%%writefile helloworld.py\\nprint(\"Hello World!\")',\n",
       " '_i2': 'import hellowrld',\n",
       " '_i3': 'import helloworld',\n",
       " 'helloworld': <module 'helloworld' from 'C:\\\\Users\\\\A\\\\Desktop\\\\Python\\\\helloworld.py'>,\n",
       " '_i4': '%%writefile helloworld.py\\nprint(\"Hello World!!\")',\n",
       " '_i5': 'import helloworld',\n",
       " '_i6': 'import helloworld',\n",
       " '_i7': 'import helloworld.py',\n",
       " '_i8': 'import helloworld',\n",
       " '_i9': 'import helloworld',\n",
       " '_i10': '%ls',\n",
       " '_exit_code': 0,\n",
       " '_i11': '!ls',\n",
       " '_i12': '!python helloworld.py',\n",
       " '_i13': '%run helloworld.py',\n",
       " '__nonzero__': <function IPython.core.interactiveshell.InteractiveShell.new_main_mod.<locals>.<lambda>()>,\n",
       " '_i14': 'import keyword',\n",
       " 'keyword': <module 'keyword' from 'C:\\\\Users\\\\A\\\\anaconda3\\\\lib\\\\keyword.py'>,\n",
       " '_i15': 'dir(keyword)',\n",
       " '_15': ['__all__',\n",
       "  '__builtins__',\n",
       "  '__cached__',\n",
       "  '__doc__',\n",
       "  '__file__',\n",
       "  '__loader__',\n",
       "  '__name__',\n",
       "  '__package__',\n",
       "  '__spec__',\n",
       "  'iskeyword',\n",
       "  'kwlist'],\n",
       " '_i16': 'print(keyword.kwlist)',\n",
       " '_i17': 'len(keyword.kwlist)',\n",
       " '_17': 35,\n",
       " '_i18': 'if_ = 100',\n",
       " 'if_': 100,\n",
       " '_i19': 'if_',\n",
       " '_19': 100,\n",
       " '_i20': 'type(int)',\n",
       " '_20': type,\n",
       " '_i21': '1.  \\n2.',\n",
       " '_21': 2.0,\n",
       " '_i22': 'a  \\nb',\n",
       " '_i23': '100',\n",
       " '_23': 100,\n",
       " '_i24': 'type(100)',\n",
       " '_24': int,\n",
       " '_i25': 'isinstance(100, int)',\n",
       " '_25': True,\n",
       " '_i26': 'a: double = 100',\n",
       " '__annotations__': {'a': int},\n",
       " 'a': '200',\n",
       " '_i27': 'a: float = 100',\n",
       " '_i28': 'type(a)',\n",
       " '_28': int,\n",
       " '_i29': 'a: int = 100',\n",
       " '_i30': 'type(a)',\n",
       " '_30': int,\n",
       " '_i31': 'a = 100; b = 200; c = a+b',\n",
       " 'b': '0',\n",
       " 'c': 300,\n",
       " '_i32': 'dir(type)',\n",
       " '_32': ['__abstractmethods__',\n",
       "  '__base__',\n",
       "  '__bases__',\n",
       "  '__basicsize__',\n",
       "  '__call__',\n",
       "  '__class__',\n",
       "  '__delattr__',\n",
       "  '__dict__',\n",
       "  '__dictoffset__',\n",
       "  '__dir__',\n",
       "  '__doc__',\n",
       "  '__eq__',\n",
       "  '__flags__',\n",
       "  '__format__',\n",
       "  '__ge__',\n",
       "  '__getattribute__',\n",
       "  '__gt__',\n",
       "  '__hash__',\n",
       "  '__init__',\n",
       "  '__init_subclass__',\n",
       "  '__instancecheck__',\n",
       "  '__itemsize__',\n",
       "  '__le__',\n",
       "  '__lt__',\n",
       "  '__module__',\n",
       "  '__mro__',\n",
       "  '__name__',\n",
       "  '__ne__',\n",
       "  '__new__',\n",
       "  '__prepare__',\n",
       "  '__qualname__',\n",
       "  '__reduce__',\n",
       "  '__reduce_ex__',\n",
       "  '__repr__',\n",
       "  '__setattr__',\n",
       "  '__sizeof__',\n",
       "  '__str__',\n",
       "  '__subclasscheck__',\n",
       "  '__subclasses__',\n",
       "  '__subclasshook__',\n",
       "  '__text_signature__',\n",
       "  '__weakrefoffset__',\n",
       "  'mro'],\n",
       " '_i33': 'a, b, c',\n",
       " '_33': (100, 200, 300),\n",
       " '_i34': 'type._dict_',\n",
       " '_i35': 'dir(type)',\n",
       " '_35': ['__abstractmethods__',\n",
       "  '__base__',\n",
       "  '__bases__',\n",
       "  '__basicsize__',\n",
       "  '__call__',\n",
       "  '__class__',\n",
       "  '__delattr__',\n",
       "  '__dict__',\n",
       "  '__dictoffset__',\n",
       "  '__dir__',\n",
       "  '__doc__',\n",
       "  '__eq__',\n",
       "  '__flags__',\n",
       "  '__format__',\n",
       "  '__ge__',\n",
       "  '__getattribute__',\n",
       "  '__gt__',\n",
       "  '__hash__',\n",
       "  '__init__',\n",
       "  '__init_subclass__',\n",
       "  '__instancecheck__',\n",
       "  '__itemsize__',\n",
       "  '__le__',\n",
       "  '__lt__',\n",
       "  '__module__',\n",
       "  '__mro__',\n",
       "  '__name__',\n",
       "  '__ne__',\n",
       "  '__new__',\n",
       "  '__prepare__',\n",
       "  '__qualname__',\n",
       "  '__reduce__',\n",
       "  '__reduce_ex__',\n",
       "  '__repr__',\n",
       "  '__setattr__',\n",
       "  '__sizeof__',\n",
       "  '__str__',\n",
       "  '__subclasscheck__',\n",
       "  '__subclasses__',\n",
       "  '__subclasshook__',\n",
       "  '__text_signature__',\n",
       "  '__weakrefoffset__',\n",
       "  'mro'],\n",
       " '_i36': 'type.__dict__',\n",
       " '_36': mappingproxy({'__repr__': <slot wrapper '__repr__' of 'type' objects>,\n",
       "               '__call__': <slot wrapper '__call__' of 'type' objects>,\n",
       "               '__getattribute__': <slot wrapper '__getattribute__' of 'type' objects>,\n",
       "               '__setattr__': <slot wrapper '__setattr__' of 'type' objects>,\n",
       "               '__delattr__': <slot wrapper '__delattr__' of 'type' objects>,\n",
       "               '__init__': <slot wrapper '__init__' of 'type' objects>,\n",
       "               '__new__': <function type.__new__(*args, **kwargs)>,\n",
       "               'mro': <method 'mro' of 'type' objects>,\n",
       "               '__subclasses__': <method '__subclasses__' of 'type' objects>,\n",
       "               '__prepare__': <method '__prepare__' of 'type' objects>,\n",
       "               '__instancecheck__': <method '__instancecheck__' of 'type' objects>,\n",
       "               '__subclasscheck__': <method '__subclasscheck__' of 'type' objects>,\n",
       "               '__dir__': <method '__dir__' of 'type' objects>,\n",
       "               '__sizeof__': <method '__sizeof__' of 'type' objects>,\n",
       "               '__basicsize__': <member '__basicsize__' of 'type' objects>,\n",
       "               '__itemsize__': <member '__itemsize__' of 'type' objects>,\n",
       "               '__flags__': <member '__flags__' of 'type' objects>,\n",
       "               '__weakrefoffset__': <member '__weakrefoffset__' of 'type' objects>,\n",
       "               '__base__': <member '__base__' of 'type' objects>,\n",
       "               '__dictoffset__': <member '__dictoffset__' of 'type' objects>,\n",
       "               '__mro__': <member '__mro__' of 'type' objects>,\n",
       "               '__name__': <attribute '__name__' of 'type' objects>,\n",
       "               '__qualname__': <attribute '__qualname__' of 'type' objects>,\n",
       "               '__bases__': <attribute '__bases__' of 'type' objects>,\n",
       "               '__module__': <attribute '__module__' of 'type' objects>,\n",
       "               '__abstractmethods__': <attribute '__abstractmethods__' of 'type' objects>,\n",
       "               '__dict__': <attribute '__dict__' of 'type' objects>,\n",
       "               '__doc__': <attribute '__doc__' of 'type' objects>,\n",
       "               '__text_signature__': <attribute '__text_signature__' of 'type' objects>}),\n",
       " '_i37': \"a: int = '100'\",\n",
       " '_i38': 'type(a)',\n",
       " '_38': str,\n",
       " '_i39': 'a: int = 100',\n",
       " '_i40': 'type(a)',\n",
       " '_40': int,\n",
       " '_i41': \"a = '200'\",\n",
       " '_i42': 'type(a)',\n",
       " '_42': str,\n",
       " '_i43': 'for b in a:\\n    print(b)',\n",
       " '_i44': 'globals()'}"
      ]
     },
     "execution_count": 44,
     "metadata": {},
     "output_type": "execute_result"
    }
   ],
   "source": [
    "globals()"
   ]
  },
  {
   "cell_type": "code",
   "execution_count": 45,
   "id": "a68fb4d2",
   "metadata": {},
   "outputs": [
    {
     "data": {
      "text/plain": [
       "{'__name__': '__main__',\n",
       " '__doc__': 'Module created for script run in IPython',\n",
       " '__package__': None,\n",
       " '__loader__': None,\n",
       " '__spec__': None,\n",
       " '__builtin__': <module 'builtins' (built-in)>,\n",
       " '__builtins__': <module 'builtins' (built-in)>,\n",
       " '_ih': ['',\n",
       "  'get_ipython().run_cell_magic(\\'writefile\\', \\'helloworld.py\\', \\'print(\"Hello World!\")\\\\n\\')',\n",
       "  'import hellowrld',\n",
       "  'import helloworld',\n",
       "  'get_ipython().run_cell_magic(\\'writefile\\', \\'helloworld.py\\', \\'print(\"Hello World!!\")\\\\n\\')',\n",
       "  'import helloworld',\n",
       "  'import helloworld',\n",
       "  'import helloworld.py',\n",
       "  'import helloworld',\n",
       "  'import helloworld',\n",
       "  \"get_ipython().run_line_magic('ls', '')\",\n",
       "  \"get_ipython().system('ls')\",\n",
       "  \"get_ipython().system('python helloworld.py')\",\n",
       "  \"get_ipython().run_line_magic('run', 'helloworld.py')\",\n",
       "  'import keyword',\n",
       "  'dir(keyword)',\n",
       "  'print(keyword.kwlist)',\n",
       "  'len(keyword.kwlist)',\n",
       "  'if_ = 100',\n",
       "  'if_',\n",
       "  'type(int)',\n",
       "  '1.  \\n2.',\n",
       "  'a  \\nb',\n",
       "  '100',\n",
       "  'type(100)',\n",
       "  'isinstance(100, int)',\n",
       "  'a: double = 100',\n",
       "  'a: float = 100',\n",
       "  'type(a)',\n",
       "  'a: int = 100',\n",
       "  'type(a)',\n",
       "  'a = 100; b = 200; c = a+b',\n",
       "  'dir(type)',\n",
       "  'a, b, c',\n",
       "  'type._dict_',\n",
       "  'dir(type)',\n",
       "  'type.__dict__',\n",
       "  \"a: int = '100'\",\n",
       "  'type(a)',\n",
       "  'a: int = 100',\n",
       "  'type(a)',\n",
       "  \"a = '200'\",\n",
       "  'type(a)',\n",
       "  'for b in a:\\n    print(b)',\n",
       "  'globals()',\n",
       "  'locals()'],\n",
       " '_oh': {15: ['__all__',\n",
       "   '__builtins__',\n",
       "   '__cached__',\n",
       "   '__doc__',\n",
       "   '__file__',\n",
       "   '__loader__',\n",
       "   '__name__',\n",
       "   '__package__',\n",
       "   '__spec__',\n",
       "   'iskeyword',\n",
       "   'kwlist'],\n",
       "  17: 35,\n",
       "  19: 100,\n",
       "  20: type,\n",
       "  21: 2.0,\n",
       "  23: 100,\n",
       "  24: int,\n",
       "  25: True,\n",
       "  28: int,\n",
       "  30: int,\n",
       "  32: ['__abstractmethods__',\n",
       "   '__base__',\n",
       "   '__bases__',\n",
       "   '__basicsize__',\n",
       "   '__call__',\n",
       "   '__class__',\n",
       "   '__delattr__',\n",
       "   '__dict__',\n",
       "   '__dictoffset__',\n",
       "   '__dir__',\n",
       "   '__doc__',\n",
       "   '__eq__',\n",
       "   '__flags__',\n",
       "   '__format__',\n",
       "   '__ge__',\n",
       "   '__getattribute__',\n",
       "   '__gt__',\n",
       "   '__hash__',\n",
       "   '__init__',\n",
       "   '__init_subclass__',\n",
       "   '__instancecheck__',\n",
       "   '__itemsize__',\n",
       "   '__le__',\n",
       "   '__lt__',\n",
       "   '__module__',\n",
       "   '__mro__',\n",
       "   '__name__',\n",
       "   '__ne__',\n",
       "   '__new__',\n",
       "   '__prepare__',\n",
       "   '__qualname__',\n",
       "   '__reduce__',\n",
       "   '__reduce_ex__',\n",
       "   '__repr__',\n",
       "   '__setattr__',\n",
       "   '__sizeof__',\n",
       "   '__str__',\n",
       "   '__subclasscheck__',\n",
       "   '__subclasses__',\n",
       "   '__subclasshook__',\n",
       "   '__text_signature__',\n",
       "   '__weakrefoffset__',\n",
       "   'mro'],\n",
       "  33: (100, 200, 300),\n",
       "  35: ['__abstractmethods__',\n",
       "   '__base__',\n",
       "   '__bases__',\n",
       "   '__basicsize__',\n",
       "   '__call__',\n",
       "   '__class__',\n",
       "   '__delattr__',\n",
       "   '__dict__',\n",
       "   '__dictoffset__',\n",
       "   '__dir__',\n",
       "   '__doc__',\n",
       "   '__eq__',\n",
       "   '__flags__',\n",
       "   '__format__',\n",
       "   '__ge__',\n",
       "   '__getattribute__',\n",
       "   '__gt__',\n",
       "   '__hash__',\n",
       "   '__init__',\n",
       "   '__init_subclass__',\n",
       "   '__instancecheck__',\n",
       "   '__itemsize__',\n",
       "   '__le__',\n",
       "   '__lt__',\n",
       "   '__module__',\n",
       "   '__mro__',\n",
       "   '__name__',\n",
       "   '__ne__',\n",
       "   '__new__',\n",
       "   '__prepare__',\n",
       "   '__qualname__',\n",
       "   '__reduce__',\n",
       "   '__reduce_ex__',\n",
       "   '__repr__',\n",
       "   '__setattr__',\n",
       "   '__sizeof__',\n",
       "   '__str__',\n",
       "   '__subclasscheck__',\n",
       "   '__subclasses__',\n",
       "   '__subclasshook__',\n",
       "   '__text_signature__',\n",
       "   '__weakrefoffset__',\n",
       "   'mro'],\n",
       "  36: mappingproxy({'__repr__': <slot wrapper '__repr__' of 'type' objects>,\n",
       "                '__call__': <slot wrapper '__call__' of 'type' objects>,\n",
       "                '__getattribute__': <slot wrapper '__getattribute__' of 'type' objects>,\n",
       "                '__setattr__': <slot wrapper '__setattr__' of 'type' objects>,\n",
       "                '__delattr__': <slot wrapper '__delattr__' of 'type' objects>,\n",
       "                '__init__': <slot wrapper '__init__' of 'type' objects>,\n",
       "                '__new__': <function type.__new__(*args, **kwargs)>,\n",
       "                'mro': <method 'mro' of 'type' objects>,\n",
       "                '__subclasses__': <method '__subclasses__' of 'type' objects>,\n",
       "                '__prepare__': <method '__prepare__' of 'type' objects>,\n",
       "                '__instancecheck__': <method '__instancecheck__' of 'type' objects>,\n",
       "                '__subclasscheck__': <method '__subclasscheck__' of 'type' objects>,\n",
       "                '__dir__': <method '__dir__' of 'type' objects>,\n",
       "                '__sizeof__': <method '__sizeof__' of 'type' objects>,\n",
       "                '__basicsize__': <member '__basicsize__' of 'type' objects>,\n",
       "                '__itemsize__': <member '__itemsize__' of 'type' objects>,\n",
       "                '__flags__': <member '__flags__' of 'type' objects>,\n",
       "                '__weakrefoffset__': <member '__weakrefoffset__' of 'type' objects>,\n",
       "                '__base__': <member '__base__' of 'type' objects>,\n",
       "                '__dictoffset__': <member '__dictoffset__' of 'type' objects>,\n",
       "                '__mro__': <member '__mro__' of 'type' objects>,\n",
       "                '__name__': <attribute '__name__' of 'type' objects>,\n",
       "                '__qualname__': <attribute '__qualname__' of 'type' objects>,\n",
       "                '__bases__': <attribute '__bases__' of 'type' objects>,\n",
       "                '__module__': <attribute '__module__' of 'type' objects>,\n",
       "                '__abstractmethods__': <attribute '__abstractmethods__' of 'type' objects>,\n",
       "                '__dict__': <attribute '__dict__' of 'type' objects>,\n",
       "                '__doc__': <attribute '__doc__' of 'type' objects>,\n",
       "                '__text_signature__': <attribute '__text_signature__' of 'type' objects>}),\n",
       "  38: str,\n",
       "  40: int,\n",
       "  42: str,\n",
       "  44: {...}},\n",
       " '_dh': ['C:\\\\Users\\\\A\\\\Desktop\\\\Python'],\n",
       " 'In': ['',\n",
       "  'get_ipython().run_cell_magic(\\'writefile\\', \\'helloworld.py\\', \\'print(\"Hello World!\")\\\\n\\')',\n",
       "  'import hellowrld',\n",
       "  'import helloworld',\n",
       "  'get_ipython().run_cell_magic(\\'writefile\\', \\'helloworld.py\\', \\'print(\"Hello World!!\")\\\\n\\')',\n",
       "  'import helloworld',\n",
       "  'import helloworld',\n",
       "  'import helloworld.py',\n",
       "  'import helloworld',\n",
       "  'import helloworld',\n",
       "  \"get_ipython().run_line_magic('ls', '')\",\n",
       "  \"get_ipython().system('ls')\",\n",
       "  \"get_ipython().system('python helloworld.py')\",\n",
       "  \"get_ipython().run_line_magic('run', 'helloworld.py')\",\n",
       "  'import keyword',\n",
       "  'dir(keyword)',\n",
       "  'print(keyword.kwlist)',\n",
       "  'len(keyword.kwlist)',\n",
       "  'if_ = 100',\n",
       "  'if_',\n",
       "  'type(int)',\n",
       "  '1.  \\n2.',\n",
       "  'a  \\nb',\n",
       "  '100',\n",
       "  'type(100)',\n",
       "  'isinstance(100, int)',\n",
       "  'a: double = 100',\n",
       "  'a: float = 100',\n",
       "  'type(a)',\n",
       "  'a: int = 100',\n",
       "  'type(a)',\n",
       "  'a = 100; b = 200; c = a+b',\n",
       "  'dir(type)',\n",
       "  'a, b, c',\n",
       "  'type._dict_',\n",
       "  'dir(type)',\n",
       "  'type.__dict__',\n",
       "  \"a: int = '100'\",\n",
       "  'type(a)',\n",
       "  'a: int = 100',\n",
       "  'type(a)',\n",
       "  \"a = '200'\",\n",
       "  'type(a)',\n",
       "  'for b in a:\\n    print(b)',\n",
       "  'globals()',\n",
       "  'locals()'],\n",
       " 'Out': {15: ['__all__',\n",
       "   '__builtins__',\n",
       "   '__cached__',\n",
       "   '__doc__',\n",
       "   '__file__',\n",
       "   '__loader__',\n",
       "   '__name__',\n",
       "   '__package__',\n",
       "   '__spec__',\n",
       "   'iskeyword',\n",
       "   'kwlist'],\n",
       "  17: 35,\n",
       "  19: 100,\n",
       "  20: type,\n",
       "  21: 2.0,\n",
       "  23: 100,\n",
       "  24: int,\n",
       "  25: True,\n",
       "  28: int,\n",
       "  30: int,\n",
       "  32: ['__abstractmethods__',\n",
       "   '__base__',\n",
       "   '__bases__',\n",
       "   '__basicsize__',\n",
       "   '__call__',\n",
       "   '__class__',\n",
       "   '__delattr__',\n",
       "   '__dict__',\n",
       "   '__dictoffset__',\n",
       "   '__dir__',\n",
       "   '__doc__',\n",
       "   '__eq__',\n",
       "   '__flags__',\n",
       "   '__format__',\n",
       "   '__ge__',\n",
       "   '__getattribute__',\n",
       "   '__gt__',\n",
       "   '__hash__',\n",
       "   '__init__',\n",
       "   '__init_subclass__',\n",
       "   '__instancecheck__',\n",
       "   '__itemsize__',\n",
       "   '__le__',\n",
       "   '__lt__',\n",
       "   '__module__',\n",
       "   '__mro__',\n",
       "   '__name__',\n",
       "   '__ne__',\n",
       "   '__new__',\n",
       "   '__prepare__',\n",
       "   '__qualname__',\n",
       "   '__reduce__',\n",
       "   '__reduce_ex__',\n",
       "   '__repr__',\n",
       "   '__setattr__',\n",
       "   '__sizeof__',\n",
       "   '__str__',\n",
       "   '__subclasscheck__',\n",
       "   '__subclasses__',\n",
       "   '__subclasshook__',\n",
       "   '__text_signature__',\n",
       "   '__weakrefoffset__',\n",
       "   'mro'],\n",
       "  33: (100, 200, 300),\n",
       "  35: ['__abstractmethods__',\n",
       "   '__base__',\n",
       "   '__bases__',\n",
       "   '__basicsize__',\n",
       "   '__call__',\n",
       "   '__class__',\n",
       "   '__delattr__',\n",
       "   '__dict__',\n",
       "   '__dictoffset__',\n",
       "   '__dir__',\n",
       "   '__doc__',\n",
       "   '__eq__',\n",
       "   '__flags__',\n",
       "   '__format__',\n",
       "   '__ge__',\n",
       "   '__getattribute__',\n",
       "   '__gt__',\n",
       "   '__hash__',\n",
       "   '__init__',\n",
       "   '__init_subclass__',\n",
       "   '__instancecheck__',\n",
       "   '__itemsize__',\n",
       "   '__le__',\n",
       "   '__lt__',\n",
       "   '__module__',\n",
       "   '__mro__',\n",
       "   '__name__',\n",
       "   '__ne__',\n",
       "   '__new__',\n",
       "   '__prepare__',\n",
       "   '__qualname__',\n",
       "   '__reduce__',\n",
       "   '__reduce_ex__',\n",
       "   '__repr__',\n",
       "   '__setattr__',\n",
       "   '__sizeof__',\n",
       "   '__str__',\n",
       "   '__subclasscheck__',\n",
       "   '__subclasses__',\n",
       "   '__subclasshook__',\n",
       "   '__text_signature__',\n",
       "   '__weakrefoffset__',\n",
       "   'mro'],\n",
       "  36: mappingproxy({'__repr__': <slot wrapper '__repr__' of 'type' objects>,\n",
       "                '__call__': <slot wrapper '__call__' of 'type' objects>,\n",
       "                '__getattribute__': <slot wrapper '__getattribute__' of 'type' objects>,\n",
       "                '__setattr__': <slot wrapper '__setattr__' of 'type' objects>,\n",
       "                '__delattr__': <slot wrapper '__delattr__' of 'type' objects>,\n",
       "                '__init__': <slot wrapper '__init__' of 'type' objects>,\n",
       "                '__new__': <function type.__new__(*args, **kwargs)>,\n",
       "                'mro': <method 'mro' of 'type' objects>,\n",
       "                '__subclasses__': <method '__subclasses__' of 'type' objects>,\n",
       "                '__prepare__': <method '__prepare__' of 'type' objects>,\n",
       "                '__instancecheck__': <method '__instancecheck__' of 'type' objects>,\n",
       "                '__subclasscheck__': <method '__subclasscheck__' of 'type' objects>,\n",
       "                '__dir__': <method '__dir__' of 'type' objects>,\n",
       "                '__sizeof__': <method '__sizeof__' of 'type' objects>,\n",
       "                '__basicsize__': <member '__basicsize__' of 'type' objects>,\n",
       "                '__itemsize__': <member '__itemsize__' of 'type' objects>,\n",
       "                '__flags__': <member '__flags__' of 'type' objects>,\n",
       "                '__weakrefoffset__': <member '__weakrefoffset__' of 'type' objects>,\n",
       "                '__base__': <member '__base__' of 'type' objects>,\n",
       "                '__dictoffset__': <member '__dictoffset__' of 'type' objects>,\n",
       "                '__mro__': <member '__mro__' of 'type' objects>,\n",
       "                '__name__': <attribute '__name__' of 'type' objects>,\n",
       "                '__qualname__': <attribute '__qualname__' of 'type' objects>,\n",
       "                '__bases__': <attribute '__bases__' of 'type' objects>,\n",
       "                '__module__': <attribute '__module__' of 'type' objects>,\n",
       "                '__abstractmethods__': <attribute '__abstractmethods__' of 'type' objects>,\n",
       "                '__dict__': <attribute '__dict__' of 'type' objects>,\n",
       "                '__doc__': <attribute '__doc__' of 'type' objects>,\n",
       "                '__text_signature__': <attribute '__text_signature__' of 'type' objects>}),\n",
       "  38: str,\n",
       "  40: int,\n",
       "  42: str,\n",
       "  44: {...}},\n",
       " 'get_ipython': <bound method InteractiveShell.get_ipython of <ipykernel.zmqshell.ZMQInteractiveShell object at 0x000001B1479EEA00>>,\n",
       " 'exit': <IPython.core.autocall.ZMQExitAutocall at 0x1b147a5f7f0>,\n",
       " 'quit': <IPython.core.autocall.ZMQExitAutocall at 0x1b147a5f7f0>,\n",
       " '_': {...},\n",
       " '__': str,\n",
       " '___': int,\n",
       " '_i': 'globals()',\n",
       " '_ii': 'for b in a:\\n    print(b)',\n",
       " '_iii': 'type(a)',\n",
       " '_i1': '%%writefile helloworld.py\\nprint(\"Hello World!\")',\n",
       " '_i2': 'import hellowrld',\n",
       " '_i3': 'import helloworld',\n",
       " 'helloworld': <module 'helloworld' from 'C:\\\\Users\\\\A\\\\Desktop\\\\Python\\\\helloworld.py'>,\n",
       " '_i4': '%%writefile helloworld.py\\nprint(\"Hello World!!\")',\n",
       " '_i5': 'import helloworld',\n",
       " '_i6': 'import helloworld',\n",
       " '_i7': 'import helloworld.py',\n",
       " '_i8': 'import helloworld',\n",
       " '_i9': 'import helloworld',\n",
       " '_i10': '%ls',\n",
       " '_exit_code': 0,\n",
       " '_i11': '!ls',\n",
       " '_i12': '!python helloworld.py',\n",
       " '_i13': '%run helloworld.py',\n",
       " '__nonzero__': <function IPython.core.interactiveshell.InteractiveShell.new_main_mod.<locals>.<lambda>()>,\n",
       " '_i14': 'import keyword',\n",
       " 'keyword': <module 'keyword' from 'C:\\\\Users\\\\A\\\\anaconda3\\\\lib\\\\keyword.py'>,\n",
       " '_i15': 'dir(keyword)',\n",
       " '_15': ['__all__',\n",
       "  '__builtins__',\n",
       "  '__cached__',\n",
       "  '__doc__',\n",
       "  '__file__',\n",
       "  '__loader__',\n",
       "  '__name__',\n",
       "  '__package__',\n",
       "  '__spec__',\n",
       "  'iskeyword',\n",
       "  'kwlist'],\n",
       " '_i16': 'print(keyword.kwlist)',\n",
       " '_i17': 'len(keyword.kwlist)',\n",
       " '_17': 35,\n",
       " '_i18': 'if_ = 100',\n",
       " 'if_': 100,\n",
       " '_i19': 'if_',\n",
       " '_19': 100,\n",
       " '_i20': 'type(int)',\n",
       " '_20': type,\n",
       " '_i21': '1.  \\n2.',\n",
       " '_21': 2.0,\n",
       " '_i22': 'a  \\nb',\n",
       " '_i23': '100',\n",
       " '_23': 100,\n",
       " '_i24': 'type(100)',\n",
       " '_24': int,\n",
       " '_i25': 'isinstance(100, int)',\n",
       " '_25': True,\n",
       " '_i26': 'a: double = 100',\n",
       " '__annotations__': {'a': int},\n",
       " 'a': '200',\n",
       " '_i27': 'a: float = 100',\n",
       " '_i28': 'type(a)',\n",
       " '_28': int,\n",
       " '_i29': 'a: int = 100',\n",
       " '_i30': 'type(a)',\n",
       " '_30': int,\n",
       " '_i31': 'a = 100; b = 200; c = a+b',\n",
       " 'b': '0',\n",
       " 'c': 300,\n",
       " '_i32': 'dir(type)',\n",
       " '_32': ['__abstractmethods__',\n",
       "  '__base__',\n",
       "  '__bases__',\n",
       "  '__basicsize__',\n",
       "  '__call__',\n",
       "  '__class__',\n",
       "  '__delattr__',\n",
       "  '__dict__',\n",
       "  '__dictoffset__',\n",
       "  '__dir__',\n",
       "  '__doc__',\n",
       "  '__eq__',\n",
       "  '__flags__',\n",
       "  '__format__',\n",
       "  '__ge__',\n",
       "  '__getattribute__',\n",
       "  '__gt__',\n",
       "  '__hash__',\n",
       "  '__init__',\n",
       "  '__init_subclass__',\n",
       "  '__instancecheck__',\n",
       "  '__itemsize__',\n",
       "  '__le__',\n",
       "  '__lt__',\n",
       "  '__module__',\n",
       "  '__mro__',\n",
       "  '__name__',\n",
       "  '__ne__',\n",
       "  '__new__',\n",
       "  '__prepare__',\n",
       "  '__qualname__',\n",
       "  '__reduce__',\n",
       "  '__reduce_ex__',\n",
       "  '__repr__',\n",
       "  '__setattr__',\n",
       "  '__sizeof__',\n",
       "  '__str__',\n",
       "  '__subclasscheck__',\n",
       "  '__subclasses__',\n",
       "  '__subclasshook__',\n",
       "  '__text_signature__',\n",
       "  '__weakrefoffset__',\n",
       "  'mro'],\n",
       " '_i33': 'a, b, c',\n",
       " '_33': (100, 200, 300),\n",
       " '_i34': 'type._dict_',\n",
       " '_i35': 'dir(type)',\n",
       " '_35': ['__abstractmethods__',\n",
       "  '__base__',\n",
       "  '__bases__',\n",
       "  '__basicsize__',\n",
       "  '__call__',\n",
       "  '__class__',\n",
       "  '__delattr__',\n",
       "  '__dict__',\n",
       "  '__dictoffset__',\n",
       "  '__dir__',\n",
       "  '__doc__',\n",
       "  '__eq__',\n",
       "  '__flags__',\n",
       "  '__format__',\n",
       "  '__ge__',\n",
       "  '__getattribute__',\n",
       "  '__gt__',\n",
       "  '__hash__',\n",
       "  '__init__',\n",
       "  '__init_subclass__',\n",
       "  '__instancecheck__',\n",
       "  '__itemsize__',\n",
       "  '__le__',\n",
       "  '__lt__',\n",
       "  '__module__',\n",
       "  '__mro__',\n",
       "  '__name__',\n",
       "  '__ne__',\n",
       "  '__new__',\n",
       "  '__prepare__',\n",
       "  '__qualname__',\n",
       "  '__reduce__',\n",
       "  '__reduce_ex__',\n",
       "  '__repr__',\n",
       "  '__setattr__',\n",
       "  '__sizeof__',\n",
       "  '__str__',\n",
       "  '__subclasscheck__',\n",
       "  '__subclasses__',\n",
       "  '__subclasshook__',\n",
       "  '__text_signature__',\n",
       "  '__weakrefoffset__',\n",
       "  'mro'],\n",
       " '_i36': 'type.__dict__',\n",
       " '_36': mappingproxy({'__repr__': <slot wrapper '__repr__' of 'type' objects>,\n",
       "               '__call__': <slot wrapper '__call__' of 'type' objects>,\n",
       "               '__getattribute__': <slot wrapper '__getattribute__' of 'type' objects>,\n",
       "               '__setattr__': <slot wrapper '__setattr__' of 'type' objects>,\n",
       "               '__delattr__': <slot wrapper '__delattr__' of 'type' objects>,\n",
       "               '__init__': <slot wrapper '__init__' of 'type' objects>,\n",
       "               '__new__': <function type.__new__(*args, **kwargs)>,\n",
       "               'mro': <method 'mro' of 'type' objects>,\n",
       "               '__subclasses__': <method '__subclasses__' of 'type' objects>,\n",
       "               '__prepare__': <method '__prepare__' of 'type' objects>,\n",
       "               '__instancecheck__': <method '__instancecheck__' of 'type' objects>,\n",
       "               '__subclasscheck__': <method '__subclasscheck__' of 'type' objects>,\n",
       "               '__dir__': <method '__dir__' of 'type' objects>,\n",
       "               '__sizeof__': <method '__sizeof__' of 'type' objects>,\n",
       "               '__basicsize__': <member '__basicsize__' of 'type' objects>,\n",
       "               '__itemsize__': <member '__itemsize__' of 'type' objects>,\n",
       "               '__flags__': <member '__flags__' of 'type' objects>,\n",
       "               '__weakrefoffset__': <member '__weakrefoffset__' of 'type' objects>,\n",
       "               '__base__': <member '__base__' of 'type' objects>,\n",
       "               '__dictoffset__': <member '__dictoffset__' of 'type' objects>,\n",
       "               '__mro__': <member '__mro__' of 'type' objects>,\n",
       "               '__name__': <attribute '__name__' of 'type' objects>,\n",
       "               '__qualname__': <attribute '__qualname__' of 'type' objects>,\n",
       "               '__bases__': <attribute '__bases__' of 'type' objects>,\n",
       "               '__module__': <attribute '__module__' of 'type' objects>,\n",
       "               '__abstractmethods__': <attribute '__abstractmethods__' of 'type' objects>,\n",
       "               '__dict__': <attribute '__dict__' of 'type' objects>,\n",
       "               '__doc__': <attribute '__doc__' of 'type' objects>,\n",
       "               '__text_signature__': <attribute '__text_signature__' of 'type' objects>}),\n",
       " '_i37': \"a: int = '100'\",\n",
       " '_i38': 'type(a)',\n",
       " '_38': str,\n",
       " '_i39': 'a: int = 100',\n",
       " '_i40': 'type(a)',\n",
       " '_40': int,\n",
       " '_i41': \"a = '200'\",\n",
       " '_i42': 'type(a)',\n",
       " '_42': str,\n",
       " '_i43': 'for b in a:\\n    print(b)',\n",
       " '_i44': 'globals()',\n",
       " '_44': {...},\n",
       " '_i45': 'locals()'}"
      ]
     },
     "execution_count": 45,
     "metadata": {},
     "output_type": "execute_result"
    }
   ],
   "source": [
    "locals()"
   ]
  },
  {
   "cell_type": "code",
   "execution_count": 46,
   "id": "93e178fa",
   "metadata": {},
   "outputs": [],
   "source": [
    "a = {\n",
    "    'a': 100,\n",
    "    'b': '200'\n",
    "}"
   ]
  },
  {
   "cell_type": "code",
   "execution_count": 47,
   "id": "6f25566c",
   "metadata": {},
   "outputs": [
    {
     "data": {
      "text/plain": [
       "{'a': 100, 'b': '200'}"
      ]
     },
     "execution_count": 47,
     "metadata": {},
     "output_type": "execute_result"
    }
   ],
   "source": [
    "a"
   ]
  },
  {
   "cell_type": "code",
   "execution_count": 48,
   "id": "6fad6abc",
   "metadata": {},
   "outputs": [
    {
     "data": {
      "text/plain": [
       "100"
      ]
     },
     "execution_count": 48,
     "metadata": {},
     "output_type": "execute_result"
    }
   ],
   "source": [
    "a['a']"
   ]
  },
  {
   "cell_type": "code",
   "execution_count": 49,
   "id": "5ee96237",
   "metadata": {},
   "outputs": [
    {
     "data": {
      "text/plain": [
       "'200'"
      ]
     },
     "execution_count": 49,
     "metadata": {},
     "output_type": "execute_result"
    }
   ],
   "source": [
    "a['b']"
   ]
  },
  {
   "cell_type": "code",
   "execution_count": 69,
   "id": "dfb0c546",
   "metadata": {},
   "outputs": [],
   "source": [
    "def test():\n",
    "    global cc\n",
    "    cc = 100\n",
    "    d = 200"
   ]
  },
  {
   "cell_type": "code",
   "execution_count": 70,
   "id": "4d672cb3",
   "metadata": {},
   "outputs": [],
   "source": [
    "test()"
   ]
  },
  {
   "cell_type": "code",
   "execution_count": 71,
   "id": "d7a285cc",
   "metadata": {},
   "outputs": [],
   "source": [
    "def test2():\n",
    "    print(locals())\n",
    "    print(cc)"
   ]
  },
  {
   "cell_type": "code",
   "execution_count": 72,
   "id": "99a8d423",
   "metadata": {},
   "outputs": [
    {
     "name": "stdout",
     "output_type": "stream",
     "text": [
      "{}\n",
      "100\n"
     ]
    }
   ],
   "source": [
    "test2()"
   ]
  },
  {
   "cell_type": "code",
   "execution_count": 68,
   "id": "675a308c",
   "metadata": {},
   "outputs": [
    {
     "data": {
      "text/plain": [
       "<function __main__.test()>"
      ]
     },
     "execution_count": 68,
     "metadata": {},
     "output_type": "execute_result"
    }
   ],
   "source": [
    "globals()['test']"
   ]
  },
  {
   "cell_type": "markdown",
   "id": "5d0435db",
   "metadata": {},
   "source": [
    "#####Class"
   ]
  },
  {
   "cell_type": "code",
   "execution_count": 88,
   "id": "bad451b7",
   "metadata": {},
   "outputs": [],
   "source": [
    "class Person():\n",
    "    \n",
    "    def __init__(self, height, weight, age, name):\n",
    "        self.height:int = height\n",
    "        self.weight = weight\n",
    "        self.age = age\n",
    "        self.name = name\n",
    "    \n",
    "    def say_korean(self):\n",
    "        print(\"한국어할수있습니다.\")"
   ]
  },
  {
   "cell_type": "code",
   "execution_count": 89,
   "id": "027ff525",
   "metadata": {},
   "outputs": [],
   "source": [
    "moon = Person(165, 70, 35, '김아무개')"
   ]
  },
  {
   "cell_type": "code",
   "execution_count": 90,
   "id": "c8328a15",
   "metadata": {},
   "outputs": [
    {
     "data": {
      "text/plain": [
       "<__main__.Person at 0x1b147b9b430>"
      ]
     },
     "execution_count": 90,
     "metadata": {},
     "output_type": "execute_result"
    }
   ],
   "source": [
    "moon"
   ]
  },
  {
   "cell_type": "code",
   "execution_count": 91,
   "id": "0994273f",
   "metadata": {},
   "outputs": [
    {
     "name": "stdout",
     "output_type": "stream",
     "text": [
      "['__class__', '__delattr__', '__dict__', '__dir__', '__doc__', '__eq__', '__format__', '__ge__', '__getattribute__', '__gt__', '__hash__', '__init__', '__init_subclass__', '__le__', '__lt__', '__module__', '__ne__', '__new__', '__reduce__', '__reduce_ex__', '__repr__', '__setattr__', '__sizeof__', '__str__', '__subclasshook__', '__weakref__', 'age', 'height', 'name', 'say_korean', 'weight']\n"
     ]
    }
   ],
   "source": [
    "print(dir(moon))"
   ]
  },
  {
   "cell_type": "code",
   "execution_count": 92,
   "id": "bc3c8c03",
   "metadata": {},
   "outputs": [
    {
     "data": {
      "text/plain": [
       "35"
      ]
     },
     "execution_count": 92,
     "metadata": {},
     "output_type": "execute_result"
    }
   ],
   "source": [
    "moon.age"
   ]
  },
  {
   "cell_type": "code",
   "execution_count": 93,
   "id": "c96dae97",
   "metadata": {},
   "outputs": [
    {
     "name": "stdout",
     "output_type": "stream",
     "text": [
      "한국어할수있습니다.\n"
     ]
    }
   ],
   "source": [
    "moon.say_korean()"
   ]
  },
  {
   "cell_type": "code",
   "execution_count": 94,
   "id": "34eb580f",
   "metadata": {},
   "outputs": [
    {
     "data": {
      "text/plain": [
       "'김아무개'"
      ]
     },
     "execution_count": 94,
     "metadata": {},
     "output_type": "execute_result"
    }
   ],
   "source": [
    "moon.name"
   ]
  },
  {
   "cell_type": "code",
   "execution_count": 95,
   "id": "f324f29e",
   "metadata": {},
   "outputs": [
    {
     "data": {
      "text/plain": [
       "int"
      ]
     },
     "execution_count": 95,
     "metadata": {},
     "output_type": "execute_result"
    }
   ],
   "source": [
    "type(moon.height)"
   ]
  },
  {
   "cell_type": "markdown",
   "id": "1240b436",
   "metadata": {},
   "source": [
    "# 내장 자료형\n",
    "### builtin data type\n",
    "\n",
    "- 파이썬 내부적으로 가지는 자료형은 숫자, 문자열, 리스트, 튜플, 딕셔너리, 집합 등"
   ]
  },
  {
   "cell_type": "code",
   "execution_count": 100,
   "id": "94f2a1be",
   "metadata": {},
   "outputs": [
    {
     "data": {
      "text/plain": [
       "<module 'builtins' (built-in)>"
      ]
     },
     "execution_count": 100,
     "metadata": {},
     "output_type": "execute_result"
    }
   ],
   "source": [
    "__builtins__"
   ]
  },
  {
   "cell_type": "code",
   "execution_count": 101,
   "id": "9f3101ce",
   "metadata": {},
   "outputs": [
    {
     "data": {
      "text/plain": [
       "{'__name__': 'builtins',\n",
       " '__doc__': \"Built-in functions, exceptions, and other objects.\\n\\nNoteworthy: None is the `nil' object; Ellipsis represents `...' in slices.\",\n",
       " '__package__': '',\n",
       " '__loader__': _frozen_importlib.BuiltinImporter,\n",
       " '__spec__': ModuleSpec(name='builtins', loader=<class '_frozen_importlib.BuiltinImporter'>),\n",
       " '__build_class__': <function __build_class__>,\n",
       " '__import__': <function __import__>,\n",
       " 'abs': <function abs(x, /)>,\n",
       " 'all': <function all(iterable, /)>,\n",
       " 'any': <function any(iterable, /)>,\n",
       " 'ascii': <function ascii(obj, /)>,\n",
       " 'bin': <function bin(number, /)>,\n",
       " 'breakpoint': <function breakpoint>,\n",
       " 'callable': <function callable(obj, /)>,\n",
       " 'chr': <function chr(i, /)>,\n",
       " 'compile': <function compile(source, filename, mode, flags=0, dont_inherit=False, optimize=-1, *, _feature_version=-1)>,\n",
       " 'delattr': <function delattr(obj, name, /)>,\n",
       " 'dir': <function dir>,\n",
       " 'divmod': <function divmod(x, y, /)>,\n",
       " 'eval': <function eval(source, globals=None, locals=None, /)>,\n",
       " 'exec': <function exec(source, globals=None, locals=None, /)>,\n",
       " 'format': <function format(value, format_spec='', /)>,\n",
       " 'getattr': <function getattr>,\n",
       " 'globals': <function globals()>,\n",
       " 'hasattr': <function hasattr(obj, name, /)>,\n",
       " 'hash': <function hash(obj, /)>,\n",
       " 'hex': <function hex(number, /)>,\n",
       " 'id': <function id(obj, /)>,\n",
       " 'input': <bound method Kernel.raw_input of <ipykernel.ipkernel.IPythonKernel object at 0x000001B1479EE9A0>>,\n",
       " 'isinstance': <function isinstance(obj, class_or_tuple, /)>,\n",
       " 'issubclass': <function issubclass(cls, class_or_tuple, /)>,\n",
       " 'iter': <function iter>,\n",
       " 'len': <function len(obj, /)>,\n",
       " 'locals': <function locals()>,\n",
       " 'max': <function max>,\n",
       " 'min': <function min>,\n",
       " 'next': <function next>,\n",
       " 'oct': <function oct(number, /)>,\n",
       " 'ord': <function ord(c, /)>,\n",
       " 'pow': <function pow(base, exp, mod=None)>,\n",
       " 'print': <function print>,\n",
       " 'repr': <function repr(obj, /)>,\n",
       " 'round': <function round(number, ndigits=None)>,\n",
       " 'setattr': <function setattr(obj, name, value, /)>,\n",
       " 'sorted': <function sorted(iterable, /, *, key=None, reverse=False)>,\n",
       " 'sum': <function sum(iterable, /, start=0)>,\n",
       " 'vars': <function vars>,\n",
       " 'None': None,\n",
       " 'Ellipsis': Ellipsis,\n",
       " 'NotImplemented': NotImplemented,\n",
       " 'False': False,\n",
       " 'True': True,\n",
       " 'bool': bool,\n",
       " 'memoryview': memoryview,\n",
       " 'bytearray': bytearray,\n",
       " 'bytes': bytes,\n",
       " 'classmethod': classmethod,\n",
       " 'complex': complex,\n",
       " 'dict': dict,\n",
       " 'enumerate': enumerate,\n",
       " 'filter': filter,\n",
       " 'float': float,\n",
       " 'frozenset': frozenset,\n",
       " 'property': property,\n",
       " 'int': int,\n",
       " 'list': list,\n",
       " 'map': map,\n",
       " 'object': object,\n",
       " 'range': range,\n",
       " 'reversed': reversed,\n",
       " 'set': set,\n",
       " 'slice': slice,\n",
       " 'staticmethod': staticmethod,\n",
       " 'str': str,\n",
       " 'super': super,\n",
       " 'tuple': tuple,\n",
       " 'type': type,\n",
       " 'zip': zip,\n",
       " '__debug__': True,\n",
       " 'BaseException': BaseException,\n",
       " 'Exception': Exception,\n",
       " 'TypeError': TypeError,\n",
       " 'StopAsyncIteration': StopAsyncIteration,\n",
       " 'StopIteration': StopIteration,\n",
       " 'GeneratorExit': GeneratorExit,\n",
       " 'SystemExit': SystemExit,\n",
       " 'KeyboardInterrupt': KeyboardInterrupt,\n",
       " 'ImportError': ImportError,\n",
       " 'ModuleNotFoundError': ModuleNotFoundError,\n",
       " 'OSError': OSError,\n",
       " 'EnvironmentError': OSError,\n",
       " 'IOError': OSError,\n",
       " 'WindowsError': OSError,\n",
       " 'EOFError': EOFError,\n",
       " 'RuntimeError': RuntimeError,\n",
       " 'RecursionError': RecursionError,\n",
       " 'NotImplementedError': NotImplementedError,\n",
       " 'NameError': NameError,\n",
       " 'UnboundLocalError': UnboundLocalError,\n",
       " 'AttributeError': AttributeError,\n",
       " 'SyntaxError': SyntaxError,\n",
       " 'IndentationError': IndentationError,\n",
       " 'TabError': TabError,\n",
       " 'LookupError': LookupError,\n",
       " 'IndexError': IndexError,\n",
       " 'KeyError': KeyError,\n",
       " 'ValueError': ValueError,\n",
       " 'UnicodeError': UnicodeError,\n",
       " 'UnicodeEncodeError': UnicodeEncodeError,\n",
       " 'UnicodeDecodeError': UnicodeDecodeError,\n",
       " 'UnicodeTranslateError': UnicodeTranslateError,\n",
       " 'AssertionError': AssertionError,\n",
       " 'ArithmeticError': ArithmeticError,\n",
       " 'FloatingPointError': FloatingPointError,\n",
       " 'OverflowError': OverflowError,\n",
       " 'ZeroDivisionError': ZeroDivisionError,\n",
       " 'SystemError': SystemError,\n",
       " 'ReferenceError': ReferenceError,\n",
       " 'MemoryError': MemoryError,\n",
       " 'BufferError': BufferError,\n",
       " 'Warning': Warning,\n",
       " 'UserWarning': UserWarning,\n",
       " 'DeprecationWarning': DeprecationWarning,\n",
       " 'PendingDeprecationWarning': PendingDeprecationWarning,\n",
       " 'SyntaxWarning': SyntaxWarning,\n",
       " 'RuntimeWarning': RuntimeWarning,\n",
       " 'FutureWarning': FutureWarning,\n",
       " 'ImportWarning': ImportWarning,\n",
       " 'UnicodeWarning': UnicodeWarning,\n",
       " 'BytesWarning': BytesWarning,\n",
       " 'ResourceWarning': ResourceWarning,\n",
       " 'ConnectionError': ConnectionError,\n",
       " 'BlockingIOError': BlockingIOError,\n",
       " 'BrokenPipeError': BrokenPipeError,\n",
       " 'ChildProcessError': ChildProcessError,\n",
       " 'ConnectionAbortedError': ConnectionAbortedError,\n",
       " 'ConnectionRefusedError': ConnectionRefusedError,\n",
       " 'ConnectionResetError': ConnectionResetError,\n",
       " 'FileExistsError': FileExistsError,\n",
       " 'FileNotFoundError': FileNotFoundError,\n",
       " 'IsADirectoryError': IsADirectoryError,\n",
       " 'NotADirectoryError': NotADirectoryError,\n",
       " 'InterruptedError': InterruptedError,\n",
       " 'PermissionError': PermissionError,\n",
       " 'ProcessLookupError': ProcessLookupError,\n",
       " 'TimeoutError': TimeoutError,\n",
       " 'open': <function io.open(file, mode='r', buffering=-1, encoding=None, errors=None, newline=None, closefd=True, opener=None)>,\n",
       " 'copyright': Copyright (c) 2001-2021 Python Software Foundation.\n",
       " All Rights Reserved.\n",
       " \n",
       " Copyright (c) 2000 BeOpen.com.\n",
       " All Rights Reserved.\n",
       " \n",
       " Copyright (c) 1995-2001 Corporation for National Research Initiatives.\n",
       " All Rights Reserved.\n",
       " \n",
       " Copyright (c) 1991-1995 Stichting Mathematisch Centrum, Amsterdam.\n",
       " All Rights Reserved.,\n",
       " 'credits':     Thanks to CWI, CNRI, BeOpen.com, Zope Corporation and a cast of thousands\n",
       "     for supporting Python development.  See www.python.org for more information.,\n",
       " 'license': See https://www.python.org/psf/license/,\n",
       " 'help': Type help() for interactive help, or help(object) for help about object.,\n",
       " '__IPYTHON__': True,\n",
       " 'display': <function IPython.core.display.display(*objs, include=None, exclude=None, metadata=None, transient=None, display_id=None, **kwargs)>,\n",
       " 'get_ipython': <bound method InteractiveShell.get_ipython of <ipykernel.zmqshell.ZMQInteractiveShell object at 0x000001B1479EEA00>>}"
      ]
     },
     "execution_count": 101,
     "metadata": {},
     "output_type": "execute_result"
    }
   ],
   "source": [
    "__builtins__.__dict__"
   ]
  },
  {
   "cell_type": "code",
   "execution_count": 102,
   "id": "3797bdc5",
   "metadata": {},
   "outputs": [
    {
     "data": {
      "text/plain": [
       "int"
      ]
     },
     "execution_count": 102,
     "metadata": {},
     "output_type": "execute_result"
    }
   ],
   "source": [
    "__builtins__.__dict__['int']"
   ]
  },
  {
   "cell_type": "code",
   "execution_count": 103,
   "id": "451708fc",
   "metadata": {},
   "outputs": [
    {
     "data": {
      "text/plain": [
       "float"
      ]
     },
     "execution_count": 103,
     "metadata": {},
     "output_type": "execute_result"
    }
   ],
   "source": [
    "__builtins__.__dict__['float']"
   ]
  },
  {
   "cell_type": "code",
   "execution_count": 104,
   "id": "899369b1",
   "metadata": {},
   "outputs": [
    {
     "data": {
      "text/plain": [
       "tuple"
      ]
     },
     "execution_count": 104,
     "metadata": {},
     "output_type": "execute_result"
    }
   ],
   "source": [
    "__builtins__.__dict__['tuple']"
   ]
  },
  {
   "cell_type": "code",
   "execution_count": 105,
   "id": "6cd6d048",
   "metadata": {},
   "outputs": [
    {
     "data": {
      "text/plain": [
       "100"
      ]
     },
     "execution_count": 105,
     "metadata": {},
     "output_type": "execute_result"
    }
   ],
   "source": [
    "100"
   ]
  },
  {
   "cell_type": "code",
   "execution_count": 106,
   "id": "1beb7a22",
   "metadata": {},
   "outputs": [
    {
     "data": {
      "text/plain": [
       "int"
      ]
     },
     "execution_count": 106,
     "metadata": {},
     "output_type": "execute_result"
    }
   ],
   "source": [
    "type(100)"
   ]
  },
  {
   "cell_type": "code",
   "execution_count": 107,
   "id": "50c60946",
   "metadata": {},
   "outputs": [
    {
     "data": {
      "text/plain": [
       "int"
      ]
     },
     "execution_count": 107,
     "metadata": {},
     "output_type": "execute_result"
    }
   ],
   "source": [
    "(100).__class__"
   ]
  },
  {
   "cell_type": "code",
   "execution_count": 108,
   "id": "092b6eed",
   "metadata": {},
   "outputs": [
    {
     "name": "stdout",
     "output_type": "stream",
     "text": [
      "['__abs__', '__add__', '__and__', '__bool__', '__ceil__', '__class__', '__delattr__', '__dir__', '__divmod__', '__doc__', '__eq__', '__float__', '__floor__', '__floordiv__', '__format__', '__ge__', '__getattribute__', '__getnewargs__', '__gt__', '__hash__', '__index__', '__init__', '__init_subclass__', '__int__', '__invert__', '__le__', '__lshift__', '__lt__', '__mod__', '__mul__', '__ne__', '__neg__', '__new__', '__or__', '__pos__', '__pow__', '__radd__', '__rand__', '__rdivmod__', '__reduce__', '__reduce_ex__', '__repr__', '__rfloordiv__', '__rlshift__', '__rmod__', '__rmul__', '__ror__', '__round__', '__rpow__', '__rrshift__', '__rshift__', '__rsub__', '__rtruediv__', '__rxor__', '__setattr__', '__sizeof__', '__str__', '__sub__', '__subclasshook__', '__truediv__', '__trunc__', '__xor__', 'as_integer_ratio', 'bit_length', 'conjugate', 'denominator', 'from_bytes', 'imag', 'numerator', 'real', 'to_bytes']\n"
     ]
    }
   ],
   "source": [
    "print(dir(100))"
   ]
  },
  {
   "cell_type": "code",
   "execution_count": 109,
   "id": "9986f985",
   "metadata": {},
   "outputs": [
    {
     "name": "stdout",
     "output_type": "stream",
     "text": [
      "['__abs__', '__add__', '__and__', '__bool__', '__ceil__', '__class__', '__delattr__', '__dir__', '__divmod__', '__doc__', '__eq__', '__float__', '__floor__', '__floordiv__', '__format__', '__ge__', '__getattribute__', '__getnewargs__', '__gt__', '__hash__', '__index__', '__init__', '__init_subclass__', '__int__', '__invert__', '__le__', '__lshift__', '__lt__', '__mod__', '__mul__', '__ne__', '__neg__', '__new__', '__or__', '__pos__', '__pow__', '__radd__', '__rand__', '__rdivmod__', '__reduce__', '__reduce_ex__', '__repr__', '__rfloordiv__', '__rlshift__', '__rmod__', '__rmul__', '__ror__', '__round__', '__rpow__', '__rrshift__', '__rshift__', '__rsub__', '__rtruediv__', '__rxor__', '__setattr__', '__sizeof__', '__str__', '__sub__', '__subclasshook__', '__truediv__', '__trunc__', '__xor__', 'as_integer_ratio', 'bit_length', 'conjugate', 'denominator', 'from_bytes', 'imag', 'numerator', 'real', 'to_bytes']\n"
     ]
    }
   ],
   "source": [
    "print(dir(int))"
   ]
  },
  {
   "cell_type": "code",
   "execution_count": 110,
   "id": "95df39a2",
   "metadata": {},
   "outputs": [
    {
     "data": {
      "text/plain": [
       "float"
      ]
     },
     "execution_count": 110,
     "metadata": {},
     "output_type": "execute_result"
    }
   ],
   "source": [
    "(100.0).__class__"
   ]
  },
  {
   "cell_type": "code",
   "execution_count": 112,
   "id": "0213c17c",
   "metadata": {},
   "outputs": [
    {
     "data": {
      "text/plain": [
       "complex"
      ]
     },
     "execution_count": 112,
     "metadata": {},
     "output_type": "execute_result"
    }
   ],
   "source": [
    "(100.1+1j).__class__"
   ]
  },
  {
   "cell_type": "code",
   "execution_count": 113,
   "id": "b75683ba",
   "metadata": {},
   "outputs": [],
   "source": [
    "from datetime import datetime\n",
    "import pytz"
   ]
  },
  {
   "cell_type": "code",
   "execution_count": 115,
   "id": "96e6d8ca",
   "metadata": {},
   "outputs": [
    {
     "name": "stdout",
     "output_type": "stream",
     "text": [
      "['AmbiguousTimeError', 'BaseTzInfo', 'FixedOffset', 'HOUR', 'InvalidTimeError', 'LazyDict', 'LazyList', 'LazySet', 'NonExistentTimeError', 'OLSEN_VERSION', 'OLSON_VERSION', 'UTC', 'UnknownTimeZoneError', 'VERSION', 'ZERO', '_CountryNameDict', '_CountryTimezoneDict', '_FixedOffset', '_UTC', '__all__', '__builtins__', '__cached__', '__doc__', '__file__', '__loader__', '__name__', '__package__', '__path__', '__spec__', '__version__', '_all_timezones_lower_to_standard', '_case_insensitive_zone_lookup', '_p', '_test', '_tzinfo_cache', '_unmunge_zone', 'all_timezones', 'all_timezones_set', 'ascii', 'build_tzinfo', 'common_timezones', 'common_timezones_set', 'country_names', 'country_timezones', 'datetime', 'exceptions', 'lazy', 'open_resource', 'os', 'resource_exists', 'sys', 'timezone', 'tzfile', 'tzinfo', 'unicode', 'unpickler', 'utc']\n"
     ]
    }
   ],
   "source": [
    "print(dir(pytz))"
   ]
  },
  {
   "cell_type": "code",
   "execution_count": 116,
   "id": "a6cb0a83",
   "metadata": {},
   "outputs": [],
   "source": [
    "utc = pytz.timezone('UTC')"
   ]
  },
  {
   "cell_type": "code",
   "execution_count": 117,
   "id": "aebe3878",
   "metadata": {},
   "outputs": [
    {
     "data": {
      "text/plain": [
       "<UTC>"
      ]
     },
     "execution_count": 117,
     "metadata": {},
     "output_type": "execute_result"
    }
   ],
   "source": [
    "utc"
   ]
  },
  {
   "cell_type": "code",
   "execution_count": 118,
   "id": "47bfe273",
   "metadata": {},
   "outputs": [],
   "source": [
    "asia_seoul = pytz.timezone('Asia/Seoul')"
   ]
  },
  {
   "cell_type": "code",
   "execution_count": 119,
   "id": "cc5b3524",
   "metadata": {},
   "outputs": [
    {
     "data": {
      "text/plain": [
       "<DstTzInfo 'Asia/Seoul' LMT+8:28:00 STD>"
      ]
     },
     "execution_count": 119,
     "metadata": {},
     "output_type": "execute_result"
    }
   ],
   "source": [
    "asia_seoul"
   ]
  },
  {
   "cell_type": "code",
   "execution_count": 120,
   "id": "b12598a4",
   "metadata": {},
   "outputs": [],
   "source": [
    "utc_now = datetime.now(utc)"
   ]
  },
  {
   "cell_type": "code",
   "execution_count": 121,
   "id": "e73390ef",
   "metadata": {},
   "outputs": [],
   "source": [
    "seoul_now = datetime.now(asia_seoul)"
   ]
  },
  {
   "cell_type": "code",
   "execution_count": 122,
   "id": "6d0576c4",
   "metadata": {},
   "outputs": [
    {
     "data": {
      "text/plain": [
       "datetime.datetime(2021, 7, 28, 3, 15, 53, 577055, tzinfo=<UTC>)"
      ]
     },
     "execution_count": 122,
     "metadata": {},
     "output_type": "execute_result"
    }
   ],
   "source": [
    "utc_now"
   ]
  },
  {
   "cell_type": "code",
   "execution_count": 123,
   "id": "9de49c94",
   "metadata": {},
   "outputs": [
    {
     "data": {
      "text/plain": [
       "datetime.datetime(2021, 7, 28, 12, 16, 15, 278718, tzinfo=<DstTzInfo 'Asia/Seoul' KST+9:00:00 STD>)"
      ]
     },
     "execution_count": 123,
     "metadata": {},
     "output_type": "execute_result"
    }
   ],
   "source": [
    "seoul_now"
   ]
  },
  {
   "cell_type": "code",
   "execution_count": 124,
   "id": "0fc19d21",
   "metadata": {},
   "outputs": [
    {
     "data": {
      "text/plain": [
       "datetime.timedelta(days=-1, seconds=86378, microseconds=298337)"
      ]
     },
     "execution_count": 124,
     "metadata": {},
     "output_type": "execute_result"
    }
   ],
   "source": [
    "utc_now - seoul_now"
   ]
  },
  {
   "cell_type": "code",
   "execution_count": 125,
   "id": "edaeb155",
   "metadata": {},
   "outputs": [],
   "source": [
    "a = '100'"
   ]
  },
  {
   "cell_type": "code",
   "execution_count": 129,
   "id": "807e72c4",
   "metadata": {},
   "outputs": [],
   "source": [
    "b=float(a)"
   ]
  },
  {
   "cell_type": "code",
   "execution_count": 130,
   "id": "ae1b9c57",
   "metadata": {},
   "outputs": [
    {
     "data": {
      "text/plain": [
       "(100.0, '100')"
      ]
     },
     "execution_count": 130,
     "metadata": {},
     "output_type": "execute_result"
    }
   ],
   "source": [
    "b, a"
   ]
  },
  {
   "cell_type": "code",
   "execution_count": 131,
   "id": "34e5c7dd",
   "metadata": {},
   "outputs": [
    {
     "data": {
      "text/plain": [
       "200.0"
      ]
     },
     "execution_count": 131,
     "metadata": {},
     "output_type": "execute_result"
    }
   ],
   "source": [
    "b + 100"
   ]
  },
  {
   "cell_type": "code",
   "execution_count": 132,
   "id": "1462d4f8",
   "metadata": {},
   "outputs": [
    {
     "data": {
      "text/plain": [
       "100"
      ]
     },
     "execution_count": 132,
     "metadata": {},
     "output_type": "execute_result"
    }
   ],
   "source": [
    "int(100.5)"
   ]
  },
  {
   "cell_type": "code",
   "execution_count": 133,
   "id": "8ac2bcb3",
   "metadata": {},
   "outputs": [],
   "source": [
    "import math"
   ]
  },
  {
   "cell_type": "code",
   "execution_count": 134,
   "id": "a5b20a80",
   "metadata": {},
   "outputs": [
    {
     "name": "stdout",
     "output_type": "stream",
     "text": [
      "['__doc__', '__loader__', '__name__', '__package__', '__spec__', 'acos', 'acosh', 'asin', 'asinh', 'atan', 'atan2', 'atanh', 'ceil', 'comb', 'copysign', 'cos', 'cosh', 'degrees', 'dist', 'e', 'erf', 'erfc', 'exp', 'expm1', 'fabs', 'factorial', 'floor', 'fmod', 'frexp', 'fsum', 'gamma', 'gcd', 'hypot', 'inf', 'isclose', 'isfinite', 'isinf', 'isnan', 'isqrt', 'ldexp', 'lgamma', 'log', 'log10', 'log1p', 'log2', 'modf', 'nan', 'perm', 'pi', 'pow', 'prod', 'radians', 'remainder', 'sin', 'sinh', 'sqrt', 'tan', 'tanh', 'tau', 'trunc']\n"
     ]
    }
   ],
   "source": [
    "print(dir(math))"
   ]
  },
  {
   "cell_type": "code",
   "execution_count": 135,
   "id": "ca5e1397",
   "metadata": {},
   "outputs": [
    {
     "data": {
      "text/plain": [
       "100"
      ]
     },
     "execution_count": 135,
     "metadata": {},
     "output_type": "execute_result"
    }
   ],
   "source": [
    "math.floor(100.9)"
   ]
  },
  {
   "cell_type": "code",
   "execution_count": 136,
   "id": "121e5440",
   "metadata": {},
   "outputs": [
    {
     "data": {
      "text/plain": [
       "101"
      ]
     },
     "execution_count": 136,
     "metadata": {},
     "output_type": "execute_result"
    }
   ],
   "source": [
    "math.ceil(100.1)"
   ]
  },
  {
   "cell_type": "code",
   "execution_count": 137,
   "id": "ef5d4dcd",
   "metadata": {},
   "outputs": [
    {
     "data": {
      "text/plain": [
       "100"
      ]
     },
     "execution_count": 137,
     "metadata": {},
     "output_type": "execute_result"
    }
   ],
   "source": [
    "round(100.4)"
   ]
  },
  {
   "cell_type": "code",
   "execution_count": 138,
   "id": "0f38cbfb",
   "metadata": {},
   "outputs": [
    {
     "data": {
      "text/plain": [
       "101"
      ]
     },
     "execution_count": 138,
     "metadata": {},
     "output_type": "execute_result"
    }
   ],
   "source": [
    "round(100.6)"
   ]
  },
  {
   "cell_type": "markdown",
   "id": "a9a333c2",
   "metadata": {},
   "source": [
    "#### 시퀀스 자료형\n",
    "- 문자열, 리스트, 튜플"
   ]
  },
  {
   "cell_type": "code",
   "execution_count": 139,
   "id": "35877d3c",
   "metadata": {},
   "outputs": [],
   "source": [
    "import collections as cols"
   ]
  },
  {
   "cell_type": "code",
   "execution_count": 140,
   "id": "4b3be4c4",
   "metadata": {},
   "outputs": [
    {
     "data": {
      "text/plain": [
       "<module 'collections' from 'C:\\\\Users\\\\A\\\\anaconda3\\\\lib\\\\collections\\\\__init__.py'>"
      ]
     },
     "execution_count": 140,
     "metadata": {},
     "output_type": "execute_result"
    }
   ],
   "source": [
    "cols"
   ]
  },
  {
   "cell_type": "code",
   "execution_count": 141,
   "id": "77236d9f",
   "metadata": {},
   "outputs": [
    {
     "name": "stdout",
     "output_type": "stream",
     "text": [
      "['ChainMap', 'Counter', 'OrderedDict', 'UserDict', 'UserList', 'UserString', '_Link', '_OrderedDictItemsView', '_OrderedDictKeysView', '_OrderedDictValuesView', '__all__', '__builtins__', '__cached__', '__doc__', '__file__', '__getattr__', '__loader__', '__name__', '__package__', '__path__', '__spec__', '_chain', '_collections_abc', '_count_elements', '_eq', '_heapq', '_iskeyword', '_itemgetter', '_proxy', '_recursive_repr', '_repeat', '_starmap', '_sys', '_tuplegetter', 'abc', 'defaultdict', 'deque', 'namedtuple']\n"
     ]
    }
   ],
   "source": [
    "print(dir(cols))"
   ]
  },
  {
   "cell_type": "code",
   "execution_count": 142,
   "id": "aa5d27eb",
   "metadata": {},
   "outputs": [
    {
     "data": {
      "text/plain": [
       "True"
      ]
     },
     "execution_count": 142,
     "metadata": {},
     "output_type": "execute_result"
    }
   ],
   "source": [
    "issubclass(str, cols.abc.Sequence)"
   ]
  },
  {
   "cell_type": "code",
   "execution_count": 143,
   "id": "cecf774f",
   "metadata": {},
   "outputs": [
    {
     "data": {
      "text/plain": [
       "True"
      ]
     },
     "execution_count": 143,
     "metadata": {},
     "output_type": "execute_result"
    }
   ],
   "source": [
    "issubclass(list, cols.abc.Sequence)"
   ]
  },
  {
   "cell_type": "code",
   "execution_count": 144,
   "id": "12ed65d9",
   "metadata": {},
   "outputs": [],
   "source": [
    "a = [1, 2, 3]"
   ]
  },
  {
   "cell_type": "code",
   "execution_count": 145,
   "id": "830fb347",
   "metadata": {},
   "outputs": [
    {
     "data": {
      "text/plain": [
       "[1, 2, 3]"
      ]
     },
     "execution_count": 145,
     "metadata": {},
     "output_type": "execute_result"
    }
   ],
   "source": [
    "a"
   ]
  },
  {
   "cell_type": "code",
   "execution_count": 146,
   "id": "ee39f5b9",
   "metadata": {},
   "outputs": [],
   "source": [
    "b = cols.UserList([1, 2, 3])"
   ]
  },
  {
   "cell_type": "code",
   "execution_count": null,
   "id": "0f7ef8f9",
   "metadata": {},
   "outputs": [],
   "source": []
  },
  {
   "cell_type": "code",
   "execution_count": 147,
   "id": "a494939d",
   "metadata": {},
   "outputs": [
    {
     "data": {
      "text/plain": [
       "[1, 2, 3]"
      ]
     },
     "execution_count": 147,
     "metadata": {},
     "output_type": "execute_result"
    }
   ],
   "source": [
    "b"
   ]
  },
  {
   "cell_type": "code",
   "execution_count": 148,
   "id": "3fa80b37",
   "metadata": {},
   "outputs": [
    {
     "data": {
      "text/plain": [
       "'문자열'"
      ]
     },
     "execution_count": 148,
     "metadata": {},
     "output_type": "execute_result"
    }
   ],
   "source": [
    "\"문자열\""
   ]
  },
  {
   "cell_type": "code",
   "execution_count": 149,
   "id": "9ba7b7a0",
   "metadata": {},
   "outputs": [
    {
     "data": {
      "text/plain": [
       "'문자열'"
      ]
     },
     "execution_count": 149,
     "metadata": {},
     "output_type": "execute_result"
    }
   ],
   "source": [
    "str('문자열')"
   ]
  },
  {
   "cell_type": "code",
   "execution_count": 150,
   "id": "bd6f722c",
   "metadata": {},
   "outputs": [
    {
     "data": {
      "text/plain": [
       "97"
      ]
     },
     "execution_count": 150,
     "metadata": {},
     "output_type": "execute_result"
    }
   ],
   "source": [
    "ord('a')"
   ]
  },
  {
   "cell_type": "code",
   "execution_count": 151,
   "id": "539d7a0e",
   "metadata": {},
   "outputs": [
    {
     "name": "stdout",
     "output_type": "stream",
     "text": [
      "입력해주세요 : 1234\n"
     ]
    }
   ],
   "source": [
    "a = input('입력해주세요 : ')"
   ]
  },
  {
   "cell_type": "code",
   "execution_count": 152,
   "id": "cb789b95",
   "metadata": {},
   "outputs": [
    {
     "data": {
      "text/plain": [
       "'1234'"
      ]
     },
     "execution_count": 152,
     "metadata": {},
     "output_type": "execute_result"
    }
   ],
   "source": [
    "a"
   ]
  },
  {
   "cell_type": "code",
   "execution_count": 156,
   "id": "9357fa57",
   "metadata": {},
   "outputs": [
    {
     "name": "stdout",
     "output_type": "stream",
     "text": [
      "첫 번째 수를 입력해주세요: 5\n"
     ]
    }
   ],
   "source": [
    "a= int(input(\"첫 번째 수를 입력해주세요: \"))"
   ]
  },
  {
   "cell_type": "code",
   "execution_count": 157,
   "id": "b26ec954",
   "metadata": {},
   "outputs": [
    {
     "name": "stdout",
     "output_type": "stream",
     "text": [
      "두 번째 수를 입력해주세요: 4\n"
     ]
    }
   ],
   "source": [
    "b= int(input(\"두 번째 수를 입력해주세요: \"))"
   ]
  },
  {
   "cell_type": "code",
   "execution_count": 158,
   "id": "7fbed025",
   "metadata": {},
   "outputs": [
    {
     "data": {
      "text/plain": [
       "20"
      ]
     },
     "execution_count": 158,
     "metadata": {},
     "output_type": "execute_result"
    }
   ],
   "source": [
    "a*b"
   ]
  },
  {
   "cell_type": "code",
   "execution_count": 165,
   "id": "37382dd9",
   "metadata": {},
   "outputs": [
    {
     "name": "stdout",
     "output_type": "stream",
     "text": [
      "첫 번째 수를 입력해주세요: 5\n",
      "두 번째 수를 입력해주세요: 4\n",
      "결과 :20\n",
      "결과 : 20\n"
     ]
    }
   ],
   "source": [
    "a= int(input(\"첫 번째 수를 입력해주세요: \"))\n",
    "b= int(input(\"두 번째 수를 입력해주세요: \"))\n",
    "print(\"결과 : \" + str(a*b))\n",
    "print(f\"결과 : { (a*b) }\")"
   ]
  },
  {
   "cell_type": "code",
   "execution_count": 167,
   "id": "1ec91008",
   "metadata": {},
   "outputs": [
    {
     "name": "stdout",
     "output_type": "stream",
     "text": [
      "Help on class int in module builtins:\n",
      "\n",
      "class int(object)\n",
      " |  int([x]) -> integer\n",
      " |  int(x, base=10) -> integer\n",
      " |  \n",
      " |  Convert a number or string to an integer, or return 0 if no arguments\n",
      " |  are given.  If x is a number, return x.__int__().  For floating point\n",
      " |  numbers, this truncates towards zero.\n",
      " |  \n",
      " |  If x is not a number or if base is given, then x must be a string,\n",
      " |  bytes, or bytearray instance representing an integer literal in the\n",
      " |  given base.  The literal can be preceded by '+' or '-' and be surrounded\n",
      " |  by whitespace.  The base defaults to 10.  Valid bases are 0 and 2-36.\n",
      " |  Base 0 means to interpret the base from the string as an integer literal.\n",
      " |  >>> int('0b100', base=0)\n",
      " |  4\n",
      " |  \n",
      " |  Built-in subclasses:\n",
      " |      bool\n",
      " |  \n",
      " |  Methods defined here:\n",
      " |  \n",
      " |  __abs__(self, /)\n",
      " |      abs(self)\n",
      " |  \n",
      " |  __add__(self, value, /)\n",
      " |      Return self+value.\n",
      " |  \n",
      " |  __and__(self, value, /)\n",
      " |      Return self&value.\n",
      " |  \n",
      " |  __bool__(self, /)\n",
      " |      self != 0\n",
      " |  \n",
      " |  __ceil__(...)\n",
      " |      Ceiling of an Integral returns itself.\n",
      " |  \n",
      " |  __divmod__(self, value, /)\n",
      " |      Return divmod(self, value).\n",
      " |  \n",
      " |  __eq__(self, value, /)\n",
      " |      Return self==value.\n",
      " |  \n",
      " |  __float__(self, /)\n",
      " |      float(self)\n",
      " |  \n",
      " |  __floor__(...)\n",
      " |      Flooring an Integral returns itself.\n",
      " |  \n",
      " |  __floordiv__(self, value, /)\n",
      " |      Return self//value.\n",
      " |  \n",
      " |  __format__(self, format_spec, /)\n",
      " |      Default object formatter.\n",
      " |  \n",
      " |  __ge__(self, value, /)\n",
      " |      Return self>=value.\n",
      " |  \n",
      " |  __getattribute__(self, name, /)\n",
      " |      Return getattr(self, name).\n",
      " |  \n",
      " |  __getnewargs__(self, /)\n",
      " |  \n",
      " |  __gt__(self, value, /)\n",
      " |      Return self>value.\n",
      " |  \n",
      " |  __hash__(self, /)\n",
      " |      Return hash(self).\n",
      " |  \n",
      " |  __index__(self, /)\n",
      " |      Return self converted to an integer, if self is suitable for use as an index into a list.\n",
      " |  \n",
      " |  __int__(self, /)\n",
      " |      int(self)\n",
      " |  \n",
      " |  __invert__(self, /)\n",
      " |      ~self\n",
      " |  \n",
      " |  __le__(self, value, /)\n",
      " |      Return self<=value.\n",
      " |  \n",
      " |  __lshift__(self, value, /)\n",
      " |      Return self<<value.\n",
      " |  \n",
      " |  __lt__(self, value, /)\n",
      " |      Return self<value.\n",
      " |  \n",
      " |  __mod__(self, value, /)\n",
      " |      Return self%value.\n",
      " |  \n",
      " |  __mul__(self, value, /)\n",
      " |      Return self*value.\n",
      " |  \n",
      " |  __ne__(self, value, /)\n",
      " |      Return self!=value.\n",
      " |  \n",
      " |  __neg__(self, /)\n",
      " |      -self\n",
      " |  \n",
      " |  __or__(self, value, /)\n",
      " |      Return self|value.\n",
      " |  \n",
      " |  __pos__(self, /)\n",
      " |      +self\n",
      " |  \n",
      " |  __pow__(self, value, mod=None, /)\n",
      " |      Return pow(self, value, mod).\n",
      " |  \n",
      " |  __radd__(self, value, /)\n",
      " |      Return value+self.\n",
      " |  \n",
      " |  __rand__(self, value, /)\n",
      " |      Return value&self.\n",
      " |  \n",
      " |  __rdivmod__(self, value, /)\n",
      " |      Return divmod(value, self).\n",
      " |  \n",
      " |  __repr__(self, /)\n",
      " |      Return repr(self).\n",
      " |  \n",
      " |  __rfloordiv__(self, value, /)\n",
      " |      Return value//self.\n",
      " |  \n",
      " |  __rlshift__(self, value, /)\n",
      " |      Return value<<self.\n",
      " |  \n",
      " |  __rmod__(self, value, /)\n",
      " |      Return value%self.\n",
      " |  \n",
      " |  __rmul__(self, value, /)\n",
      " |      Return value*self.\n",
      " |  \n",
      " |  __ror__(self, value, /)\n",
      " |      Return value|self.\n",
      " |  \n",
      " |  __round__(...)\n",
      " |      Rounding an Integral returns itself.\n",
      " |      Rounding with an ndigits argument also returns an integer.\n",
      " |  \n",
      " |  __rpow__(self, value, mod=None, /)\n",
      " |      Return pow(value, self, mod).\n",
      " |  \n",
      " |  __rrshift__(self, value, /)\n",
      " |      Return value>>self.\n",
      " |  \n",
      " |  __rshift__(self, value, /)\n",
      " |      Return self>>value.\n",
      " |  \n",
      " |  __rsub__(self, value, /)\n",
      " |      Return value-self.\n",
      " |  \n",
      " |  __rtruediv__(self, value, /)\n",
      " |      Return value/self.\n",
      " |  \n",
      " |  __rxor__(self, value, /)\n",
      " |      Return value^self.\n",
      " |  \n",
      " |  __sizeof__(self, /)\n",
      " |      Returns size in memory, in bytes.\n",
      " |  \n",
      " |  __sub__(self, value, /)\n",
      " |      Return self-value.\n",
      " |  \n",
      " |  __truediv__(self, value, /)\n",
      " |      Return self/value.\n",
      " |  \n",
      " |  __trunc__(...)\n",
      " |      Truncating an Integral returns itself.\n",
      " |  \n",
      " |  __xor__(self, value, /)\n",
      " |      Return self^value.\n",
      " |  \n",
      " |  as_integer_ratio(self, /)\n",
      " |      Return integer ratio.\n",
      " |      \n",
      " |      Return a pair of integers, whose ratio is exactly equal to the original int\n",
      " |      and with a positive denominator.\n",
      " |      \n",
      " |      >>> (10).as_integer_ratio()\n",
      " |      (10, 1)\n",
      " |      >>> (-10).as_integer_ratio()\n",
      " |      (-10, 1)\n",
      " |      >>> (0).as_integer_ratio()\n",
      " |      (0, 1)\n",
      " |  \n",
      " |  bit_length(self, /)\n",
      " |      Number of bits necessary to represent self in binary.\n",
      " |      \n",
      " |      >>> bin(37)\n",
      " |      '0b100101'\n",
      " |      >>> (37).bit_length()\n",
      " |      6\n",
      " |  \n",
      " |  conjugate(...)\n",
      " |      Returns self, the complex conjugate of any int.\n",
      " |  \n",
      " |  to_bytes(self, /, length, byteorder, *, signed=False)\n",
      " |      Return an array of bytes representing an integer.\n",
      " |      \n",
      " |      length\n",
      " |        Length of bytes object to use.  An OverflowError is raised if the\n",
      " |        integer is not representable with the given number of bytes.\n",
      " |      byteorder\n",
      " |        The byte order used to represent the integer.  If byteorder is 'big',\n",
      " |        the most significant byte is at the beginning of the byte array.  If\n",
      " |        byteorder is 'little', the most significant byte is at the end of the\n",
      " |        byte array.  To request the native byte order of the host system, use\n",
      " |        `sys.byteorder' as the byte order value.\n",
      " |      signed\n",
      " |        Determines whether two's complement is used to represent the integer.\n",
      " |        If signed is False and a negative integer is given, an OverflowError\n",
      " |        is raised.\n",
      " |  \n",
      " |  ----------------------------------------------------------------------\n",
      " |  Class methods defined here:\n",
      " |  \n",
      " |  from_bytes(bytes, byteorder, *, signed=False) from builtins.type\n",
      " |      Return the integer represented by the given array of bytes.\n",
      " |      \n",
      " |      bytes\n",
      " |        Holds the array of bytes to convert.  The argument must either\n",
      " |        support the buffer protocol or be an iterable object producing bytes.\n",
      " |        Bytes and bytearray are examples of built-in objects that support the\n",
      " |        buffer protocol.\n",
      " |      byteorder\n",
      " |        The byte order used to represent the integer.  If byteorder is 'big',\n",
      " |        the most significant byte is at the beginning of the byte array.  If\n",
      " |        byteorder is 'little', the most significant byte is at the end of the\n",
      " |        byte array.  To request the native byte order of the host system, use\n",
      " |        `sys.byteorder' as the byte order value.\n",
      " |      signed\n",
      " |        Indicates whether two's complement is used to represent the integer.\n",
      " |  \n",
      " |  ----------------------------------------------------------------------\n",
      " |  Static methods defined here:\n",
      " |  \n",
      " |  __new__(*args, **kwargs) from builtins.type\n",
      " |      Create and return a new object.  See help(type) for accurate signature.\n",
      " |  \n",
      " |  ----------------------------------------------------------------------\n",
      " |  Data descriptors defined here:\n",
      " |  \n",
      " |  denominator\n",
      " |      the denominator of a rational number in lowest terms\n",
      " |  \n",
      " |  imag\n",
      " |      the imaginary part of a complex number\n",
      " |  \n",
      " |  numerator\n",
      " |      the numerator of a rational number in lowest terms\n",
      " |  \n",
      " |  real\n",
      " |      the real part of a complex number\n",
      "\n"
     ]
    }
   ],
   "source": [
    "help(int)"
   ]
  },
  {
   "cell_type": "code",
   "execution_count": 168,
   "id": "39e890d5",
   "metadata": {},
   "outputs": [],
   "source": [
    "import requests"
   ]
  },
  {
   "cell_type": "code",
   "execution_count": 169,
   "id": "be39edfc",
   "metadata": {},
   "outputs": [
    {
     "name": "stdout",
     "output_type": "stream",
     "text": [
      "Help on package requests:\n",
      "\n",
      "NAME\n",
      "    requests\n",
      "\n",
      "DESCRIPTION\n",
      "    Requests HTTP Library\n",
      "    ~~~~~~~~~~~~~~~~~~~~~\n",
      "    \n",
      "    Requests is an HTTP library, written in Python, for human beings.\n",
      "    Basic GET usage:\n",
      "    \n",
      "       >>> import requests\n",
      "       >>> r = requests.get('https://www.python.org')\n",
      "       >>> r.status_code\n",
      "       200\n",
      "       >>> b'Python is a programming language' in r.content\n",
      "       True\n",
      "    \n",
      "    ... or POST:\n",
      "    \n",
      "       >>> payload = dict(key1='value1', key2='value2')\n",
      "       >>> r = requests.post('https://httpbin.org/post', data=payload)\n",
      "       >>> print(r.text)\n",
      "       {\n",
      "         ...\n",
      "         \"form\": {\n",
      "           \"key1\": \"value1\",\n",
      "           \"key2\": \"value2\"\n",
      "         },\n",
      "         ...\n",
      "       }\n",
      "    \n",
      "    The other HTTP methods are supported - see `requests.api`. Full documentation\n",
      "    is at <https://requests.readthedocs.io>.\n",
      "    \n",
      "    :copyright: (c) 2017 by Kenneth Reitz.\n",
      "    :license: Apache 2.0, see LICENSE for more details.\n",
      "\n",
      "PACKAGE CONTENTS\n",
      "    __version__\n",
      "    _internal_utils\n",
      "    adapters\n",
      "    api\n",
      "    auth\n",
      "    certs\n",
      "    compat\n",
      "    cookies\n",
      "    exceptions\n",
      "    help\n",
      "    hooks\n",
      "    models\n",
      "    packages\n",
      "    sessions\n",
      "    status_codes\n",
      "    structures\n",
      "    utils\n",
      "\n",
      "FUNCTIONS\n",
      "    check_compatibility(urllib3_version, chardet_version)\n",
      "\n",
      "DATA\n",
      "    __author_email__ = 'me@kennethreitz.org'\n",
      "    __build__ = 140545\n",
      "    __cake__ = '✨ 🍰 ✨'\n",
      "    __copyright__ = 'Copyright 2020 Kenneth Reitz'\n",
      "    __description__ = 'Python HTTP for Humans.'\n",
      "    __license__ = 'Apache 2.0'\n",
      "    __title__ = 'requests'\n",
      "    __url__ = 'https://requests.readthedocs.io'\n",
      "    codes = <lookup 'status_codes'>\n",
      "\n",
      "VERSION\n",
      "    2.25.1\n",
      "\n",
      "AUTHOR\n",
      "    Kenneth Reitz\n",
      "\n",
      "FILE\n",
      "    c:\\users\\a\\anaconda3\\lib\\site-packages\\requests\\__init__.py\n",
      "\n",
      "\n"
     ]
    }
   ],
   "source": [
    "help(requests)"
   ]
  },
  {
   "cell_type": "code",
   "execution_count": null,
   "id": "3190650d",
   "metadata": {},
   "outputs": [],
   "source": []
  }
 ],
 "metadata": {
  "kernelspec": {
   "display_name": "Python 3",
   "language": "python",
   "name": "python3"
  },
  "language_info": {
   "codemirror_mode": {
    "name": "ipython",
    "version": 3
   },
   "file_extension": ".py",
   "mimetype": "text/x-python",
   "name": "python",
   "nbconvert_exporter": "python",
   "pygments_lexer": "ipython3",
   "version": "3.8.8"
  }
 },
 "nbformat": 4,
 "nbformat_minor": 5
}
