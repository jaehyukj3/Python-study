{
 "cells": [
  {
   "cell_type": "code",
   "execution_count": 2,
   "id": "0b2439df",
   "metadata": {},
   "outputs": [],
   "source": [
    "import calculator"
   ]
  },
  {
   "cell_type": "code",
   "execution_count": 4,
   "id": "1de04212",
   "metadata": {},
   "outputs": [],
   "source": [
    "c=calculator.Calculator()"
   ]
  },
  {
   "cell_type": "code",
   "execution_count": 5,
   "id": "cbd3bf9d",
   "metadata": {},
   "outputs": [],
   "source": [
    "c.add(5)"
   ]
  },
  {
   "cell_type": "code",
   "execution_count": 6,
   "id": "fc67fd78",
   "metadata": {},
   "outputs": [
    {
     "ename": "SyntaxError",
     "evalue": "Missing parentheses in call to 'print'. Did you mean print(c.result)? (<ipython-input-6-9f93cbb40a6f>, line 1)",
     "output_type": "error",
     "traceback": [
      "\u001b[1;36m  File \u001b[1;32m\"<ipython-input-6-9f93cbb40a6f>\"\u001b[1;36m, line \u001b[1;32m1\u001b[0m\n\u001b[1;33m    print c.result\u001b[0m\n\u001b[1;37m          ^\u001b[0m\n\u001b[1;31mSyntaxError\u001b[0m\u001b[1;31m:\u001b[0m Missing parentheses in call to 'print'. Did you mean print(c.result)?\n"
     ]
    }
   ],
   "source": [
    "print c.result"
   ]
  },
  {
   "cell_type": "code",
   "execution_count": null,
   "id": "62fa9cac",
   "metadata": {},
   "outputs": [],
   "source": []
  }
 ],
 "metadata": {
  "kernelspec": {
   "display_name": "Python 3",
   "language": "python",
   "name": "python3"
  },
  "language_info": {
   "codemirror_mode": {
    "name": "ipython",
    "version": 3
   },
   "file_extension": ".py",
   "mimetype": "text/x-python",
   "name": "python",
   "nbconvert_exporter": "python",
   "pygments_lexer": "ipython3",
   "version": "3.8.8"
  }
 },
 "nbformat": 4,
 "nbformat_minor": 5
}
